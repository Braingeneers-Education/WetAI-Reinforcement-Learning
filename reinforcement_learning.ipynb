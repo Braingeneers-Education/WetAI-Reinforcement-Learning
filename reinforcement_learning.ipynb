{
  "cells": [
    {
      "cell_type": "markdown",
      "metadata": {},
      "source": [
        "# Intro to Reinforcement Learning"
      ]
    },
    {
      "cell_type": "markdown",
      "metadata": {},
      "source": [
        "In this assignment you will learn the basics of reinforcement learning (RL), as well how to train a DQN RL model.\n",
        "\n",
        "A lot of this information, text, and code is directly pooled from the following sources\n",
        "\n",
        "Credits:\n",
        "* Hugging Face Deep RL course [source](https://huggingface.co/learn/deep-rl-course/unit0/introduction)\n",
        "* Gymnasium-Colaboratory-Starter [source](https://github.com/hom-bahrani/Gymnasium-Colaboratory-Starter)\n",
        "* PyTorch RL Tutorials [source](https://pytorch.org/tutorials/)\n",
        "* Wikipedia RL Page [source](https://en.wikipedia.org/wiki/Reinforcement_learning)"
      ]
    },
    {
      "cell_type": "markdown",
      "metadata": {},
      "source": [
        "First, install and import the packages and libraries you will need throughout this exercise"
      ]
    },
    {
      "cell_type": "code",
      "execution_count": 16,
      "metadata": {
        "colab": {
          "base_uri": "https://localhost:8080/"
        },
        "id": "-MGHP8DHMBKp",
        "outputId": "b8a735b9-32d3-416e-e7bf-364e88b14fca"
      },
      "outputs": [
        {
          "name": "stdout",
          "output_type": "stream",
          "text": [
            "Requirement already satisfied: gymnasium in /usr/local/python/3.10.13/lib/python3.10/site-packages (0.29.1)\n",
            "Requirement already satisfied: numpy>=1.21.0 in /home/codespace/.local/lib/python3.10/site-packages (from gymnasium) (1.26.4)\n",
            "Requirement already satisfied: cloudpickle>=1.2.0 in /usr/local/python/3.10.13/lib/python3.10/site-packages (from gymnasium) (3.0.0)\n",
            "Requirement already satisfied: typing-extensions>=4.3.0 in /home/codespace/.local/lib/python3.10/site-packages (from gymnasium) (4.10.0)\n",
            "Requirement already satisfied: farama-notifications>=0.0.1 in /usr/local/python/3.10.13/lib/python3.10/site-packages (from gymnasium) (0.0.4)\n",
            "Note: you may need to restart the kernel to use updated packages.\n",
            "Requirement already satisfied: gymnasium[classic-control] in /usr/local/python/3.10.13/lib/python3.10/site-packages (0.29.1)\n",
            "Requirement already satisfied: numpy>=1.21.0 in /home/codespace/.local/lib/python3.10/site-packages (from gymnasium[classic-control]) (1.26.4)\n",
            "Requirement already satisfied: cloudpickle>=1.2.0 in /usr/local/python/3.10.13/lib/python3.10/site-packages (from gymnasium[classic-control]) (3.0.0)\n",
            "Requirement already satisfied: typing-extensions>=4.3.0 in /home/codespace/.local/lib/python3.10/site-packages (from gymnasium[classic-control]) (4.10.0)\n",
            "Requirement already satisfied: farama-notifications>=0.0.1 in /usr/local/python/3.10.13/lib/python3.10/site-packages (from gymnasium[classic-control]) (0.0.4)\n",
            "Requirement already satisfied: pygame>=2.1.3 in /usr/local/python/3.10.13/lib/python3.10/site-packages (from gymnasium[classic-control]) (2.5.2)\n",
            "Note: you may need to restart the kernel to use updated packages.\n",
            "Requirement already satisfied: swig in /usr/local/python/3.10.13/lib/python3.10/site-packages (4.2.1)\n",
            "Note: you may need to restart the kernel to use updated packages.\n",
            "Requirement already satisfied: pyvirtualdisplay in /usr/local/python/3.10.13/lib/python3.10/site-packages (3.0)\n",
            "Note: you may need to restart the kernel to use updated packages.\n",
            "Requirement already satisfied: moviepy in /usr/local/python/3.10.13/lib/python3.10/site-packages (1.0.3)\n",
            "Requirement already satisfied: decorator<5.0,>=4.0.2 in /usr/local/python/3.10.13/lib/python3.10/site-packages (from moviepy) (4.4.2)\n",
            "Requirement already satisfied: tqdm<5.0,>=4.11.2 in /usr/local/python/3.10.13/lib/python3.10/site-packages (from moviepy) (4.66.2)\n",
            "Requirement already satisfied: requests<3.0,>=2.8.1 in /home/codespace/.local/lib/python3.10/site-packages (from moviepy) (2.31.0)\n",
            "Requirement already satisfied: proglog<=1.0.0 in /usr/local/python/3.10.13/lib/python3.10/site-packages (from moviepy) (0.1.10)\n",
            "Requirement already satisfied: numpy>=1.17.3 in /home/codespace/.local/lib/python3.10/site-packages (from moviepy) (1.26.4)\n",
            "Requirement already satisfied: imageio<3.0,>=2.5 in /usr/local/python/3.10.13/lib/python3.10/site-packages (from moviepy) (2.34.1)\n",
            "Requirement already satisfied: imageio-ffmpeg>=0.2.0 in /usr/local/python/3.10.13/lib/python3.10/site-packages (from moviepy) (0.4.9)\n",
            "Requirement already satisfied: pillow>=8.3.2 in /home/codespace/.local/lib/python3.10/site-packages (from imageio<3.0,>=2.5->moviepy) (10.3.0)\n",
            "Requirement already satisfied: setuptools in /usr/local/python/3.10.13/lib/python3.10/site-packages (from imageio-ffmpeg>=0.2.0->moviepy) (68.2.2)\n",
            "Requirement already satisfied: charset-normalizer<4,>=2 in /home/codespace/.local/lib/python3.10/site-packages (from requests<3.0,>=2.8.1->moviepy) (3.3.2)\n",
            "Requirement already satisfied: idna<4,>=2.5 in /home/codespace/.local/lib/python3.10/site-packages (from requests<3.0,>=2.8.1->moviepy) (3.6)\n",
            "Requirement already satisfied: urllib3<3,>=1.21.1 in /usr/local/python/3.10.13/lib/python3.10/site-packages (from requests<3.0,>=2.8.1->moviepy) (2.0.7)\n",
            "Requirement already satisfied: certifi>=2017.4.17 in /home/codespace/.local/lib/python3.10/site-packages (from requests<3.0,>=2.8.1->moviepy) (2024.2.2)\n",
            "Note: you may need to restart the kernel to use updated packages.\n",
            "Requirement already satisfied: moviepy in /usr/local/python/3.10.13/lib/python3.10/site-packages (1.0.3)\n",
            "Requirement already satisfied: decorator<5.0,>=4.0.2 in /usr/local/python/3.10.13/lib/python3.10/site-packages (from moviepy) (4.4.2)\n",
            "Requirement already satisfied: tqdm<5.0,>=4.11.2 in /usr/local/python/3.10.13/lib/python3.10/site-packages (from moviepy) (4.66.2)\n",
            "Requirement already satisfied: requests<3.0,>=2.8.1 in /home/codespace/.local/lib/python3.10/site-packages (from moviepy) (2.31.0)\n",
            "Requirement already satisfied: proglog<=1.0.0 in /usr/local/python/3.10.13/lib/python3.10/site-packages (from moviepy) (0.1.10)\n",
            "Requirement already satisfied: numpy>=1.17.3 in /home/codespace/.local/lib/python3.10/site-packages (from moviepy) (1.26.4)\n",
            "Requirement already satisfied: imageio<3.0,>=2.5 in /usr/local/python/3.10.13/lib/python3.10/site-packages (from moviepy) (2.34.1)\n",
            "Requirement already satisfied: imageio-ffmpeg>=0.2.0 in /usr/local/python/3.10.13/lib/python3.10/site-packages (from moviepy) (0.4.9)\n",
            "Requirement already satisfied: pillow>=8.3.2 in /home/codespace/.local/lib/python3.10/site-packages (from imageio<3.0,>=2.5->moviepy) (10.3.0)\n",
            "Requirement already satisfied: setuptools in /usr/local/python/3.10.13/lib/python3.10/site-packages (from imageio-ffmpeg>=0.2.0->moviepy) (68.2.2)\n",
            "Requirement already satisfied: charset-normalizer<4,>=2 in /home/codespace/.local/lib/python3.10/site-packages (from requests<3.0,>=2.8.1->moviepy) (3.3.2)\n",
            "Requirement already satisfied: idna<4,>=2.5 in /home/codespace/.local/lib/python3.10/site-packages (from requests<3.0,>=2.8.1->moviepy) (3.6)\n",
            "Requirement already satisfied: urllib3<3,>=1.21.1 in /usr/local/python/3.10.13/lib/python3.10/site-packages (from requests<3.0,>=2.8.1->moviepy) (2.0.7)\n",
            "Requirement already satisfied: certifi>=2017.4.17 in /home/codespace/.local/lib/python3.10/site-packages (from requests<3.0,>=2.8.1->moviepy) (2024.2.2)\n",
            "Note: you may need to restart the kernel to use updated packages.\n",
            "Requirement already satisfied: stable-baselines3 in /usr/local/python/3.10.13/lib/python3.10/site-packages (2.3.2)\n",
            "Requirement already satisfied: gymnasium<0.30,>=0.28.1 in /usr/local/python/3.10.13/lib/python3.10/site-packages (from stable-baselines3) (0.29.1)\n",
            "Requirement already satisfied: numpy>=1.20 in /home/codespace/.local/lib/python3.10/site-packages (from stable-baselines3) (1.26.4)\n",
            "Requirement already satisfied: torch>=1.13 in /home/codespace/.local/lib/python3.10/site-packages (from stable-baselines3) (2.2.2)\n",
            "Requirement already satisfied: cloudpickle in /usr/local/python/3.10.13/lib/python3.10/site-packages (from stable-baselines3) (3.0.0)\n",
            "Requirement already satisfied: pandas in /home/codespace/.local/lib/python3.10/site-packages (from stable-baselines3) (2.2.1)\n",
            "Requirement already satisfied: matplotlib in /home/codespace/.local/lib/python3.10/site-packages (from stable-baselines3) (3.8.3)\n",
            "Requirement already satisfied: typing-extensions>=4.3.0 in /home/codespace/.local/lib/python3.10/site-packages (from gymnasium<0.30,>=0.28.1->stable-baselines3) (4.10.0)\n",
            "Requirement already satisfied: farama-notifications>=0.0.1 in /usr/local/python/3.10.13/lib/python3.10/site-packages (from gymnasium<0.30,>=0.28.1->stable-baselines3) (0.0.4)\n",
            "Requirement already satisfied: filelock in /home/codespace/.local/lib/python3.10/site-packages (from torch>=1.13->stable-baselines3) (3.13.3)\n",
            "Requirement already satisfied: sympy in /home/codespace/.local/lib/python3.10/site-packages (from torch>=1.13->stable-baselines3) (1.12)\n",
            "Requirement already satisfied: networkx in /home/codespace/.local/lib/python3.10/site-packages (from torch>=1.13->stable-baselines3) (3.2.1)\n",
            "Requirement already satisfied: jinja2 in /home/codespace/.local/lib/python3.10/site-packages (from torch>=1.13->stable-baselines3) (3.1.3)\n",
            "Requirement already satisfied: fsspec in /home/codespace/.local/lib/python3.10/site-packages (from torch>=1.13->stable-baselines3) (2024.3.1)\n",
            "Requirement already satisfied: nvidia-cuda-nvrtc-cu12==12.1.105 in /home/codespace/.local/lib/python3.10/site-packages (from torch>=1.13->stable-baselines3) (12.1.105)\n",
            "Requirement already satisfied: nvidia-cuda-runtime-cu12==12.1.105 in /home/codespace/.local/lib/python3.10/site-packages (from torch>=1.13->stable-baselines3) (12.1.105)\n",
            "Requirement already satisfied: nvidia-cuda-cupti-cu12==12.1.105 in /home/codespace/.local/lib/python3.10/site-packages (from torch>=1.13->stable-baselines3) (12.1.105)\n",
            "Requirement already satisfied: nvidia-cudnn-cu12==8.9.2.26 in /home/codespace/.local/lib/python3.10/site-packages (from torch>=1.13->stable-baselines3) (8.9.2.26)\n",
            "Requirement already satisfied: nvidia-cublas-cu12==12.1.3.1 in /home/codespace/.local/lib/python3.10/site-packages (from torch>=1.13->stable-baselines3) (12.1.3.1)\n",
            "Requirement already satisfied: nvidia-cufft-cu12==11.0.2.54 in /home/codespace/.local/lib/python3.10/site-packages (from torch>=1.13->stable-baselines3) (11.0.2.54)\n",
            "Requirement already satisfied: nvidia-curand-cu12==10.3.2.106 in /home/codespace/.local/lib/python3.10/site-packages (from torch>=1.13->stable-baselines3) (10.3.2.106)\n",
            "Requirement already satisfied: nvidia-cusolver-cu12==11.4.5.107 in /home/codespace/.local/lib/python3.10/site-packages (from torch>=1.13->stable-baselines3) (11.4.5.107)\n",
            "Requirement already satisfied: nvidia-cusparse-cu12==12.1.0.106 in /home/codespace/.local/lib/python3.10/site-packages (from torch>=1.13->stable-baselines3) (12.1.0.106)\n",
            "Requirement already satisfied: nvidia-nccl-cu12==2.19.3 in /home/codespace/.local/lib/python3.10/site-packages (from torch>=1.13->stable-baselines3) (2.19.3)\n",
            "Requirement already satisfied: nvidia-nvtx-cu12==12.1.105 in /home/codespace/.local/lib/python3.10/site-packages (from torch>=1.13->stable-baselines3) (12.1.105)\n",
            "Requirement already satisfied: triton==2.2.0 in /home/codespace/.local/lib/python3.10/site-packages (from torch>=1.13->stable-baselines3) (2.2.0)\n",
            "Requirement already satisfied: nvidia-nvjitlink-cu12 in /home/codespace/.local/lib/python3.10/site-packages (from nvidia-cusolver-cu12==11.4.5.107->torch>=1.13->stable-baselines3) (12.4.99)\n",
            "Requirement already satisfied: contourpy>=1.0.1 in /home/codespace/.local/lib/python3.10/site-packages (from matplotlib->stable-baselines3) (1.2.1)\n",
            "Requirement already satisfied: cycler>=0.10 in /home/codespace/.local/lib/python3.10/site-packages (from matplotlib->stable-baselines3) (0.12.1)\n",
            "Requirement already satisfied: fonttools>=4.22.0 in /home/codespace/.local/lib/python3.10/site-packages (from matplotlib->stable-baselines3) (4.50.0)\n",
            "Requirement already satisfied: kiwisolver>=1.3.1 in /home/codespace/.local/lib/python3.10/site-packages (from matplotlib->stable-baselines3) (1.4.5)\n",
            "Requirement already satisfied: packaging>=20.0 in /home/codespace/.local/lib/python3.10/site-packages (from matplotlib->stable-baselines3) (24.0)\n",
            "Requirement already satisfied: pillow>=8 in /home/codespace/.local/lib/python3.10/site-packages (from matplotlib->stable-baselines3) (10.3.0)\n",
            "Requirement already satisfied: pyparsing>=2.3.1 in /home/codespace/.local/lib/python3.10/site-packages (from matplotlib->stable-baselines3) (3.1.2)\n",
            "Requirement already satisfied: python-dateutil>=2.7 in /home/codespace/.local/lib/python3.10/site-packages (from matplotlib->stable-baselines3) (2.9.0.post0)\n",
            "Requirement already satisfied: pytz>=2020.1 in /home/codespace/.local/lib/python3.10/site-packages (from pandas->stable-baselines3) (2024.1)\n",
            "Requirement already satisfied: tzdata>=2022.7 in /home/codespace/.local/lib/python3.10/site-packages (from pandas->stable-baselines3) (2024.1)\n",
            "Requirement already satisfied: six>=1.5 in /home/codespace/.local/lib/python3.10/site-packages (from python-dateutil>=2.7->matplotlib->stable-baselines3) (1.16.0)\n",
            "Requirement already satisfied: MarkupSafe>=2.0 in /home/codespace/.local/lib/python3.10/site-packages (from jinja2->torch>=1.13->stable-baselines3) (2.1.5)\n",
            "Requirement already satisfied: mpmath>=0.19 in /home/codespace/.local/lib/python3.10/site-packages (from sympy->torch>=1.13->stable-baselines3) (1.3.0)\n",
            "Note: you may need to restart the kernel to use updated packages.\n",
            "Requirement already satisfied: snntorch in /usr/local/python/3.10.13/lib/python3.10/site-packages (0.9.1)\n",
            "Requirement already satisfied: torch>=1.1.0 in /home/codespace/.local/lib/python3.10/site-packages (from snntorch) (2.2.2)\n",
            "Requirement already satisfied: pandas in /home/codespace/.local/lib/python3.10/site-packages (from snntorch) (2.2.1)\n",
            "Requirement already satisfied: matplotlib in /home/codespace/.local/lib/python3.10/site-packages (from snntorch) (3.8.3)\n",
            "Requirement already satisfied: numpy>=1.17 in /home/codespace/.local/lib/python3.10/site-packages (from snntorch) (1.26.4)\n",
            "Requirement already satisfied: nir in /usr/local/python/3.10.13/lib/python3.10/site-packages (from snntorch) (1.0.4)\n",
            "Requirement already satisfied: nirtorch in /usr/local/python/3.10.13/lib/python3.10/site-packages (from snntorch) (1.0)\n",
            "Requirement already satisfied: filelock in /home/codespace/.local/lib/python3.10/site-packages (from torch>=1.1.0->snntorch) (3.13.3)\n",
            "Requirement already satisfied: typing-extensions>=4.8.0 in /home/codespace/.local/lib/python3.10/site-packages (from torch>=1.1.0->snntorch) (4.10.0)\n",
            "Requirement already satisfied: sympy in /home/codespace/.local/lib/python3.10/site-packages (from torch>=1.1.0->snntorch) (1.12)\n",
            "Requirement already satisfied: networkx in /home/codespace/.local/lib/python3.10/site-packages (from torch>=1.1.0->snntorch) (3.2.1)\n",
            "Requirement already satisfied: jinja2 in /home/codespace/.local/lib/python3.10/site-packages (from torch>=1.1.0->snntorch) (3.1.3)\n",
            "Requirement already satisfied: fsspec in /home/codespace/.local/lib/python3.10/site-packages (from torch>=1.1.0->snntorch) (2024.3.1)\n",
            "Requirement already satisfied: nvidia-cuda-nvrtc-cu12==12.1.105 in /home/codespace/.local/lib/python3.10/site-packages (from torch>=1.1.0->snntorch) (12.1.105)\n",
            "Requirement already satisfied: nvidia-cuda-runtime-cu12==12.1.105 in /home/codespace/.local/lib/python3.10/site-packages (from torch>=1.1.0->snntorch) (12.1.105)\n",
            "Requirement already satisfied: nvidia-cuda-cupti-cu12==12.1.105 in /home/codespace/.local/lib/python3.10/site-packages (from torch>=1.1.0->snntorch) (12.1.105)\n",
            "Requirement already satisfied: nvidia-cudnn-cu12==8.9.2.26 in /home/codespace/.local/lib/python3.10/site-packages (from torch>=1.1.0->snntorch) (8.9.2.26)\n",
            "Requirement already satisfied: nvidia-cublas-cu12==12.1.3.1 in /home/codespace/.local/lib/python3.10/site-packages (from torch>=1.1.0->snntorch) (12.1.3.1)\n",
            "Requirement already satisfied: nvidia-cufft-cu12==11.0.2.54 in /home/codespace/.local/lib/python3.10/site-packages (from torch>=1.1.0->snntorch) (11.0.2.54)\n",
            "Requirement already satisfied: nvidia-curand-cu12==10.3.2.106 in /home/codespace/.local/lib/python3.10/site-packages (from torch>=1.1.0->snntorch) (10.3.2.106)\n",
            "Requirement already satisfied: nvidia-cusolver-cu12==11.4.5.107 in /home/codespace/.local/lib/python3.10/site-packages (from torch>=1.1.0->snntorch) (11.4.5.107)\n",
            "Requirement already satisfied: nvidia-cusparse-cu12==12.1.0.106 in /home/codespace/.local/lib/python3.10/site-packages (from torch>=1.1.0->snntorch) (12.1.0.106)\n",
            "Requirement already satisfied: nvidia-nccl-cu12==2.19.3 in /home/codespace/.local/lib/python3.10/site-packages (from torch>=1.1.0->snntorch) (2.19.3)\n",
            "Requirement already satisfied: nvidia-nvtx-cu12==12.1.105 in /home/codespace/.local/lib/python3.10/site-packages (from torch>=1.1.0->snntorch) (12.1.105)\n",
            "Requirement already satisfied: triton==2.2.0 in /home/codespace/.local/lib/python3.10/site-packages (from torch>=1.1.0->snntorch) (2.2.0)\n",
            "Requirement already satisfied: nvidia-nvjitlink-cu12 in /home/codespace/.local/lib/python3.10/site-packages (from nvidia-cusolver-cu12==11.4.5.107->torch>=1.1.0->snntorch) (12.4.99)\n",
            "Requirement already satisfied: contourpy>=1.0.1 in /home/codespace/.local/lib/python3.10/site-packages (from matplotlib->snntorch) (1.2.1)\n",
            "Requirement already satisfied: cycler>=0.10 in /home/codespace/.local/lib/python3.10/site-packages (from matplotlib->snntorch) (0.12.1)\n",
            "Requirement already satisfied: fonttools>=4.22.0 in /home/codespace/.local/lib/python3.10/site-packages (from matplotlib->snntorch) (4.50.0)\n",
            "Requirement already satisfied: kiwisolver>=1.3.1 in /home/codespace/.local/lib/python3.10/site-packages (from matplotlib->snntorch) (1.4.5)\n",
            "Requirement already satisfied: packaging>=20.0 in /home/codespace/.local/lib/python3.10/site-packages (from matplotlib->snntorch) (24.0)\n",
            "Requirement already satisfied: pillow>=8 in /home/codespace/.local/lib/python3.10/site-packages (from matplotlib->snntorch) (10.3.0)\n",
            "Requirement already satisfied: pyparsing>=2.3.1 in /home/codespace/.local/lib/python3.10/site-packages (from matplotlib->snntorch) (3.1.2)\n",
            "Requirement already satisfied: python-dateutil>=2.7 in /home/codespace/.local/lib/python3.10/site-packages (from matplotlib->snntorch) (2.9.0.post0)\n",
            "Requirement already satisfied: h5py in /usr/local/python/3.10.13/lib/python3.10/site-packages (from nir->snntorch) (3.11.0)\n",
            "Requirement already satisfied: pytz>=2020.1 in /home/codespace/.local/lib/python3.10/site-packages (from pandas->snntorch) (2024.1)\n",
            "Requirement already satisfied: tzdata>=2022.7 in /home/codespace/.local/lib/python3.10/site-packages (from pandas->snntorch) (2024.1)\n",
            "Requirement already satisfied: six>=1.5 in /home/codespace/.local/lib/python3.10/site-packages (from python-dateutil>=2.7->matplotlib->snntorch) (1.16.0)\n",
            "Requirement already satisfied: MarkupSafe>=2.0 in /home/codespace/.local/lib/python3.10/site-packages (from jinja2->torch>=1.1.0->snntorch) (2.1.5)\n",
            "Requirement already satisfied: mpmath>=0.19 in /home/codespace/.local/lib/python3.10/site-packages (from sympy->torch>=1.1.0->snntorch) (1.3.0)\n",
            "Note: you may need to restart the kernel to use updated packages.\n"
          ]
        }
      ],
      "source": [
        "# install gymnasium packages\n",
        "%pip install gymnasium\n",
        "%pip install gymnasium[classic-control]\n",
        "%pip install swig\n",
        "\n",
        "# install virtual display packages\n",
        "%pip install pyvirtualdisplay\n",
        "%pip install moviepy\n",
        "%pip install --upgrade moviepy\n",
        "\n",
        "# install stable baselines3\n",
        "%pip install stable-baselines3\n",
        "\n",
        "# install snntorch\n",
        "%pip install snntorch"
      ]
    },
    {
      "cell_type": "code",
      "execution_count": 17,
      "metadata": {},
      "outputs": [
        {
          "name": "stdout",
          "output_type": "stream",
          "text": [
            "Hit:1 https://dl.yarnpkg.com/debian stable InRelease\n",
            "Hit:3 https://packages.microsoft.com/repos/microsoft-ubuntu-focal-prod focal InRelease\n",
            "Hit:4 https://repo.anaconda.com/pkgs/misc/debrepo/conda stable InRelease\n",
            "Hit:5 http://archive.ubuntu.com/ubuntu focal InRelease\n",
            "Hit:6 http://security.ubuntu.com/ubuntu focal-security InRelease\n",
            "Hit:2 https://packagecloud.io/github/git-lfs/ubuntu focal InRelease\n",
            "Hit:7 http://archive.ubuntu.com/ubuntu focal-updates InRelease\n",
            "Hit:8 http://archive.ubuntu.com/ubuntu focal-backports InRelease\n",
            "Reading package lists...\n",
            "Building dependency tree...\n",
            "Reading state information...\n",
            "40 packages can be upgraded. Run 'apt list --upgradable' to see them.\n",
            "Reading package lists...\n",
            "Building dependency tree...\n",
            "Reading state information...\n",
            "xvfb is already the newest version (2:1.20.13-1ubuntu1~20.04.17).\n",
            "0 upgraded, 0 newly installed, 0 to remove and 40 not upgraded.\n"
          ]
        }
      ],
      "source": [
        "# Update the Package Index\n",
        "!sudo apt update --quiet\n",
        "\n",
        "# Install xvfb\n",
        "!sudo apt-get install -y xvfb --quiet"
      ]
    },
    {
      "cell_type": "code",
      "execution_count": 18,
      "metadata": {
        "id": "LzeSyt4-OPR_"
      },
      "outputs": [],
      "source": [
        "# gymnasium imports\n",
        "import gymnasium as gym\n",
        "from gymnasium.wrappers.record_video import RecordVideo\n",
        "\n",
        "# video imports\n",
        "import glob\n",
        "import uuid\n",
        "import io\n",
        "import base64\n",
        "from IPython.display import HTML\n",
        "# from IPython import display as ipythondisplay\n",
        "\n",
        "# ml imports\n",
        "import torch\n",
        "import torch.nn as nn\n",
        "import torch.optim as optim\n",
        "import torch.nn.functional as F\n",
        "\n",
        "# plot imports\n",
        "import matplotlib\n",
        "import matplotlib.pyplot as plt\n",
        "import snntorch.spikeplot as splt\n",
        "\n",
        "# set up matplotlib\n",
        "is_ipython = 'inline' in matplotlib.get_backend()\n",
        "if is_ipython:\n",
        "    from IPython import display as ipythondisplay\n",
        "\n",
        "\n",
        "# utility imports\n",
        "import os\n",
        "import math\n",
        "import random\n",
        "import shutil\n",
        "import random\n",
        "from itertools import count\n",
        "from collections import namedtuple, deque\n",
        "\n",
        "# if GPU is to be used\n",
        "device = torch.device(\"cuda\" if torch.cuda.is_available() else \"cpu\")"
      ]
    },
    {
      "cell_type": "markdown",
      "metadata": {},
      "source": [
        "## 1. What is Reinforcement Learning?"
      ]
    },
    {
      "cell_type": "markdown",
      "metadata": {},
      "source": [
        "<img src=\"images/RL_process.jpg\" width=\"800\" height=\"500\">\n",
        "\n",
        "Along with Supervised Learning and Unsupervised Learning, Reinforcement Learning is one of the 3 basic machine learning paradigms. The idea behind Reinforcement Learning is that an agent (an AI) will learn from the environment by interacting with it (through trial and error) and receiving rewards (negative or positive) as feedback for performing actions.\n",
        "\n",
        "You can think of it like playing a video game where you get points for collecting coins and you lose points for getting hit by enemies. This \"trains\" you to collect coins, while avoiding enemies. Of course, games get a lot more complicated than that which is why one of the main challenges of RL is figuring out how to reward or punish the agent. That is to say, we use the [carrot and the stick](https://en.wikipedia.org/wiki/Carrot_and_stick).\n",
        "\n",
        "The diagram describing how a RL agent interacts with a environment can be interpretated as such:\n",
        "\n",
        "1. The Agent/Model/AI receives a **state $S_t$** (the info the agent receieves from the environment at time t)\n",
        "2. Based on that **state** $S_t$ the agent takes an *action* $A_t$\n",
        "3. The environment goes to a new **state** $S_{t+1}$\n",
        "4. The environment gives some **reward** $R_{t+1}$ to the agent\n",
        "5. repeat\n"
      ]
    },
    {
      "cell_type": "markdown",
      "metadata": {},
      "source": [
        "### 1.1 Defining Cumulative Reward\n",
        "\n",
        "The reward is fundamental in RL because it’s the only feedback for the agent. Thanks to it, our agent knows if the action taken was good or not.\n",
        "\n",
        "Where\n",
        "* $R()$: `Return` is the cumulative reward function\n",
        "* $\\tau$: `Trajectory` represented by *tau* is a sequence of `states` and `actions`\n",
        "* $\\gamma$: `Discount Rate` represented by *gamma* between 0-1\n",
        "* $r_t$: `reward` at time step t\n",
        "\n",
        "The cumulative reward is represented by the function\n",
        "\n",
        "$R(\\tau) = r_{t+1} + \\gamma r_{t+2} + \\gamma^2 r_{t+3} + \\gamma^3 r_{t+4} + ...$\n",
        "\n",
        "or \n",
        "\n",
        "$R(\\tau) = \\sum_{k=0}^{\\infty} \\gamma^k r_{t+k+1}$\n",
        "\n",
        "An important insight here is that $\\gamma$ is exponentiated, this means a smaller $\\gamma$ causes a bigger `discount` and rewards at farther timesteps are `discounted` more. So, the smaller the $\\gamma$ the less the agent cares more about closer/short-term rewards, and the bigger $\\gamma$ the more the agent cares about farther/long-term rewards."
      ]
    },
    {
      "cell_type": "markdown",
      "metadata": {},
      "source": [
        "### 1.2 Defining Policy\n",
        "\n",
        "You can think of `policy`, $\\pi$, as the mind of the agent\n",
        "\n",
        "This `policy` is the function we want to learn, our goal is to find the `optimal policy` $\\pi^*$, the policy that maximizes expected return when the agent acts according to it. We find this $\\pi^*$ through training. \n",
        "\n",
        "Note: $\\pi^*$ is pronounced \"pie-star\" and in algorithms \"*\" (star) often denotes optimality\n",
        "\n",
        "There are two types of policies:\n",
        "\n",
        "1. Deterministic: a policy at a given state will always return the same action.\n",
        "    * $\\pi(s) = a$\n",
        "2. Stochastic: outputs a probability distribution over actions.\n",
        "    * $\\pi(s|a) = P[A|s]$\n",
        "        * $|$ means given\n",
        "        * $P[]$ means probability distribution\n",
        "        * $P[A|s]$ means a probability distribution over a set of actions given a state\n",
        "\n",
        "There are two approaches to **train** our agent to find this optimal policy π*:\n",
        "\n",
        "1. Directly, by teaching the agent to learn which action to take, given the current state: **Policy-Based Methods**.\n",
        "2. Indirectly, teach the agent to learn which state is more valuable and then take the action that leads to the more valuable states: **Value-Based Methods**.\n",
        "\n"
      ]
    },
    {
      "cell_type": "markdown",
      "metadata": {},
      "source": [
        "## 2. Creating an Environment\n",
        "\n",
        "Now that you understand what a Reinforcement Learning agent is and does. Lets create an environment for our prospective RL agent to interact with.\n",
        "\n",
        "To do that we will be using the environment library [Gymnasium](https://gymnasium.farama.org/) which was developed by OpenAI and handed off to the Farama Foundation to maintain and update."
      ]
    },
    {
      "cell_type": "markdown",
      "metadata": {},
      "source": [
        "*GitHub codespaces doesn't have an inbuilt display, create a virtual display instead.*"
      ]
    },
    {
      "cell_type": "code",
      "execution_count": 19,
      "metadata": {
        "colab": {
          "base_uri": "https://localhost:8080/"
        },
        "id": "ruR-EszrTfDX",
        "outputId": "793fb07e-1331-419d-ed03-6cf07f2254c0"
      },
      "outputs": [
        {
          "data": {
            "text/plain": [
              "<pyvirtualdisplay.display.Display at 0x7f2132154610>"
            ]
          },
          "execution_count": 19,
          "metadata": {},
          "output_type": "execute_result"
        }
      ],
      "source": [
        "# install a virtual display\n",
        "from pyvirtualdisplay import Display\n",
        "display = Display(visible=0, size=(1400, 900))\n",
        "display.start()"
      ]
    },
    {
      "cell_type": "markdown",
      "metadata": {},
      "source": [
        "The first virtual environment you will be using is the `'CartPole-v1'` environment. This is a virtual version of the real life Cart Pole/Inverted Pendulum task, here is a short fun [video](https://youtu.be/nOSTzpA0nGk?si=mFYYwhLhTb5hcrpB) for you to see."
      ]
    },
    {
      "cell_type": "markdown",
      "metadata": {},
      "source": [
        "### 2.1 Understanding Gymnasium\n",
        "Remember that at each step:\n",
        "- Our Agent receives a **state ($S_0$)** from the **Environment** — i.e. we receive the first frame of our game (Environment).\n",
        "- Based on that **state ($S_0$),** the Agent takes an **action ($A_0$)** — i.e. our Agent will move to the right.\n",
        "- The environment transitions to a **new** **state ($S_1$)** — i.e. new frame.\n",
        "- The environment gives some **reward ($R_1$)** to the Agent — i.e. we’re not dead *(Positive Reward +1)*.\n",
        "\n",
        "\n",
        "With Gymnasium:\n",
        "\n",
        "1. We create our environment using `gymnasium.make()`\n",
        "2. We reset the environment to its initial state with `observation = env.reset()`\n",
        "\n",
        "At each step:\n",
        "\n",
        "3. Get an action using our model (in our example we take a random action)\n",
        "4. Using `env.step(action)`, we perform this action in the environment and get\n",
        "    - `observation`: The new state ($s_{t+1}$)\n",
        "    - `reward`: The reward we get after executing the action\n",
        "    - `terminated`: Indicates if the episode terminated (agent reach the terminal state)\n",
        "    - `truncated`: Introduced with this new version, it indicates a timelimit or if an agent go out of bounds of the environment for instance.\n",
        "    - `info`: A dictionary that provides additional information (depends on the environment).\n",
        "\n",
        "For more explanations check this 👉 https://gymnasium.farama.org/api/env/#gymnasium.Env.step\n",
        "\n",
        "If the episode is terminated:\n",
        "- We reset the environment to its initial state with `observation = env.reset()`\n",
        "\n",
        "#### 2.2 Task Types\n",
        "There are two types of task: `Episodic Tasks` and `Continuous Tasks`\n",
        "\n",
        "1. Episodic Task\n",
        "    - In this case, we have a starting point and an ending point (a terminal state). This creates an episode: a list of States, Actions, Rewards, and new States.\n",
        "2. Continuous task\n",
        "    - These are tasks that continue forever (no terminal state). In this case, the agent must learn how to choose the best actions and simultaneously interact with the environment.\n",
        "    - For instance, an agent that does automated stock trading. For this task, there is no starting point and terminal state. The agent keeps running until we decide to stop it.\n"
      ]
    },
    {
      "cell_type": "markdown",
      "metadata": {},
      "source": [
        "## Question 1\n",
        "In gymnasium the environments are set up as episodic tasks. A good practice is to look at documentation before using an environment to know its properties. If `'CartPole-v1'` is episodic, that means it must have termination conditions. List `'CartPole-v1'`'s termination conditions below.\n",
        "\n",
        "Link to documentation -> https://gymnasium.farama.org/environments/classic_control/cart_pole/ "
      ]
    },
    {
      "cell_type": "markdown",
      "metadata": {},
      "source": [
        "<span style=\"color:green\">Answer</span>\n",
        "\n",
        "1.\n",
        "2.\n",
        "3."
      ]
    },
    {
      "cell_type": "markdown",
      "metadata": {},
      "source": [
        "#### 2.3 Default Properties of Gymnasium's Cart Pole environment \n",
        "\n",
        "##### **Action Space (The set of possible actions of the model)**\n",
        "\n",
        "The action is a ndarray with shape (1,) which can take values {0, 1} indicating the direction of the fixed force the cart is pushed with.\n",
        "\n",
        "0: Push cart to the left\n",
        "\n",
        "1: Push cart to the right\n",
        "\n",
        "Note: The velocity that is reduced or increased by the applied force is not fixed and it depends on the angle the pole is pointing. The center of gravity of the pole varies the amount of energy needed to move the cart underneath it\n",
        "\n",
        "##### **Observation Space (The subset of the state the actor observes)**\n",
        "\n",
        "The observation is a ndarray with shape (4,) with the values corresponding to the following positions and velocities:\n",
        "\n",
        "<img src=\"images/observation_space.png\" width=\"700\" height=\"200\">\n",
        "\n",
        "##### **Rewards**\n",
        "\n",
        "Since the goal is to keep the pole upright for as long as possible, a reward of +1 for every step taken, including the termination step, is allotted. The threshold for rewards is 500 for v1 and 200 for v0.\n"
      ]
    },
    {
      "cell_type": "code",
      "execution_count": 20,
      "metadata": {},
      "outputs": [
        {
          "name": "stdout",
          "output_type": "stream",
          "text": [
            "_____OBSERVATION SPACE_____ \n",
            "\n",
            "Observation Space Shape (4,)\n",
            "Sample observation [-3.5817301e+00  2.0575995e+38  3.0452552e-01 -2.0353295e+37]\n",
            "\n",
            " _____ACTION SPACE_____ \n",
            "\n",
            "Action Space Shape 2\n",
            "Action Space Sample 1\n"
          ]
        }
      ],
      "source": [
        "# How to access the above values\n",
        "env = gym.make(\"CartPole-v1\")\n",
        "env.reset()\n",
        "print(\"_____OBSERVATION SPACE_____ \\n\")\n",
        "print(\"Observation Space Shape\", env.observation_space.shape)\n",
        "print(\"Sample observation\", env.observation_space.sample()) # Get a random observation\n",
        "print(\"\\n _____ACTION SPACE_____ \\n\")\n",
        "print(\"Action Space Shape\", env.action_space.n)\n",
        "print(\"Action Space Sample\", env.action_space.sample()) # Take a random action"
      ]
    },
    {
      "cell_type": "markdown",
      "metadata": {},
      "source": [
        "#### 2.4 Gymnasium Interactive Loop\n",
        "\n",
        "Below is the code for a simple interactive loop where instead of a agent predicting a action we simply sample a random action. Look at what happens to the cartpole when random actions are chosen, and specifically note how long the episode lasts (duration) which the model will be learning to improve."
      ]
    },
    {
      "cell_type": "code",
      "execution_count": 21,
      "metadata": {
        "colab": {
          "base_uri": "https://localhost:8080/"
        },
        "id": "-WqjS0z9Nvbm",
        "outputId": "c7c05a60-fe49-4157-fec5-7c8192196dd4"
      },
      "outputs": [],
      "source": [
        "init_env = gym.make('CartPole-v1', render_mode='rgb_array')\n",
        "\n",
        "folder_name = os.path.join('video', 'CartPole-v1', f'{uuid.uuid4()}')\n",
        "\n",
        "# Use the wrapper environment RecordVideo() to record video\n",
        "env = RecordVideo(init_env, folder_name, disable_logger=True)\n",
        "\n",
        "observation, info = env.reset()\n",
        "\n",
        "for _ in range(1000):\n",
        "    action = env.action_space.sample()\n",
        "    observation, reward, terminated, truncated, info = env.step(action)\n",
        "\n",
        "    if terminated or truncated:\n",
        "        observation, info = env.reset()\n",
        "\n",
        "env.close()"
      ]
    },
    {
      "cell_type": "code",
      "execution_count": 22,
      "metadata": {
        "id": "x1iWqf2NO4g5"
      },
      "outputs": [],
      "source": [
        "def show_video(folder_name, episode='last'):\n",
        "    mp4list = glob.glob(f'{folder_name}/*.mp4')\n",
        "    if len(mp4list) > 0:\n",
        "        sorted_mp4list = sorted(mp4list, key=lambda x: int(x.split('-')[-1].split('.')[0]))\n",
        "        if episode == 'last':\n",
        "            mp4 = sorted_mp4list[-1]\n",
        "        elif episode == 'first':\n",
        "            mp4 = sorted_mp4list[0]\n",
        "        video = io.open(mp4, 'r+b').read()\n",
        "        encoded = base64.b64encode(video)\n",
        "        ipythondisplay.display(HTML(data='''<video alt=\"test\" autoplay\n",
        "                    loop controls style=\"height: 400px;\">\n",
        "                    <source src=\"data:video/mp4;base64,{0}\" type=\"video/mp4\" />\n",
        "                    </video>'''.format(encoded.decode('ascii'))))\n",
        "    else:\n",
        "        print(\"Could not find video\")"
      ]
    },
    {
      "cell_type": "code",
      "execution_count": 23,
      "metadata": {
        "colab": {
          "base_uri": "https://localhost:8080/",
          "height": 421
        },
        "id": "CD7we0ysR4DN",
        "outputId": "65cc1009-7c2b-4e38-989b-b0bcd0580ef6"
      },
      "outputs": [
        {
          "data": {
            "text/html": [
              "<video alt=\"test\" autoplay\n",
              "                    loop controls style=\"height: 400px;\">\n",
              "                    <source src=\"data:video/mp4;base64,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\" type=\"video/mp4\" />\n",
              "                    </video>"
            ],
            "text/plain": [
              "<IPython.core.display.HTML object>"
            ]
          },
          "metadata": {},
          "output_type": "display_data"
        }
      ],
      "source": [
        "show_video(folder_name)"
      ]
    },
    {
      "cell_type": "code",
      "execution_count": 24,
      "metadata": {},
      "outputs": [
        {
          "name": "stdout",
          "output_type": "stream",
          "text": [
            "Directory deleted successfully.\n"
          ]
        }
      ],
      "source": [
        "# Delete the videos\n",
        "\n",
        "# Check if the directory exists\n",
        "if os.path.exists(folder_name):\n",
        "    # Remove the directory\n",
        "    shutil.rmtree(folder_name)\n",
        "    print(\"Directory deleted successfully.\")\n",
        "else:\n",
        "    print(\"Directory does not exist.\")"
      ]
    },
    {
      "cell_type": "markdown",
      "metadata": {
        "id": "ZqZwPeGNW9HI"
      },
      "source": [
        "## 3. Deep Q Networks\n",
        "\n",
        "There are many different types of algorithms/models for RL, which you can do research on in your free time, but today we will be introducing you to Deep Q Networks as we think it strikes a nice balance of being easy to explain, but complicated enough to be interesting.\n",
        "\n",
        "<img src=\"images/deep.jpg\" width=\"700\" height=\"350\">"
      ]
    },
    {
      "cell_type": "markdown",
      "metadata": {},
      "source": [
        "### 3.1 Approximating $\\pi^*$ with a Q-function\n",
        "\n",
        "Q-learning in general are a set of **value based methods** (which we mentioned earlier), meaning instead of training on the policy directly they train to find an optimal value function which leads to having an optimal policy.\n",
        "\n",
        "In this case the value function the model trains on is called the Q-function, an **action-value function** that determines the value of being at a particular state and taking a specific action at that state. The *link between value and policy* is represented in the equation here:\n",
        "\n",
        "$$\\pi^* = \\underset{a}{\\text{argmax}}\\ Q^*(s,a)$$\n",
        "\n",
        "### 3.2 Maths\n",
        "\n",
        "### 3.2.1 Bellman Equation\n",
        "\n",
        "Directly computing the cumulative reward for all future timesteps for a given state can be a computationally competitive task if you are doing it at each action. Which is why instead we use the **Bellman Equation** which is a recursive equation that considers the value of a state as the immediate reward and the discounted value of the state that follows.\n",
        "\n",
        "<img src=\"images/bellman4.jpg\" width=\"700\" height=\"380\">\n",
        "\n",
        "Remember:\n",
        "* $\\gamma$: `Discount Rate` represented by *gamma* between 0-1\n",
        "\n",
        "\n",
        "### 3.2.2 Temporal Difference Learning Approach\n",
        "\n",
        "There are two main types of strategies:\n",
        "* Monte Carlo Approach - Learning after each episode\n",
        "* Temporal Difference Learning Approach - Learning after each step\n",
        "\n",
        "Q-Learning uses a TD approach which includes the Bellman Equation\n",
        "\n",
        "<img src=\"images/TD-1.jpg\" width=\"700\" height=\"400\">\n",
        "\n",
        "### 3.2.3 Epsilon Greedy Algorithm\n",
        "\n",
        "In RL it is importat to have a policy that governs the **exploitatio-exploration tradeoff**. That is do we exploit our prior knowledge gained during learning and move according to what we currently have calculated as the best action for a given state or do we explore and select a different action in the hopes of finding a better route/set of actions?\n",
        "\n",
        "We use an **epsilon greedy policy** where $\\epsilon$ represents the probability of exploration (selecting a random action) and $1-\\epsilon$ represents the probability of exploitation. $\\epsilon$ is a number from 1-0.\n",
        "\n",
        "At the beginning As Q gets better and better with progressive training we slowly decrease $\\epsilon$ more and more according to a decay rate. This changes the policy to go from a higher ratio of exploration, to a higher ratio of exploitation.\n",
        "\n",
        "### 3.2.4 Q-Learning\n",
        "\n",
        "Bringing that all together we get the Q-Learning algorithm\n",
        "\n",
        "<img src=\"images/Q-learning-2.jpg\" width=\"700\" height=\"400\">\n",
        "\n",
        "### 3.2.5 Deep Q-Learning (DQN)\n",
        "\n",
        "Deep Q-Learning uses a deep neural network to approximate the different Q-values for each possible action at a state (value-function estimation).\n",
        "\n",
        "The difference is that, during the training phase, instead of updating the Q-value of a state-action pair directly as we have done with Q-Learning, in Deep Q-Learning, we create a loss function that compares our Q-value prediction and the Q-target and uses gradient descent to update the weights of our Deep Q-Network to approximate our Q-values better.\n",
        "\n",
        "<img src=\"images/q-ex-5.jpg\" width=\"700\" height=\"400\">\n",
        "\n",
        "<img src=\"images/Q-target.jpg\" width=\"700\" height=\"400\">\n",
        "\n",
        "* Where $\\delta$ represents temporal difference error, the equation looks like this:\n",
        "\n",
        "$$\\delta = Q(s, a) - (r + \\gamma \\max_{a}' Q(s', a'))$$\n",
        "\n",
        "* To minimize this error we use the [Huber Loss](https://en.wikipedia.org/wiki/Huber_loss). The Huber loss acts like the mean squared error when the error is small, but like the mean absolute error when the error is large.\n",
        "\n",
        "* There is also an additional feature of an **experience replay** which has two functions:\n",
        "    1. Make **more efficient use of the experiences** during the training. Usually, in online reinforcement learning, the agent interacts with the environment, gets experiences (state, action, reward, and next state), learns from them (updates the neural network), and discards them. This is not efficient.\n",
        "\n",
        "    2. Avoid forgetting previous experiences (aka catastrophic interference, or catastrophic forgetting) and reduce the correlation between experiences.\n",
        "        * **catastrophic forgetting**: The problem we get if we give sequential samples of experiences to our neural network is that it tends to forget the previous experiences as it gets new experiences. For instance, if the agent is in the first level and then in the second, which is different, it can forget how to behave and play in the first level.\n",
        "\n",
        "Here is the pseudocode for DQN:\n",
        "\n",
        "<img src=\"images/sampling-training.jpg\" width=\"700\" height=\"400\">\n"
      ]
    },
    {
      "cell_type": "markdown",
      "metadata": {},
      "source": [
        "### 3.3 Train a DQN\n",
        "\n",
        "The following is the code from here: https://pytorch.org/tutorials/intermediate/reinforcement_q_learning.html\n",
        " \n",
        "If you want more detail on the specifics of the code, we encouorage you to read through it.\n",
        "\n",
        "Now that you understand the basic overview of a DQN its time to actually train one on the `'CartPole-v1'` Gymnasium environment!"
      ]
    },
    {
      "cell_type": "code",
      "execution_count": 25,
      "metadata": {
        "id": "YiaXSBipW8lw"
      },
      "outputs": [],
      "source": [
        "Transition = namedtuple('Transition',\n",
        "                        ('state', 'action', 'next_state', 'reward'))\n",
        "\n",
        "\n",
        "class ReplayMemory(object):\n",
        "\n",
        "    def __init__(self, capacity):\n",
        "        self.memory = deque([], maxlen=capacity)\n",
        "\n",
        "    def push(self, *args):\n",
        "        \"\"\"Save a transition\"\"\"\n",
        "        self.memory.append(Transition(*args))\n",
        "\n",
        "    def sample(self, batch_size):\n",
        "        return random.sample(self.memory, batch_size)\n",
        "\n",
        "    def __len__(self):\n",
        "        return len(self.memory)"
      ]
    },
    {
      "cell_type": "code",
      "execution_count": 26,
      "metadata": {
        "id": "l6pbi-BwToeQ"
      },
      "outputs": [],
      "source": [
        "class DQN(nn.Module):\n",
        "\n",
        "    def __init__(self, n_observations, n_actions):\n",
        "        super(DQN, self).__init__()\n",
        "        self.layer1 = nn.Linear(n_observations, 128)\n",
        "        self.layer2 = nn.Linear(128, 128)\n",
        "        self.layer3 = nn.Linear(128, n_actions)\n",
        "\n",
        "    # Called with either one element to determine next action, or a batch\n",
        "    # during optimization. Returns tensor([[left0exp,right0exp]...]).\n",
        "    def forward(self, x):\n",
        "        x = F.relu(self.layer1(x))\n",
        "        x = F.relu(self.layer2(x))\n",
        "        return self.layer3(x)"
      ]
    },
    {
      "cell_type": "code",
      "execution_count": 27,
      "metadata": {
        "id": "xTX4-jUBWSJT"
      },
      "outputs": [],
      "source": [
        "# BATCH_SIZE is the number of transitions sampled from the replay buffer\n",
        "# GAMMA is the discount factor as mentioned in the previous section\n",
        "# EPS_START is the starting value of epsilon\n",
        "# EPS_END is the final value of epsilon\n",
        "# EPS_DECAY controls the rate of exponential decay of epsilon, higher means a slower decay\n",
        "# TAU is the update rate of the target network\n",
        "# LR is the learning rate of the ``AdamW`` optimizer\n",
        "BATCH_SIZE = 128\n",
        "GAMMA = 0.99\n",
        "EPS_START = 0.9\n",
        "EPS_END = 0.05\n",
        "EPS_DECAY = 1000\n",
        "TAU = 0.005\n",
        "LR = 1e-4\n",
        "\n",
        "# Get number of actions from gym action space\n",
        "n_actions = env.action_space.n\n",
        "# Get the number of state observations\n",
        "state, info = env.reset()\n",
        "n_observations = len(state)\n",
        "\n",
        "policy_net = DQN(n_observations, n_actions).to(device)\n",
        "target_net = DQN(n_observations, n_actions).to(device)\n",
        "target_net.load_state_dict(policy_net.state_dict())\n",
        "\n",
        "optimizer = optim.AdamW(policy_net.parameters(), lr=LR, amsgrad=True)\n",
        "memory = ReplayMemory(10000)\n",
        "\n",
        "\n",
        "steps_done = 0\n",
        "\n",
        "\n",
        "def select_action(state):\n",
        "    global steps_done\n",
        "    sample = random.random()\n",
        "    eps_threshold = EPS_END + (EPS_START - EPS_END) * \\\n",
        "        math.exp(-1. * steps_done / EPS_DECAY)\n",
        "    steps_done += 1\n",
        "    if sample > eps_threshold:\n",
        "        with torch.no_grad():\n",
        "            # t.max(1) will return the largest column value of each row.\n",
        "            # second column on max result is index of where max element was\n",
        "            # found, so we pick action with the larger expected reward.\n",
        "            return policy_net(state).max(1).indices.view(1, 1)\n",
        "    else:\n",
        "        return torch.tensor([[env.action_space.sample()]], device=device, dtype=torch.long)\n",
        "\n",
        "\n",
        "episode_durations = []\n",
        "\n",
        "\n",
        "def plot_durations(show_result=False):\n",
        "    plt.figure(1)\n",
        "    durations_t = torch.tensor(episode_durations, dtype=torch.float)\n",
        "    if show_result:\n",
        "        plt.title('Result')\n",
        "    else:\n",
        "        plt.clf()\n",
        "        plt.title('Training...')\n",
        "    plt.xlabel('Episode')\n",
        "    plt.ylabel('Duration')\n",
        "    plt.plot(durations_t.numpy())\n",
        "    # Take 100 episode averages and plot them too\n",
        "    if len(durations_t) >= 100:\n",
        "        means = durations_t.unfold(0, 100, 1).mean(1).view(-1)\n",
        "        means = torch.cat((torch.zeros(99), means))\n",
        "        plt.plot(means.numpy())\n",
        "\n",
        "    plt.pause(0.001)  # pause a bit so that plots are updated\n",
        "    if is_ipython:\n",
        "        if not show_result:\n",
        "            ipythondisplay.display(plt.gcf())\n",
        "            ipythondisplay.clear_output(wait=True)\n",
        "        else:\n",
        "            ipythondisplay.display(plt.gcf())"
      ]
    },
    {
      "cell_type": "code",
      "execution_count": 28,
      "metadata": {
        "id": "GWXFcjLsWhNE"
      },
      "outputs": [],
      "source": [
        "def optimize_model():\n",
        "    if len(memory) < BATCH_SIZE:\n",
        "        return\n",
        "    transitions = memory.sample(BATCH_SIZE)\n",
        "    # Transpose the batch (see https://stackoverflow.com/a/19343/3343043 for\n",
        "    # detailed explanation). This converts batch-array of Transitions\n",
        "    # to Transition of batch-arrays.\n",
        "    batch = Transition(*zip(*transitions))\n",
        "\n",
        "    # Compute a mask of non-final states and concatenate the batch elements\n",
        "    # (a final state would've been the one after which simulation ended)\n",
        "    non_final_mask = torch.tensor(tuple(map(lambda s: s is not None,\n",
        "                                          batch.next_state)), device=device, dtype=torch.bool)\n",
        "    non_final_next_states = torch.cat([s for s in batch.next_state\n",
        "                                                if s is not None])\n",
        "    state_batch = torch.cat(batch.state)\n",
        "    action_batch = torch.cat(batch.action)\n",
        "    reward_batch = torch.cat(batch.reward)\n",
        "\n",
        "    # Compute Q(s_t, a) - the model computes Q(s_t), then we select the\n",
        "    # columns of actions taken. These are the actions which would've been taken\n",
        "    # for each batch state according to policy_net\n",
        "    state_action_values = policy_net(state_batch).gather(1, action_batch)\n",
        "\n",
        "    # Compute V(s_{t+1}) for all next states.\n",
        "    # Expected values of actions for non_final_next_states are computed based\n",
        "    # on the \"older\" target_net; selecting their best reward with max(1).values\n",
        "    # This is merged based on the mask, such that we'll have either the expected\n",
        "    # state value or 0 in case the state was final.\n",
        "    next_state_values = torch.zeros(BATCH_SIZE, device=device)\n",
        "    with torch.no_grad():\n",
        "        next_state_values[non_final_mask] = target_net(non_final_next_states).max(1).values\n",
        "    # Compute the expected Q values\n",
        "    expected_state_action_values = (next_state_values * GAMMA) + reward_batch\n",
        "\n",
        "    # Compute Huber loss\n",
        "    criterion = nn.SmoothL1Loss()\n",
        "    loss = criterion(state_action_values, expected_state_action_values.unsqueeze(1))\n",
        "\n",
        "    # Optimize the model\n",
        "    optimizer.zero_grad()\n",
        "    loss.backward()\n",
        "    # In-place gradient clipping\n",
        "    torch.nn.utils.clip_grad_value_(policy_net.parameters(), 100)\n",
        "    optimizer.step()"
      ]
    },
    {
      "cell_type": "code",
      "execution_count": 29,
      "metadata": {
        "colab": {
          "base_uri": "https://localhost:8080/",
          "height": 524
        },
        "id": "0sVkpLBjXZZz",
        "outputId": "1ed8f913-7652-4b9d-a37b-a0a40afd90d1"
      },
      "outputs": [],
      "source": [
        "def train_loop(environment, episodes):\n",
        "\n",
        "    num_episodes = episodes\n",
        "    env = environment\n",
        "\n",
        "    for i_episode in range(num_episodes):\n",
        "        # Initialize the environment and get its state\n",
        "        state, info = env.reset()\n",
        "        state = torch.tensor(state, dtype=torch.float32, device=device).unsqueeze(0)\n",
        "        for t in count():\n",
        "            action = select_action(state)\n",
        "            observation, reward, terminated, truncated, _ = env.step(action.item())\n",
        "            reward = torch.tensor([reward], device=device)\n",
        "            done = terminated or truncated\n",
        "\n",
        "            if terminated:\n",
        "                next_state = None\n",
        "            else:\n",
        "                next_state = torch.tensor(observation, dtype=torch.float32, device=device).unsqueeze(0)\n",
        "\n",
        "            # Store the transition in memory\n",
        "            memory.push(state, action, next_state, reward)\n",
        "\n",
        "            # Move to the next state\n",
        "            state = next_state\n",
        "\n",
        "            # Perform one step of the optimization (on the policy network)\n",
        "            optimize_model()\n",
        "\n",
        "            # Soft update of the target network's weights\n",
        "            # θ′ ← τ θ + (1 −τ )θ′\n",
        "            target_net_state_dict = target_net.state_dict()\n",
        "            policy_net_state_dict = policy_net.state_dict()\n",
        "            for key in policy_net_state_dict:\n",
        "                target_net_state_dict[key] = policy_net_state_dict[key]*TAU + target_net_state_dict[key]*(1-TAU)\n",
        "            target_net.load_state_dict(target_net_state_dict)\n",
        "\n",
        "            if done:\n",
        "                episode_durations.append(t + 1)\n",
        "                plot_durations()\n",
        "                break\n",
        "\n",
        "    print('Complete')\n",
        "    plot_durations(show_result=True)\n",
        "    plt.ioff()\n",
        "    plt.show()"
      ]
    },
    {
      "cell_type": "code",
      "execution_count": 30,
      "metadata": {},
      "outputs": [
        {
          "name": "stdout",
          "output_type": "stream",
          "text": [
            "Complete\n"
          ]
        },
        {
          "data": {
            "image/png": "[encoded data removed]",
            "text/plain": [
              "<Figure size 640x480 with 1 Axes>"
            ]
          },
          "metadata": {},
          "output_type": "display_data"
        },
        {
          "data": {
            "text/plain": [
              "<Figure size 640x480 with 0 Axes>"
            ]
          },
          "metadata": {},
          "output_type": "display_data"
        },
        {
          "data": {
            "text/plain": [
              "<Figure size 640x480 with 0 Axes>"
            ]
          },
          "metadata": {},
          "output_type": "display_data"
        }
      ],
      "source": [
        "# make a new environment\n",
        "init_env = gym.make('CartPole-v1', render_mode='rgb_array')\n",
        "folder_name = os.path.join('video', 'CartPole-v1', f'{uuid.uuid4()}')\n",
        "env = RecordVideo(init_env, folder_name, disable_logger=True)\n",
        "\n",
        "# call the training loop\n",
        "train_loop(env, 500)\n",
        "\n",
        "# close the environment\n",
        "env.close()"
      ]
    },
    {
      "cell_type": "code",
      "execution_count": 31,
      "metadata": {},
      "outputs": [
        {
          "data": {
            "text/html": [
              "<video alt=\"test\" autoplay\n",
              "                    loop controls style=\"height: 400px;\">\n",
              "                    <source src=\"data:video/mp4;base64,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\" type=\"video/mp4\" />\n",
              "                    </video>"
            ],
            "text/plain": [
              "<IPython.core.display.HTML object>"
            ]
          },
          "metadata": {},
          "output_type": "display_data"
        }
      ],
      "source": [
        "show_video(folder_name, episode = 'first')"
      ]
    },
    {
      "cell_type": "code",
      "execution_count": 32,
      "metadata": {
        "colab": {
          "base_uri": "https://localhost:8080/",
          "height": 421
        },
        "id": "gTTuNd_nX3dh",
        "outputId": "cd255b39-551c-4917-fbc2-daf5eba3e6b7"
      },
      "outputs": [
        {
          "data": {
            "text/html": [
              "<video alt=\"test\" autoplay\n",
              "                    loop controls style=\"height: 400px;\">\n",
              "                    <source src=\"data:video/mp4;base64,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\" type=\"video/mp4\" />\n",
              "                    </video>"
            ],
            "text/plain": [
              "<IPython.core.display.HTML object>"
            ]
          },
          "metadata": {},
          "output_type": "display_data"
        }
      ],
      "source": [
        "show_video(folder_name, episode = 'last')"
      ]
    },
    {
      "cell_type": "markdown",
      "metadata": {},
      "source": [
        "## Question 2\n",
        "Has the model learned? What metrics did you use to determine that?"
      ]
    },
    {
      "cell_type": "markdown",
      "metadata": {},
      "source": [
        "<span style=\"color:green\">Answer</span>"
      ]
    },
    {
      "cell_type": "markdown",
      "metadata": {},
      "source": [
        "## Question 3 (Understanding the code)\n",
        "Hint: Use this as reference -> https://pytorch.org/tutorials/intermediate/reinforcement_q_learning.html\n",
        "\n",
        "3A. Copy and paste the section of the code where the epsilon greedy algorithm is implemented."
      ]
    },
    {
      "cell_type": "code",
      "execution_count": 33,
      "metadata": {},
      "outputs": [],
      "source": [
        "#####ANSWER#####"
      ]
    },
    {
      "cell_type": "markdown",
      "metadata": {},
      "source": [
        "3B. Line-by-line explain in your own words how this code works. Remember that you can use backticks \"\\`\" to denote `code`."
      ]
    },
    {
      "cell_type": "markdown",
      "metadata": {},
      "source": [
        "<span style=\"color:green\">Answer</span>"
      ]
    },
    {
      "cell_type": "markdown",
      "metadata": {},
      "source": [
        "3C. Copy and paste the section of the code where the expected Q Values are calculated."
      ]
    },
    {
      "cell_type": "code",
      "execution_count": 34,
      "metadata": {},
      "outputs": [],
      "source": [
        "#####ANSWER#####"
      ]
    },
    {
      "cell_type": "markdown",
      "metadata": {},
      "source": [
        "3D. Line-by-line explain in your own words how this code works. Remember that you can use backticks \"\\`\" to denote `code`."
      ]
    },
    {
      "cell_type": "markdown",
      "metadata": {},
      "source": [
        "<span style=\"color:green\">Answer</span>"
      ]
    },
    {
      "cell_type": "markdown",
      "metadata": {},
      "source": [
        "## Question 4 Changing Episode Length\n",
        "\n",
        "Try different episode lengths. What happens when it is a lot shorter or a lot bigger?\n",
        "\n",
        "Hint: [catastrophic drop](https://ai.stackexchange.com/questions/28079/deep-q-learning-catastrophic-drop-reasons)."
      ]
    },
    {
      "cell_type": "code",
      "execution_count": 35,
      "metadata": {},
      "outputs": [],
      "source": [
        "# Reinitialize Parameters\n",
        "BATCH_SIZE = 128\n",
        "GAMMA = 0.99\n",
        "EPS_START = 0.9\n",
        "EPS_END = 0.05\n",
        "EPS_DECAY = 1000\n",
        "TAU = 0.005\n",
        "LR = 1e-4\n",
        "n_actions = env.action_space.n\n",
        "state, info = env.reset()\n",
        "n_observations = len(state)\n",
        "policy_net = DQN(n_observations, n_actions).to(device)\n",
        "target_net = DQN(n_observations, n_actions).to(device)\n",
        "target_net.load_state_dict(policy_net.state_dict())\n",
        "optimizer = optim.AdamW(policy_net.parameters(), lr=LR, amsgrad=True)\n",
        "memory = ReplayMemory(10000)\n",
        "steps_done = 0\n",
        "episode_durations = []"
      ]
    },
    {
      "cell_type": "code",
      "execution_count": 36,
      "metadata": {},
      "outputs": [
        {
          "name": "stdout",
          "output_type": "stream",
          "text": [
            "Complete\n"
          ]
        },
        {
          "data": {
            "image/png": "[encoded data removed]",
            "text/plain": [
              "<Figure size 640x480 with 1 Axes>"
            ]
          },
          "metadata": {},
          "output_type": "display_data"
        },
        {
          "data": {
            "text/plain": [
              "<Figure size 640x480 with 0 Axes>"
            ]
          },
          "metadata": {},
          "output_type": "display_data"
        },
        {
          "data": {
            "text/plain": [
              "<Figure size 640x480 with 0 Axes>"
            ]
          },
          "metadata": {},
          "output_type": "display_data"
        }
      ],
      "source": [
        "# make a new environment\n",
        "init_env = gym.make('CartPole-v1', render_mode='rgb_array')\n",
        "folder_name = os.path.join('video', 'CartPole-v1', f'{uuid.uuid4()}')\n",
        "env = RecordVideo(init_env, folder_name, disable_logger=True)\n",
        "\n",
        "# call the training loop\n",
        "train_loop(env, 50)  # Edit this!!!\n",
        "\n",
        "# close the environment\n",
        "env.close()"
      ]
    },
    {
      "cell_type": "markdown",
      "metadata": {},
      "source": [
        "<span style=\"color:green\">Answer</span>"
      ]
    },
    {
      "cell_type": "markdown",
      "metadata": {},
      "source": [
        "## Question 5 Manipulating the Reward\n",
        "\n",
        "Using [Gymnasium Reward Wrapper](https://gymnasium.farama.org/api/wrappers/reward_wrappers/) manipulate the reward in various ways."
      ]
    },
    {
      "cell_type": "markdown",
      "metadata": {},
      "source": [
        "5.1 Set the reward to zero then run the training loop again. What happens? Why is that?"
      ]
    },
    {
      "cell_type": "code",
      "execution_count": 37,
      "metadata": {},
      "outputs": [],
      "source": [
        "##### Answer #####"
      ]
    },
    {
      "cell_type": "markdown",
      "metadata": {},
      "source": [
        "<span style=\"color:green\">Answer</span>"
      ]
    },
    {
      "cell_type": "markdown",
      "metadata": {},
      "source": [
        "5.2 Set the reward to go from 1 every timestep, to negative after 100 timesteps. What changes in behavior does this cause in the actor? Why is that?"
      ]
    },
    {
      "cell_type": "code",
      "execution_count": 38,
      "metadata": {},
      "outputs": [],
      "source": [
        "##### Answer #####"
      ]
    },
    {
      "cell_type": "markdown",
      "metadata": {},
      "source": [
        "<span style=\"color:green\">Answer</span>"
      ]
    },
    {
      "cell_type": "markdown",
      "metadata": {},
      "source": [
        "5.3.1 Currently we only are printing out the duration/iteration number. Before the environment-action loop initialize a variable `record_reward = []`, then during the loop append the reward after each action. Using that list, create a graph comparing the normal reward, zero reward, and negative after 100 reward with `matplotlib`. Make sure to label the axes, give the plots a title. After that, create another graph that takes the reward histories of all 3 reward policies and compares them on one graph, make sure to include a legend for this. \n",
        "\n",
        "matplotlib docs: https://matplotlib.org/stable/"
      ]
    },
    {
      "cell_type": "code",
      "execution_count": 39,
      "metadata": {},
      "outputs": [],
      "source": [
        "##### Answer #####"
      ]
    },
    {
      "cell_type": "markdown",
      "metadata": {},
      "source": [
        "5.3.2 Create a new folder called `student_created_graphs`. Save the graphs you made in 5.3.1 (and all graphs you use in answers going forth), place them in this new folder, then display them using markdown `<img src=\"student_created_graphs/your_graph\">` in the cell below. "
      ]
    },
    {
      "cell_type": "markdown",
      "metadata": {},
      "source": [
        "<span style=\"color:green\">Answer</span>"
      ]
    },
    {
      "cell_type": "markdown",
      "metadata": {},
      "source": [
        "5.4 Think of an interesting alternative reward transformation function that changes the behavior of the model in a noticeable way. What changed? Why did your modified reward cause this change? Make sure to displau the plots/graphs you used to view this change. "
      ]
    },
    {
      "cell_type": "code",
      "execution_count": 40,
      "metadata": {},
      "outputs": [],
      "source": [
        "##### Answer #####"
      ]
    },
    {
      "cell_type": "markdown",
      "metadata": {},
      "source": [
        "<span style=\"color:green\">Answer</span>"
      ]
    },
    {
      "cell_type": "markdown",
      "metadata": {},
      "source": [
        "5.5 Write a paragraph on how reward affects learning using what you've learned so far in this homework."
      ]
    },
    {
      "cell_type": "markdown",
      "metadata": {},
      "source": [
        "<span style=\"color:green\">Answer</span>"
      ]
    },
    {
      "cell_type": "markdown",
      "metadata": {},
      "source": [
        "## Question 6 Manipulating the Observation\n",
        "\n",
        "6.1 Using a Gymnasium [observation wrapper](https://gymnasium.farama.org/api/wrappers/observation_wrappers/) or directly zeroing out the indexes of the observation manipulate the observation so that the model can only see the angle of the pole. "
      ]
    },
    {
      "cell_type": "code",
      "execution_count": 41,
      "metadata": {},
      "outputs": [],
      "source": [
        "##### Answer #####"
      ]
    },
    {
      "cell_type": "markdown",
      "metadata": {},
      "source": [
        "6.2 How does this affect learning (include graph)? "
      ]
    },
    {
      "cell_type": "markdown",
      "metadata": {},
      "source": [
        "<span style=\"color:green\">Answer</span>"
      ]
    },
    {
      "cell_type": "markdown",
      "metadata": {},
      "source": [
        "6.3 In theory, how should increasing/decreasing the obervation space affect learning? The current observations we are feeding to the model clearly include useful information. Are all observations equally useful? Could we theoretically add a useless observation? What are the tradeoffs of adding more observations?"
      ]
    },
    {
      "cell_type": "markdown",
      "metadata": {},
      "source": [
        "<span style=\"color:green\">Answer</span>"
      ]
    },
    {
      "cell_type": "markdown",
      "metadata": {},
      "source": [
        "6.4 The current observation space is cart position, cart velocity, pole angle, and pole angular velocity. What if we changed the observation to the current frame, or a stack of frames of the environment? Reflect on in a single paragraph the benefits/detriments to doing this change, what factors are considered when choosing observations in general, and the importance of selecting a good observation space."
      ]
    },
    {
      "cell_type": "markdown",
      "metadata": {},
      "source": [
        "<span style=\"color:green\">Answer</span>"
      ]
    },
    {
      "cell_type": "markdown",
      "metadata": {},
      "source": [
        "6.5 Manipulating the observation changes what the model can see of the environment. What if we manipulate the environment itself? What could we do to make this cartpole task harder to learn what could make it easier? "
      ]
    },
    {
      "cell_type": "markdown",
      "metadata": {},
      "source": [
        "<span style=\"color:green\">Answer</span>"
      ]
    },
    {
      "cell_type": "markdown",
      "metadata": {},
      "source": [
        "## Question 7 Spikes into Actions\n",
        "\n",
        "In a future assigment instead of training a RL agent model, you will be training an organoid. As you learned in the electrophysiology homework, the output of an organoid is represented in spiketrains. "
      ]
    },
    {
      "cell_type": "markdown",
      "metadata": {},
      "source": [
        "Here is how to create a rate coded tensor by creating a tensor of probabilities and running a Bernouli trial over it:"
      ]
    },
    {
      "cell_type": "code",
      "execution_count": 42,
      "metadata": {},
      "outputs": [
        {
          "name": "stdout",
          "output_type": "stream",
          "text": [
            "Converted vector: tensor([[1., 0., 1., 0., 0., 1., 1., 0., 1., 0., 1., 1., 1., 0., 0., 1., 1., 0.,\n",
            "         0., 0., 0., 1., 0., 1., 1., 1., 0., 0., 0., 1., 1., 0., 1., 0., 1., 0.,\n",
            "         1., 1., 0., 0., 1., 0., 0., 0., 1., 0., 1., 0., 0., 1.],\n",
            "        [0., 0., 1., 0., 0., 0., 0., 0., 1., 0., 1., 0., 0., 0., 1., 1., 1., 1.,\n",
            "         1., 1., 1., 1., 1., 0., 1., 0., 1., 1., 1., 0., 1., 1., 0., 0., 1., 1.,\n",
            "         0., 0., 1., 1., 0., 0., 0., 1., 0., 1., 0., 0., 1., 0.]])\n",
            "The output is spiking 49.00% of the time.\n"
          ]
        }
      ],
      "source": [
        "# Temporal Dynamics\n",
        "num_steps = 50\n",
        "\n",
        "# create vector filled with 0.5\n",
        "raw_vector = torch.ones(2, num_steps)*0.5\n",
        "\n",
        "# pass each sample through a Bernoulli trial\n",
        "rate_coded_vector = torch.bernoulli(raw_vector)\n",
        "print(f\"Converted vector: {rate_coded_vector}\")\n",
        "\n",
        "print(f\"The output is spiking {rate_coded_vector.sum()*100/torch.numel(rate_coded_vector):.2f}% of the time.\")"
      ]
    },
    {
      "cell_type": "markdown",
      "metadata": {},
      "source": [
        "Here is how to concatenate multiple tensors to make a artificial spike train:"
      ]
    },
    {
      "cell_type": "code",
      "execution_count": 43,
      "metadata": {},
      "outputs": [
        {
          "name": "stdout",
          "output_type": "stream",
          "text": [
            "tensor([[1., 1., 0., 1., 1., 1., 0., 0., 1., 1., 1., 1., 1., 0., 0., 1., 1., 0.,\n",
            "         1., 1., 1., 1., 1., 1., 0., 1., 0., 1., 1., 0., 1., 1., 0., 1., 1., 0.,\n",
            "         1., 0., 1., 1., 1., 0., 0., 1., 1., 1., 0., 1., 1., 1.],\n",
            "        [0., 0., 1., 1., 1., 1., 1., 1., 1., 1., 1., 0., 1., 1., 1., 0., 1., 1.,\n",
            "         0., 0., 0., 1., 1., 1., 1., 1., 1., 0., 1., 0., 1., 1., 1., 1., 0., 1.,\n",
            "         1., 1., 1., 1., 1., 0., 1., 1., 0., 1., 1., 1., 1., 1.],\n",
            "        [1., 0., 1., 1., 1., 0., 0., 0., 0., 0., 1., 0., 1., 0., 0., 1., 0., 0.,\n",
            "         0., 0., 0., 0., 0., 0., 0., 0., 0., 0., 0., 0., 0., 1., 0., 0., 0., 1.,\n",
            "         1., 0., 0., 0., 1., 0., 1., 0., 0., 1., 0., 0., 0., 0.],\n",
            "        [0., 0., 0., 1., 0., 0., 0., 0., 0., 1., 0., 0., 0., 0., 0., 0., 0., 1.,\n",
            "         0., 1., 0., 1., 1., 0., 1., 1., 1., 0., 1., 0., 0., 0., 0., 0., 0., 1.,\n",
            "         0., 0., 0., 0., 0., 0., 0., 1., 0., 0., 0., 1., 0., 1.]])\n",
            "torch.Size([4, 50])\n"
          ]
        }
      ],
      "source": [
        "raw_vector_1 = torch.ones(2, num_steps)*0.8\n",
        "raw_vector_2 = torch.ones(2, num_steps)*0.3\n",
        "raw_vector_sum = torch.cat((raw_vector_1, raw_vector_2))\n",
        "artificial_spike_train = torch.bernoulli(raw_vector_sum)\n",
        "print(artificial_spike_train)\n",
        "print(artificial_spike_train.size())"
      ]
    },
    {
      "cell_type": "markdown",
      "metadata": {},
      "source": [
        "Here is how to visualize the artificial spike train with a raster plot using `spikeplot.raster` from `snnTorch`:\n",
        "\n",
        "As you can see, \"neurons\" 0 and 1 are spiking 80% of the time, and \"neurons\" 2 and 3 are spiking 30% of the time.  \n",
        "\n",
        "Docs: https://snntorch.readthedocs.io/en/latest/snntorch.spikeplot.html#snntorch.spikeplot.raster"
      ]
    },
    {
      "cell_type": "code",
      "execution_count": 44,
      "metadata": {},
      "outputs": [
        {
          "data": {
            "image/png": "[encoded data removed]",
            "text/plain": [
              "<Figure size 1000x500 with 1 Axes>"
            ]
          },
          "metadata": {},
          "output_type": "display_data"
        }
      ],
      "source": [
        "fig = plt.figure(facecolor=\"w\", figsize=(10, 5))\n",
        "ax = fig.add_subplot(111)\n",
        "\n",
        "# transpose the spike train so that time is the first dimension\n",
        "artificial_spike_train = torch.transpose(artificial_spike_train, 0, 1)\n",
        "\n",
        "#  s: size of scatter points; c: color of scatter points\n",
        "splt.raster(artificial_spike_train, ax, s=1.5, c=\"black\")\n",
        "plt.title(\"Input Layer\")\n",
        "plt.xlabel(\"Time step\")\n",
        "plt.ylabel(\"Neuron Number\")\n",
        "plt.show()"
      ]
    },
    {
      "cell_type": "markdown",
      "metadata": {},
      "source": [
        "7.1 Ratio Threshold Decoding\n",
        "\n",
        "One way to decode spikes into actions is to choose a a ratio threshold where if the ratio of spikes is greater than that ratio choose one action and if it is below that ratio choose a different action. This could also be used to determine whether or not to do an action. \n",
        "\n",
        "Fill in the following function that takes in a spike train and a ratio threshold (0-1). The function should calculate the ratio between the sum of all the spikes and the number of time steps multiplied by the number of neurons. If that ratio is less than or equal to the ratio threshold push the cart left (action 0), else push the cart to the right (action 1)."
      ]
    },
    {
      "cell_type": "code",
      "execution_count": 45,
      "metadata": {},
      "outputs": [],
      "source": [
        "def ratio_threshold(spike_train, ratio_threshold):\n",
        "    ###### Answer #####\n",
        "    action = _\n",
        "    return action"
      ]
    },
    {
      "cell_type": "code",
      "execution_count": 46,
      "metadata": {},
      "outputs": [
        {
          "ename": "AssertionError",
          "evalue": "2 (<class 'int'>) invalid",
          "output_type": "error",
          "traceback": [
            "\u001b[0;31m---------------------------------------------------------------------------\u001b[0m",
            "\u001b[0;31mAssertionError\u001b[0m                            Traceback (most recent call last)",
            "Cell \u001b[0;32mIn[46], line 18\u001b[0m\n\u001b[1;32m     11\u001b[0m new_spike_train \u001b[38;5;241m=\u001b[39m torch\u001b[38;5;241m.\u001b[39mbernoulli(\n\u001b[1;32m     12\u001b[0m     torch\u001b[38;5;241m.\u001b[39mcat((\n\u001b[1;32m     13\u001b[0m         torch\u001b[38;5;241m.\u001b[39mones(\u001b[38;5;241m2\u001b[39m,num_steps) \u001b[38;5;241m*\u001b[39m \u001b[38;5;241m0.5\u001b[39m,\n\u001b[1;32m     14\u001b[0m         torch\u001b[38;5;241m.\u001b[39mones(\u001b[38;5;241m2\u001b[39m, num_steps) \u001b[38;5;241m*\u001b[39m \u001b[38;5;241m0.3\u001b[39m\n\u001b[1;32m     15\u001b[0m     ))\n\u001b[1;32m     16\u001b[0m )\n\u001b[1;32m     17\u001b[0m action \u001b[38;5;241m=\u001b[39m ratio_threshold(new_spike_train, \u001b[38;5;241m0.5\u001b[39m)\n\u001b[0;32m---> 18\u001b[0m observation, reward, terminated, truncated, info \u001b[38;5;241m=\u001b[39m \u001b[43menv\u001b[49m\u001b[38;5;241;43m.\u001b[39;49m\u001b[43mstep\u001b[49m\u001b[43m(\u001b[49m\u001b[43maction\u001b[49m\u001b[43m)\u001b[49m\n\u001b[1;32m     20\u001b[0m \u001b[38;5;28;01mif\u001b[39;00m terminated \u001b[38;5;129;01mor\u001b[39;00m truncated:\n\u001b[1;32m     21\u001b[0m     observation, info \u001b[38;5;241m=\u001b[39m env\u001b[38;5;241m.\u001b[39mreset()\n",
            "File \u001b[0;32m~/.python/current/lib/python3.10/site-packages/gymnasium/wrappers/record_video.py:166\u001b[0m, in \u001b[0;36mRecordVideo.step\u001b[0;34m(self, action)\u001b[0m\n\u001b[1;32m    158\u001b[0m \u001b[38;5;28;01mdef\u001b[39;00m \u001b[38;5;21mstep\u001b[39m(\u001b[38;5;28mself\u001b[39m, action):\n\u001b[1;32m    159\u001b[0m \u001b[38;5;250m    \u001b[39m\u001b[38;5;124;03m\"\"\"Steps through the environment using action, recording observations if :attr:`self.recording`.\"\"\"\u001b[39;00m\n\u001b[1;32m    160\u001b[0m     (\n\u001b[1;32m    161\u001b[0m         observations,\n\u001b[1;32m    162\u001b[0m         rewards,\n\u001b[1;32m    163\u001b[0m         terminateds,\n\u001b[1;32m    164\u001b[0m         truncateds,\n\u001b[1;32m    165\u001b[0m         infos,\n\u001b[0;32m--> 166\u001b[0m     ) \u001b[38;5;241m=\u001b[39m \u001b[38;5;28;43mself\u001b[39;49m\u001b[38;5;241;43m.\u001b[39;49m\u001b[43menv\u001b[49m\u001b[38;5;241;43m.\u001b[39;49m\u001b[43mstep\u001b[49m\u001b[43m(\u001b[49m\u001b[43maction\u001b[49m\u001b[43m)\u001b[49m\n\u001b[1;32m    168\u001b[0m     \u001b[38;5;28;01mif\u001b[39;00m \u001b[38;5;129;01mnot\u001b[39;00m (\u001b[38;5;28mself\u001b[39m\u001b[38;5;241m.\u001b[39mterminated \u001b[38;5;129;01mor\u001b[39;00m \u001b[38;5;28mself\u001b[39m\u001b[38;5;241m.\u001b[39mtruncated):\n\u001b[1;32m    169\u001b[0m         \u001b[38;5;66;03m# increment steps and episodes\u001b[39;00m\n\u001b[1;32m    170\u001b[0m         \u001b[38;5;28mself\u001b[39m\u001b[38;5;241m.\u001b[39mstep_id \u001b[38;5;241m+\u001b[39m\u001b[38;5;241m=\u001b[39m \u001b[38;5;241m1\u001b[39m\n",
            "File \u001b[0;32m~/.python/current/lib/python3.10/site-packages/gymnasium/wrappers/time_limit.py:57\u001b[0m, in \u001b[0;36mTimeLimit.step\u001b[0;34m(self, action)\u001b[0m\n\u001b[1;32m     46\u001b[0m \u001b[38;5;28;01mdef\u001b[39;00m \u001b[38;5;21mstep\u001b[39m(\u001b[38;5;28mself\u001b[39m, action):\n\u001b[1;32m     47\u001b[0m \u001b[38;5;250m    \u001b[39m\u001b[38;5;124;03m\"\"\"Steps through the environment and if the number of steps elapsed exceeds ``max_episode_steps`` then truncate.\u001b[39;00m\n\u001b[1;32m     48\u001b[0m \n\u001b[1;32m     49\u001b[0m \u001b[38;5;124;03m    Args:\u001b[39;00m\n\u001b[0;32m   (...)\u001b[0m\n\u001b[1;32m     55\u001b[0m \n\u001b[1;32m     56\u001b[0m \u001b[38;5;124;03m    \"\"\"\u001b[39;00m\n\u001b[0;32m---> 57\u001b[0m     observation, reward, terminated, truncated, info \u001b[38;5;241m=\u001b[39m \u001b[38;5;28;43mself\u001b[39;49m\u001b[38;5;241;43m.\u001b[39;49m\u001b[43menv\u001b[49m\u001b[38;5;241;43m.\u001b[39;49m\u001b[43mstep\u001b[49m\u001b[43m(\u001b[49m\u001b[43maction\u001b[49m\u001b[43m)\u001b[49m\n\u001b[1;32m     58\u001b[0m     \u001b[38;5;28mself\u001b[39m\u001b[38;5;241m.\u001b[39m_elapsed_steps \u001b[38;5;241m+\u001b[39m\u001b[38;5;241m=\u001b[39m \u001b[38;5;241m1\u001b[39m\n\u001b[1;32m     60\u001b[0m     \u001b[38;5;28;01mif\u001b[39;00m \u001b[38;5;28mself\u001b[39m\u001b[38;5;241m.\u001b[39m_elapsed_steps \u001b[38;5;241m>\u001b[39m\u001b[38;5;241m=\u001b[39m \u001b[38;5;28mself\u001b[39m\u001b[38;5;241m.\u001b[39m_max_episode_steps:\n",
            "File \u001b[0;32m~/.python/current/lib/python3.10/site-packages/gymnasium/wrappers/order_enforcing.py:56\u001b[0m, in \u001b[0;36mOrderEnforcing.step\u001b[0;34m(self, action)\u001b[0m\n\u001b[1;32m     54\u001b[0m \u001b[38;5;28;01mif\u001b[39;00m \u001b[38;5;129;01mnot\u001b[39;00m \u001b[38;5;28mself\u001b[39m\u001b[38;5;241m.\u001b[39m_has_reset:\n\u001b[1;32m     55\u001b[0m     \u001b[38;5;28;01mraise\u001b[39;00m ResetNeeded(\u001b[38;5;124m\"\u001b[39m\u001b[38;5;124mCannot call env.step() before calling env.reset()\u001b[39m\u001b[38;5;124m\"\u001b[39m)\n\u001b[0;32m---> 56\u001b[0m \u001b[38;5;28;01mreturn\u001b[39;00m \u001b[38;5;28;43mself\u001b[39;49m\u001b[38;5;241;43m.\u001b[39;49m\u001b[43menv\u001b[49m\u001b[38;5;241;43m.\u001b[39;49m\u001b[43mstep\u001b[49m\u001b[43m(\u001b[49m\u001b[43maction\u001b[49m\u001b[43m)\u001b[49m\n",
            "File \u001b[0;32m~/.python/current/lib/python3.10/site-packages/gymnasium/wrappers/env_checker.py:51\u001b[0m, in \u001b[0;36mPassiveEnvChecker.step\u001b[0;34m(self, action)\u001b[0m\n\u001b[1;32m     49\u001b[0m     \u001b[38;5;28;01mreturn\u001b[39;00m env_step_passive_checker(\u001b[38;5;28mself\u001b[39m\u001b[38;5;241m.\u001b[39menv, action)\n\u001b[1;32m     50\u001b[0m \u001b[38;5;28;01melse\u001b[39;00m:\n\u001b[0;32m---> 51\u001b[0m     \u001b[38;5;28;01mreturn\u001b[39;00m \u001b[38;5;28;43mself\u001b[39;49m\u001b[38;5;241;43m.\u001b[39;49m\u001b[43menv\u001b[49m\u001b[38;5;241;43m.\u001b[39;49m\u001b[43mstep\u001b[49m\u001b[43m(\u001b[49m\u001b[43maction\u001b[49m\u001b[43m)\u001b[49m\n",
            "File \u001b[0;32m~/.python/current/lib/python3.10/site-packages/gymnasium/envs/classic_control/cartpole.py:133\u001b[0m, in \u001b[0;36mCartPoleEnv.step\u001b[0;34m(self, action)\u001b[0m\n\u001b[1;32m    132\u001b[0m \u001b[38;5;28;01mdef\u001b[39;00m \u001b[38;5;21mstep\u001b[39m(\u001b[38;5;28mself\u001b[39m, action):\n\u001b[0;32m--> 133\u001b[0m     \u001b[38;5;28;01massert\u001b[39;00m \u001b[38;5;28mself\u001b[39m\u001b[38;5;241m.\u001b[39maction_space\u001b[38;5;241m.\u001b[39mcontains(\n\u001b[1;32m    134\u001b[0m         action\n\u001b[1;32m    135\u001b[0m     ), \u001b[38;5;124mf\u001b[39m\u001b[38;5;124m\"\u001b[39m\u001b[38;5;132;01m{\u001b[39;00maction\u001b[38;5;132;01m!r}\u001b[39;00m\u001b[38;5;124m (\u001b[39m\u001b[38;5;132;01m{\u001b[39;00m\u001b[38;5;28mtype\u001b[39m(action)\u001b[38;5;132;01m}\u001b[39;00m\u001b[38;5;124m) invalid\u001b[39m\u001b[38;5;124m\"\u001b[39m\n\u001b[1;32m    136\u001b[0m     \u001b[38;5;28;01massert\u001b[39;00m \u001b[38;5;28mself\u001b[39m\u001b[38;5;241m.\u001b[39mstate \u001b[38;5;129;01mis\u001b[39;00m \u001b[38;5;129;01mnot\u001b[39;00m \u001b[38;5;28;01mNone\u001b[39;00m, \u001b[38;5;124m\"\u001b[39m\u001b[38;5;124mCall reset before using step method.\u001b[39m\u001b[38;5;124m\"\u001b[39m\n\u001b[1;32m    137\u001b[0m     x, x_dot, theta, theta_dot \u001b[38;5;241m=\u001b[39m \u001b[38;5;28mself\u001b[39m\u001b[38;5;241m.\u001b[39mstate\n",
            "\u001b[0;31mAssertionError\u001b[0m: 2 (<class 'int'>) invalid"
          ]
        }
      ],
      "source": [
        "init_env = gym.make('CartPole-v1', render_mode='rgb_array')\n",
        "\n",
        "folder_name = os.path.join('video', 'CartPole-v1', f'{uuid.uuid4()}')\n",
        "\n",
        "# Use the wrapper environment RecordVideo() to record video\n",
        "env = RecordVideo(init_env, folder_name, disable_logger=True)\n",
        "\n",
        "observation, info = env.reset()\n",
        "\n",
        "for _ in range(1000):\n",
        "    new_spike_train = torch.bernoulli(\n",
        "        torch.cat((\n",
        "            torch.ones(2,num_steps) * 0.5,\n",
        "            torch.ones(2, num_steps) * 0.3\n",
        "        ))\n",
        "    )\n",
        "    action = ratio_threshold(new_spike_train, 0.5)\n",
        "    observation, reward, terminated, truncated, info = env.step(action)\n",
        "\n",
        "    if terminated or truncated:\n",
        "        observation, info = env.reset()\n",
        "\n",
        "env.close()\n",
        "\n",
        "show_video(folder_name)"
      ]
    },
    {
      "cell_type": "code",
      "execution_count": null,
      "metadata": {},
      "outputs": [],
      "source": [
        "# Delete the videos\n",
        "\n",
        "# Check if the directory exists\n",
        "if os.path.exists(folder_name):\n",
        "    # Remove the directory\n",
        "    shutil.rmtree(folder_name)\n",
        "    print(\"Directory deleted successfully.\")\n",
        "else:\n",
        "    print(\"Directory does not exist.\")"
      ]
    },
    {
      "cell_type": "markdown",
      "metadata": {},
      "source": [
        "7.2 Neuron Comparison Decoding\n",
        "\n",
        "One way to decode spikes into actions is to compare the density or sum of spikes of groups of selected neurons. Then you would compare the sum or density to decide on an action.\n",
        "\n",
        "Fill in the following functions takes in a spike train and two lists indicating the neurons for the groups. The first function should compare spike sums, and the second function should compare spike density."
      ]
    },
    {
      "cell_type": "code",
      "execution_count": null,
      "metadata": {},
      "outputs": [],
      "source": [
        "def sum_comparison(spike_train, group1, group2):\n",
        "    ###### Answer #####\n",
        "    action = _\n",
        "    return action"
      ]
    },
    {
      "cell_type": "code",
      "execution_count": null,
      "metadata": {},
      "outputs": [],
      "source": [
        "def density_comparison(spike_train, group1, group2):\n",
        "    ###### Answer #####\n",
        "    action = _\n",
        "    return action"
      ]
    },
    {
      "cell_type": "code",
      "execution_count": null,
      "metadata": {},
      "outputs": [],
      "source": [
        "init_env = gym.make('CartPole-v1', render_mode='rgb_array')\n",
        "\n",
        "folder_name = os.path.join('video', 'CartPole-v1', f'{uuid.uuid4()}')\n",
        "\n",
        "# Use the wrapper environment RecordVideo() to record video\n",
        "env = RecordVideo(init_env, folder_name, disable_logger=True)\n",
        "\n",
        "observation, info = env.reset()\n",
        "\n",
        "for _ in range(1000):\n",
        "    new_spike_train = torch.bernoulli(\n",
        "        torch.cat((\n",
        "            torch.ones(2,num_steps) * 0.5,\n",
        "            torch.ones(2, num_steps) * 0.3\n",
        "        ))\n",
        "    )\n",
        "    action = sum_comparison(new_spike_train, [0,1], [2,3])\n",
        "    observation, reward, terminated, truncated, info = env.step(action)\n",
        "\n",
        "    if terminated or truncated:\n",
        "        observation, info = env.reset()\n",
        "\n",
        "env.close()\n",
        "\n",
        "show_video(folder_name)"
      ]
    },
    {
      "cell_type": "code",
      "execution_count": null,
      "metadata": {},
      "outputs": [],
      "source": [
        "# Delete the videos\n",
        "\n",
        "# Check if the directory exists\n",
        "if os.path.exists(folder_name):\n",
        "    # Remove the directory\n",
        "    shutil.rmtree(folder_name)\n",
        "    print(\"Directory deleted successfully.\")\n",
        "else:\n",
        "    print(\"Directory does not exist.\")"
      ]
    },
    {
      "cell_type": "code",
      "execution_count": null,
      "metadata": {},
      "outputs": [],
      "source": [
        "init_env = gym.make('CartPole-v1', render_mode='rgb_array')\n",
        "\n",
        "folder_name = os.path.join('video', 'CartPole-v1', f'{uuid.uuid4()}')\n",
        "\n",
        "# Use the wrapper environment RecordVideo() to record video\n",
        "env = RecordVideo(init_env, folder_name, disable_logger=True)\n",
        "\n",
        "observation, info = env.reset()\n",
        "\n",
        "for _ in range(1000):\n",
        "    new_spike_train = torch.bernoulli(\n",
        "        torch.cat((\n",
        "            torch.ones(2,num_steps) * 0.5,\n",
        "            torch.ones(2, num_steps) * 0.3\n",
        "        ))\n",
        "    )\n",
        "    action = sum_comparison(new_spike_train, [0,2], [1,3])\n",
        "    observation, reward, terminated, truncated, info = env.step(action)\n",
        "\n",
        "    if terminated or truncated:\n",
        "        observation, info = env.reset()\n",
        "\n",
        "env.close()\n",
        "\n",
        "show_video(folder_name)"
      ]
    },
    {
      "cell_type": "code",
      "execution_count": null,
      "metadata": {},
      "outputs": [],
      "source": [
        "# Delete the videos\n",
        "\n",
        "# Check if the directory exists\n",
        "if os.path.exists(folder_name):\n",
        "    # Remove the directory\n",
        "    shutil.rmtree(folder_name)\n",
        "    print(\"Directory deleted successfully.\")\n",
        "else:\n",
        "    print(\"Directory does not exist.\")"
      ]
    },
    {
      "cell_type": "code",
      "execution_count": null,
      "metadata": {},
      "outputs": [],
      "source": [
        "init_env = gym.make('CartPole-v1', render_mode='rgb_array')\n",
        "\n",
        "folder_name = os.path.join('video', 'CartPole-v1', f'{uuid.uuid4()}')\n",
        "\n",
        "# Use the wrapper environment RecordVideo() to record video\n",
        "env = RecordVideo(init_env, folder_name, disable_logger=True)\n",
        "\n",
        "observation, info = env.reset()\n",
        "\n",
        "for _ in range(1000):\n",
        "    new_spike_train = torch.bernoulli(\n",
        "        torch.cat((\n",
        "            torch.ones(2,num_steps) * 0.5,\n",
        "            torch.ones(2, num_steps) * 0.3\n",
        "        ))\n",
        "    )\n",
        "    action = density_comparison(new_spike_train, [0], [1,2,3])\n",
        "    observation, reward, terminated, truncated, info = env.step(action)\n",
        "\n",
        "    if terminated or truncated:\n",
        "        observation, info = env.reset()\n",
        "\n",
        "env.close()\n",
        "\n",
        "show_video(folder_name)"
      ]
    },
    {
      "cell_type": "code",
      "execution_count": null,
      "metadata": {},
      "outputs": [],
      "source": [
        "# Delete the videos\n",
        "\n",
        "# Check if the directory exists\n",
        "if os.path.exists(folder_name):\n",
        "    # Remove the directory\n",
        "    shutil.rmtree(folder_name)\n",
        "    print(\"Directory deleted successfully.\")\n",
        "else:\n",
        "    print(\"Directory does not exist.\")"
      ]
    },
    {
      "cell_type": "markdown",
      "metadata": {},
      "source": [
        "7.3 Stochastic Spike Decoding\n",
        "\n",
        "Instead of comparing the spike densities of groups of neurons, one could interpret the density of a subset of the spike train as a probability to take an action. \n",
        "\n",
        "Fill in the following function that takes in a spike train, and a list of neurons in a group. It then calculates the density of that group and then uses that probability to determine if the cart pole should move right (1). That is if the density is 0.9, there is a 90% chance the cart will be moved right, else move the cart left (0). \n",
        "\n",
        "Hint: You can use `random.random()` to generate a random number between 0.0 and 1.0."
      ]
    },
    {
      "cell_type": "code",
      "execution_count": null,
      "metadata": {},
      "outputs": [],
      "source": [
        "def sum_comparison(spike_train, group):\n",
        "    ###### Answer #####\n",
        "    action = _\n",
        "    return action"
      ]
    },
    {
      "cell_type": "code",
      "execution_count": null,
      "metadata": {},
      "outputs": [],
      "source": [
        "init_env = gym.make('CartPole-v1', render_mode='rgb_array')\n",
        "\n",
        "folder_name = os.path.join('video', 'CartPole-v1', f'{uuid.uuid4()}')\n",
        "\n",
        "# Use the wrapper environment RecordVideo() to record video\n",
        "env = RecordVideo(init_env, folder_name, disable_logger=True)\n",
        "\n",
        "observation, info = env.reset()\n",
        "\n",
        "for _ in range(1000):\n",
        "    new_spike_train = torch.bernoulli(\n",
        "        torch.cat((\n",
        "            torch.ones(2,num_steps) * 0.5,\n",
        "            torch.ones(2, num_steps) * 0.3\n",
        "        ))\n",
        "    )\n",
        "    action = density_comparison(new_spike_train, [0, 1, 2])\n",
        "    observation, reward, terminated, truncated, info = env.step(action)\n",
        "\n",
        "    if terminated or truncated:\n",
        "        observation, info = env.reset()\n",
        "\n",
        "env.close()\n",
        "\n",
        "show_video(folder_name)"
      ]
    },
    {
      "cell_type": "code",
      "execution_count": null,
      "metadata": {},
      "outputs": [],
      "source": [
        "# Delete the videos\n",
        "\n",
        "# Check if the directory exists\n",
        "if os.path.exists(folder_name):\n",
        "    # Remove the directory\n",
        "    shutil.rmtree(folder_name)\n",
        "    print(\"Directory deleted successfully.\")\n",
        "else:\n",
        "    print(\"Directory does not exist.\")"
      ]
    },
    {
      "cell_type": "markdown",
      "metadata": {},
      "source": [
        "7.4 Decode Into a Continuous Action Space\n",
        "\n",
        "So far we have been working with binary descrete actions, but it is possible to not only have multiple actions but a continuous action space instead. For example, if you wanted to determine the degrees a agent controlling a top down character mouse should move. A continuous action space would include not just the 360 degree angles, but even the decimal points in between them. \n",
        "\n",
        "Create a function that takes in a spike train and outputs a angle from 0-360 a theoretical mouse should move by returning the product of density and 360."
      ]
    },
    {
      "cell_type": "code",
      "execution_count": null,
      "metadata": {},
      "outputs": [],
      "source": [
        "def continuous_degrees_turned(spike_train):\n",
        "    ##### Answer ######\n",
        "    action = _\n",
        "    return action"
      ]
    },
    {
      "cell_type": "code",
      "execution_count": null,
      "metadata": {},
      "outputs": [],
      "source": [
        "angle = continuous_degrees_turned(artificial_spike_train)\n",
        "print(angle)"
      ]
    },
    {
      "cell_type": "markdown",
      "metadata": {},
      "source": [
        "7.5 Do it yourself!\n",
        "\n",
        "Create your own spike decoding to action function by combining the various techniques we just showed you or something else entirely! Then show that it works as expected by feeding a spike train into it. We want you to be creative and think about how you will decode the spikes in the upcoming project."
      ]
    },
    {
      "cell_type": "code",
      "execution_count": null,
      "metadata": {},
      "outputs": [],
      "source": [
        "##### Answer #####"
      ]
    },
    {
      "cell_type": "markdown",
      "metadata": {},
      "source": [
        "## Feedback (Optional)\n",
        "\n",
        "This is a new homework for this quarter, plase provide feedback on things you think could be improved or even if you like it as is."
      ]
    },
    {
      "cell_type": "markdown",
      "metadata": {},
      "source": [
        "<span style=\"color:green\">Answer</span>"
      ]
    }
  ],
  "metadata": {
    "accelerator": "GPU",
    "colab": {
      "gpuType": "T4",
      "provenance": []
    },
    "kernelspec": {
      "display_name": "Python 3 (ipykernel)",
      "language": "python",
      "name": "python3"
    },
    "language_info": {
      "codemirror_mode": {
        "name": "ipython",
        "version": 3
      },
      "file_extension": ".py",
      "mimetype": "text/x-python",
      "name": "python",
      "nbconvert_exporter": "python",
      "pygments_lexer": "ipython3",
      "version": "3.10.13"
    }
  },
  "nbformat": 4,
  "nbformat_minor": 0
}
