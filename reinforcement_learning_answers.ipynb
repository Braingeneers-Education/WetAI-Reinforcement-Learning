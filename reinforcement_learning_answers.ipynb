{
  "cells": [
    {
      "cell_type": "markdown",
      "metadata": {},
      "source": [
        "# Intro to Reinforcement Learning"
      ]
    },
    {
      "cell_type": "markdown",
      "metadata": {},
      "source": [
        "In this assignment you will learn the basics of reinforcement learning (RL), as well how to train a DQN RL model.\n",
        "\n",
        "A lot of this information, text, and code is directly pooled from the following sources\n",
        "\n",
        "Credits:\n",
        "* Hugging Face Deep RL course [source](https://huggingface.co/learn/deep-rl-course/unit0/introduction)\n",
        "* Gymnasium-Colaboratory-Starter [source](https://github.com/hom-bahrani/Gymnasium-Colaboratory-Starter)\n",
        "* PyTorch RL Tutorials [source](https://pytorch.org/tutorials/)\n",
        "* Wikipedia RL Page [source](https://en.wikipedia.org/wiki/Reinforcement_learning)"
      ]
    },
    {
      "cell_type": "markdown",
      "metadata": {},
      "source": [
        "First, install and import the packages and libraries you will need throughout this exercise"
      ]
    },
    {
      "cell_type": "code",
      "execution_count": 1,
      "metadata": {
        "colab": {
          "base_uri": "https://localhost:8080/"
        },
        "id": "-MGHP8DHMBKp",
        "outputId": "b8a735b9-32d3-416e-e7bf-364e88b14fca"
      },
      "outputs": [
        {
          "name": "stdout",
          "output_type": "stream",
          "text": [
            "Requirement already satisfied: gymnasium in /usr/local/python/3.10.13/lib/python3.10/site-packages (0.29.1)\n",
            "Requirement already satisfied: numpy>=1.21.0 in /home/codespace/.local/lib/python3.10/site-packages (from gymnasium) (1.26.4)\n",
            "Requirement already satisfied: cloudpickle>=1.2.0 in /usr/local/python/3.10.13/lib/python3.10/site-packages (from gymnasium) (3.0.0)\n",
            "Requirement already satisfied: typing-extensions>=4.3.0 in /home/codespace/.local/lib/python3.10/site-packages (from gymnasium) (4.11.0)\n",
            "Requirement already satisfied: farama-notifications>=0.0.1 in /usr/local/python/3.10.13/lib/python3.10/site-packages (from gymnasium) (0.0.4)\n",
            "Note: you may need to restart the kernel to use updated packages.\n",
            "Requirement already satisfied: gymnasium[classic-control] in /usr/local/python/3.10.13/lib/python3.10/site-packages (0.29.1)\n",
            "Requirement already satisfied: numpy>=1.21.0 in /home/codespace/.local/lib/python3.10/site-packages (from gymnasium[classic-control]) (1.26.4)\n",
            "Requirement already satisfied: cloudpickle>=1.2.0 in /usr/local/python/3.10.13/lib/python3.10/site-packages (from gymnasium[classic-control]) (3.0.0)\n",
            "Requirement already satisfied: typing-extensions>=4.3.0 in /home/codespace/.local/lib/python3.10/site-packages (from gymnasium[classic-control]) (4.11.0)\n",
            "Requirement already satisfied: farama-notifications>=0.0.1 in /usr/local/python/3.10.13/lib/python3.10/site-packages (from gymnasium[classic-control]) (0.0.4)\n",
            "Requirement already satisfied: pygame>=2.1.3 in /usr/local/python/3.10.13/lib/python3.10/site-packages (from gymnasium[classic-control]) (2.5.2)\n",
            "Note: you may need to restart the kernel to use updated packages.\n",
            "Requirement already satisfied: swig in /usr/local/python/3.10.13/lib/python3.10/site-packages (4.2.1)\n",
            "Note: you may need to restart the kernel to use updated packages.\n",
            "Requirement already satisfied: pyvirtualdisplay in /usr/local/python/3.10.13/lib/python3.10/site-packages (3.0)\n",
            "Note: you may need to restart the kernel to use updated packages.\n",
            "Requirement already satisfied: moviepy in /usr/local/python/3.10.13/lib/python3.10/site-packages (1.0.3)\n",
            "Requirement already satisfied: decorator<5.0,>=4.0.2 in /usr/local/python/3.10.13/lib/python3.10/site-packages (from moviepy) (4.4.2)\n",
            "Requirement already satisfied: tqdm<5.0,>=4.11.2 in /usr/local/python/3.10.13/lib/python3.10/site-packages (from moviepy) (4.66.4)\n",
            "Requirement already satisfied: requests<3.0,>=2.8.1 in /home/codespace/.local/lib/python3.10/site-packages (from moviepy) (2.31.0)\n",
            "Requirement already satisfied: proglog<=1.0.0 in /usr/local/python/3.10.13/lib/python3.10/site-packages (from moviepy) (0.1.10)\n",
            "Requirement already satisfied: numpy>=1.17.3 in /home/codespace/.local/lib/python3.10/site-packages (from moviepy) (1.26.4)\n",
            "Requirement already satisfied: imageio<3.0,>=2.5 in /usr/local/python/3.10.13/lib/python3.10/site-packages (from moviepy) (2.34.1)\n",
            "Requirement already satisfied: imageio-ffmpeg>=0.2.0 in /usr/local/python/3.10.13/lib/python3.10/site-packages (from moviepy) (0.5.0)\n",
            "Requirement already satisfied: pillow>=8.3.2 in /home/codespace/.local/lib/python3.10/site-packages (from imageio<3.0,>=2.5->moviepy) (10.3.0)\n",
            "Requirement already satisfied: setuptools in /usr/local/python/3.10.13/lib/python3.10/site-packages (from imageio-ffmpeg>=0.2.0->moviepy) (68.2.2)\n",
            "Requirement already satisfied: charset-normalizer<4,>=2 in /home/codespace/.local/lib/python3.10/site-packages (from requests<3.0,>=2.8.1->moviepy) (3.3.2)\n",
            "Requirement already satisfied: idna<4,>=2.5 in /home/codespace/.local/lib/python3.10/site-packages (from requests<3.0,>=2.8.1->moviepy) (3.7)\n",
            "Requirement already satisfied: urllib3<3,>=1.21.1 in /usr/local/python/3.10.13/lib/python3.10/site-packages (from requests<3.0,>=2.8.1->moviepy) (2.0.7)\n",
            "Requirement already satisfied: certifi>=2017.4.17 in /home/codespace/.local/lib/python3.10/site-packages (from requests<3.0,>=2.8.1->moviepy) (2024.2.2)\n",
            "Note: you may need to restart the kernel to use updated packages.\n",
            "Requirement already satisfied: moviepy in /usr/local/python/3.10.13/lib/python3.10/site-packages (1.0.3)\n",
            "Requirement already satisfied: decorator<5.0,>=4.0.2 in /usr/local/python/3.10.13/lib/python3.10/site-packages (from moviepy) (4.4.2)\n",
            "Requirement already satisfied: tqdm<5.0,>=4.11.2 in /usr/local/python/3.10.13/lib/python3.10/site-packages (from moviepy) (4.66.4)\n",
            "Requirement already satisfied: requests<3.0,>=2.8.1 in /home/codespace/.local/lib/python3.10/site-packages (from moviepy) (2.31.0)\n",
            "Requirement already satisfied: proglog<=1.0.0 in /usr/local/python/3.10.13/lib/python3.10/site-packages (from moviepy) (0.1.10)\n",
            "Requirement already satisfied: numpy>=1.17.3 in /home/codespace/.local/lib/python3.10/site-packages (from moviepy) (1.26.4)\n",
            "Requirement already satisfied: imageio<3.0,>=2.5 in /usr/local/python/3.10.13/lib/python3.10/site-packages (from moviepy) (2.34.1)\n",
            "Requirement already satisfied: imageio-ffmpeg>=0.2.0 in /usr/local/python/3.10.13/lib/python3.10/site-packages (from moviepy) (0.5.0)\n",
            "Requirement already satisfied: pillow>=8.3.2 in /home/codespace/.local/lib/python3.10/site-packages (from imageio<3.0,>=2.5->moviepy) (10.3.0)\n",
            "Requirement already satisfied: setuptools in /usr/local/python/3.10.13/lib/python3.10/site-packages (from imageio-ffmpeg>=0.2.0->moviepy) (68.2.2)\n",
            "Requirement already satisfied: charset-normalizer<4,>=2 in /home/codespace/.local/lib/python3.10/site-packages (from requests<3.0,>=2.8.1->moviepy) (3.3.2)\n",
            "Requirement already satisfied: idna<4,>=2.5 in /home/codespace/.local/lib/python3.10/site-packages (from requests<3.0,>=2.8.1->moviepy) (3.7)\n",
            "Requirement already satisfied: urllib3<3,>=1.21.1 in /usr/local/python/3.10.13/lib/python3.10/site-packages (from requests<3.0,>=2.8.1->moviepy) (2.0.7)\n",
            "Requirement already satisfied: certifi>=2017.4.17 in /home/codespace/.local/lib/python3.10/site-packages (from requests<3.0,>=2.8.1->moviepy) (2024.2.2)\n",
            "Note: you may need to restart the kernel to use updated packages.\n",
            "Requirement already satisfied: stable-baselines3 in /usr/local/python/3.10.13/lib/python3.10/site-packages (2.3.2)\n",
            "Requirement already satisfied: gymnasium<0.30,>=0.28.1 in /usr/local/python/3.10.13/lib/python3.10/site-packages (from stable-baselines3) (0.29.1)\n",
            "Requirement already satisfied: numpy>=1.20 in /home/codespace/.local/lib/python3.10/site-packages (from stable-baselines3) (1.26.4)\n",
            "Requirement already satisfied: torch>=1.13 in /home/codespace/.local/lib/python3.10/site-packages (from stable-baselines3) (2.3.0+cpu)\n",
            "Requirement already satisfied: cloudpickle in /usr/local/python/3.10.13/lib/python3.10/site-packages (from stable-baselines3) (3.0.0)\n",
            "Requirement already satisfied: pandas in /home/codespace/.local/lib/python3.10/site-packages (from stable-baselines3) (2.2.2)\n",
            "Requirement already satisfied: matplotlib in /home/codespace/.local/lib/python3.10/site-packages (from stable-baselines3) (3.8.4)\n",
            "Requirement already satisfied: typing-extensions>=4.3.0 in /home/codespace/.local/lib/python3.10/site-packages (from gymnasium<0.30,>=0.28.1->stable-baselines3) (4.11.0)\n",
            "Requirement already satisfied: farama-notifications>=0.0.1 in /usr/local/python/3.10.13/lib/python3.10/site-packages (from gymnasium<0.30,>=0.28.1->stable-baselines3) (0.0.4)\n",
            "Requirement already satisfied: filelock in /home/codespace/.local/lib/python3.10/site-packages (from torch>=1.13->stable-baselines3) (3.14.0)\n",
            "Requirement already satisfied: sympy in /home/codespace/.local/lib/python3.10/site-packages (from torch>=1.13->stable-baselines3) (1.12)\n",
            "Requirement already satisfied: networkx in /home/codespace/.local/lib/python3.10/site-packages (from torch>=1.13->stable-baselines3) (3.3)\n",
            "Requirement already satisfied: jinja2 in /home/codespace/.local/lib/python3.10/site-packages (from torch>=1.13->stable-baselines3) (3.1.4)\n",
            "Requirement already satisfied: fsspec in /home/codespace/.local/lib/python3.10/site-packages (from torch>=1.13->stable-baselines3) (2024.3.1)\n",
            "Requirement already satisfied: contourpy>=1.0.1 in /home/codespace/.local/lib/python3.10/site-packages (from matplotlib->stable-baselines3) (1.2.1)\n",
            "Requirement already satisfied: cycler>=0.10 in /home/codespace/.local/lib/python3.10/site-packages (from matplotlib->stable-baselines3) (0.12.1)\n",
            "Requirement already satisfied: fonttools>=4.22.0 in /home/codespace/.local/lib/python3.10/site-packages (from matplotlib->stable-baselines3) (4.51.0)\n",
            "Requirement already satisfied: kiwisolver>=1.3.1 in /home/codespace/.local/lib/python3.10/site-packages (from matplotlib->stable-baselines3) (1.4.5)\n",
            "Requirement already satisfied: packaging>=20.0 in /home/codespace/.local/lib/python3.10/site-packages (from matplotlib->stable-baselines3) (24.0)\n",
            "Requirement already satisfied: pillow>=8 in /home/codespace/.local/lib/python3.10/site-packages (from matplotlib->stable-baselines3) (10.3.0)\n",
            "Requirement already satisfied: pyparsing>=2.3.1 in /home/codespace/.local/lib/python3.10/site-packages (from matplotlib->stable-baselines3) (3.1.2)\n",
            "Requirement already satisfied: python-dateutil>=2.7 in /home/codespace/.local/lib/python3.10/site-packages (from matplotlib->stable-baselines3) (2.9.0.post0)\n",
            "Requirement already satisfied: pytz>=2020.1 in /home/codespace/.local/lib/python3.10/site-packages (from pandas->stable-baselines3) (2024.1)\n",
            "Requirement already satisfied: tzdata>=2022.7 in /home/codespace/.local/lib/python3.10/site-packages (from pandas->stable-baselines3) (2024.1)\n",
            "Requirement already satisfied: six>=1.5 in /home/codespace/.local/lib/python3.10/site-packages (from python-dateutil>=2.7->matplotlib->stable-baselines3) (1.16.0)\n",
            "Requirement already satisfied: MarkupSafe>=2.0 in /home/codespace/.local/lib/python3.10/site-packages (from jinja2->torch>=1.13->stable-baselines3) (2.1.5)\n",
            "Requirement already satisfied: mpmath>=0.19 in /home/codespace/.local/lib/python3.10/site-packages (from sympy->torch>=1.13->stable-baselines3) (1.3.0)\n",
            "Note: you may need to restart the kernel to use updated packages.\n",
            "Requirement already satisfied: snntorch in /usr/local/python/3.10.13/lib/python3.10/site-packages (0.9.1)\n",
            "Requirement already satisfied: torch>=1.1.0 in /home/codespace/.local/lib/python3.10/site-packages (from snntorch) (2.3.0+cpu)\n",
            "Requirement already satisfied: pandas in /home/codespace/.local/lib/python3.10/site-packages (from snntorch) (2.2.2)\n",
            "Requirement already satisfied: matplotlib in /home/codespace/.local/lib/python3.10/site-packages (from snntorch) (3.8.4)\n",
            "Requirement already satisfied: numpy>=1.17 in /home/codespace/.local/lib/python3.10/site-packages (from snntorch) (1.26.4)\n",
            "Requirement already satisfied: nir in /usr/local/python/3.10.13/lib/python3.10/site-packages (from snntorch) (1.0.4)\n",
            "Requirement already satisfied: nirtorch in /usr/local/python/3.10.13/lib/python3.10/site-packages (from snntorch) (1.0)\n",
            "Requirement already satisfied: filelock in /home/codespace/.local/lib/python3.10/site-packages (from torch>=1.1.0->snntorch) (3.14.0)\n",
            "Requirement already satisfied: typing-extensions>=4.8.0 in /home/codespace/.local/lib/python3.10/site-packages (from torch>=1.1.0->snntorch) (4.11.0)\n",
            "Requirement already satisfied: sympy in /home/codespace/.local/lib/python3.10/site-packages (from torch>=1.1.0->snntorch) (1.12)\n",
            "Requirement already satisfied: networkx in /home/codespace/.local/lib/python3.10/site-packages (from torch>=1.1.0->snntorch) (3.3)\n",
            "Requirement already satisfied: jinja2 in /home/codespace/.local/lib/python3.10/site-packages (from torch>=1.1.0->snntorch) (3.1.4)\n",
            "Requirement already satisfied: fsspec in /home/codespace/.local/lib/python3.10/site-packages (from torch>=1.1.0->snntorch) (2024.3.1)\n",
            "Requirement already satisfied: contourpy>=1.0.1 in /home/codespace/.local/lib/python3.10/site-packages (from matplotlib->snntorch) (1.2.1)\n",
            "Requirement already satisfied: cycler>=0.10 in /home/codespace/.local/lib/python3.10/site-packages (from matplotlib->snntorch) (0.12.1)\n",
            "Requirement already satisfied: fonttools>=4.22.0 in /home/codespace/.local/lib/python3.10/site-packages (from matplotlib->snntorch) (4.51.0)\n",
            "Requirement already satisfied: kiwisolver>=1.3.1 in /home/codespace/.local/lib/python3.10/site-packages (from matplotlib->snntorch) (1.4.5)\n",
            "Requirement already satisfied: packaging>=20.0 in /home/codespace/.local/lib/python3.10/site-packages (from matplotlib->snntorch) (24.0)\n",
            "Requirement already satisfied: pillow>=8 in /home/codespace/.local/lib/python3.10/site-packages (from matplotlib->snntorch) (10.3.0)\n",
            "Requirement already satisfied: pyparsing>=2.3.1 in /home/codespace/.local/lib/python3.10/site-packages (from matplotlib->snntorch) (3.1.2)\n",
            "Requirement already satisfied: python-dateutil>=2.7 in /home/codespace/.local/lib/python3.10/site-packages (from matplotlib->snntorch) (2.9.0.post0)\n",
            "Requirement already satisfied: h5py in /usr/local/python/3.10.13/lib/python3.10/site-packages (from nir->snntorch) (3.11.0)\n",
            "Requirement already satisfied: pytz>=2020.1 in /home/codespace/.local/lib/python3.10/site-packages (from pandas->snntorch) (2024.1)\n",
            "Requirement already satisfied: tzdata>=2022.7 in /home/codespace/.local/lib/python3.10/site-packages (from pandas->snntorch) (2024.1)\n",
            "Requirement already satisfied: six>=1.5 in /home/codespace/.local/lib/python3.10/site-packages (from python-dateutil>=2.7->matplotlib->snntorch) (1.16.0)\n",
            "Requirement already satisfied: MarkupSafe>=2.0 in /home/codespace/.local/lib/python3.10/site-packages (from jinja2->torch>=1.1.0->snntorch) (2.1.5)\n",
            "Requirement already satisfied: mpmath>=0.19 in /home/codespace/.local/lib/python3.10/site-packages (from sympy->torch>=1.1.0->snntorch) (1.3.0)\n",
            "Note: you may need to restart the kernel to use updated packages.\n"
          ]
        }
      ],
      "source": [
        "# install gymnasium packages\n",
        "%pip install gymnasium\n",
        "%pip install gymnasium[classic-control]\n",
        "%pip install swig\n",
        "\n",
        "# install virtual display packages\n",
        "%pip install pyvirtualdisplay\n",
        "%pip install moviepy\n",
        "%pip install --upgrade moviepy\n",
        "\n",
        "# install stable baselines3\n",
        "%pip install stable-baselines3\n",
        "\n",
        "# install snntorch\n",
        "%pip install snntorch"
      ]
    },
    {
      "cell_type": "code",
      "execution_count": 2,
      "metadata": {},
      "outputs": [
        {
          "name": "stdout",
          "output_type": "stream",
          "text": [
            "Get:1 http://archive.ubuntu.com/ubuntu focal InRelease [265 kB]\n",
            "Get:2 http://security.ubuntu.com/ubuntu focal-security InRelease [128 kB]\n",
            "Get:3 https://packages.microsoft.com/repos/microsoft-ubuntu-focal-prod focal InRelease [3632 B]\n",
            "Get:4 https://dl.yarnpkg.com/debian stable InRelease [17.1 kB]\n",
            "Get:6 https://repo.anaconda.com/pkgs/misc/debrepo/conda stable InRelease [3961 B]\n",
            "Get:7 https://packages.microsoft.com/repos/microsoft-ubuntu-focal-prod focal/main all Packages [2714 B]\n",
            "Get:8 https://packages.microsoft.com/repos/microsoft-ubuntu-focal-prod focal/main amd64 Packages [293 kB]\n",
            "Get:9 https://dl.yarnpkg.com/debian stable/main amd64 Packages [11.8 kB]\n",
            "Get:10 https://dl.yarnpkg.com/debian stable/main all Packages [11.8 kB]\n",
            "Get:11 https://repo.anaconda.com/pkgs/misc/debrepo/conda stable/main amd64 Packages [4557 B]\n",
            "Get:5 https://packagecloud.io/github/git-lfs/ubuntu focal InRelease [28.0 kB]\n",
            "Get:12 http://archive.ubuntu.com/ubuntu focal-updates InRelease [128 kB]\n",
            "Get:13 http://security.ubuntu.com/ubuntu focal-security/universe amd64 Packages [1208 kB]\n",
            "Get:14 http://archive.ubuntu.com/ubuntu focal-backports InRelease [128 kB]\n",
            "Get:15 http://archive.ubuntu.com/ubuntu focal/restricted amd64 Packages [33.4 kB]\n",
            "Get:16 http://archive.ubuntu.com/ubuntu focal/main amd64 Packages [1275 kB]\n",
            "Get:18 http://security.ubuntu.com/ubuntu focal-security/restricted amd64 Packages [3616 kB]\n",
            "Get:19 http://archive.ubuntu.com/ubuntu focal/universe amd64 Packages [11.3 MB]\n",
            "Get:17 https://packagecloud.io/github/git-lfs/ubuntu focal/main amd64 Packages [3690 B]\n",
            "Get:20 http://security.ubuntu.com/ubuntu focal-security/multiverse amd64 Packages [29.8 kB]\n",
            "Get:21 http://security.ubuntu.com/ubuntu focal-security/main amd64 Packages [3675 kB]\n",
            "Get:22 http://archive.ubuntu.com/ubuntu focal/multiverse amd64 Packages [177 kB]\n",
            "Get:23 http://archive.ubuntu.com/ubuntu focal-updates/universe amd64 Packages [1504 kB]\n",
            "Get:24 http://archive.ubuntu.com/ubuntu focal-updates/multiverse amd64 Packages [32.5 kB]\n",
            "Get:25 http://archive.ubuntu.com/ubuntu focal-updates/restricted amd64 Packages [3766 kB]\n",
            "Get:26 http://archive.ubuntu.com/ubuntu focal-updates/main amd64 Packages [4149 kB]\n",
            "Get:27 http://archive.ubuntu.com/ubuntu focal-backports/universe amd64 Packages [28.6 kB]\n",
            "Get:28 http://archive.ubuntu.com/ubuntu focal-backports/main amd64 Packages [55.2 kB]\n",
            "Fetched 31.9 MB in 2s (12.8 MB/s)\n",
            "Reading package lists...\n",
            "Building dependency tree...\n",
            "Reading state information...\n",
            "28 packages can be upgraded. Run 'apt list --upgradable' to see them.\n",
            "Reading package lists...\n",
            "Building dependency tree...\n",
            "Reading state information...\n",
            "The following additional packages will be installed:\n",
            "  libdrm-amdgpu1 libdrm-intel1 libdrm-nouveau2 libdrm-radeon1 libfontenc1\n",
            "  libgl1 libgl1-mesa-dri libglapi-mesa libglvnd0 libglx-mesa0 libglx0\n",
            "  libllvm12 libpciaccess0 libsensors-config libsensors5 libvulkan1 libxaw7\n",
            "  libxcb-dri2-0 libxcb-dri3-0 libxcb-glx0 libxcb-present0 libxcb-randr0\n",
            "  libxcb-sync1 libxcb-xfixes0 libxfont2 libxkbfile1 libxmu6 libxmuu1 libxpm4\n",
            "  libxshmfence1 libxxf86vm1 mesa-vulkan-drivers x11-xkb-utils xauth\n",
            "  xfonts-base xfonts-encodings xfonts-utils xserver-common\n",
            "Suggested packages:\n",
            "  pciutils lm-sensors\n",
            "The following NEW packages will be installed:\n",
            "  libdrm-amdgpu1 libdrm-intel1 libdrm-nouveau2 libdrm-radeon1 libfontenc1\n",
            "  libgl1 libgl1-mesa-dri libglapi-mesa libglvnd0 libglx-mesa0 libglx0\n",
            "  libllvm12 libpciaccess0 libsensors-config libsensors5 libvulkan1 libxaw7\n",
            "  libxcb-dri2-0 libxcb-dri3-0 libxcb-glx0 libxcb-present0 libxcb-randr0\n",
            "  libxcb-sync1 libxcb-xfixes0 libxfont2 libxkbfile1 libxmu6 libxmuu1 libxpm4\n",
            "  libxshmfence1 libxxf86vm1 mesa-vulkan-drivers x11-xkb-utils xauth\n",
            "  xfonts-base xfonts-encodings xfonts-utils xserver-common xvfb\n",
            "0 upgraded, 39 newly installed, 0 to remove and 28 not upgraded.\n",
            "Need to get 44.2 MB of archives.\n",
            "After this operation, 537 MB of additional disk space will be used.\n",
            "Get:1 http://archive.ubuntu.com/ubuntu focal/main amd64 libxmuu1 amd64 2:1.1.3-0ubuntu1 [9728 B]\n",
            "Get:2 http://archive.ubuntu.com/ubuntu focal/main amd64 xauth amd64 1:1.1-0ubuntu1 [25.0 kB]\n",
            "Get:3 http://archive.ubuntu.com/ubuntu focal-updates/main amd64 libdrm-amdgpu1 amd64 2.4.107-8ubuntu1~20.04.2 [18.6 kB]\n",
            "Get:4 http://archive.ubuntu.com/ubuntu focal/main amd64 libpciaccess0 amd64 0.16-0ubuntu1 [17.9 kB]\n",
            "Get:5 http://archive.ubuntu.com/ubuntu focal-updates/main amd64 libdrm-intel1 amd64 2.4.107-8ubuntu1~20.04.2 [60.3 kB]\n",
            "Get:6 http://archive.ubuntu.com/ubuntu focal-updates/main amd64 libdrm-nouveau2 amd64 2.4.107-8ubuntu1~20.04.2 [16.6 kB]\n",
            "Get:7 http://archive.ubuntu.com/ubuntu focal-updates/main amd64 libdrm-radeon1 amd64 2.4.107-8ubuntu1~20.04.2 [19.7 kB]\n",
            "Get:8 http://archive.ubuntu.com/ubuntu focal/main amd64 libfontenc1 amd64 1:1.1.4-0ubuntu1 [14.0 kB]\n",
            "Get:9 http://archive.ubuntu.com/ubuntu focal-updates/main amd64 libglapi-mesa amd64 21.2.6-0ubuntu0.1~20.04.2 [27.4 kB]\n",
            "Get:10 http://archive.ubuntu.com/ubuntu focal-updates/main amd64 libllvm12 amd64 1:12.0.0-3ubuntu1~20.04.5 [18.8 MB]\n",
            "Get:11 http://archive.ubuntu.com/ubuntu focal-updates/main amd64 libsensors-config all 1:3.6.0-2ubuntu1.1 [6052 B]\n",
            "Get:12 http://archive.ubuntu.com/ubuntu focal-updates/main amd64 libsensors5 amd64 1:3.6.0-2ubuntu1.1 [27.2 kB]\n",
            "Get:13 http://archive.ubuntu.com/ubuntu focal/main amd64 libvulkan1 amd64 1.2.131.2-1 [93.3 kB]\n",
            "Get:14 http://archive.ubuntu.com/ubuntu focal-updates/main amd64 libgl1-mesa-dri amd64 21.2.6-0ubuntu0.1~20.04.2 [11.0 MB]\n",
            "Get:15 http://archive.ubuntu.com/ubuntu focal/main amd64 libxcb-dri2-0 amd64 1.14-2 [6920 B]\n",
            "Get:16 http://archive.ubuntu.com/ubuntu focal/main amd64 libxcb-dri3-0 amd64 1.14-2 [6552 B]\n",
            "Get:17 http://archive.ubuntu.com/ubuntu focal/main amd64 libxcb-glx0 amd64 1.14-2 [22.1 kB]\n",
            "Get:18 http://archive.ubuntu.com/ubuntu focal/main amd64 libxcb-present0 amd64 1.14-2 [5560 B]\n",
            "Get:19 http://archive.ubuntu.com/ubuntu focal/main amd64 libxcb-sync1 amd64 1.14-2 [8884 B]\n",
            "Get:20 http://archive.ubuntu.com/ubuntu focal/main amd64 libxcb-xfixes0 amd64 1.14-2 [9296 B]\n",
            "Get:21 http://archive.ubuntu.com/ubuntu focal/main amd64 libxshmfence1 amd64 1.3-1 [5028 B]\n",
            "Get:22 http://archive.ubuntu.com/ubuntu focal/main amd64 libxxf86vm1 amd64 1:1.1.4-1build1 [10.2 kB]\n",
            "Get:23 http://archive.ubuntu.com/ubuntu focal-updates/main amd64 libglx-mesa0 amd64 21.2.6-0ubuntu0.1~20.04.2 [137 kB]\n",
            "Get:24 http://archive.ubuntu.com/ubuntu focal/main amd64 libxmu6 amd64 2:1.1.3-0ubuntu1 [45.8 kB]\n",
            "Get:25 http://archive.ubuntu.com/ubuntu focal-updates/main amd64 libxpm4 amd64 1:3.5.12-1ubuntu0.20.04.2 [34.9 kB]\n",
            "Get:26 http://archive.ubuntu.com/ubuntu focal/main amd64 libxaw7 amd64 2:1.0.13-1 [173 kB]\n",
            "Get:27 http://archive.ubuntu.com/ubuntu focal/main amd64 libxcb-randr0 amd64 1.14-2 [16.3 kB]\n",
            "Get:28 http://archive.ubuntu.com/ubuntu focal/main amd64 libxfont2 amd64 1:2.0.3-1 [91.7 kB]\n",
            "Get:29 http://archive.ubuntu.com/ubuntu focal/main amd64 libxkbfile1 amd64 1:1.1.0-1 [65.3 kB]\n",
            "Get:30 http://archive.ubuntu.com/ubuntu focal-updates/main amd64 mesa-vulkan-drivers amd64 21.2.6-0ubuntu0.1~20.04.2 [5788 kB]\n",
            "Get:31 http://archive.ubuntu.com/ubuntu focal/main amd64 x11-xkb-utils amd64 7.7+5 [158 kB]\n",
            "Get:32 http://archive.ubuntu.com/ubuntu focal/main amd64 xfonts-encodings all 1:1.0.5-0ubuntu1 [573 kB]\n",
            "Get:33 http://archive.ubuntu.com/ubuntu focal/main amd64 xfonts-utils amd64 1:7.7+6 [91.5 kB]\n",
            "Get:34 http://archive.ubuntu.com/ubuntu focal/main amd64 xfonts-base all 1:1.0.5 [5896 kB]\n",
            "Get:35 http://archive.ubuntu.com/ubuntu focal-updates/main amd64 xserver-common all 2:1.20.13-1ubuntu1~20.04.17 [27.8 kB]\n",
            "Get:36 http://archive.ubuntu.com/ubuntu focal-updates/main amd64 libglvnd0 amd64 1.3.2-1~ubuntu0.20.04.2 [48.1 kB]\n",
            "Get:37 http://archive.ubuntu.com/ubuntu focal-updates/main amd64 libglx0 amd64 1.3.2-1~ubuntu0.20.04.2 [32.5 kB]\n",
            "Get:38 http://archive.ubuntu.com/ubuntu focal-updates/main amd64 libgl1 amd64 1.3.2-1~ubuntu0.20.04.2 [85.8 kB]\n",
            "Get:39 http://archive.ubuntu.com/ubuntu focal-updates/universe amd64 xvfb amd64 2:1.20.13-1ubuntu1~20.04.17 [781 kB]\n",
            "Fetched 44.2 MB in 2s (26.0 MB/s)\n",
            "Extracting templates from packages: 100%\n",
            "Selecting previously unselected package libxmuu1:amd64.\n",
            "(Reading database ... 69958 files and directories currently installed.)\n",
            "Preparing to unpack .../00-libxmuu1_2%3a1.1.3-0ubuntu1_amd64.deb ...\n",
            "Unpacking libxmuu1:amd64 (2:1.1.3-0ubuntu1) ...\n",
            "Selecting previously unselected package xauth.\n",
            "Preparing to unpack .../01-xauth_1%3a1.1-0ubuntu1_amd64.deb ...\n",
            "Unpacking xauth (1:1.1-0ubuntu1) ...\n",
            "Selecting previously unselected package libdrm-amdgpu1:amd64.\n",
            "Preparing to unpack .../02-libdrm-amdgpu1_2.4.107-8ubuntu1~20.04.2_amd64.deb ...\n",
            "Unpacking libdrm-amdgpu1:amd64 (2.4.107-8ubuntu1~20.04.2) ...\n",
            "Selecting previously unselected package libpciaccess0:amd64.\n",
            "Preparing to unpack .../03-libpciaccess0_0.16-0ubuntu1_amd64.deb ...\n",
            "Unpacking libpciaccess0:amd64 (0.16-0ubuntu1) ...\n",
            "Selecting previously unselected package libdrm-intel1:amd64.\n",
            "Preparing to unpack .../04-libdrm-intel1_2.4.107-8ubuntu1~20.04.2_amd64.deb ...\n",
            "Unpacking libdrm-intel1:amd64 (2.4.107-8ubuntu1~20.04.2) ...\n",
            "Selecting previously unselected package libdrm-nouveau2:amd64.\n",
            "Preparing to unpack .../05-libdrm-nouveau2_2.4.107-8ubuntu1~20.04.2_amd64.deb ...\n",
            "Unpacking libdrm-nouveau2:amd64 (2.4.107-8ubuntu1~20.04.2) ...\n",
            "Selecting previously unselected package libdrm-radeon1:amd64.\n",
            "Preparing to unpack .../06-libdrm-radeon1_2.4.107-8ubuntu1~20.04.2_amd64.deb ...\n",
            "Unpacking libdrm-radeon1:amd64 (2.4.107-8ubuntu1~20.04.2) ...\n",
            "Selecting previously unselected package libfontenc1:amd64.\n",
            "Preparing to unpack .../07-libfontenc1_1%3a1.1.4-0ubuntu1_amd64.deb ...\n",
            "Unpacking libfontenc1:amd64 (1:1.1.4-0ubuntu1) ...\n",
            "Selecting previously unselected package libglapi-mesa:amd64.\n",
            "Preparing to unpack .../08-libglapi-mesa_21.2.6-0ubuntu0.1~20.04.2_amd64.deb ...\n",
            "Unpacking libglapi-mesa:amd64 (21.2.6-0ubuntu0.1~20.04.2) ...\n",
            "Selecting previously unselected package libllvm12:amd64.\n",
            "Preparing to unpack .../09-libllvm12_1%3a12.0.0-3ubuntu1~20.04.5_amd64.deb ...\n",
            "Unpacking libllvm12:amd64 (1:12.0.0-3ubuntu1~20.04.5) ...\n",
            "Selecting previously unselected package libsensors-config.\n",
            "Preparing to unpack .../10-libsensors-config_1%3a3.6.0-2ubuntu1.1_all.deb ...\n",
            "Unpacking libsensors-config (1:3.6.0-2ubuntu1.1) ...\n",
            "Selecting previously unselected package libsensors5:amd64.\n",
            "Preparing to unpack .../11-libsensors5_1%3a3.6.0-2ubuntu1.1_amd64.deb ...\n",
            "Unpacking libsensors5:amd64 (1:3.6.0-2ubuntu1.1) ...\n",
            "Selecting previously unselected package libvulkan1:amd64.\n",
            "Preparing to unpack .../12-libvulkan1_1.2.131.2-1_amd64.deb ...\n",
            "Unpacking libvulkan1:amd64 (1.2.131.2-1) ...\n",
            "Selecting previously unselected package libgl1-mesa-dri:amd64.\n",
            "Preparing to unpack .../13-libgl1-mesa-dri_21.2.6-0ubuntu0.1~20.04.2_amd64.deb ...\n",
            "Unpacking libgl1-mesa-dri:amd64 (21.2.6-0ubuntu0.1~20.04.2) ...\n",
            "Selecting previously unselected package libxcb-dri2-0:amd64.\n",
            "Preparing to unpack .../14-libxcb-dri2-0_1.14-2_amd64.deb ...\n",
            "Unpacking libxcb-dri2-0:amd64 (1.14-2) ...\n",
            "Selecting previously unselected package libxcb-dri3-0:amd64.\n",
            "Preparing to unpack .../15-libxcb-dri3-0_1.14-2_amd64.deb ...\n",
            "Unpacking libxcb-dri3-0:amd64 (1.14-2) ...\n",
            "Selecting previously unselected package libxcb-glx0:amd64.\n",
            "Preparing to unpack .../16-libxcb-glx0_1.14-2_amd64.deb ...\n",
            "Unpacking libxcb-glx0:amd64 (1.14-2) ...\n",
            "Selecting previously unselected package libxcb-present0:amd64.\n",
            "Preparing to unpack .../17-libxcb-present0_1.14-2_amd64.deb ...\n",
            "Unpacking libxcb-present0:amd64 (1.14-2) ...\n",
            "Selecting previously unselected package libxcb-sync1:amd64.\n",
            "Preparing to unpack .../18-libxcb-sync1_1.14-2_amd64.deb ...\n",
            "Unpacking libxcb-sync1:amd64 (1.14-2) ...\n",
            "Selecting previously unselected package libxcb-xfixes0:amd64.\n",
            "Preparing to unpack .../19-libxcb-xfixes0_1.14-2_amd64.deb ...\n",
            "Unpacking libxcb-xfixes0:amd64 (1.14-2) ...\n",
            "Selecting previously unselected package libxshmfence1:amd64.\n",
            "Preparing to unpack .../20-libxshmfence1_1.3-1_amd64.deb ...\n",
            "Unpacking libxshmfence1:amd64 (1.3-1) ...\n",
            "Selecting previously unselected package libxxf86vm1:amd64.\n",
            "Preparing to unpack .../21-libxxf86vm1_1%3a1.1.4-1build1_amd64.deb ...\n",
            "Unpacking libxxf86vm1:amd64 (1:1.1.4-1build1) ...\n",
            "Selecting previously unselected package libglx-mesa0:amd64.\n",
            "Preparing to unpack .../22-libglx-mesa0_21.2.6-0ubuntu0.1~20.04.2_amd64.deb ...\n",
            "Unpacking libglx-mesa0:amd64 (21.2.6-0ubuntu0.1~20.04.2) ...\n",
            "Selecting previously unselected package libxmu6:amd64.\n",
            "Preparing to unpack .../23-libxmu6_2%3a1.1.3-0ubuntu1_amd64.deb ...\n",
            "Unpacking libxmu6:amd64 (2:1.1.3-0ubuntu1) ...\n",
            "Selecting previously unselected package libxpm4:amd64.\n",
            "Preparing to unpack .../24-libxpm4_1%3a3.5.12-1ubuntu0.20.04.2_amd64.deb ...\n",
            "Unpacking libxpm4:amd64 (1:3.5.12-1ubuntu0.20.04.2) ...\n",
            "Selecting previously unselected package libxaw7:amd64.\n",
            "Preparing to unpack .../25-libxaw7_2%3a1.0.13-1_amd64.deb ...\n",
            "Unpacking libxaw7:amd64 (2:1.0.13-1) ...\n",
            "Selecting previously unselected package libxcb-randr0:amd64.\n",
            "Preparing to unpack .../26-libxcb-randr0_1.14-2_amd64.deb ...\n",
            "Unpacking libxcb-randr0:amd64 (1.14-2) ...\n",
            "Selecting previously unselected package libxfont2:amd64.\n",
            "Preparing to unpack .../27-libxfont2_1%3a2.0.3-1_amd64.deb ...\n",
            "Unpacking libxfont2:amd64 (1:2.0.3-1) ...\n",
            "Selecting previously unselected package libxkbfile1:amd64.\n",
            "Preparing to unpack .../28-libxkbfile1_1%3a1.1.0-1_amd64.deb ...\n",
            "Unpacking libxkbfile1:amd64 (1:1.1.0-1) ...\n",
            "Selecting previously unselected package mesa-vulkan-drivers:amd64.\n",
            "Preparing to unpack .../29-mesa-vulkan-drivers_21.2.6-0ubuntu0.1~20.04.2_amd64.deb ...\n",
            "Unpacking mesa-vulkan-drivers:amd64 (21.2.6-0ubuntu0.1~20.04.2) ...\n",
            "Selecting previously unselected package x11-xkb-utils.\n",
            "Preparing to unpack .../30-x11-xkb-utils_7.7+5_amd64.deb ...\n",
            "Unpacking x11-xkb-utils (7.7+5) ...\n",
            "Selecting previously unselected package xfonts-encodings.\n",
            "Preparing to unpack .../31-xfonts-encodings_1%3a1.0.5-0ubuntu1_all.deb ...\n",
            "Unpacking xfonts-encodings (1:1.0.5-0ubuntu1) ...\n",
            "Selecting previously unselected package xfonts-utils.\n",
            "Preparing to unpack .../32-xfonts-utils_1%3a7.7+6_amd64.deb ...\n",
            "Unpacking xfonts-utils (1:7.7+6) ...\n",
            "Selecting previously unselected package xfonts-base.\n",
            "Preparing to unpack .../33-xfonts-base_1%3a1.0.5_all.deb ...\n",
            "Unpacking xfonts-base (1:1.0.5) ...\n",
            "Selecting previously unselected package xserver-common.\n",
            "Preparing to unpack .../34-xserver-common_2%3a1.20.13-1ubuntu1~20.04.17_all.deb ...\n",
            "Unpacking xserver-common (2:1.20.13-1ubuntu1~20.04.17) ...\n",
            "Selecting previously unselected package libglvnd0:amd64.\n",
            "Preparing to unpack .../35-libglvnd0_1.3.2-1~ubuntu0.20.04.2_amd64.deb ...\n",
            "Unpacking libglvnd0:amd64 (1.3.2-1~ubuntu0.20.04.2) ...\n",
            "Selecting previously unselected package libglx0:amd64.\n",
            "Preparing to unpack .../36-libglx0_1.3.2-1~ubuntu0.20.04.2_amd64.deb ...\n",
            "Unpacking libglx0:amd64 (1.3.2-1~ubuntu0.20.04.2) ...\n",
            "Selecting previously unselected package libgl1:amd64.\n",
            "Preparing to unpack .../37-libgl1_1.3.2-1~ubuntu0.20.04.2_amd64.deb ...\n",
            "Unpacking libgl1:amd64 (1.3.2-1~ubuntu0.20.04.2) ...\n",
            "Selecting previously unselected package xvfb.\n",
            "Preparing to unpack .../38-xvfb_2%3a1.20.13-1ubuntu1~20.04.17_amd64.deb ...\n",
            "Unpacking xvfb (2:1.20.13-1ubuntu1~20.04.17) ...\n",
            "Setting up libxcb-dri3-0:amd64 (1.14-2) ...\n",
            "Setting up libpciaccess0:amd64 (0.16-0ubuntu1) ...\n",
            "Setting up libxmu6:amd64 (2:1.1.3-0ubuntu1) ...\n",
            "Setting up libdrm-nouveau2:amd64 (2.4.107-8ubuntu1~20.04.2) ...\n",
            "Setting up libxcb-xfixes0:amd64 (1.14-2) ...\n",
            "Setting up libxpm4:amd64 (1:3.5.12-1ubuntu0.20.04.2) ...\n",
            "Setting up libdrm-radeon1:amd64 (2.4.107-8ubuntu1~20.04.2) ...\n",
            "Setting up libglvnd0:amd64 (1.3.2-1~ubuntu0.20.04.2) ...\n",
            "Setting up libxcb-glx0:amd64 (1.14-2) ...\n",
            "Setting up libdrm-intel1:amd64 (2.4.107-8ubuntu1~20.04.2) ...\n",
            "Setting up libsensors-config (1:3.6.0-2ubuntu1.1) ...\n",
            "Setting up libxaw7:amd64 (2:1.0.13-1) ...\n",
            "Setting up libxxf86vm1:amd64 (1:1.1.4-1build1) ...\n",
            "Setting up libxcb-present0:amd64 (1.14-2) ...\n",
            "Setting up libfontenc1:amd64 (1:1.1.4-0ubuntu1) ...\n",
            "Setting up libxcb-sync1:amd64 (1.14-2) ...\n",
            "Setting up libllvm12:amd64 (1:12.0.0-3ubuntu1~20.04.5) ...\n",
            "Setting up xfonts-encodings (1:1.0.5-0ubuntu1) ...\n",
            "Setting up libsensors5:amd64 (1:3.6.0-2ubuntu1.1) ...\n",
            "Setting up libglapi-mesa:amd64 (21.2.6-0ubuntu0.1~20.04.2) ...\n",
            "Setting up libvulkan1:amd64 (1.2.131.2-1) ...\n",
            "Setting up libxcb-dri2-0:amd64 (1.14-2) ...\n",
            "Setting up libxshmfence1:amd64 (1.3-1) ...\n",
            "Setting up libxcb-randr0:amd64 (1.14-2) ...\n",
            "Setting up libxkbfile1:amd64 (1:1.1.0-1) ...\n",
            "Setting up libxfont2:amd64 (1:2.0.3-1) ...\n",
            "Setting up libxmuu1:amd64 (2:1.1.3-0ubuntu1) ...\n",
            "Setting up libdrm-amdgpu1:amd64 (2.4.107-8ubuntu1~20.04.2) ...\n",
            "Setting up mesa-vulkan-drivers:amd64 (21.2.6-0ubuntu0.1~20.04.2) ...\n",
            "Setting up x11-xkb-utils (7.7+5) ...\n",
            "Setting up libgl1-mesa-dri:amd64 (21.2.6-0ubuntu0.1~20.04.2) ...\n",
            "Setting up xfonts-utils (1:7.7+6) ...\n",
            "Setting up xfonts-base (1:1.0.5) ...\n",
            "Setting up xauth (1:1.1-0ubuntu1) ...\n",
            "Setting up xserver-common (2:1.20.13-1ubuntu1~20.04.17) ...\n",
            "Setting up libglx-mesa0:amd64 (21.2.6-0ubuntu0.1~20.04.2) ...\n",
            "Setting up libglx0:amd64 (1.3.2-1~ubuntu0.20.04.2) ...\n",
            "Setting up libgl1:amd64 (1.3.2-1~ubuntu0.20.04.2) ...\n",
            "Setting up xvfb (2:1.20.13-1ubuntu1~20.04.17) ...\n",
            "Processing triggers for man-db (2.9.1-1) ...\n",
            "Processing triggers for fontconfig (2.13.1-2ubuntu3) ...\n",
            "Processing triggers for libc-bin (2.31-0ubuntu9.15) ...\n"
          ]
        }
      ],
      "source": [
        "# Update the Package Index\n",
        "!sudo apt update --quiet\n",
        "\n",
        "# Install xvfb\n",
        "!sudo apt-get install -y xvfb --quiet"
      ]
    },
    {
      "cell_type": "code",
      "execution_count": 2,
      "metadata": {
        "id": "LzeSyt4-OPR_"
      },
      "outputs": [],
      "source": [
        "# gymnasium imports\n",
        "import gymnasium as gym\n",
        "from gymnasium.wrappers.record_video import RecordVideo\n",
        "\n",
        "# video imports\n",
        "import glob\n",
        "import uuid\n",
        "import io\n",
        "import base64\n",
        "from IPython.display import HTML\n",
        "# from IPython import display as ipythondisplay\n",
        "\n",
        "# ml imports\n",
        "import torch\n",
        "import torch.nn as nn\n",
        "import torch.optim as optim\n",
        "import torch.nn.functional as F\n",
        "\n",
        "# plot imports\n",
        "import matplotlib\n",
        "import matplotlib.pyplot as plt\n",
        "import snntorch.spikeplot as splt\n",
        "\n",
        "# set up matplotlib\n",
        "is_ipython = 'inline' in matplotlib.get_backend()\n",
        "if is_ipython:\n",
        "    from IPython import display as ipythondisplay\n",
        "\n",
        "\n",
        "# utility imports\n",
        "import os\n",
        "import math\n",
        "import random\n",
        "import shutil\n",
        "import random\n",
        "from itertools import count\n",
        "from collections import namedtuple, deque\n",
        "\n",
        "# if GPU is to be used\n",
        "device = torch.device(\"cuda\" if torch.cuda.is_available() else \"cpu\")"
      ]
    },
    {
      "cell_type": "markdown",
      "metadata": {},
      "source": [
        "The first time you install these packages you have to restart the kernel to ensure they work correctly. Run the following `kill()` function kill the kernel and then manually restart it. Afterwards, feel free to comment it out on subsequent runs."
      ]
    },
    {
      "cell_type": "code",
      "execution_count": 3,
      "metadata": {},
      "outputs": [],
      "source": [
        "# os.kill(os.getpid(), 9)"
      ]
    },
    {
      "cell_type": "markdown",
      "metadata": {},
      "source": [
        "## 1. What is Reinforcement Learning?"
      ]
    },
    {
      "cell_type": "markdown",
      "metadata": {},
      "source": [
        "<img src=\"images/RL_process.jpg\" width=\"800\" height=\"500\">\n",
        "\n",
        "Along with Supervised Learning and Unsupervised Learning, Reinforcement Learning is one of the 3 basic machine learning paradigms. The idea behind Reinforcement Learning is that an agent (an AI) will learn from the environment by interacting with it (through trial and error) and receiving rewards (negative or positive) as feedback for performing actions.\n",
        "\n",
        "You can think of it like playing a video game where you get points for collecting coins and you lose points for getting hit by enemies. This \"trains\" you to collect coins, while avoiding enemies. Of course, games get a lot more complicated than that which is why one of the main challenges of RL is figuring out how to reward or punish the agent. That is to say, we use the [carrot and the stick](https://en.wikipedia.org/wiki/Carrot_and_stick).\n",
        "\n",
        "The diagram describing how a RL agent interacts with a environment can be interpretated as such:\n",
        "\n",
        "1. The Agent/Model/AI receives a **state $S_t$** (the info the agent receieves from the environment at time t)\n",
        "2. Based on that **state** $S_t$ the agent takes an *action* $A_t$\n",
        "3. The environment goes to a new **state** $S_{t+1}$\n",
        "4. The environment gives some **reward** $R_{t+1}$ to the agent\n",
        "5. repeat\n"
      ]
    },
    {
      "cell_type": "markdown",
      "metadata": {},
      "source": [
        "### 1.1 Defining Cumulative Reward\n",
        "\n",
        "The reward is fundamental in RL because it’s the only feedback for the agent. Thanks to it, our agent knows if the action taken was good or not.\n",
        "\n",
        "Where\n",
        "* $R()$: `Return` is the cumulative reward function\n",
        "* $\\tau$: `Trajectory` represented by *tau* is a sequence of `states` and `actions`\n",
        "* $\\gamma$: `Discount Rate` represented by *gamma* between 0-1\n",
        "* $r_t$: `reward` at time step t\n",
        "\n",
        "The cumulative reward is represented by the function\n",
        "\n",
        "$R(\\tau) = r_{t+1} + \\gamma r_{t+2} + \\gamma^2 r_{t+3} + \\gamma^3 r_{t+4} + ...$\n",
        "\n",
        "or \n",
        "\n",
        "$R(\\tau) = \\sum_{k=0}^{\\infty} \\gamma^k r_{t+k+1}$\n",
        "\n",
        "An important insight here is that $\\gamma$ is exponentiated, this means a smaller $\\gamma$ causes a bigger `discount` and rewards at farther timesteps are `discounted` more. So, the smaller the $\\gamma$ the less the agent cares more about closer/short-term rewards, and the bigger $\\gamma$ the more the agent cares about farther/long-term rewards."
      ]
    },
    {
      "cell_type": "markdown",
      "metadata": {},
      "source": [
        "### 1.2 Defining Policy\n",
        "\n",
        "You can think of `policy`, $\\pi$, as the mind of the agent\n",
        "\n",
        "This `policy` is the function we want to learn, our goal is to find the `optimal policy` $\\pi^*$, the policy that maximizes expected return when the agent acts according to it. We find this $\\pi^*$ through training. \n",
        "\n",
        "Note: $\\pi^*$ is pronounced \"pie-star\" and in algorithms \"*\" (star) often denotes optimality\n",
        "\n",
        "There are two types of policies:\n",
        "\n",
        "1. Deterministic: a policy at a given state will always return the same action.\n",
        "    * $\\pi(s) = a$\n",
        "2. Stochastic: outputs a probability distribution over actions.\n",
        "    * $\\pi(a|s) = P[A|s]$\n",
        "        * $|$ means given\n",
        "        * $P[]$ means probability distribution\n",
        "        * $P[A|s]$ means a probability distribution over a set of actions given a state\n",
        "\n",
        "There are two approaches to **train** our agent to find this optimal policy π*:\n",
        "\n",
        "1. Directly, by teaching the agent to learn which action to take, given the current state: **Policy-Based Methods**.\n",
        "2. Indirectly, teach the agent to learn which state is more valuable and then take the action that leads to the more valuable states: **Value-Based Methods**.\n",
        "\n"
      ]
    },
    {
      "cell_type": "markdown",
      "metadata": {},
      "source": [
        "## 2. Creating an Environment\n",
        "\n",
        "Now that you understand what a Reinforcement Learning agent is and does. Lets create an environment for our prospective RL agent to interact with.\n",
        "\n",
        "To do that we will be using the environment library [Gymnasium](https://gymnasium.farama.org/) which was developed by OpenAI and handed off to the Farama Foundation to maintain and update."
      ]
    },
    {
      "cell_type": "markdown",
      "metadata": {},
      "source": [
        "*GitHub codespaces doesn't have an inbuilt display, create a virtual display instead.*"
      ]
    },
    {
      "cell_type": "code",
      "execution_count": 4,
      "metadata": {
        "colab": {
          "base_uri": "https://localhost:8080/"
        },
        "id": "ruR-EszrTfDX",
        "outputId": "793fb07e-1331-419d-ed03-6cf07f2254c0"
      },
      "outputs": [
        {
          "data": {
            "text/plain": [
              "<pyvirtualdisplay.display.Display at 0x7a518edd1390>"
            ]
          },
          "execution_count": 4,
          "metadata": {},
          "output_type": "execute_result"
        }
      ],
      "source": [
        "# install a virtual display\n",
        "from pyvirtualdisplay import Display\n",
        "display = Display(visible=0, size=(1400, 900))\n",
        "display.start()"
      ]
    },
    {
      "cell_type": "markdown",
      "metadata": {},
      "source": [
        "The first virtual environment you will be using is the `'CartPole-v1'` environment. This is a virtual version of the real life Cart Pole/Inverted Pendulum task, here is a short fun [video](https://youtu.be/nOSTzpA0nGk?si=mFYYwhLhTb5hcrpB) for you to see."
      ]
    },
    {
      "cell_type": "markdown",
      "metadata": {},
      "source": [
        "### 2.1 Understanding Gymnasium\n",
        "Remember that at each step:\n",
        "- Our Agent receives a **state ($S_0$)** from the **Environment** — i.e. we receive the first frame of our game (Environment).\n",
        "- Based on that **state ($S_0$),** the Agent takes an **action ($A_0$)** — i.e. our Agent will move to the right.\n",
        "- The environment transitions to a **new** **state ($S_1$)** — i.e. new frame.\n",
        "- The environment gives some **reward ($R_1$)** to the Agent — i.e. we’re not dead *(Positive Reward +1)*.\n",
        "\n",
        "\n",
        "With Gymnasium:\n",
        "\n",
        "1. We create our environment using `gymnasium.make()`\n",
        "2. We reset the environment to its initial state with `observation = env.reset()`\n",
        "\n",
        "At each step:\n",
        "\n",
        "3. Get an action using our model (in our example we take a random action)\n",
        "4. Using `env.step(action)`, we perform this action in the environment and get\n",
        "    - `observation`: The new state ($s_{t+1}$)\n",
        "    - `reward`: The reward we get after executing the action\n",
        "    - `terminated`: Indicates if the episode terminated (agent reach the terminal state)\n",
        "    - `truncated`: Introduced with this new version, it indicates a timelimit or if an agent go out of bounds of the environment for instance.\n",
        "    - `info`: A dictionary that provides additional information (depends on the environment).\n",
        "\n",
        "For more explanations check this -> https://gymnasium.farama.org/api/env/#gymnasium.Env.step\n",
        "\n",
        "If the episode is terminated:\n",
        "- We reset the environment to its initial state with `observation = env.reset()`\n",
        "\n",
        "#### 2.2 Task Types\n",
        "There are two types of task: `Episodic Tasks` and `Continuous Tasks`\n",
        "\n",
        "1. Episodic Task\n",
        "    - In this case, we have a starting point and an ending point (a terminal state). This creates an episode: a list of States, Actions, Rewards, and new States.\n",
        "2. Continuous task\n",
        "    - These are tasks that continue forever (no terminal state). In this case, the agent must learn how to choose the best actions and simultaneously interact with the environment.\n",
        "    - For instance, an agent that does automated stock trading. For this task, there is no starting point and terminal state. The agent keeps running until we decide to stop it.\n"
      ]
    },
    {
      "cell_type": "markdown",
      "metadata": {},
      "source": [
        "## Question 1  &emsp; <span style=\"color:green\">(1 Point)</span>\n",
        "\n",
        "In gymnasium the environments are set up as episodic tasks. A good practice is to look at documentation before using an environment to know its properties. If `'CartPole-v1'` is episodic, that means it must have termination conditions. List `'CartPole-v1'`'s termination conditions below.\n",
        "\n",
        "Link to documentation -> https://gymnasium.farama.org/environments/classic_control/cart_pole/ "
      ]
    },
    {
      "cell_type": "markdown",
      "metadata": {},
      "source": [
        "<span style=\"color:green\">Answer</span>\n",
        "\n",
        "<span style=\"color:red\">\n",
        "\n",
        "1. Termination: Pole Angle is greater than ±12°\n",
        "\n",
        "2. Termination: Cart Position is greater than ±2.4 (center of the cart reaches the edge of the display)\n",
        "\n",
        "3. Truncation: Episode length is greater than 500 (200 for v0)\n",
        "\n",
        "</span>"
      ]
    },
    {
      "cell_type": "markdown",
      "metadata": {},
      "source": [
        "#### 2.3 Default Properties of Gymnasium's Cart Pole environment \n",
        "\n",
        "##### **Action Space (The set of possible actions of the model)**\n",
        "\n",
        "The action is a ndarray with shape (1,) which can take values {0, 1} indicating the direction of the fixed force the cart is pushed with.\n",
        "\n",
        "0: Push cart to the left\n",
        "\n",
        "1: Push cart to the right\n",
        "\n",
        "Note: The velocity that is reduced or increased by the applied force is not fixed and it depends on the angle the pole is pointing. The center of gravity of the pole varies the amount of energy needed to move the cart underneath it\n",
        "\n",
        "##### **Observation Space (The subset of the state the actor observes)**\n",
        "\n",
        "The observation is a ndarray with shape (4,) with the values corresponding to the following positions and velocities:\n",
        "\n",
        "<img src=\"images/observation_space.png\" width=\"700\" height=\"200\">\n",
        "\n",
        "##### **Rewards**\n",
        "\n",
        "Since the goal is to keep the pole upright for as long as possible, a reward of +1 for every step taken, including the termination step, is allotted. The threshold for rewards is 500 for v1 and 200 for v0.\n"
      ]
    },
    {
      "cell_type": "code",
      "execution_count": 5,
      "metadata": {},
      "outputs": [
        {
          "name": "stdout",
          "output_type": "stream",
          "text": [
            "_____OBSERVATION SPACE_____ \n",
            "\n",
            "Observation Space Shape (4,)\n",
            "Sample observation [ 4.1045613e+00  2.3351355e+38 -3.1106442e-01 -2.9956711e+38]\n",
            "\n",
            " _____ACTION SPACE_____ \n",
            "\n",
            "Action Space Shape 2\n",
            "Action Space Sample 1\n"
          ]
        }
      ],
      "source": [
        "# How to access the above values\n",
        "env = gym.make(\"CartPole-v1\")\n",
        "env.reset()\n",
        "print(\"_____OBSERVATION SPACE_____ \\n\")\n",
        "print(\"Observation Space Shape\", env.observation_space.shape)\n",
        "print(\"Sample observation\", env.observation_space.sample()) # Get a random observation\n",
        "print(\"\\n _____ACTION SPACE_____ \\n\")\n",
        "print(\"Action Space Shape\", env.action_space.n)\n",
        "print(\"Action Space Sample\", env.action_space.sample()) # Take a random action"
      ]
    },
    {
      "cell_type": "markdown",
      "metadata": {},
      "source": [
        "#### 2.4 Gymnasium Interactive Loop\n",
        "\n",
        "Below is the code for a simple interactive loop where instead of a agent predicting a action we simply sample a random action. Look at what happens to the cartpole when random actions are chosen, and specifically note how long the episode lasts (duration) which the model will be learning to improve."
      ]
    },
    {
      "cell_type": "code",
      "execution_count": 6,
      "metadata": {
        "colab": {
          "base_uri": "https://localhost:8080/"
        },
        "id": "-WqjS0z9Nvbm",
        "outputId": "c7c05a60-fe49-4157-fec5-7c8192196dd4"
      },
      "outputs": [],
      "source": [
        "init_env = gym.make('CartPole-v1', render_mode='rgb_array')\n",
        "\n",
        "folder_name = os.path.join('video', 'CartPole-v1', f'{uuid.uuid4()}')\n",
        "\n",
        "# Use the wrapper environment RecordVideo() to record video\n",
        "env = RecordVideo(init_env, folder_name, disable_logger=True)\n",
        "\n",
        "observation, info = env.reset()\n",
        "\n",
        "for _ in range(1000):\n",
        "    action = env.action_space.sample()\n",
        "    observation, reward, terminated, truncated, info = env.step(action)\n",
        "\n",
        "    if terminated or truncated:\n",
        "        observation, info = env.reset()\n",
        "\n",
        "env.close()"
      ]
    },
    {
      "cell_type": "code",
      "execution_count": 7,
      "metadata": {
        "id": "x1iWqf2NO4g5"
      },
      "outputs": [],
      "source": [
        "def show_video(folder_name, episode='last'):\n",
        "    mp4list = glob.glob(f'{folder_name}/*.mp4')\n",
        "    if len(mp4list) > 0:\n",
        "        sorted_mp4list = sorted(mp4list, key=lambda x: int(x.split('-')[-1].split('.')[0]))\n",
        "        if episode == 'last':\n",
        "            mp4 = sorted_mp4list[-1]\n",
        "        elif episode == 'first':\n",
        "            mp4 = sorted_mp4list[0]\n",
        "        video = io.open(mp4, 'r+b').read()\n",
        "        encoded = base64.b64encode(video)\n",
        "        ipythondisplay.display(HTML(data='''<video alt=\"test\" autoplay\n",
        "                    loop controls style=\"height: 400px;\">\n",
        "                    <source src=\"data:video/mp4;base64,{0}\" type=\"video/mp4\" />\n",
        "                    </video>'''.format(encoded.decode('ascii'))))\n",
        "    else:\n",
        "        print(\"Could not find video\")"
      ]
    },
    {
      "cell_type": "code",
      "execution_count": 8,
      "metadata": {
        "colab": {
          "base_uri": "https://localhost:8080/",
          "height": 421
        },
        "id": "CD7we0ysR4DN",
        "outputId": "65cc1009-7c2b-4e38-989b-b0bcd0580ef6"
      },
      "outputs": [
        {
          "data": {
            "text/html": [
              "<video alt=\"test\" autoplay\n",
              "                    loop controls style=\"height: 400px;\">\n",
              "                    <source src=\"data:video/mp4;base64,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\" type=\"video/mp4\" />\n",
              "                    </video>"
            ],
            "text/plain": [
              "<IPython.core.display.HTML object>"
            ]
          },
          "metadata": {},
          "output_type": "display_data"
        }
      ],
      "source": [
        "show_video(folder_name)"
      ]
    },
    {
      "cell_type": "code",
      "execution_count": 9,
      "metadata": {},
      "outputs": [
        {
          "name": "stdout",
          "output_type": "stream",
          "text": [
            "Directory deleted successfully.\n"
          ]
        }
      ],
      "source": [
        "# Delete the videos\n",
        "\n",
        "# Check if the directory exists\n",
        "if os.path.exists(folder_name):\n",
        "    # Remove the directory\n",
        "    shutil.rmtree(folder_name)\n",
        "    print(\"Directory deleted successfully.\")\n",
        "else:\n",
        "    print(\"Directory does not exist.\")"
      ]
    },
    {
      "cell_type": "markdown",
      "metadata": {
        "id": "ZqZwPeGNW9HI"
      },
      "source": [
        "## 3. Deep Q Networks\n",
        "\n",
        "There are many different types of algorithms/models for RL, which you can do research on in your free time, but today we will be introducing you to Deep Q Networks as we think it strikes a nice balance of being easy to explain, but complicated enough to be interesting.\n",
        "\n",
        "<img src=\"images/deep.jpg\" width=\"700\" height=\"350\">"
      ]
    },
    {
      "cell_type": "markdown",
      "metadata": {},
      "source": [
        "### 3.1 Approximating $\\pi^*$ with a Q-function\n",
        "\n",
        "Q-learning in general are a set of **value based methods** (which we mentioned earlier), meaning instead of training on the policy directly they train to find an optimal value function which leads to having an optimal policy.\n",
        "\n",
        "In this case the value function the model trains on is called the Q-function, an **action-value function** that determines the value of being at a particular state and taking a specific action at that state. The *link between value and policy* is represented in the equation here:\n",
        "\n",
        "$$\\pi^* = \\underset{a}{\\text{argmax}}\\ Q^*(s,a)$$\n",
        "\n",
        "### 3.2 Maths\n",
        "\n",
        "### 3.2.1 Bellman Equation\n",
        "\n",
        "Directly computing the cumulative reward for all future timesteps for a given state can be a computationally competitive task if you are doing it at each action. Which is why instead we use the **Bellman Equation** which is a recursive equation that considers the value of a state as the immediate reward and the discounted value of the state that follows.\n",
        "\n",
        "<img src=\"images/bellman4.jpg\" width=\"700\" height=\"380\">\n",
        "\n",
        "Remember:\n",
        "* $\\gamma$: `Discount Rate` represented by *gamma* between 0-1\n",
        "\n",
        "\n",
        "### 3.2.2 Temporal Difference Learning Approach\n",
        "\n",
        "There are two main types of strategies:\n",
        "* Monte Carlo Approach - Learning after each episode\n",
        "* Temporal Difference Learning Approach - Learning after each step\n",
        "\n",
        "Q-Learning uses a TD approach which includes the Bellman Equation\n",
        "\n",
        "<img src=\"images/TD-1.jpg\" width=\"700\" height=\"400\">\n",
        "\n",
        "### 3.2.3 Epsilon Greedy Algorithm\n",
        "\n",
        "In RL it is importat to have a policy that governs the **exploitation-exploration tradeoff**. That is do we exploit our prior knowledge gained during learning and move according to what we currently have calculated as the best action for a given state or do we explore and select a different action in the hopes of finding a better route/set of actions?\n",
        "\n",
        "We use an **epsilon greedy policy** where $\\epsilon$ represents the probability of exploration (selecting a random action) and $1-\\epsilon$ represents the probability of exploitation. $\\epsilon$ is a number from 1-0.\n",
        "\n",
        "At the beginning as Q gets better and better with progressive training we slowly decrease $\\epsilon$ more and more according to a decay rate. This changes the policy to go from a higher ratio of exploration, to a higher ratio of exploitation.\n",
        "\n",
        "### 3.2.4 Q-Learning\n",
        "\n",
        "Bringing that all together we get the Q-Learning algorithm\n",
        "\n",
        "<img src=\"images/Q-learning-2.jpg\" width=\"700\" height=\"400\">\n",
        "\n",
        "### 3.2.5 Deep Q-Learning (DQN)\n",
        "\n",
        "Deep Q-Learning uses a deep neural network to approximate the different Q-values for each possible action at a state (value-function estimation).\n",
        "\n",
        "The difference is that, during the training phase, instead of updating the Q-value of a state-action pair directly as we have done with Q-Learning, in Deep Q-Learning, we create a loss function that compares our Q-value prediction and the Q-target and uses gradient descent to update the weights of our Deep Q-Network to approximate our Q-values better.\n",
        "\n",
        "<img src=\"images/q-ex-5.jpg\" width=\"700\" height=\"400\">\n",
        "\n",
        "<img src=\"images/Q-target.jpg\" width=\"700\" height=\"400\">\n",
        "\n",
        "* Where $\\delta$ represents temporal difference error, the equation looks like this:\n",
        "\n",
        "$$\\delta = Q(s, a) - (r + \\gamma \\max_{a}' Q(s', a'))$$\n",
        "\n",
        "* To minimize this error we use the [Huber Loss](https://en.wikipedia.org/wiki/Huber_loss). The Huber loss acts like the mean squared error when the error is small, but like the mean absolute error when the error is large.\n",
        "\n",
        "* There is also an additional feature of an **experience replay** which has two functions:\n",
        "    1. Make **more efficient use of the experiences** during the training. Usually, in online reinforcement learning, the agent interacts with the environment, gets experiences (state, action, reward, and next state), learns from them (updates the neural network), and discards them. This is not efficient.\n",
        "\n",
        "    2. Avoid forgetting previous experiences (aka catastrophic interference, or catastrophic forgetting) and reduce the correlation between experiences.\n",
        "        * **catastrophic forgetting**: The problem we get if we give sequential samples of experiences to our neural network is that it tends to forget the previous experiences as it gets new experiences. For instance, if the agent is in the first level and then in the second, which is different, it can forget how to behave and play in the first level.\n",
        "\n",
        "Here is the **pseudocode for training a DQN** to play a game where $x_t$ represents an image/frame of the game at some time step $t$ and $s_t$ represents a sequence/trajectory at time step $t$ (looking at a frame alone doesn't capture temporal information, to remedy this one can stack frames and make a sequence/trajectory that does capture temporal information):\n",
        "\n",
        "<img src=\"images/sampling-training.jpg\" width=\"700\" height=\"400\">\n"
      ]
    },
    {
      "cell_type": "markdown",
      "metadata": {},
      "source": [
        "### 3.3 Train a DQN\n",
        "\n",
        "The following is the code from here: https://pytorch.org/tutorials/intermediate/reinforcement_q_learning.html\n",
        " \n",
        "If you want more detail on the specifics of the code, we encourage you to read through it.\n",
        "\n",
        "Now that you understand the basic overview of a DQN its time to actually train one on the `'CartPole-v1'` Gymnasium environment!"
      ]
    },
    {
      "cell_type": "code",
      "execution_count": 10,
      "metadata": {
        "id": "YiaXSBipW8lw"
      },
      "outputs": [],
      "source": [
        "Transition = namedtuple('Transition',\n",
        "                        ('state', 'action', 'next_state', 'reward'))\n",
        "\n",
        "\n",
        "class ReplayMemory(object):\n",
        "\n",
        "    def __init__(self, capacity):\n",
        "        self.memory = deque([], maxlen=capacity)\n",
        "\n",
        "    def push(self, *args):\n",
        "        \"\"\"Save a transition\"\"\"\n",
        "        self.memory.append(Transition(*args))\n",
        "\n",
        "    def sample(self, batch_size):\n",
        "        return random.sample(self.memory, batch_size)\n",
        "\n",
        "    def __len__(self):\n",
        "        return len(self.memory)"
      ]
    },
    {
      "cell_type": "code",
      "execution_count": 11,
      "metadata": {
        "id": "l6pbi-BwToeQ"
      },
      "outputs": [],
      "source": [
        "class DQN(nn.Module):\n",
        "\n",
        "    def __init__(self, n_observations, n_actions):\n",
        "        super(DQN, self).__init__()\n",
        "        self.layer1 = nn.Linear(n_observations, 128)\n",
        "        self.layer2 = nn.Linear(128, 128)\n",
        "        self.layer3 = nn.Linear(128, n_actions)\n",
        "\n",
        "    # Called with either one element to determine next action, or a batch\n",
        "    # during optimization. Returns tensor([[left0exp,right0exp]...]).\n",
        "    def forward(self, x):\n",
        "        x = F.relu(self.layer1(x))\n",
        "        x = F.relu(self.layer2(x))\n",
        "        return self.layer3(x)"
      ]
    },
    {
      "cell_type": "code",
      "execution_count": 12,
      "metadata": {
        "id": "xTX4-jUBWSJT"
      },
      "outputs": [],
      "source": [
        "# BATCH_SIZE is the number of transitions sampled from the replay buffer\n",
        "# GAMMA is the discount factor as mentioned in the previous section\n",
        "# EPS_START is the starting value of epsilon\n",
        "# EPS_END is the final value of epsilon\n",
        "# EPS_DECAY controls the rate of exponential decay of epsilon, higher means a slower decay\n",
        "# TAU is the update rate of the target network\n",
        "# LR is the learning rate of the ``AdamW`` optimizer\n",
        "BATCH_SIZE = 128\n",
        "GAMMA = 0.99\n",
        "EPS_START = 0.9\n",
        "EPS_END = 0.05\n",
        "EPS_DECAY = 1000\n",
        "TAU = 0.005\n",
        "LR = 1e-4\n",
        "\n",
        "# Get number of actions from gym action space\n",
        "n_actions = env.action_space.n\n",
        "# Get the number of state observations\n",
        "state, info = env.reset()\n",
        "n_observations = len(state)\n",
        "\n",
        "policy_net = DQN(n_observations, n_actions).to(device)\n",
        "target_net = DQN(n_observations, n_actions).to(device)\n",
        "target_net.load_state_dict(policy_net.state_dict())\n",
        "\n",
        "optimizer = optim.AdamW(policy_net.parameters(), lr=LR, amsgrad=True)\n",
        "memory = ReplayMemory(10000)\n",
        "\n",
        "\n",
        "steps_done = 0\n",
        "\n",
        "\n",
        "def select_action(state):\n",
        "    global steps_done\n",
        "    sample = random.random()\n",
        "    eps_threshold = EPS_END + (EPS_START - EPS_END) * \\\n",
        "        math.exp(-1. * steps_done / EPS_DECAY)\n",
        "    steps_done += 1\n",
        "    if sample > eps_threshold:\n",
        "        with torch.no_grad():\n",
        "            # t.max(1) will return the largest column value of each row.\n",
        "            # second column on max result is index of where max element was\n",
        "            # found, so we pick action with the larger expected reward.\n",
        "            return policy_net(state).max(1).indices.view(1, 1)\n",
        "    else:\n",
        "        return torch.tensor([[env.action_space.sample()]], device=device, dtype=torch.long)\n",
        "\n",
        "\n",
        "episode_durations = []\n",
        "\n",
        "\n",
        "def plot_durations(show_result=False):\n",
        "    plt.figure(1)\n",
        "    durations_t = torch.tensor(episode_durations, dtype=torch.float)\n",
        "    if show_result:\n",
        "        plt.title('Result')\n",
        "    else:\n",
        "        plt.clf()\n",
        "        plt.title('Training...')\n",
        "    plt.xlabel('Episode')\n",
        "    plt.ylabel('Duration')\n",
        "    plt.plot(durations_t.numpy())\n",
        "    # Take 100 episode averages and plot them too\n",
        "    if len(durations_t) >= 100:\n",
        "        means = durations_t.unfold(0, 100, 1).mean(1).view(-1)\n",
        "        means = torch.cat((torch.zeros(99), means))\n",
        "        plt.plot(means.numpy())\n",
        "\n",
        "    plt.pause(0.001)  # pause a bit so that plots are updated\n",
        "    if is_ipython:\n",
        "        if not show_result:\n",
        "            ipythondisplay.display(plt.gcf())\n",
        "            ipythondisplay.clear_output(wait=True)\n",
        "        else:\n",
        "            ipythondisplay.display(plt.gcf())"
      ]
    },
    {
      "cell_type": "code",
      "execution_count": 13,
      "metadata": {
        "id": "GWXFcjLsWhNE"
      },
      "outputs": [],
      "source": [
        "def optimize_model():\n",
        "    if len(memory) < BATCH_SIZE:\n",
        "        return\n",
        "    transitions = memory.sample(BATCH_SIZE)\n",
        "    # Transpose the batch (see https://stackoverflow.com/a/19343/3343043 for\n",
        "    # detailed explanation). This converts batch-array of Transitions\n",
        "    # to Transition of batch-arrays.\n",
        "    batch = Transition(*zip(*transitions))\n",
        "\n",
        "    # Compute a mask of non-final states and concatenate the batch elements\n",
        "    # (a final state would've been the one after which simulation ended)\n",
        "    non_final_mask = torch.tensor(tuple(map(lambda s: s is not None,\n",
        "                                          batch.next_state)), device=device, dtype=torch.bool)\n",
        "    non_final_next_states = torch.cat([s for s in batch.next_state\n",
        "                                                if s is not None])\n",
        "    state_batch = torch.cat(batch.state)\n",
        "    action_batch = torch.cat(batch.action)\n",
        "    reward_batch = torch.cat(batch.reward)\n",
        "\n",
        "    # Compute Q(s_t, a) - the model computes Q(s_t), then we select the\n",
        "    # columns of actions taken. These are the actions which would've been taken\n",
        "    # for each batch state according to policy_net\n",
        "    state_action_values = policy_net(state_batch).gather(1, action_batch)\n",
        "\n",
        "    # Compute V(s_{t+1}) for all next states.\n",
        "    # Expected values of actions for non_final_next_states are computed based\n",
        "    # on the \"older\" target_net; selecting their best reward with max(1).values\n",
        "    # This is merged based on the mask, such that we'll have either the expected\n",
        "    # state value or 0 in case the state was final.\n",
        "    next_state_values = torch.zeros(BATCH_SIZE, device=device)\n",
        "    with torch.no_grad():\n",
        "        next_state_values[non_final_mask] = target_net(non_final_next_states).max(1).values\n",
        "    # Compute the expected Q values\n",
        "    expected_state_action_values = (next_state_values * GAMMA) + reward_batch\n",
        "\n",
        "    # Compute Huber loss\n",
        "    criterion = nn.SmoothL1Loss()\n",
        "    loss = criterion(state_action_values, expected_state_action_values.unsqueeze(1))\n",
        "\n",
        "    # Optimize the model\n",
        "    optimizer.zero_grad()\n",
        "    loss.backward()\n",
        "    # In-place gradient clipping\n",
        "    torch.nn.utils.clip_grad_value_(policy_net.parameters(), 100)\n",
        "    optimizer.step()"
      ]
    },
    {
      "cell_type": "code",
      "execution_count": 14,
      "metadata": {
        "colab": {
          "base_uri": "https://localhost:8080/",
          "height": 524
        },
        "id": "0sVkpLBjXZZz",
        "outputId": "1ed8f913-7652-4b9d-a37b-a0a40afd90d1"
      },
      "outputs": [],
      "source": [
        "def train_loop(environment, episodes):\n",
        "\n",
        "    num_episodes = episodes\n",
        "    env = environment\n",
        "\n",
        "    for i_episode in range(num_episodes):\n",
        "        # Initialize the environment and get its state\n",
        "        state, info = env.reset()\n",
        "        state = torch.tensor(state, dtype=torch.float32, device=device).unsqueeze(0)\n",
        "        for t in count():\n",
        "            action = select_action(state)\n",
        "            observation, reward, terminated, truncated, _ = env.step(action.item())\n",
        "\n",
        "            # Uncomment to print reward\n",
        "            # print('time step:', t, 'reward:', reward)\n",
        "\n",
        "            # Uncomment to print observation\n",
        "            # print('time step:', t, 'observation:', observation)\n",
        "            \n",
        "            reward = torch.tensor([reward], device=device)\n",
        "            done = terminated or truncated\n",
        "\n",
        "            if terminated:\n",
        "                next_state = None\n",
        "            else:\n",
        "                next_state = torch.tensor(observation, dtype=torch.float32, device=device).unsqueeze(0)\n",
        "\n",
        "            # Store the transition in memory\n",
        "            memory.push(state, action, next_state, reward)\n",
        "\n",
        "            # Move to the next state\n",
        "            state = next_state\n",
        "\n",
        "            # Perform one step of the optimization (on the policy network)\n",
        "            optimize_model()\n",
        "\n",
        "            # Soft update of the target network's weights\n",
        "            # θ′ ← τ θ + (1 −τ )θ′\n",
        "            target_net_state_dict = target_net.state_dict()\n",
        "            policy_net_state_dict = policy_net.state_dict()\n",
        "            for key in policy_net_state_dict:\n",
        "                target_net_state_dict[key] = policy_net_state_dict[key]*TAU + target_net_state_dict[key]*(1-TAU)\n",
        "            target_net.load_state_dict(target_net_state_dict)\n",
        "\n",
        "            if done:\n",
        "                episode_durations.append(t + 1)\n",
        "                plot_durations()\n",
        "                break\n",
        "\n",
        "    print('Complete')\n",
        "    plot_durations(show_result=True)\n",
        "    plt.ioff()\n",
        "    plt.show()"
      ]
    },
    {
      "cell_type": "code",
      "execution_count": 15,
      "metadata": {},
      "outputs": [
        {
          "name": "stdout",
          "output_type": "stream",
          "text": [
            "Complete\n"
          ]
        },
        {
          "data": {
            "image/png": "[encoded data removed]",
            "text/plain": [
              "<Figure size 640x480 with 1 Axes>"
            ]
          },
          "metadata": {},
          "output_type": "display_data"
        },
        {
          "data": {
            "text/plain": [
              "<Figure size 640x480 with 0 Axes>"
            ]
          },
          "metadata": {},
          "output_type": "display_data"
        },
        {
          "data": {
            "text/plain": [
              "<Figure size 640x480 with 0 Axes>"
            ]
          },
          "metadata": {},
          "output_type": "display_data"
        }
      ],
      "source": [
        "# make a new environment\n",
        "init_env = gym.make('CartPole-v1', render_mode='rgb_array')\n",
        "folder_name = os.path.join('video', 'CartPole-v1', f'{uuid.uuid4()}')\n",
        "env = RecordVideo(init_env, folder_name, disable_logger=True)\n",
        "\n",
        "# call the training loop\n",
        "train_loop(env, 500)\n",
        "\n",
        "# close the environment\n",
        "env.close()"
      ]
    },
    {
      "cell_type": "code",
      "execution_count": 16,
      "metadata": {},
      "outputs": [
        {
          "data": {
            "text/html": [
              "<video alt=\"test\" autoplay\n",
              "                    loop controls style=\"height: 400px;\">\n",
              "                    <source src=\"data:video/mp4;base64,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\" type=\"video/mp4\" />\n",
              "                    </video>"
            ],
            "text/plain": [
              "<IPython.core.display.HTML object>"
            ]
          },
          "metadata": {},
          "output_type": "display_data"
        }
      ],
      "source": [
        "show_video(folder_name, episode = 'first')"
      ]
    },
    {
      "cell_type": "code",
      "execution_count": 37,
      "metadata": {
        "colab": {
          "base_uri": "https://localhost:8080/",
          "height": 421
        },
        "id": "gTTuNd_nX3dh",
        "outputId": "cd255b39-551c-4917-fbc2-daf5eba3e6b7"
      },
      "outputs": [
        {
          "data": {
            "text/html": [
              "<video alt=\"test\" autoplay\n",
              "                    loop controls style=\"height: 400px;\">\n",
              "                    <source src=\"data:video/mp4;base64,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\" type=\"video/mp4\" />\n",
              "                    </video>"
            ],
            "text/plain": [
              "<IPython.core.display.HTML object>"
            ]
          },
          "metadata": {},
          "output_type": "display_data"
        }
      ],
      "source": [
        "show_video(folder_name, episode = 'last')"
      ]
    },
    {
      "cell_type": "markdown",
      "metadata": {},
      "source": [
        "## Question 2 &emsp; <span style=\"color:green\">(1 Point)</span>\n",
        "Has the model learned? What metrics did you use to determine that?"
      ]
    },
    {
      "cell_type": "markdown",
      "metadata": {},
      "source": [
        "<span style=\"color:green\">Answer</span>\n",
        "\n",
        "<span style=\"color:red\">\n",
        "Yes the model learned.\n",
        "\n",
        "The metric I used to determine that is the increased duration in the later episodes.\n",
        "</span>"
      ]
    },
    {
      "cell_type": "markdown",
      "metadata": {},
      "source": [
        "## Question 3 (Understanding the code)&emsp; <span style=\"color:green\">(6 Points Total)</span>\n",
        "Hint: Use this as reference -> https://pytorch.org/tutorials/intermediate/reinforcement_q_learning.html\n",
        "\n",
        "3A. Copy and paste the section of the code where the epsilon greedy algorithm is implemented. Use 3 backticks (```) above and below code to denote code blocks. &emsp; <span style=\"color:green\">(1 Point)</span>"
      ]
    },
    {
      "cell_type": "markdown",
      "metadata": {},
      "source": [
        "<span style=\"color:green\">Answer</span>"
      ]
    },
    {
      "cell_type": "markdown",
      "metadata": {},
      "source": [
        "3B. Line-by-line explain in your own words how this code works. Remember that you can use backticks \"\\`\" to denote `code`.&emsp; <span style=\"color:green\">(2 Points)</span>"
      ]
    },
    {
      "cell_type": "markdown",
      "metadata": {},
      "source": [
        "<span style=\"color:green\">Answer</span>"
      ]
    },
    {
      "cell_type": "markdown",
      "metadata": {},
      "source": [
        "3C. Copy and paste the section of the code where the expected Q Values are calculated. Use 3 backticks (```) above and below code to denote code blocks.&emsp; <span style=\"color:green\">(1 Point)</span>"
      ]
    },
    {
      "cell_type": "markdown",
      "metadata": {},
      "source": [
        "<span style=\"color:green\">Answer</span>"
      ]
    },
    {
      "cell_type": "markdown",
      "metadata": {},
      "source": [
        "3D. Line-by-line explain in your own words how this code works. Remember that you can use backticks \"\\`\" to denote `code`.&emsp; <span style=\"color:green\">(2 Points)</span>"
      ]
    },
    {
      "cell_type": "markdown",
      "metadata": {},
      "source": [
        "<span style=\"color:green\">Answer</span>"
      ]
    },
    {
      "cell_type": "markdown",
      "metadata": {},
      "source": [
        "## Question 4 Changing Episode Length &emsp; <span style=\"color:green\">(1 Point)</span>\n",
        "\n",
        "Try different episode lengths. What happens when it is a lot shorter or a lot bigger?\n",
        "\n",
        "Hint: [catastrophic forgetting/interference](https://en.wikipedia.org/wiki/Catastrophic_interference#:~:text=Catastrophic%20interference%2C%20also%20known%20as,information%20upon%20learning%20new%20information.) a.k.a. [catastrophic drop](https://ai.stackexchange.com/questions/28079/deep-q-learning-catastrophic-drop-reasons)"
      ]
    },
    {
      "cell_type": "code",
      "execution_count": 18,
      "metadata": {},
      "outputs": [],
      "source": [
        "# Reinitialize Parameters\n",
        "BATCH_SIZE = 128\n",
        "GAMMA = 0.99\n",
        "EPS_START = 0.9\n",
        "EPS_END = 0.05\n",
        "EPS_DECAY = 1000\n",
        "TAU = 0.005\n",
        "LR = 1e-4\n",
        "n_actions = env.action_space.n\n",
        "state, info = env.reset()\n",
        "n_observations = len(state)\n",
        "policy_net = DQN(n_observations, n_actions).to(device)\n",
        "target_net = DQN(n_observations, n_actions).to(device)\n",
        "target_net.load_state_dict(policy_net.state_dict())\n",
        "optimizer = optim.AdamW(policy_net.parameters(), lr=LR, amsgrad=True)\n",
        "memory = ReplayMemory(10000)\n",
        "steps_done = 0\n",
        "episode_durations = []"
      ]
    },
    {
      "cell_type": "code",
      "execution_count": 19,
      "metadata": {},
      "outputs": [
        {
          "name": "stdout",
          "output_type": "stream",
          "text": [
            "Complete\n"
          ]
        },
        {
          "data": {
            "image/png": "[encoded data removed]",
            "text/plain": [
              "<Figure size 640x480 with 1 Axes>"
            ]
          },
          "metadata": {},
          "output_type": "display_data"
        },
        {
          "data": {
            "text/plain": [
              "<Figure size 640x480 with 0 Axes>"
            ]
          },
          "metadata": {},
          "output_type": "display_data"
        },
        {
          "data": {
            "text/plain": [
              "<Figure size 640x480 with 0 Axes>"
            ]
          },
          "metadata": {},
          "output_type": "display_data"
        }
      ],
      "source": [
        "# make a new environment\n",
        "init_env = gym.make('CartPole-v1', render_mode='rgb_array')\n",
        "folder_name = os.path.join('video', 'CartPole-v1', f'{uuid.uuid4()}')\n",
        "env = RecordVideo(init_env, folder_name, disable_logger=True)\n",
        "\n",
        "# call the training loop\n",
        "train_loop(env, 500)  # Edit this!!!\n",
        "\n",
        "# close the environment\n",
        "env.close()"
      ]
    },
    {
      "cell_type": "markdown",
      "metadata": {},
      "source": [
        "<span style=\"color:green\">Answer</span>\n",
        "\n",
        "<span style=\"color:red\">\n",
        "\n",
        "1. At short episode lengths the model isn't able to do enough training loops to learn. This can be seen by the low duration when the episode length is low.\n",
        "\n",
        "2. At long episode lengths the model can experience catastrophic forgetting which is when the duration suddenly drops and the model stops learning. \n",
        "\n",
        "    2. Alternative acceptable answer: They aren't able to get catastrophic forgetting to happen and they say that at long durations the duration stays high at 500 because a termination condition is if the episode length is greater than 500, and thus the model can't get better than that.\n",
        "</span>"
      ]
    },
    {
      "cell_type": "markdown",
      "metadata": {},
      "source": [
        "## Question 5 Manipulating the Reward&emsp; <span style=\"color:green\">(10 Points Total)</span>\n",
        "\n",
        "Using [Gymnasium Reward Wrapper](https://gymnasium.farama.org/api/wrappers/reward_wrappers/) manipulate the reward in various ways."
      ]
    },
    {
      "cell_type": "markdown",
      "metadata": {},
      "source": [
        "5.1 Set the reward to -1 then run the training loop again. What happens? Why is that?&emsp; <span style=\"color:green\">(1 Point)</span>"
      ]
    },
    {
      "cell_type": "code",
      "execution_count": 38,
      "metadata": {},
      "outputs": [
        {
          "name": "stdout",
          "output_type": "stream",
          "text": [
            "Complete\n"
          ]
        },
        {
          "data": {
            "image/png": "[encoded data removed]",
            "text/plain": [
              "<Figure size 640x480 with 1 Axes>"
            ]
          },
          "metadata": {},
          "output_type": "display_data"
        },
        {
          "data": {
            "text/plain": [
              "<Figure size 640x480 with 0 Axes>"
            ]
          },
          "metadata": {},
          "output_type": "display_data"
        },
        {
          "data": {
            "text/plain": [
              "<Figure size 640x480 with 0 Axes>"
            ]
          },
          "metadata": {},
          "output_type": "display_data"
        }
      ],
      "source": [
        "##### Answer #####\n",
        "\n",
        "from gymnasium.wrappers import TransformReward\n",
        "\n",
        "# Reinitialize Parameters\n",
        "BATCH_SIZE = 128\n",
        "GAMMA = 0.99\n",
        "EPS_START = 0.9\n",
        "EPS_END = 0.05\n",
        "EPS_DECAY = 1000\n",
        "TAU = 0.005\n",
        "LR = 1e-4\n",
        "n_actions = env.action_space.n\n",
        "state, info = env.reset()\n",
        "n_observations = len(state)\n",
        "policy_net = DQN(n_observations, n_actions).to(device)\n",
        "target_net = DQN(n_observations, n_actions).to(device)\n",
        "target_net.load_state_dict(policy_net.state_dict())\n",
        "optimizer = optim.AdamW(policy_net.parameters(), lr=LR, amsgrad=True)\n",
        "memory = ReplayMemory(10000)\n",
        "steps_done = 0\n",
        "episode_durations = []\n",
        "\n",
        "# make a new environment\n",
        "init_env = gym.make('CartPole-v1', render_mode='rgb_array')\n",
        "init_env = TransformReward(init_env, lambda r: -1*r)\n",
        "folder_name = os.path.join('video', 'CartPole-v1', f'{uuid.uuid4()}')\n",
        "env = RecordVideo(init_env, folder_name, disable_logger=True)\n",
        "\n",
        "# call the training loop\n",
        "train_loop(env, 500)  # Edit this!!!\n",
        "\n",
        "# close the environment\n",
        "env.close()"
      ]
    },
    {
      "cell_type": "code",
      "execution_count": 39,
      "metadata": {},
      "outputs": [
        {
          "data": {
            "text/html": [
              "<video alt=\"test\" autoplay\n",
              "                    loop controls style=\"height: 400px;\">\n",
              "                    <source src=\"data:video/mp4;base64,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\" type=\"video/mp4\" />\n",
              "                    </video>"
            ],
            "text/plain": [
              "<IPython.core.display.HTML object>"
            ]
          },
          "metadata": {},
          "output_type": "display_data"
        }
      ],
      "source": [
        "show_video(folder_name, episode = 'last')"
      ]
    },
    {
      "cell_type": "markdown",
      "metadata": {},
      "source": [
        "<span style=\"color:green\">Answer</span>\n",
        "\n",
        "![Local Image](student_created_graphs/reward_negative_one.png)\n",
        "\n",
        "Example plot: Students aren't required to put a plot here this time, but next year they should be.\n",
        "\n",
        "<span style=\"color:red\">\n",
        "The model has an initial spike in duration but overtime evens out around 10 duration. I hypothesize that because of the negative reward the pole tries to fall as fast as possible, but 10 is the fastest it can fall.\n",
        "</span>"
      ]
    },
    {
      "cell_type": "markdown",
      "metadata": {},
      "source": [
        "5.2 Set the reward to go from 1 every timestep, to -50 after 100 (change to 300) timesteps. What changes in behavior does this cause in the actor? Why is that?&emsp; <span style=\"color:green\">(2 Point)</span>"
      ]
    },
    {
      "cell_type": "code",
      "execution_count": 41,
      "metadata": {},
      "outputs": [
        {
          "name": "stdout",
          "output_type": "stream",
          "text": [
            "Complete\n"
          ]
        },
        {
          "data": {
            "image/png": "[encoded data removed]",
            "text/plain": [
              "<Figure size 640x480 with 1 Axes>"
            ]
          },
          "metadata": {},
          "output_type": "display_data"
        },
        {
          "data": {
            "text/plain": [
              "<Figure size 640x480 with 0 Axes>"
            ]
          },
          "metadata": {},
          "output_type": "display_data"
        },
        {
          "data": {
            "text/plain": [
              "<Figure size 640x480 with 0 Axes>"
            ]
          },
          "metadata": {},
          "output_type": "display_data"
        }
      ],
      "source": [
        "##### Answer #####\n",
        "\n",
        "# Reinitialize Parameters\n",
        "BATCH_SIZE = 128\n",
        "GAMMA = 0.99\n",
        "EPS_START = 0.9\n",
        "EPS_END = 0.05\n",
        "EPS_DECAY = 1000\n",
        "TAU = 0.005\n",
        "LR = 1e-4\n",
        "n_actions = env.action_space.n\n",
        "state, info = env.reset()\n",
        "n_observations = len(state)\n",
        "policy_net = DQN(n_observations, n_actions).to(device)\n",
        "target_net = DQN(n_observations, n_actions).to(device)\n",
        "target_net.load_state_dict(policy_net.state_dict())\n",
        "optimizer = optim.AdamW(policy_net.parameters(), lr=LR, amsgrad=True)\n",
        "memory = ReplayMemory(10000)\n",
        "steps_done = 0\n",
        "episode_durations = []\n",
        "\n",
        "# define reward function\n",
        "counter = 0\n",
        "def reward_function(r):\n",
        "    global counter\n",
        "    if counter < 100:\n",
        "        counter += 1\n",
        "        new_reward = r\n",
        "    else:\n",
        "        counter += 1\n",
        "        new_reward = r * -50\n",
        "    # print(counter, new_reward)\n",
        "    return new_reward\n",
        "\n",
        "# make a new environment\n",
        "init_env = gym.make('CartPole-v1', render_mode='rgb_array')\n",
        "init_env = TransformReward(init_env, lambda r: reward_function(r))\n",
        "folder_name = os.path.join('video', 'CartPole-v1', f'{uuid.uuid4()}')\n",
        "env = RecordVideo(init_env, folder_name, disable_logger=True)\n",
        "\n",
        "# edit train_loop function to reset counter every time the episode ends\n",
        "def train_loop(environment, episodes):\n",
        "\n",
        "    num_episodes = episodes\n",
        "    env = environment\n",
        "\n",
        "    for i_episode in range(num_episodes):\n",
        "        # Initialize the environment and get its state\n",
        "        state, info = env.reset()\n",
        "        state = torch.tensor(state, dtype=torch.float32, device=device).unsqueeze(0)\n",
        "        for t in count():\n",
        "            action = select_action(state)\n",
        "            observation, reward, terminated, truncated, _ = env.step(action.item())\n",
        "\n",
        "            # Uncomment to print reward\n",
        "            # print('time step:', t, 'reward:', reward)\n",
        "\n",
        "            # Uncomment to print observation\n",
        "            # print('time step:', t, 'observation:', observation)\n",
        "            \n",
        "            reward = torch.tensor([reward], device=device)\n",
        "            done = terminated or truncated\n",
        "\n",
        "            if terminated:\n",
        "                next_state = None\n",
        "            else:\n",
        "                next_state = torch.tensor(observation, dtype=torch.float32, device=device).unsqueeze(0)\n",
        "\n",
        "            # Store the transition in memory\n",
        "            memory.push(state, action, next_state, reward)\n",
        "\n",
        "            # Move to the next state\n",
        "            state = next_state\n",
        "\n",
        "            # Perform one step of the optimization (on the policy network)\n",
        "            optimize_model()\n",
        "\n",
        "            # Soft update of the target network's weights\n",
        "            # θ′ ← τ θ + (1 −τ )θ′\n",
        "            target_net_state_dict = target_net.state_dict()\n",
        "            policy_net_state_dict = policy_net.state_dict()\n",
        "            for key in policy_net_state_dict:\n",
        "                target_net_state_dict[key] = policy_net_state_dict[key]*TAU + target_net_state_dict[key]*(1-TAU)\n",
        "            target_net.load_state_dict(target_net_state_dict)\n",
        "\n",
        "            if done:\n",
        "                episode_durations.append(t + 1)\n",
        "                plot_durations()\n",
        "                global counter\n",
        "                counter = 0\n",
        "                break\n",
        "\n",
        "    print('Complete')\n",
        "    plot_durations(show_result=True)\n",
        "    plt.ioff()\n",
        "    plt.show()\n",
        "\n",
        "# call the training loop\n",
        "train_loop(env, 500)  # Edit this!!!\n",
        "\n",
        "# close the environment\n",
        "env.close()"
      ]
    },
    {
      "cell_type": "code",
      "execution_count": 42,
      "metadata": {},
      "outputs": [
        {
          "data": {
            "text/html": [
              "<video alt=\"test\" autoplay\n",
              "                    loop controls style=\"height: 400px;\">\n",
              "                    <source src=\"data:video/mp4;base64,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\" type=\"video/mp4\" />\n",
              "                    </video>"
            ],
            "text/plain": [
              "<IPython.core.display.HTML object>"
            ]
          },
          "metadata": {},
          "output_type": "display_data"
        }
      ],
      "source": [
        "show_video(folder_name, episode = 'last')"
      ]
    },
    {
      "cell_type": "markdown",
      "metadata": {},
      "source": [
        "<span style=\"color:green\">Answer</span>\n",
        "\n",
        "![Local Image](student_created_graphs/reward_negative_fifty_after_hundred.png)\n",
        "\n",
        "Students aren't required to put a plot here this time, but next year they should be.\n",
        "\n",
        "<span style=\"color:red\">\n",
        "\n",
        "Because the reward is -50 after 100, the model duration increases passed 100 on some durations, but will come back down to around 50. It doesn't stablize near 100 but instead below 100 because it wants maximum reward, but not at the chance of hitting that -50 reward threshold. (If you think about it like a reward that penalize hitting a wall, it is avoiding the wall) Optional (do not take points off for not having): Later on the model sometimes increases catatrophic interference instead of stabilizing around 100 durations.\n",
        "\n",
        "Note for graders regarding the code: When I was helping the students I didn't realize we needed to reset the counter at the end of each episode. So there will be some that just omit that part or turn it to -50 after 100 episodes not 100 timesteps. For Spring '24 lets still give full credit for code and graph analysis that does that, just note the correct solution along side it.Also next time change the question to 300 timesteps instead of 100 to make the effect more noticeable. \n",
        "\n",
        "Note 2: Also next year we should change it so that they have to start adding graphs in earlier questions as it is easier to have them analyze a specific graph as the the training behavior is not the same everytime. Its either that or we need to hold the seed constant for the random functions.\n",
        "\n",
        "</span>"
      ]
    },
    {
      "cell_type": "markdown",
      "metadata": {},
      "source": [
        "5.3.1 Currently we only are printing out the duration/iteration number. Before the environment-action loop initialize a variable `record_reward = []`, then during the loop append the reward after each action. Than after each episode you append the `record_reward` list to another new list called `episode_reward_hist`. Using that list of lists, create graphs comparing the normal reward, zero reward, and negative after 100 reward with `matplotlib`. Episode should be on the x-axis and Cumulative Reward (for each episode) on the y-axis. Make sure to label the axes, give the plots a title. After that, create another graph that takes the reward histories of all 3 reward policies and compares them on one graph, make sure to include a legend for this. \n",
        "\n",
        "(At least 4 graphs: 3 for each reward policy and 1 comparison graph of all three)\n",
        "\n",
        "`matplotlib docs` -> https://matplotlib.org/stable/\n",
        "\n",
        "<span style=\"color:green\">(2 Points)</span>"
      ]
    },
    {
      "cell_type": "code",
      "execution_count": 43,
      "metadata": {},
      "outputs": [
        {
          "name": "stdout",
          "output_type": "stream",
          "text": [
            "Complete\n"
          ]
        },
        {
          "data": {
            "image/png": "[encoded data removed]",
            "text/plain": [
              "<Figure size 640x480 with 1 Axes>"
            ]
          },
          "metadata": {},
          "output_type": "display_data"
        },
        {
          "data": {
            "text/plain": [
              "<Figure size 640x480 with 0 Axes>"
            ]
          },
          "metadata": {},
          "output_type": "display_data"
        },
        {
          "data": {
            "text/plain": [
              "<Figure size 640x480 with 0 Axes>"
            ]
          },
          "metadata": {},
          "output_type": "display_data"
        }
      ],
      "source": [
        "##### Answer #####\n",
        "\n",
        "# Reinitialize Parameters\n",
        "BATCH_SIZE = 128\n",
        "GAMMA = 0.99\n",
        "EPS_START = 0.9\n",
        "EPS_END = 0.05\n",
        "EPS_DECAY = 1000\n",
        "TAU = 0.005\n",
        "LR = 1e-4\n",
        "n_actions = env.action_space.n\n",
        "state, info = env.reset()\n",
        "n_observations = len(state)\n",
        "policy_net = DQN(n_observations, n_actions).to(device)\n",
        "target_net = DQN(n_observations, n_actions).to(device)\n",
        "target_net.load_state_dict(policy_net.state_dict())\n",
        "optimizer = optim.AdamW(policy_net.parameters(), lr=LR, amsgrad=True)\n",
        "memory = ReplayMemory(10000)\n",
        "steps_done = 0\n",
        "episode_durations = []\n",
        "\n",
        "# define reward function\n",
        "counter = 0\n",
        "def reward_function(r):\n",
        "    global counter\n",
        "    if counter < 100:\n",
        "        counter += 1\n",
        "        new_reward = r\n",
        "    else:\n",
        "        counter += 1\n",
        "        new_reward = r * -50\n",
        "    # print(counter, new_reward)\n",
        "    return new_reward\n",
        "\n",
        "# make a new environment\n",
        "init_env = gym.make('CartPole-v1', render_mode='rgb_array')\n",
        "folder_name = os.path.join('video', 'CartPole-v1', f'{uuid.uuid4()}')\n",
        "env = RecordVideo(init_env, folder_name, disable_logger=True)\n",
        "\n",
        "# edit train_loop function to reset counter every time the episode ends\n",
        "def train_loop(environment, episodes):\n",
        "\n",
        "    num_episodes = episodes\n",
        "    env = environment\n",
        "    \n",
        "    #### ADDED CODE FOR THIS QUESTION ####\n",
        "    normal_episode_reward_hist = []\n",
        "\n",
        "    for i_episode in range(num_episodes):\n",
        "        # Initialize the environment and get its state\n",
        "        state, info = env.reset()\n",
        "        state = torch.tensor(state, dtype=torch.float32, device=device).unsqueeze(0)\n",
        "\n",
        "        #### ADDED CODE FOR THIS QUESTION ####\n",
        "        record_reward = []\n",
        "\n",
        "        for t in count():\n",
        "            action = select_action(state)\n",
        "            observation, reward, terminated, truncated, _ = env.step(action.item())\n",
        "\n",
        "            #### ADDED CODE FOR THIS QUESTION ####\n",
        "            record_reward.append(reward)\n",
        "\n",
        "\n",
        "            # Uncomment to print reward\n",
        "            # print('time step:', t, 'reward:', reward)\n",
        "\n",
        "            # Uncomment to print observation\n",
        "            # print('time step:', t, 'observation:', observation)\n",
        "            \n",
        "            reward = torch.tensor([reward], device=device)\n",
        "            done = terminated or truncated\n",
        "\n",
        "            if terminated:\n",
        "                next_state = None\n",
        "            else:\n",
        "                next_state = torch.tensor(observation, dtype=torch.float32, device=device).unsqueeze(0)\n",
        "\n",
        "            # Store the transition in memory\n",
        "            memory.push(state, action, next_state, reward)\n",
        "\n",
        "            # Move to the next state\n",
        "            state = next_state\n",
        "\n",
        "            # Perform one step of the optimization (on the policy network)\n",
        "            optimize_model()\n",
        "\n",
        "            # Soft update of the target network's weights\n",
        "            # θ′ ← τ θ + (1 −τ )θ′\n",
        "            target_net_state_dict = target_net.state_dict()\n",
        "            policy_net_state_dict = policy_net.state_dict()\n",
        "            for key in policy_net_state_dict:\n",
        "                target_net_state_dict[key] = policy_net_state_dict[key]*TAU + target_net_state_dict[key]*(1-TAU)\n",
        "            target_net.load_state_dict(target_net_state_dict)\n",
        "\n",
        "            if done:\n",
        "                episode_durations.append(t + 1)\n",
        "                plot_durations()\n",
        "                global counter\n",
        "                counter = 0\n",
        "                break\n",
        "        \n",
        "        #### ADDED CODE FOR THIS QUESTION ####\n",
        "        normal_episode_reward_hist.append(record_reward)\n",
        "\n",
        "    print('Complete')\n",
        "    plot_durations(show_result=True)\n",
        "    plt.ioff()\n",
        "    plt.show()\n",
        "\n",
        "# call the training loop\n",
        "train_loop(env, 500)  # Edit this!!!\n",
        "\n",
        "# close the environment\n",
        "env.close()"
      ]
    },
    {
      "cell_type": "code",
      "execution_count": null,
      "metadata": {},
      "outputs": [],
      "source": [
        "summed_norm_hist = [sum(x) for x in normal_episode_reward_hist]"
      ]
    },
    {
      "cell_type": "code",
      "execution_count": 45,
      "metadata": {},
      "outputs": [
        {
          "ename": "KeyboardInterrupt",
          "evalue": "",
          "output_type": "error",
          "traceback": [
            "\u001b[0;31m---------------------------------------------------------------------------\u001b[0m",
            "\u001b[0;31mKeyboardInterrupt\u001b[0m                         Traceback (most recent call last)",
            "Cell \u001b[0;32mIn[45], line 100\u001b[0m\n\u001b[1;32m     97\u001b[0m     plt\u001b[38;5;241m.\u001b[39mshow()\n\u001b[1;32m     99\u001b[0m \u001b[38;5;66;03m# call the training loop\u001b[39;00m\n\u001b[0;32m--> 100\u001b[0m \u001b[43mtrain_loop\u001b[49m\u001b[43m(\u001b[49m\u001b[43menv\u001b[49m\u001b[43m,\u001b[49m\u001b[43m \u001b[49m\u001b[38;5;241;43m500\u001b[39;49m\u001b[43m)\u001b[49m  \u001b[38;5;66;03m# Edit this!!!\u001b[39;00m\n\u001b[1;32m    102\u001b[0m \u001b[38;5;66;03m# close the environment\u001b[39;00m\n\u001b[1;32m    103\u001b[0m env\u001b[38;5;241m.\u001b[39mclose()\n",
            "Cell \u001b[0;32mIn[45], line 47\u001b[0m, in \u001b[0;36mtrain_loop\u001b[0;34m(environment, episodes)\u001b[0m\n\u001b[1;32m     45\u001b[0m \u001b[38;5;28;01mfor\u001b[39;00m t \u001b[38;5;129;01min\u001b[39;00m count():\n\u001b[1;32m     46\u001b[0m     action \u001b[38;5;241m=\u001b[39m select_action(state)\n\u001b[0;32m---> 47\u001b[0m     observation, reward, terminated, truncated, _ \u001b[38;5;241m=\u001b[39m \u001b[43menv\u001b[49m\u001b[38;5;241;43m.\u001b[39;49m\u001b[43mstep\u001b[49m\u001b[43m(\u001b[49m\u001b[43maction\u001b[49m\u001b[38;5;241;43m.\u001b[39;49m\u001b[43mitem\u001b[49m\u001b[43m(\u001b[49m\u001b[43m)\u001b[49m\u001b[43m)\u001b[49m\n\u001b[1;32m     49\u001b[0m     \u001b[38;5;66;03m#### ADDED CODE FOR THIS QUESTION ####\u001b[39;00m\n\u001b[1;32m     50\u001b[0m     record_reward\u001b[38;5;241m.\u001b[39mappend(reward)\n",
            "File \u001b[0;32m~/.python/current/lib/python3.10/site-packages/gymnasium/wrappers/record_video.py:191\u001b[0m, in \u001b[0;36mRecordVideo.step\u001b[0;34m(self, action)\u001b[0m\n\u001b[1;32m    189\u001b[0m \u001b[38;5;28;01mif\u001b[39;00m \u001b[38;5;129;01mnot\u001b[39;00m \u001b[38;5;28mself\u001b[39m\u001b[38;5;241m.\u001b[39mis_vector_env:\n\u001b[1;32m    190\u001b[0m     \u001b[38;5;28;01mif\u001b[39;00m terminateds \u001b[38;5;129;01mor\u001b[39;00m truncateds:\n\u001b[0;32m--> 191\u001b[0m         \u001b[38;5;28;43mself\u001b[39;49m\u001b[38;5;241;43m.\u001b[39;49m\u001b[43mclose_video_recorder\u001b[49m\u001b[43m(\u001b[49m\u001b[43m)\u001b[49m\n\u001b[1;32m    192\u001b[0m \u001b[38;5;28;01melif\u001b[39;00m terminateds[\u001b[38;5;241m0\u001b[39m] \u001b[38;5;129;01mor\u001b[39;00m truncateds[\u001b[38;5;241m0\u001b[39m]:\n\u001b[1;32m    193\u001b[0m     \u001b[38;5;28mself\u001b[39m\u001b[38;5;241m.\u001b[39mclose_video_recorder()\n",
            "File \u001b[0;32m~/.python/current/lib/python3.10/site-packages/gymnasium/wrappers/record_video.py:204\u001b[0m, in \u001b[0;36mRecordVideo.close_video_recorder\u001b[0;34m(self)\u001b[0m\n\u001b[1;32m    202\u001b[0m \u001b[38;5;28;01mif\u001b[39;00m \u001b[38;5;28mself\u001b[39m\u001b[38;5;241m.\u001b[39mrecording:\n\u001b[1;32m    203\u001b[0m     \u001b[38;5;28;01massert\u001b[39;00m \u001b[38;5;28mself\u001b[39m\u001b[38;5;241m.\u001b[39mvideo_recorder \u001b[38;5;129;01mis\u001b[39;00m \u001b[38;5;129;01mnot\u001b[39;00m \u001b[38;5;28;01mNone\u001b[39;00m\n\u001b[0;32m--> 204\u001b[0m     \u001b[38;5;28;43mself\u001b[39;49m\u001b[38;5;241;43m.\u001b[39;49m\u001b[43mvideo_recorder\u001b[49m\u001b[38;5;241;43m.\u001b[39;49m\u001b[43mclose\u001b[49m\u001b[43m(\u001b[49m\u001b[43m)\u001b[49m\n\u001b[1;32m    205\u001b[0m \u001b[38;5;28mself\u001b[39m\u001b[38;5;241m.\u001b[39mrecording \u001b[38;5;241m=\u001b[39m \u001b[38;5;28;01mFalse\u001b[39;00m\n\u001b[1;32m    206\u001b[0m \u001b[38;5;28mself\u001b[39m\u001b[38;5;241m.\u001b[39mrecorded_frames \u001b[38;5;241m=\u001b[39m \u001b[38;5;241m1\u001b[39m\n",
            "File \u001b[0;32m~/.python/current/lib/python3.10/site-packages/gymnasium/wrappers/monitoring/video_recorder.py:157\u001b[0m, in \u001b[0;36mVideoRecorder.close\u001b[0;34m(self)\u001b[0m\n\u001b[1;32m    155\u001b[0m     clip \u001b[38;5;241m=\u001b[39m ImageSequenceClip(\u001b[38;5;28mself\u001b[39m\u001b[38;5;241m.\u001b[39mrecorded_frames, fps\u001b[38;5;241m=\u001b[39m\u001b[38;5;28mself\u001b[39m\u001b[38;5;241m.\u001b[39mframes_per_sec)\n\u001b[1;32m    156\u001b[0m     moviepy_logger \u001b[38;5;241m=\u001b[39m \u001b[38;5;28;01mNone\u001b[39;00m \u001b[38;5;28;01mif\u001b[39;00m \u001b[38;5;28mself\u001b[39m\u001b[38;5;241m.\u001b[39mdisable_logger \u001b[38;5;28;01melse\u001b[39;00m \u001b[38;5;124m\"\u001b[39m\u001b[38;5;124mbar\u001b[39m\u001b[38;5;124m\"\u001b[39m\n\u001b[0;32m--> 157\u001b[0m     \u001b[43mclip\u001b[49m\u001b[38;5;241;43m.\u001b[39;49m\u001b[43mwrite_videofile\u001b[49m\u001b[43m(\u001b[49m\u001b[38;5;28;43mself\u001b[39;49m\u001b[38;5;241;43m.\u001b[39;49m\u001b[43mpath\u001b[49m\u001b[43m,\u001b[49m\u001b[43m \u001b[49m\u001b[43mlogger\u001b[49m\u001b[38;5;241;43m=\u001b[39;49m\u001b[43mmoviepy_logger\u001b[49m\u001b[43m)\u001b[49m\n\u001b[1;32m    158\u001b[0m \u001b[38;5;28;01melse\u001b[39;00m:\n\u001b[1;32m    159\u001b[0m     \u001b[38;5;66;03m# No frames captured. Set metadata.\u001b[39;00m\n\u001b[1;32m    160\u001b[0m     \u001b[38;5;28;01mif\u001b[39;00m \u001b[38;5;28mself\u001b[39m\u001b[38;5;241m.\u001b[39mmetadata \u001b[38;5;129;01mis\u001b[39;00m \u001b[38;5;28;01mNone\u001b[39;00m:\n",
            "File \u001b[0;32m<decorator-gen-69>:2\u001b[0m, in \u001b[0;36mwrite_videofile\u001b[0;34m(self, filename, fps, codec, bitrate, audio, audio_fps, preset, audio_nbytes, audio_codec, audio_bitrate, audio_bufsize, temp_audiofile, rewrite_audio, remove_temp, write_logfile, verbose, threads, ffmpeg_params, logger)\u001b[0m\n",
            "File \u001b[0;32m~/.python/current/lib/python3.10/site-packages/moviepy/decorators.py:54\u001b[0m, in \u001b[0;36mrequires_duration\u001b[0;34m(f, clip, *a, **k)\u001b[0m\n\u001b[1;32m     52\u001b[0m     \u001b[38;5;28;01mraise\u001b[39;00m \u001b[38;5;167;01mValueError\u001b[39;00m(\u001b[38;5;124m\"\u001b[39m\u001b[38;5;124mAttribute \u001b[39m\u001b[38;5;124m'\u001b[39m\u001b[38;5;124mduration\u001b[39m\u001b[38;5;124m'\u001b[39m\u001b[38;5;124m not set\u001b[39m\u001b[38;5;124m\"\u001b[39m)\n\u001b[1;32m     53\u001b[0m \u001b[38;5;28;01melse\u001b[39;00m:\n\u001b[0;32m---> 54\u001b[0m     \u001b[38;5;28;01mreturn\u001b[39;00m \u001b[43mf\u001b[49m\u001b[43m(\u001b[49m\u001b[43mclip\u001b[49m\u001b[43m,\u001b[49m\u001b[43m \u001b[49m\u001b[38;5;241;43m*\u001b[39;49m\u001b[43ma\u001b[49m\u001b[43m,\u001b[49m\u001b[43m \u001b[49m\u001b[38;5;241;43m*\u001b[39;49m\u001b[38;5;241;43m*\u001b[39;49m\u001b[43mk\u001b[49m\u001b[43m)\u001b[49m\n",
            "File \u001b[0;32m<decorator-gen-68>:2\u001b[0m, in \u001b[0;36mwrite_videofile\u001b[0;34m(self, filename, fps, codec, bitrate, audio, audio_fps, preset, audio_nbytes, audio_codec, audio_bitrate, audio_bufsize, temp_audiofile, rewrite_audio, remove_temp, write_logfile, verbose, threads, ffmpeg_params, logger)\u001b[0m\n",
            "File \u001b[0;32m~/.python/current/lib/python3.10/site-packages/moviepy/decorators.py:135\u001b[0m, in \u001b[0;36muse_clip_fps_by_default\u001b[0;34m(f, clip, *a, **k)\u001b[0m\n\u001b[1;32m    130\u001b[0m new_a \u001b[38;5;241m=\u001b[39m [fun(arg) \u001b[38;5;28;01mif\u001b[39;00m (name\u001b[38;5;241m==\u001b[39m\u001b[38;5;124m'\u001b[39m\u001b[38;5;124mfps\u001b[39m\u001b[38;5;124m'\u001b[39m) \u001b[38;5;28;01melse\u001b[39;00m arg\n\u001b[1;32m    131\u001b[0m          \u001b[38;5;28;01mfor\u001b[39;00m (arg, name) \u001b[38;5;129;01min\u001b[39;00m \u001b[38;5;28mzip\u001b[39m(a, names)]\n\u001b[1;32m    132\u001b[0m new_kw \u001b[38;5;241m=\u001b[39m {k: fun(v) \u001b[38;5;28;01mif\u001b[39;00m k\u001b[38;5;241m==\u001b[39m\u001b[38;5;124m'\u001b[39m\u001b[38;5;124mfps\u001b[39m\u001b[38;5;124m'\u001b[39m \u001b[38;5;28;01melse\u001b[39;00m v\n\u001b[1;32m    133\u001b[0m          \u001b[38;5;28;01mfor\u001b[39;00m (k,v) \u001b[38;5;129;01min\u001b[39;00m k\u001b[38;5;241m.\u001b[39mitems()}\n\u001b[0;32m--> 135\u001b[0m \u001b[38;5;28;01mreturn\u001b[39;00m \u001b[43mf\u001b[49m\u001b[43m(\u001b[49m\u001b[43mclip\u001b[49m\u001b[43m,\u001b[49m\u001b[43m \u001b[49m\u001b[38;5;241;43m*\u001b[39;49m\u001b[43mnew_a\u001b[49m\u001b[43m,\u001b[49m\u001b[43m \u001b[49m\u001b[38;5;241;43m*\u001b[39;49m\u001b[38;5;241;43m*\u001b[39;49m\u001b[43mnew_kw\u001b[49m\u001b[43m)\u001b[49m\n",
            "File \u001b[0;32m<decorator-gen-67>:2\u001b[0m, in \u001b[0;36mwrite_videofile\u001b[0;34m(self, filename, fps, codec, bitrate, audio, audio_fps, preset, audio_nbytes, audio_codec, audio_bitrate, audio_bufsize, temp_audiofile, rewrite_audio, remove_temp, write_logfile, verbose, threads, ffmpeg_params, logger)\u001b[0m\n",
            "File \u001b[0;32m~/.python/current/lib/python3.10/site-packages/moviepy/decorators.py:22\u001b[0m, in \u001b[0;36mconvert_masks_to_RGB\u001b[0;34m(f, clip, *a, **k)\u001b[0m\n\u001b[1;32m     20\u001b[0m \u001b[38;5;28;01mif\u001b[39;00m clip\u001b[38;5;241m.\u001b[39mismask:\n\u001b[1;32m     21\u001b[0m     clip \u001b[38;5;241m=\u001b[39m clip\u001b[38;5;241m.\u001b[39mto_RGB()\n\u001b[0;32m---> 22\u001b[0m \u001b[38;5;28;01mreturn\u001b[39;00m \u001b[43mf\u001b[49m\u001b[43m(\u001b[49m\u001b[43mclip\u001b[49m\u001b[43m,\u001b[49m\u001b[43m \u001b[49m\u001b[38;5;241;43m*\u001b[39;49m\u001b[43ma\u001b[49m\u001b[43m,\u001b[49m\u001b[43m \u001b[49m\u001b[38;5;241;43m*\u001b[39;49m\u001b[38;5;241;43m*\u001b[39;49m\u001b[43mk\u001b[49m\u001b[43m)\u001b[49m\n",
            "File \u001b[0;32m~/.python/current/lib/python3.10/site-packages/moviepy/video/VideoClip.py:300\u001b[0m, in \u001b[0;36mVideoClip.write_videofile\u001b[0;34m(self, filename, fps, codec, bitrate, audio, audio_fps, preset, audio_nbytes, audio_codec, audio_bitrate, audio_bufsize, temp_audiofile, rewrite_audio, remove_temp, write_logfile, verbose, threads, ffmpeg_params, logger)\u001b[0m\n\u001b[1;32m    292\u001b[0m \u001b[38;5;28;01mif\u001b[39;00m make_audio:\n\u001b[1;32m    293\u001b[0m     \u001b[38;5;28mself\u001b[39m\u001b[38;5;241m.\u001b[39maudio\u001b[38;5;241m.\u001b[39mwrite_audiofile(audiofile, audio_fps,\n\u001b[1;32m    294\u001b[0m                                audio_nbytes, audio_bufsize,\n\u001b[1;32m    295\u001b[0m                                audio_codec, bitrate\u001b[38;5;241m=\u001b[39maudio_bitrate,\n\u001b[1;32m    296\u001b[0m                                write_logfile\u001b[38;5;241m=\u001b[39mwrite_logfile,\n\u001b[1;32m    297\u001b[0m                                verbose\u001b[38;5;241m=\u001b[39mverbose,\n\u001b[1;32m    298\u001b[0m                                logger\u001b[38;5;241m=\u001b[39mlogger)\n\u001b[0;32m--> 300\u001b[0m \u001b[43mffmpeg_write_video\u001b[49m\u001b[43m(\u001b[49m\u001b[38;5;28;43mself\u001b[39;49m\u001b[43m,\u001b[49m\u001b[43m \u001b[49m\u001b[43mfilename\u001b[49m\u001b[43m,\u001b[49m\u001b[43m \u001b[49m\u001b[43mfps\u001b[49m\u001b[43m,\u001b[49m\u001b[43m \u001b[49m\u001b[43mcodec\u001b[49m\u001b[43m,\u001b[49m\n\u001b[1;32m    301\u001b[0m \u001b[43m                   \u001b[49m\u001b[43mbitrate\u001b[49m\u001b[38;5;241;43m=\u001b[39;49m\u001b[43mbitrate\u001b[49m\u001b[43m,\u001b[49m\n\u001b[1;32m    302\u001b[0m \u001b[43m                   \u001b[49m\u001b[43mpreset\u001b[49m\u001b[38;5;241;43m=\u001b[39;49m\u001b[43mpreset\u001b[49m\u001b[43m,\u001b[49m\n\u001b[1;32m    303\u001b[0m \u001b[43m                   \u001b[49m\u001b[43mwrite_logfile\u001b[49m\u001b[38;5;241;43m=\u001b[39;49m\u001b[43mwrite_logfile\u001b[49m\u001b[43m,\u001b[49m\n\u001b[1;32m    304\u001b[0m \u001b[43m                   \u001b[49m\u001b[43maudiofile\u001b[49m\u001b[38;5;241;43m=\u001b[39;49m\u001b[43maudiofile\u001b[49m\u001b[43m,\u001b[49m\n\u001b[1;32m    305\u001b[0m \u001b[43m                   \u001b[49m\u001b[43mverbose\u001b[49m\u001b[38;5;241;43m=\u001b[39;49m\u001b[43mverbose\u001b[49m\u001b[43m,\u001b[49m\u001b[43m \u001b[49m\u001b[43mthreads\u001b[49m\u001b[38;5;241;43m=\u001b[39;49m\u001b[43mthreads\u001b[49m\u001b[43m,\u001b[49m\n\u001b[1;32m    306\u001b[0m \u001b[43m                   \u001b[49m\u001b[43mffmpeg_params\u001b[49m\u001b[38;5;241;43m=\u001b[39;49m\u001b[43mffmpeg_params\u001b[49m\u001b[43m,\u001b[49m\n\u001b[1;32m    307\u001b[0m \u001b[43m                   \u001b[49m\u001b[43mlogger\u001b[49m\u001b[38;5;241;43m=\u001b[39;49m\u001b[43mlogger\u001b[49m\u001b[43m)\u001b[49m\n\u001b[1;32m    309\u001b[0m \u001b[38;5;28;01mif\u001b[39;00m remove_temp \u001b[38;5;129;01mand\u001b[39;00m make_audio:\n\u001b[1;32m    310\u001b[0m     \u001b[38;5;28;01mif\u001b[39;00m os\u001b[38;5;241m.\u001b[39mpath\u001b[38;5;241m.\u001b[39mexists(audiofile):\n",
            "File \u001b[0;32m~/.python/current/lib/python3.10/site-packages/moviepy/video/io/ffmpeg_writer.py:213\u001b[0m, in \u001b[0;36mffmpeg_write_video\u001b[0;34m(clip, filename, fps, codec, bitrate, preset, withmask, write_logfile, audiofile, verbose, threads, ffmpeg_params, logger)\u001b[0m\n\u001b[1;32m    211\u001b[0m     logfile \u001b[38;5;241m=\u001b[39m \u001b[38;5;28;01mNone\u001b[39;00m\n\u001b[1;32m    212\u001b[0m logger(message\u001b[38;5;241m=\u001b[39m\u001b[38;5;124m'\u001b[39m\u001b[38;5;124mMoviepy - Writing video \u001b[39m\u001b[38;5;132;01m%s\u001b[39;00m\u001b[38;5;130;01m\\n\u001b[39;00m\u001b[38;5;124m'\u001b[39m \u001b[38;5;241m%\u001b[39m filename)\n\u001b[0;32m--> 213\u001b[0m \u001b[38;5;28;01mwith\u001b[39;00m FFMPEG_VideoWriter(filename, clip\u001b[38;5;241m.\u001b[39msize, fps, codec \u001b[38;5;241m=\u001b[39m codec,\n\u001b[1;32m    214\u001b[0m                             preset\u001b[38;5;241m=\u001b[39mpreset, bitrate\u001b[38;5;241m=\u001b[39mbitrate, logfile\u001b[38;5;241m=\u001b[39mlogfile,\n\u001b[1;32m    215\u001b[0m                             audiofile\u001b[38;5;241m=\u001b[39maudiofile, threads\u001b[38;5;241m=\u001b[39mthreads,\n\u001b[1;32m    216\u001b[0m                             ffmpeg_params\u001b[38;5;241m=\u001b[39mffmpeg_params) \u001b[38;5;28;01mas\u001b[39;00m writer:\n\u001b[1;32m    218\u001b[0m     nframes \u001b[38;5;241m=\u001b[39m \u001b[38;5;28mint\u001b[39m(clip\u001b[38;5;241m.\u001b[39mduration\u001b[38;5;241m*\u001b[39mfps)\n\u001b[1;32m    220\u001b[0m     \u001b[38;5;28;01mfor\u001b[39;00m t,frame \u001b[38;5;129;01min\u001b[39;00m clip\u001b[38;5;241m.\u001b[39miter_frames(logger\u001b[38;5;241m=\u001b[39mlogger, with_times\u001b[38;5;241m=\u001b[39m\u001b[38;5;28;01mTrue\u001b[39;00m,\n\u001b[1;32m    221\u001b[0m                                     fps\u001b[38;5;241m=\u001b[39mfps, dtype\u001b[38;5;241m=\u001b[39m\u001b[38;5;124m\"\u001b[39m\u001b[38;5;124muint8\u001b[39m\u001b[38;5;124m\"\u001b[39m):\n",
            "File \u001b[0;32m~/.python/current/lib/python3.10/site-packages/moviepy/video/io/ffmpeg_writer.py:197\u001b[0m, in \u001b[0;36mFFMPEG_VideoWriter.__exit__\u001b[0;34m(self, exc_type, exc_value, traceback)\u001b[0m\n\u001b[1;32m    196\u001b[0m \u001b[38;5;28;01mdef\u001b[39;00m \u001b[38;5;21m__exit__\u001b[39m(\u001b[38;5;28mself\u001b[39m, exc_type, exc_value, traceback):\n\u001b[0;32m--> 197\u001b[0m     \u001b[38;5;28;43mself\u001b[39;49m\u001b[38;5;241;43m.\u001b[39;49m\u001b[43mclose\u001b[49m\u001b[43m(\u001b[49m\u001b[43m)\u001b[49m\n",
            "File \u001b[0;32m~/.python/current/lib/python3.10/site-packages/moviepy/video/io/ffmpeg_writer.py:187\u001b[0m, in \u001b[0;36mFFMPEG_VideoWriter.close\u001b[0;34m(self)\u001b[0m\n\u001b[1;32m    185\u001b[0m     \u001b[38;5;28;01mif\u001b[39;00m \u001b[38;5;28mself\u001b[39m\u001b[38;5;241m.\u001b[39mproc\u001b[38;5;241m.\u001b[39mstderr \u001b[38;5;129;01mis\u001b[39;00m \u001b[38;5;129;01mnot\u001b[39;00m \u001b[38;5;28;01mNone\u001b[39;00m:\n\u001b[1;32m    186\u001b[0m         \u001b[38;5;28mself\u001b[39m\u001b[38;5;241m.\u001b[39mproc\u001b[38;5;241m.\u001b[39mstderr\u001b[38;5;241m.\u001b[39mclose()\n\u001b[0;32m--> 187\u001b[0m     \u001b[38;5;28;43mself\u001b[39;49m\u001b[38;5;241;43m.\u001b[39;49m\u001b[43mproc\u001b[49m\u001b[38;5;241;43m.\u001b[39;49m\u001b[43mwait\u001b[49m\u001b[43m(\u001b[49m\u001b[43m)\u001b[49m\n\u001b[1;32m    189\u001b[0m \u001b[38;5;28mself\u001b[39m\u001b[38;5;241m.\u001b[39mproc \u001b[38;5;241m=\u001b[39m \u001b[38;5;28;01mNone\u001b[39;00m\n",
            "File \u001b[0;32m~/.python/current/lib/python3.10/subprocess.py:1209\u001b[0m, in \u001b[0;36mPopen.wait\u001b[0;34m(self, timeout)\u001b[0m\n\u001b[1;32m   1207\u001b[0m     endtime \u001b[38;5;241m=\u001b[39m _time() \u001b[38;5;241m+\u001b[39m timeout\n\u001b[1;32m   1208\u001b[0m \u001b[38;5;28;01mtry\u001b[39;00m:\n\u001b[0;32m-> 1209\u001b[0m     \u001b[38;5;28;01mreturn\u001b[39;00m \u001b[38;5;28;43mself\u001b[39;49m\u001b[38;5;241;43m.\u001b[39;49m\u001b[43m_wait\u001b[49m\u001b[43m(\u001b[49m\u001b[43mtimeout\u001b[49m\u001b[38;5;241;43m=\u001b[39;49m\u001b[43mtimeout\u001b[49m\u001b[43m)\u001b[49m\n\u001b[1;32m   1210\u001b[0m \u001b[38;5;28;01mexcept\u001b[39;00m \u001b[38;5;167;01mKeyboardInterrupt\u001b[39;00m:\n\u001b[1;32m   1211\u001b[0m     \u001b[38;5;66;03m# https://bugs.python.org/issue25942\u001b[39;00m\n\u001b[1;32m   1212\u001b[0m     \u001b[38;5;66;03m# The first keyboard interrupt waits briefly for the child to\u001b[39;00m\n\u001b[1;32m   1213\u001b[0m     \u001b[38;5;66;03m# exit under the common assumption that it also received the ^C\u001b[39;00m\n\u001b[1;32m   1214\u001b[0m     \u001b[38;5;66;03m# generated SIGINT and will exit rapidly.\u001b[39;00m\n\u001b[1;32m   1215\u001b[0m     \u001b[38;5;28;01mif\u001b[39;00m timeout \u001b[38;5;129;01mis\u001b[39;00m \u001b[38;5;129;01mnot\u001b[39;00m \u001b[38;5;28;01mNone\u001b[39;00m:\n",
            "File \u001b[0;32m~/.python/current/lib/python3.10/subprocess.py:1959\u001b[0m, in \u001b[0;36mPopen._wait\u001b[0;34m(self, timeout)\u001b[0m\n\u001b[1;32m   1957\u001b[0m \u001b[38;5;28;01mif\u001b[39;00m \u001b[38;5;28mself\u001b[39m\u001b[38;5;241m.\u001b[39mreturncode \u001b[38;5;129;01mis\u001b[39;00m \u001b[38;5;129;01mnot\u001b[39;00m \u001b[38;5;28;01mNone\u001b[39;00m:\n\u001b[1;32m   1958\u001b[0m     \u001b[38;5;28;01mbreak\u001b[39;00m  \u001b[38;5;66;03m# Another thread waited.\u001b[39;00m\n\u001b[0;32m-> 1959\u001b[0m (pid, sts) \u001b[38;5;241m=\u001b[39m \u001b[38;5;28;43mself\u001b[39;49m\u001b[38;5;241;43m.\u001b[39;49m\u001b[43m_try_wait\u001b[49m\u001b[43m(\u001b[49m\u001b[38;5;241;43m0\u001b[39;49m\u001b[43m)\u001b[49m\n\u001b[1;32m   1960\u001b[0m \u001b[38;5;66;03m# Check the pid and loop as waitpid has been known to\u001b[39;00m\n\u001b[1;32m   1961\u001b[0m \u001b[38;5;66;03m# return 0 even without WNOHANG in odd situations.\u001b[39;00m\n\u001b[1;32m   1962\u001b[0m \u001b[38;5;66;03m# http://bugs.python.org/issue14396.\u001b[39;00m\n\u001b[1;32m   1963\u001b[0m \u001b[38;5;28;01mif\u001b[39;00m pid \u001b[38;5;241m==\u001b[39m \u001b[38;5;28mself\u001b[39m\u001b[38;5;241m.\u001b[39mpid:\n",
            "File \u001b[0;32m~/.python/current/lib/python3.10/subprocess.py:1917\u001b[0m, in \u001b[0;36mPopen._try_wait\u001b[0;34m(self, wait_flags)\u001b[0m\n\u001b[1;32m   1915\u001b[0m \u001b[38;5;250m\u001b[39m\u001b[38;5;124;03m\"\"\"All callers to this function MUST hold self._waitpid_lock.\"\"\"\u001b[39;00m\n\u001b[1;32m   1916\u001b[0m \u001b[38;5;28;01mtry\u001b[39;00m:\n\u001b[0;32m-> 1917\u001b[0m     (pid, sts) \u001b[38;5;241m=\u001b[39m \u001b[43mos\u001b[49m\u001b[38;5;241;43m.\u001b[39;49m\u001b[43mwaitpid\u001b[49m\u001b[43m(\u001b[49m\u001b[38;5;28;43mself\u001b[39;49m\u001b[38;5;241;43m.\u001b[39;49m\u001b[43mpid\u001b[49m\u001b[43m,\u001b[49m\u001b[43m \u001b[49m\u001b[43mwait_flags\u001b[49m\u001b[43m)\u001b[49m\n\u001b[1;32m   1918\u001b[0m \u001b[38;5;28;01mexcept\u001b[39;00m \u001b[38;5;167;01mChildProcessError\u001b[39;00m:\n\u001b[1;32m   1919\u001b[0m     \u001b[38;5;66;03m# This happens if SIGCLD is set to be ignored or waiting\u001b[39;00m\n\u001b[1;32m   1920\u001b[0m     \u001b[38;5;66;03m# for child processes has otherwise been disabled for our\u001b[39;00m\n\u001b[1;32m   1921\u001b[0m     \u001b[38;5;66;03m# process.  This child is dead, we can't get the status.\u001b[39;00m\n\u001b[1;32m   1922\u001b[0m     pid \u001b[38;5;241m=\u001b[39m \u001b[38;5;28mself\u001b[39m\u001b[38;5;241m.\u001b[39mpid\n",
            "\u001b[0;31mKeyboardInterrupt\u001b[0m: "
          ]
        }
      ],
      "source": [
        "##### Answer #####\n",
        "\n",
        "# Reinitialize Parameters\n",
        "BATCH_SIZE = 128\n",
        "GAMMA = 0.99\n",
        "EPS_START = 0.9\n",
        "EPS_END = 0.05\n",
        "EPS_DECAY = 1000\n",
        "TAU = 0.005\n",
        "LR = 1e-4\n",
        "n_actions = env.action_space.n\n",
        "state, info = env.reset()\n",
        "n_observations = len(state)\n",
        "policy_net = DQN(n_observations, n_actions).to(device)\n",
        "target_net = DQN(n_observations, n_actions).to(device)\n",
        "target_net.load_state_dict(policy_net.state_dict())\n",
        "optimizer = optim.AdamW(policy_net.parameters(), lr=LR, amsgrad=True)\n",
        "memory = ReplayMemory(10000)\n",
        "steps_done = 0\n",
        "episode_durations = []\n",
        "\n",
        "# make a new environment\n",
        "init_env = gym.make('CartPole-v1', render_mode='rgb_array')\n",
        "init_env = TransformReward(init_env, lambda r: -1 * r)\n",
        "folder_name = os.path.join('video', 'CartPole-v1', f'{uuid.uuid4()}')\n",
        "env = RecordVideo(init_env, folder_name, disable_logger=True)\n",
        "\n",
        "# edit train_loop function to reset counter every time the episode ends\n",
        "def train_loop(environment, episodes):\n",
        "\n",
        "    num_episodes = episodes\n",
        "    env = environment\n",
        "    \n",
        "    #### ADDED CODE FOR THIS QUESTION ####\n",
        "    negative_one_episode_reward_hist = []\n",
        "\n",
        "    for i_episode in range(num_episodes):\n",
        "        # Initialize the environment and get its state\n",
        "        state, info = env.reset()\n",
        "        state = torch.tensor(state, dtype=torch.float32, device=device).unsqueeze(0)\n",
        "\n",
        "        #### ADDED CODE FOR THIS QUESTION ####\n",
        "        record_reward = []\n",
        "\n",
        "        for t in count():\n",
        "            action = select_action(state)\n",
        "            observation, reward, terminated, truncated, _ = env.step(action.item())\n",
        "\n",
        "            #### ADDED CODE FOR THIS QUESTION ####\n",
        "            record_reward.append(reward)\n",
        "\n",
        "\n",
        "            # Uncomment to print reward\n",
        "            # print('time step:', t, 'reward:', reward)\n",
        "\n",
        "            # Uncomment to print observation\n",
        "            # print('time step:', t, 'observation:', observation)\n",
        "            \n",
        "            reward = torch.tensor([reward], device=device)\n",
        "            done = terminated or truncated\n",
        "\n",
        "            if terminated:\n",
        "                next_state = None\n",
        "            else:\n",
        "                next_state = torch.tensor(observation, dtype=torch.float32, device=device).unsqueeze(0)\n",
        "\n",
        "            # Store the transition in memory\n",
        "            memory.push(state, action, next_state, reward)\n",
        "\n",
        "            # Move to the next state\n",
        "            state = next_state\n",
        "\n",
        "            # Perform one step of the optimization (on the policy network)\n",
        "            optimize_model()\n",
        "\n",
        "            # Soft update of the target network's weights\n",
        "            # θ′ ← τ θ + (1 −τ )θ′\n",
        "            target_net_state_dict = target_net.state_dict()\n",
        "            policy_net_state_dict = policy_net.state_dict()\n",
        "            for key in policy_net_state_dict:\n",
        "                target_net_state_dict[key] = policy_net_state_dict[key]*TAU + target_net_state_dict[key]*(1-TAU)\n",
        "            target_net.load_state_dict(target_net_state_dict)\n",
        "\n",
        "            if done:\n",
        "                episode_durations.append(t + 1)\n",
        "                plot_durations()\n",
        "                global counter\n",
        "                counter = 0\n",
        "                break\n",
        "        \n",
        "        #### ADDED CODE FOR THIS QUESTION ####\n",
        "        negative_one_episode_reward_hist.append(record_reward)\n",
        "\n",
        "    print('Complete')\n",
        "    plot_durations(show_result=True)\n",
        "    plt.ioff()\n",
        "    plt.show()\n",
        "\n",
        "# call the training loop\n",
        "train_loop(env, 500)  # Edit this!!!\n",
        "\n",
        "# close the environment\n",
        "env.close()"
      ]
    },
    {
      "cell_type": "code",
      "execution_count": 44,
      "metadata": {},
      "outputs": [
        {
          "name": "stdout",
          "output_type": "stream",
          "text": [
            "Complete\n"
          ]
        },
        {
          "data": {
            "image/png": "[encoded data removed]",
            "text/plain": [
              "<Figure size 640x480 with 1 Axes>"
            ]
          },
          "metadata": {},
          "output_type": "display_data"
        },
        {
          "data": {
            "text/plain": [
              "<Figure size 640x480 with 0 Axes>"
            ]
          },
          "metadata": {},
          "output_type": "display_data"
        },
        {
          "data": {
            "text/plain": [
              "<Figure size 640x480 with 0 Axes>"
            ]
          },
          "metadata": {},
          "output_type": "display_data"
        }
      ],
      "source": [
        "##### Answer #####\n",
        "\n",
        "# Reinitialize Parameters\n",
        "BATCH_SIZE = 128\n",
        "GAMMA = 0.99\n",
        "EPS_START = 0.9\n",
        "EPS_END = 0.05\n",
        "EPS_DECAY = 1000\n",
        "TAU = 0.005\n",
        "LR = 1e-4\n",
        "n_actions = env.action_space.n\n",
        "state, info = env.reset()\n",
        "n_observations = len(state)\n",
        "policy_net = DQN(n_observations, n_actions).to(device)\n",
        "target_net = DQN(n_observations, n_actions).to(device)\n",
        "target_net.load_state_dict(policy_net.state_dict())\n",
        "optimizer = optim.AdamW(policy_net.parameters(), lr=LR, amsgrad=True)\n",
        "memory = ReplayMemory(10000)\n",
        "steps_done = 0\n",
        "episode_durations = []\n",
        "\n",
        "# define reward function\n",
        "counter = 0\n",
        "def reward_function(r):\n",
        "    global counter\n",
        "    if counter < 100:\n",
        "        counter += 1\n",
        "        new_reward = r\n",
        "    else:\n",
        "        counter += 1\n",
        "        new_reward = r * -50\n",
        "    # print(counter, new_reward)\n",
        "    return new_reward\n",
        "\n",
        "# make a new environment\n",
        "init_env = gym.make('CartPole-v1', render_mode='rgb_array')\n",
        "init_env = TransformReward(init_env, lambda r: reward_function(r))\n",
        "folder_name = os.path.join('video', 'CartPole-v1', f'{uuid.uuid4()}')\n",
        "env = RecordVideo(init_env, folder_name, disable_logger=True)\n",
        "\n",
        "# edit train_loop function to reset counter every time the episode ends\n",
        "def train_loop(environment, episodes):\n",
        "\n",
        "    num_episodes = episodes\n",
        "    env = environment\n",
        "    \n",
        "    #### ADDED CODE FOR THIS QUESTION ####\n",
        "    negative_fifty_after_hundred_episode_reward_hist = []\n",
        "\n",
        "    for i_episode in range(num_episodes):\n",
        "        # Initialize the environment and get its state\n",
        "        state, info = env.reset()\n",
        "        state = torch.tensor(state, dtype=torch.float32, device=device).unsqueeze(0)\n",
        "\n",
        "        #### ADDED CODE FOR THIS QUESTION ####\n",
        "        record_reward = []\n",
        "\n",
        "        for t in count():\n",
        "            action = select_action(state)\n",
        "            observation, reward, terminated, truncated, _ = env.step(action.item())\n",
        "\n",
        "            #### ADDED CODE FOR THIS QUESTION ####\n",
        "            record_reward.append(reward)\n",
        "\n",
        "\n",
        "            # Uncomment to print reward\n",
        "            # print('time step:', t, 'reward:', reward)\n",
        "\n",
        "            # Uncomment to print observation\n",
        "            # print('time step:', t, 'observation:', observation)\n",
        "            \n",
        "            reward = torch.tensor([reward], device=device)\n",
        "            done = terminated or truncated\n",
        "\n",
        "            if terminated:\n",
        "                next_state = None\n",
        "            else:\n",
        "                next_state = torch.tensor(observation, dtype=torch.float32, device=device).unsqueeze(0)\n",
        "\n",
        "            # Store the transition in memory\n",
        "            memory.push(state, action, next_state, reward)\n",
        "\n",
        "            # Move to the next state\n",
        "            state = next_state\n",
        "\n",
        "            # Perform one step of the optimization (on the policy network)\n",
        "            optimize_model()\n",
        "\n",
        "            # Soft update of the target network's weights\n",
        "            # θ′ ← τ θ + (1 −τ )θ′\n",
        "            target_net_state_dict = target_net.state_dict()\n",
        "            policy_net_state_dict = policy_net.state_dict()\n",
        "            for key in policy_net_state_dict:\n",
        "                target_net_state_dict[key] = policy_net_state_dict[key]*TAU + target_net_state_dict[key]*(1-TAU)\n",
        "            target_net.load_state_dict(target_net_state_dict)\n",
        "\n",
        "            if done:\n",
        "                episode_durations.append(t + 1)\n",
        "                plot_durations()\n",
        "                global counter\n",
        "                counter = 0\n",
        "                break\n",
        "        \n",
        "        #### ADDED CODE FOR THIS QUESTION ####\n",
        "        negative_fifty_after_hundred_episode_reward_hist.append(record_reward)\n",
        "\n",
        "    print('Complete')\n",
        "    plot_durations(show_result=True)\n",
        "    plt.ioff()\n",
        "    plt.show()\n",
        "\n",
        "# call the training loop\n",
        "train_loop(env, 500)  # Edit this!!!\n",
        "\n",
        "# close the environment\n",
        "env.close()"
      ]
    },
    {
      "cell_type": "markdown",
      "metadata": {},
      "source": [
        "5.3.2 Create a new folder called `student_created_graphs`. Save the graphs you made in 5.3.1 (and all graphs you use in answers going forth), place them in this new folder, then display them using markdown `![Description](student_created_graphs/your_graph.png)` in the cell below. &emsp; <span style=\"color:green\">(1 Point)</span>"
      ]
    },
    {
      "cell_type": "markdown",
      "metadata": {},
      "source": [
        "<span style=\"color:green\">Answer</span>"
      ]
    },
    {
      "cell_type": "markdown",
      "metadata": {},
      "source": [
        "5.4 Think of an interesting alternative reward transformation function that changes the behavior of the model in a noticeable way. What changed? Why did your modified reward cause this change? Make sure to display the plots/graphs you used to view this change. &emsp; <span style=\"color:green\">(2 Points)</span>"
      ]
    },
    {
      "cell_type": "code",
      "execution_count": null,
      "metadata": {},
      "outputs": [],
      "source": [
        "##### Answer #####"
      ]
    },
    {
      "cell_type": "markdown",
      "metadata": {},
      "source": [
        "<span style=\"color:green\">Answer</span>"
      ]
    },
    {
      "cell_type": "markdown",
      "metadata": {},
      "source": [
        "5.5 Write a paragraph on how reward affects learning using what you've learned so far in this homework.&emsp; <span style=\"color:green\">(2 Points)</span>"
      ]
    },
    {
      "cell_type": "markdown",
      "metadata": {},
      "source": [
        "<span style=\"color:green\">Answer</span>"
      ]
    },
    {
      "cell_type": "markdown",
      "metadata": {},
      "source": [
        "## Question 6 Manipulating the Observation&emsp; <span style=\"color:green\">(5 Points Total)</span>\n",
        "\n",
        "6.1 Using a Gymnasium [observation wrapper](https://gymnasium.farama.org/api/wrappers/observation_wrappers/) or directly zeroing out the indexes of the observation manipulate the observation so that the model can only see the angle of the pole. \n",
        "\n",
        "<span style=\"color:green\">(2 Points)</span>"
      ]
    },
    {
      "cell_type": "code",
      "execution_count": null,
      "metadata": {},
      "outputs": [],
      "source": [
        "##### Answer #####"
      ]
    },
    {
      "cell_type": "markdown",
      "metadata": {},
      "source": [
        "6.2 How does this affect learning (include graph)? &emsp; <span style=\"color:green\">(1 Point)</span>"
      ]
    },
    {
      "cell_type": "markdown",
      "metadata": {},
      "source": [
        "<span style=\"color:green\">Answer</span>"
      ]
    },
    {
      "cell_type": "markdown",
      "metadata": {},
      "source": [
        "6.3 In theory, how should increasing/decreasing the obervation space affect learning? The current observations we are feeding to the model clearly include useful information. Are all observations equally useful? Could we theoretically add a useless observation? What are the tradeoffs of adding more observations? &emsp; <span style=\"color:green\">(1 Point)</span>"
      ]
    },
    {
      "cell_type": "markdown",
      "metadata": {},
      "source": [
        "<span style=\"color:green\">Answer</span>"
      ]
    },
    {
      "cell_type": "markdown",
      "metadata": {},
      "source": [
        "6.4 The current observation space is cart position, cart velocity, pole angle, and pole angular velocity. What if we changed the observation to the current frame, or a stack of frames of the environment? Reflect on in a single paragraph the benefits/detriments to doing this change, what factors are considered when choosing observations in general, and the importance of selecting a good observation space. &emsp; <span style=\"color:green\">(2 Points)</span>"
      ]
    },
    {
      "cell_type": "markdown",
      "metadata": {},
      "source": [
        "<span style=\"color:green\">Answer</span>"
      ]
    },
    {
      "cell_type": "markdown",
      "metadata": {},
      "source": [
        "6.5 Manipulating the observation changes what the model can see of the environment. What if we manipulate the environment itself? What could we change in the environment to make this cartpole task harder to learn what could we do to make it easier? &emsp; <span style=\"color:green\">(1 Point)</span>"
      ]
    },
    {
      "cell_type": "markdown",
      "metadata": {},
      "source": [
        "<span style=\"color:green\">Answer</span>"
      ]
    },
    {
      "cell_type": "markdown",
      "metadata": {},
      "source": [
        "## Question 7 Spikes into Actions&emsp; <span style=\"color:green\">(10 Points Total)</span>\n",
        "\n",
        "In a future assigment instead of training a RL agent model, you will be training an organoid. As you learned in the electrophysiology homework, the output of an organoid is represented in spiketrains. "
      ]
    },
    {
      "cell_type": "markdown",
      "metadata": {},
      "source": [
        "Here is how to create a rate coded tensor by creating a tensor of probabilities and running a Bernouli trial over it:"
      ]
    },
    {
      "cell_type": "code",
      "execution_count": null,
      "metadata": {},
      "outputs": [],
      "source": [
        "# Temporal Dynamics\n",
        "num_steps = 50\n",
        "\n",
        "# create vector filled with 0.5\n",
        "raw_vector = torch.ones(2, num_steps)*0.5\n",
        "\n",
        "# pass each sample through a Bernoulli trial\n",
        "rate_coded_vector = torch.bernoulli(raw_vector)\n",
        "print(f\"Converted vector: {rate_coded_vector}\")\n",
        "\n",
        "print(f\"The output is spiking {rate_coded_vector.sum()*100/torch.numel(rate_coded_vector):.2f}% of the time.\")"
      ]
    },
    {
      "cell_type": "markdown",
      "metadata": {},
      "source": [
        "Here is how to concatenate multiple tensors to make a artificial spike train:"
      ]
    },
    {
      "cell_type": "code",
      "execution_count": null,
      "metadata": {},
      "outputs": [],
      "source": [
        "raw_vector_1 = torch.ones(2, num_steps)*0.8\n",
        "raw_vector_2 = torch.ones(2, num_steps)*0.3\n",
        "raw_vector_sum = torch.cat((raw_vector_1, raw_vector_2))\n",
        "artificial_spike_train = torch.bernoulli(raw_vector_sum)\n",
        "print(artificial_spike_train)\n",
        "print(artificial_spike_train.size())"
      ]
    },
    {
      "cell_type": "markdown",
      "metadata": {},
      "source": [
        "Here is how to visualize the artificial spike train with a raster plot using `spikeplot.raster` from `snnTorch`:\n",
        "\n",
        "As you can see, \"neurons\" 0 and 1 are spiking 80% of the time, and \"neurons\" 2 and 3 are spiking 30% of the time.  \n",
        "\n",
        "`spikeplot.raster` docs -> https://snntorch.readthedocs.io/en/latest/snntorch.spikeplot.html#snntorch.spikeplot.raster"
      ]
    },
    {
      "cell_type": "code",
      "execution_count": null,
      "metadata": {},
      "outputs": [],
      "source": [
        "fig = plt.figure(facecolor=\"w\", figsize=(10, 5))\n",
        "ax = fig.add_subplot(111)\n",
        "\n",
        "# transpose the spike train so that time is the first dimension\n",
        "artificial_spike_train = torch.transpose(artificial_spike_train, 0, 1)\n",
        "\n",
        "#  s: size of scatter points; c: color of scatter points\n",
        "splt.raster(artificial_spike_train, ax, s=1.5, c=\"black\")\n",
        "plt.title(\"Input Layer\")\n",
        "plt.xlabel(\"Time step\")\n",
        "plt.ylabel(\"Neuron Number\")\n",
        "plt.show()"
      ]
    },
    {
      "cell_type": "markdown",
      "metadata": {},
      "source": [
        "7.1 Ratio Threshold Decoding &emsp; <span style=\"color:green\">(2 Points)</span>\n",
        "\n",
        "One way to decode spikes into actions is to choose a a ratio threshold where if the ratio of spikes is greater than that ratio choose one action and if it is below that ratio choose a different action. This could also be used to determine whether or not to do an action. \n",
        "\n",
        "Fill in the following function that takes in a spike train and a ratio threshold (0-1). The function should calculate the ratio between the sum of all the spikes and the number of time steps multiplied by the number of neurons. If that ratio is less than or equal to the ratio threshold push the cart left (action 0), else push the cart to the right (action 1)."
      ]
    },
    {
      "cell_type": "code",
      "execution_count": null,
      "metadata": {},
      "outputs": [],
      "source": [
        "def ratio_threshold(spike_train, ratio_threshold):\n",
        "    ###### Answer #####\n",
        "    action = _\n",
        "    return action"
      ]
    },
    {
      "cell_type": "code",
      "execution_count": null,
      "metadata": {},
      "outputs": [],
      "source": [
        "init_env = gym.make('CartPole-v1', render_mode='rgb_array')\n",
        "\n",
        "folder_name = os.path.join('video', 'CartPole-v1', f'{uuid.uuid4()}')\n",
        "\n",
        "# Use the wrapper environment RecordVideo() to record video\n",
        "env = RecordVideo(init_env, folder_name, disable_logger=True)\n",
        "\n",
        "observation, info = env.reset()\n",
        "\n",
        "for _ in range(1000):\n",
        "    new_spike_train = torch.bernoulli(\n",
        "        torch.cat((\n",
        "            torch.ones(2,num_steps) * 0.5,\n",
        "            torch.ones(2, num_steps) * 0.3\n",
        "        ))\n",
        "    )\n",
        "    action = ratio_threshold(new_spike_train, 0.5)\n",
        "    observation, reward, terminated, truncated, info = env.step(action)\n",
        "\n",
        "    if terminated or truncated:\n",
        "        observation, info = env.reset()\n",
        "\n",
        "env.close()\n",
        "\n",
        "show_video(folder_name)"
      ]
    },
    {
      "cell_type": "code",
      "execution_count": null,
      "metadata": {},
      "outputs": [],
      "source": [
        "# Delete the videos\n",
        "\n",
        "# Check if the directory exists\n",
        "if os.path.exists(folder_name):\n",
        "    # Remove the directory\n",
        "    shutil.rmtree(folder_name)\n",
        "    print(\"Directory deleted successfully.\")\n",
        "else:\n",
        "    print(\"Directory does not exist.\")"
      ]
    },
    {
      "cell_type": "markdown",
      "metadata": {},
      "source": [
        "7.2 Neuron Comparison Decoding&emsp; <span style=\"color:green\">(2 Points)</span>\n",
        "\n",
        "One way to decode spikes into actions is to compare the density or sum of spikes of groups of selected neurons. Then you would compare the sum or density to decide on an action.\n",
        "\n",
        "Fill in the following functions takes in a spike train and two lists indicating the neurons for the groups. The first function should compare spike sums, and the second function should compare spike density."
      ]
    },
    {
      "cell_type": "code",
      "execution_count": null,
      "metadata": {},
      "outputs": [],
      "source": [
        "def sum_comparison(spike_train, group1, group2):\n",
        "    ###### Answer #####\n",
        "    action = _\n",
        "    return action"
      ]
    },
    {
      "cell_type": "code",
      "execution_count": null,
      "metadata": {},
      "outputs": [],
      "source": [
        "def density_comparison(spike_train, group1, group2):\n",
        "    ###### Answer #####\n",
        "    action = _\n",
        "    return action"
      ]
    },
    {
      "cell_type": "code",
      "execution_count": null,
      "metadata": {},
      "outputs": [],
      "source": [
        "init_env = gym.make('CartPole-v1', render_mode='rgb_array')\n",
        "\n",
        "folder_name = os.path.join('video', 'CartPole-v1', f'{uuid.uuid4()}')\n",
        "\n",
        "# Use the wrapper environment RecordVideo() to record video\n",
        "env = RecordVideo(init_env, folder_name, disable_logger=True)\n",
        "\n",
        "observation, info = env.reset()\n",
        "\n",
        "for _ in range(1000):\n",
        "    new_spike_train = torch.bernoulli(\n",
        "        torch.cat((\n",
        "            torch.ones(2,num_steps) * 0.5,\n",
        "            torch.ones(2, num_steps) * 0.3\n",
        "        ))\n",
        "    )\n",
        "    action = sum_comparison(new_spike_train, [0,1], [2,3])\n",
        "    observation, reward, terminated, truncated, info = env.step(action)\n",
        "\n",
        "    if terminated or truncated:\n",
        "        observation, info = env.reset()\n",
        "\n",
        "env.close()\n",
        "\n",
        "show_video(folder_name)"
      ]
    },
    {
      "cell_type": "code",
      "execution_count": null,
      "metadata": {},
      "outputs": [],
      "source": [
        "# Delete the videos\n",
        "\n",
        "# Check if the directory exists\n",
        "if os.path.exists(folder_name):\n",
        "    # Remove the directory\n",
        "    shutil.rmtree(folder_name)\n",
        "    print(\"Directory deleted successfully.\")\n",
        "else:\n",
        "    print(\"Directory does not exist.\")"
      ]
    },
    {
      "cell_type": "code",
      "execution_count": null,
      "metadata": {},
      "outputs": [],
      "source": [
        "init_env = gym.make('CartPole-v1', render_mode='rgb_array')\n",
        "\n",
        "folder_name = os.path.join('video', 'CartPole-v1', f'{uuid.uuid4()}')\n",
        "\n",
        "# Use the wrapper environment RecordVideo() to record video\n",
        "env = RecordVideo(init_env, folder_name, disable_logger=True)\n",
        "\n",
        "observation, info = env.reset()\n",
        "\n",
        "for _ in range(1000):\n",
        "    new_spike_train = torch.bernoulli(\n",
        "        torch.cat((\n",
        "            torch.ones(2,num_steps) * 0.5,\n",
        "            torch.ones(2, num_steps) * 0.3\n",
        "        ))\n",
        "    )\n",
        "    action = sum_comparison(new_spike_train, [0,2], [1,3])\n",
        "    observation, reward, terminated, truncated, info = env.step(action)\n",
        "\n",
        "    if terminated or truncated:\n",
        "        observation, info = env.reset()\n",
        "\n",
        "env.close()\n",
        "\n",
        "show_video(folder_name)"
      ]
    },
    {
      "cell_type": "code",
      "execution_count": null,
      "metadata": {},
      "outputs": [],
      "source": [
        "# Delete the videos\n",
        "\n",
        "# Check if the directory exists\n",
        "if os.path.exists(folder_name):\n",
        "    # Remove the directory\n",
        "    shutil.rmtree(folder_name)\n",
        "    print(\"Directory deleted successfully.\")\n",
        "else:\n",
        "    print(\"Directory does not exist.\")"
      ]
    },
    {
      "cell_type": "code",
      "execution_count": null,
      "metadata": {},
      "outputs": [],
      "source": [
        "init_env = gym.make('CartPole-v1', render_mode='rgb_array')\n",
        "\n",
        "folder_name = os.path.join('video', 'CartPole-v1', f'{uuid.uuid4()}')\n",
        "\n",
        "# Use the wrapper environment RecordVideo() to record video\n",
        "env = RecordVideo(init_env, folder_name, disable_logger=True)\n",
        "\n",
        "observation, info = env.reset()\n",
        "\n",
        "for _ in range(1000):\n",
        "    new_spike_train = torch.bernoulli(\n",
        "        torch.cat((\n",
        "            torch.ones(2,num_steps) * 0.5,\n",
        "            torch.ones(2, num_steps) * 0.3\n",
        "        ))\n",
        "    )\n",
        "    action = density_comparison(new_spike_train, [0], [1,2,3])\n",
        "    observation, reward, terminated, truncated, info = env.step(action)\n",
        "\n",
        "    if terminated or truncated:\n",
        "        observation, info = env.reset()\n",
        "\n",
        "env.close()\n",
        "\n",
        "show_video(folder_name)"
      ]
    },
    {
      "cell_type": "code",
      "execution_count": null,
      "metadata": {},
      "outputs": [],
      "source": [
        "# Delete the videos\n",
        "\n",
        "# Check if the directory exists\n",
        "if os.path.exists(folder_name):\n",
        "    # Remove the directory\n",
        "    shutil.rmtree(folder_name)\n",
        "    print(\"Directory deleted successfully.\")\n",
        "else:\n",
        "    print(\"Directory does not exist.\")"
      ]
    },
    {
      "cell_type": "markdown",
      "metadata": {},
      "source": [
        "7.3 Stochastic Spike Decoding&emsp; <span style=\"color:green\">(2 Points)</span>\n",
        "\n",
        "Instead of comparing the spike densities of groups of neurons, one could interpret the density of a subset of the spike train as a probability to take an action. \n",
        "\n",
        "Fill in the following function that takes in a spike train, and a list of neurons in a group. It then calculates the density of that group and then uses that probability to determine if the cart pole should move right (1). That is if the density is 0.9, there is a 90% chance the cart will be moved right, else move the cart left (0). \n",
        "\n",
        "Hint: You can use `random.random()` to generate a random number between 0.0 and 1.0."
      ]
    },
    {
      "cell_type": "code",
      "execution_count": null,
      "metadata": {},
      "outputs": [],
      "source": [
        "def stochastic_spike_decoding(spike_train, group):\n",
        "    ###### Answer #####\n",
        "    action = _\n",
        "    return action"
      ]
    },
    {
      "cell_type": "code",
      "execution_count": null,
      "metadata": {},
      "outputs": [],
      "source": [
        "init_env = gym.make('CartPole-v1', render_mode='rgb_array')\n",
        "\n",
        "folder_name = os.path.join('video', 'CartPole-v1', f'{uuid.uuid4()}')\n",
        "\n",
        "# Use the wrapper environment RecordVideo() to record video\n",
        "env = RecordVideo(init_env, folder_name, disable_logger=True)\n",
        "\n",
        "observation, info = env.reset()\n",
        "\n",
        "for _ in range(1000):\n",
        "    new_spike_train = torch.bernoulli(\n",
        "        torch.cat((\n",
        "            torch.ones(2,num_steps) * 0.5,\n",
        "            torch.ones(2, num_steps) * 0.3\n",
        "        ))\n",
        "    )\n",
        "    action = stochastic_spike_decoding(new_spike_train, [0, 1, 2])\n",
        "    observation, reward, terminated, truncated, info = env.step(action)\n",
        "\n",
        "    if terminated or truncated:\n",
        "        observation, info = env.reset()\n",
        "\n",
        "env.close()\n",
        "\n",
        "show_video(folder_name)"
      ]
    },
    {
      "cell_type": "code",
      "execution_count": null,
      "metadata": {},
      "outputs": [],
      "source": [
        "# Delete the videos\n",
        "\n",
        "# Check if the directory exists\n",
        "if os.path.exists(folder_name):\n",
        "    # Remove the directory\n",
        "    shutil.rmtree(folder_name)\n",
        "    print(\"Directory deleted successfully.\")\n",
        "else:\n",
        "    print(\"Directory does not exist.\")"
      ]
    },
    {
      "cell_type": "markdown",
      "metadata": {},
      "source": [
        "7.4 Decode Into a Continuous Action Space&emsp; <span style=\"color:green\">(1 Points)</span>\n",
        "\n",
        "So far we have been working with binary descrete actions, but it is possible to not only have multiple actions but a continuous action space instead. For example, if you wanted to determine the degrees a agent controlling a top down character mouse should move. A continuous action space would include not just the 360 degree angles, but even the decimal points in between them. \n",
        "\n",
        "Create a function that takes in a spike train and outputs a angle from 0-360 a theoretical mouse should move by returning the product of density and 360."
      ]
    },
    {
      "cell_type": "code",
      "execution_count": null,
      "metadata": {},
      "outputs": [],
      "source": [
        "def continuous_degrees_turned(spike_train):\n",
        "    ##### Answer ######\n",
        "    action = _\n",
        "    return action"
      ]
    },
    {
      "cell_type": "code",
      "execution_count": null,
      "metadata": {},
      "outputs": [],
      "source": [
        "angle = continuous_degrees_turned(artificial_spike_train)\n",
        "print(angle)"
      ]
    },
    {
      "cell_type": "markdown",
      "metadata": {},
      "source": [
        "7.5 Do it yourself!&emsp; <span style=\"color:green\">(3 Points)</span>\n",
        "\n",
        "Create your own spike decoding to action function by combining the various techniques we just showed you or something else entirely! Then show that it works as expected by feeding a spike train into it. We want you to be creative and think about how you will decode the spikes in the upcoming project."
      ]
    },
    {
      "cell_type": "code",
      "execution_count": null,
      "metadata": {},
      "outputs": [],
      "source": [
        "##### Answer #####"
      ]
    },
    {
      "cell_type": "markdown",
      "metadata": {},
      "source": [
        "## Feedback (Optional)\n",
        "\n",
        "This is a new homework for this quarter, plase provide feedback on things you think could be improved or even if you like it as is."
      ]
    },
    {
      "cell_type": "markdown",
      "metadata": {},
      "source": [
        "<span style=\"color:green\">Answer</span>"
      ]
    }
  ],
  "metadata": {
    "accelerator": "GPU",
    "colab": {
      "gpuType": "T4",
      "provenance": []
    },
    "kernelspec": {
      "display_name": "Python 3 (ipykernel)",
      "language": "python",
      "name": "python3"
    },
    "language_info": {
      "codemirror_mode": {
        "name": "ipython",
        "version": 3
      },
      "file_extension": ".py",
      "mimetype": "text/x-python",
      "name": "python",
      "nbconvert_exporter": "python",
      "pygments_lexer": "ipython3",
      "version": "3.10.13"
    }
  },
  "nbformat": 4,
  "nbformat_minor": 0
}
