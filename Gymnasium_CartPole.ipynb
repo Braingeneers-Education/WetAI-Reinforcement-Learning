{
  "cells": [
    {
      "cell_type": "markdown",
      "metadata": {},
      "source": [
        "# Intro to Reinforcement Learning"
      ]
    },
    {
      "cell_type": "markdown",
      "metadata": {},
      "source": [
        "In this assignment you will learn the basics of reinforcement learning (RL), as well how to train a DQN RL model.\n",
        "\n",
        "A lot of this information, text, and code is directly pooled from the following sources\n",
        "\n",
        "Credits:\n",
        "* Hugging Face Deep RL course [source](https://huggingface.co/learn/deep-rl-course/unit0/introduction)\n",
        "* Gymnasium-Colaboratory-Starter [source](https://github.com/hom-bahrani/Gymnasium-Colaboratory-Starter)\n",
        "* PyTorch RL Tutorials [source](https://pytorch.org/tutorials/)\n",
        "* Wikipedia RL Page [source](https://en.wikipedia.org/wiki/Reinforcement_learning)"
      ]
    },
    {
      "cell_type": "markdown",
      "metadata": {},
      "source": [
        "First, install and import the packages and libraries you will need throughout this exercise"
      ]
    },
    {
      "cell_type": "code",
      "execution_count": 1,
      "metadata": {
        "colab": {
          "base_uri": "https://localhost:8080/"
        },
        "id": "-MGHP8DHMBKp",
        "outputId": "b8a735b9-32d3-416e-e7bf-364e88b14fca"
      },
      "outputs": [
        {
          "name": "stdout",
          "output_type": "stream",
          "text": [
            "Requirement already satisfied: gymnasium in /usr/local/python/3.10.13/lib/python3.10/site-packages (0.29.1)\n",
            "Requirement already satisfied: numpy>=1.21.0 in /home/codespace/.local/lib/python3.10/site-packages (from gymnasium) (1.26.4)\n",
            "Requirement already satisfied: cloudpickle>=1.2.0 in /usr/local/python/3.10.13/lib/python3.10/site-packages (from gymnasium) (3.0.0)\n",
            "Requirement already satisfied: typing-extensions>=4.3.0 in /home/codespace/.local/lib/python3.10/site-packages (from gymnasium) (4.10.0)\n",
            "Requirement already satisfied: farama-notifications>=0.0.1 in /usr/local/python/3.10.13/lib/python3.10/site-packages (from gymnasium) (0.0.4)\n",
            "Note: you may need to restart the kernel to use updated packages.\n",
            "Requirement already satisfied: gymnasium[classic-control] in /usr/local/python/3.10.13/lib/python3.10/site-packages (0.29.1)\n",
            "Requirement already satisfied: numpy>=1.21.0 in /home/codespace/.local/lib/python3.10/site-packages (from gymnasium[classic-control]) (1.26.4)\n",
            "Requirement already satisfied: cloudpickle>=1.2.0 in /usr/local/python/3.10.13/lib/python3.10/site-packages (from gymnasium[classic-control]) (3.0.0)\n",
            "Requirement already satisfied: typing-extensions>=4.3.0 in /home/codespace/.local/lib/python3.10/site-packages (from gymnasium[classic-control]) (4.10.0)\n",
            "Requirement already satisfied: farama-notifications>=0.0.1 in /usr/local/python/3.10.13/lib/python3.10/site-packages (from gymnasium[classic-control]) (0.0.4)\n",
            "Requirement already satisfied: pygame>=2.1.3 in /usr/local/python/3.10.13/lib/python3.10/site-packages (from gymnasium[classic-control]) (2.5.2)\n",
            "Note: you may need to restart the kernel to use updated packages.\n",
            "Requirement already satisfied: swig in /usr/local/python/3.10.13/lib/python3.10/site-packages (4.2.1)\n",
            "Note: you may need to restart the kernel to use updated packages.\n",
            "Requirement already satisfied: pyvirtualdisplay in /usr/local/python/3.10.13/lib/python3.10/site-packages (3.0)\n",
            "Note: you may need to restart the kernel to use updated packages.\n",
            "Requirement already satisfied: moviepy in /usr/local/python/3.10.13/lib/python3.10/site-packages (1.0.3)\n",
            "Requirement already satisfied: decorator<5.0,>=4.0.2 in /usr/local/python/3.10.13/lib/python3.10/site-packages (from moviepy) (4.4.2)\n",
            "Requirement already satisfied: tqdm<5.0,>=4.11.2 in /usr/local/python/3.10.13/lib/python3.10/site-packages (from moviepy) (4.66.2)\n",
            "Requirement already satisfied: requests<3.0,>=2.8.1 in /home/codespace/.local/lib/python3.10/site-packages (from moviepy) (2.31.0)\n",
            "Requirement already satisfied: proglog<=1.0.0 in /usr/local/python/3.10.13/lib/python3.10/site-packages (from moviepy) (0.1.10)\n",
            "Requirement already satisfied: numpy>=1.17.3 in /home/codespace/.local/lib/python3.10/site-packages (from moviepy) (1.26.4)\n",
            "Requirement already satisfied: imageio<3.0,>=2.5 in /usr/local/python/3.10.13/lib/python3.10/site-packages (from moviepy) (2.34.1)\n",
            "Requirement already satisfied: imageio-ffmpeg>=0.2.0 in /usr/local/python/3.10.13/lib/python3.10/site-packages (from moviepy) (0.4.9)\n",
            "Requirement already satisfied: pillow>=8.3.2 in /home/codespace/.local/lib/python3.10/site-packages (from imageio<3.0,>=2.5->moviepy) (10.3.0)\n",
            "Requirement already satisfied: setuptools in /usr/local/python/3.10.13/lib/python3.10/site-packages (from imageio-ffmpeg>=0.2.0->moviepy) (68.2.2)\n",
            "Requirement already satisfied: charset-normalizer<4,>=2 in /home/codespace/.local/lib/python3.10/site-packages (from requests<3.0,>=2.8.1->moviepy) (3.3.2)\n",
            "Requirement already satisfied: idna<4,>=2.5 in /home/codespace/.local/lib/python3.10/site-packages (from requests<3.0,>=2.8.1->moviepy) (3.6)\n",
            "Requirement already satisfied: urllib3<3,>=1.21.1 in /usr/local/python/3.10.13/lib/python3.10/site-packages (from requests<3.0,>=2.8.1->moviepy) (2.0.7)\n",
            "Requirement already satisfied: certifi>=2017.4.17 in /home/codespace/.local/lib/python3.10/site-packages (from requests<3.0,>=2.8.1->moviepy) (2024.2.2)\n",
            "Note: you may need to restart the kernel to use updated packages.\n",
            "Requirement already satisfied: moviepy in /usr/local/python/3.10.13/lib/python3.10/site-packages (1.0.3)\n",
            "Requirement already satisfied: decorator<5.0,>=4.0.2 in /usr/local/python/3.10.13/lib/python3.10/site-packages (from moviepy) (4.4.2)\n",
            "Requirement already satisfied: tqdm<5.0,>=4.11.2 in /usr/local/python/3.10.13/lib/python3.10/site-packages (from moviepy) (4.66.2)\n",
            "Requirement already satisfied: requests<3.0,>=2.8.1 in /home/codespace/.local/lib/python3.10/site-packages (from moviepy) (2.31.0)\n",
            "Requirement already satisfied: proglog<=1.0.0 in /usr/local/python/3.10.13/lib/python3.10/site-packages (from moviepy) (0.1.10)\n",
            "Requirement already satisfied: numpy>=1.17.3 in /home/codespace/.local/lib/python3.10/site-packages (from moviepy) (1.26.4)\n",
            "Requirement already satisfied: imageio<3.0,>=2.5 in /usr/local/python/3.10.13/lib/python3.10/site-packages (from moviepy) (2.34.1)\n",
            "Requirement already satisfied: imageio-ffmpeg>=0.2.0 in /usr/local/python/3.10.13/lib/python3.10/site-packages (from moviepy) (0.4.9)\n",
            "Requirement already satisfied: pillow>=8.3.2 in /home/codespace/.local/lib/python3.10/site-packages (from imageio<3.0,>=2.5->moviepy) (10.3.0)\n",
            "Requirement already satisfied: setuptools in /usr/local/python/3.10.13/lib/python3.10/site-packages (from imageio-ffmpeg>=0.2.0->moviepy) (68.2.2)\n",
            "Requirement already satisfied: charset-normalizer<4,>=2 in /home/codespace/.local/lib/python3.10/site-packages (from requests<3.0,>=2.8.1->moviepy) (3.3.2)\n",
            "Requirement already satisfied: idna<4,>=2.5 in /home/codespace/.local/lib/python3.10/site-packages (from requests<3.0,>=2.8.1->moviepy) (3.6)\n",
            "Requirement already satisfied: urllib3<3,>=1.21.1 in /usr/local/python/3.10.13/lib/python3.10/site-packages (from requests<3.0,>=2.8.1->moviepy) (2.0.7)\n",
            "Requirement already satisfied: certifi>=2017.4.17 in /home/codespace/.local/lib/python3.10/site-packages (from requests<3.0,>=2.8.1->moviepy) (2024.2.2)\n",
            "Note: you may need to restart the kernel to use updated packages.\n",
            "Requirement already satisfied: stable-baselines3 in /usr/local/python/3.10.13/lib/python3.10/site-packages (2.3.2)\n",
            "Requirement already satisfied: gymnasium<0.30,>=0.28.1 in /usr/local/python/3.10.13/lib/python3.10/site-packages (from stable-baselines3) (0.29.1)\n",
            "Requirement already satisfied: numpy>=1.20 in /home/codespace/.local/lib/python3.10/site-packages (from stable-baselines3) (1.26.4)\n",
            "Requirement already satisfied: torch>=1.13 in /home/codespace/.local/lib/python3.10/site-packages (from stable-baselines3) (2.2.2)\n",
            "Requirement already satisfied: cloudpickle in /usr/local/python/3.10.13/lib/python3.10/site-packages (from stable-baselines3) (3.0.0)\n",
            "Requirement already satisfied: pandas in /home/codespace/.local/lib/python3.10/site-packages (from stable-baselines3) (2.2.1)\n",
            "Requirement already satisfied: matplotlib in /home/codespace/.local/lib/python3.10/site-packages (from stable-baselines3) (3.8.3)\n",
            "Requirement already satisfied: typing-extensions>=4.3.0 in /home/codespace/.local/lib/python3.10/site-packages (from gymnasium<0.30,>=0.28.1->stable-baselines3) (4.10.0)\n",
            "Requirement already satisfied: farama-notifications>=0.0.1 in /usr/local/python/3.10.13/lib/python3.10/site-packages (from gymnasium<0.30,>=0.28.1->stable-baselines3) (0.0.4)\n",
            "Requirement already satisfied: filelock in /home/codespace/.local/lib/python3.10/site-packages (from torch>=1.13->stable-baselines3) (3.13.3)\n",
            "Requirement already satisfied: sympy in /home/codespace/.local/lib/python3.10/site-packages (from torch>=1.13->stable-baselines3) (1.12)\n",
            "Requirement already satisfied: networkx in /home/codespace/.local/lib/python3.10/site-packages (from torch>=1.13->stable-baselines3) (3.2.1)\n",
            "Requirement already satisfied: jinja2 in /home/codespace/.local/lib/python3.10/site-packages (from torch>=1.13->stable-baselines3) (3.1.3)\n",
            "Requirement already satisfied: fsspec in /home/codespace/.local/lib/python3.10/site-packages (from torch>=1.13->stable-baselines3) (2024.3.1)\n",
            "Requirement already satisfied: nvidia-cuda-nvrtc-cu12==12.1.105 in /home/codespace/.local/lib/python3.10/site-packages (from torch>=1.13->stable-baselines3) (12.1.105)\n",
            "Requirement already satisfied: nvidia-cuda-runtime-cu12==12.1.105 in /home/codespace/.local/lib/python3.10/site-packages (from torch>=1.13->stable-baselines3) (12.1.105)\n",
            "Requirement already satisfied: nvidia-cuda-cupti-cu12==12.1.105 in /home/codespace/.local/lib/python3.10/site-packages (from torch>=1.13->stable-baselines3) (12.1.105)\n",
            "Requirement already satisfied: nvidia-cudnn-cu12==8.9.2.26 in /home/codespace/.local/lib/python3.10/site-packages (from torch>=1.13->stable-baselines3) (8.9.2.26)\n",
            "Requirement already satisfied: nvidia-cublas-cu12==12.1.3.1 in /home/codespace/.local/lib/python3.10/site-packages (from torch>=1.13->stable-baselines3) (12.1.3.1)\n",
            "Requirement already satisfied: nvidia-cufft-cu12==11.0.2.54 in /home/codespace/.local/lib/python3.10/site-packages (from torch>=1.13->stable-baselines3) (11.0.2.54)\n",
            "Requirement already satisfied: nvidia-curand-cu12==10.3.2.106 in /home/codespace/.local/lib/python3.10/site-packages (from torch>=1.13->stable-baselines3) (10.3.2.106)\n",
            "Requirement already satisfied: nvidia-cusolver-cu12==11.4.5.107 in /home/codespace/.local/lib/python3.10/site-packages (from torch>=1.13->stable-baselines3) (11.4.5.107)\n",
            "Requirement already satisfied: nvidia-cusparse-cu12==12.1.0.106 in /home/codespace/.local/lib/python3.10/site-packages (from torch>=1.13->stable-baselines3) (12.1.0.106)\n",
            "Requirement already satisfied: nvidia-nccl-cu12==2.19.3 in /home/codespace/.local/lib/python3.10/site-packages (from torch>=1.13->stable-baselines3) (2.19.3)\n",
            "Requirement already satisfied: nvidia-nvtx-cu12==12.1.105 in /home/codespace/.local/lib/python3.10/site-packages (from torch>=1.13->stable-baselines3) (12.1.105)\n",
            "Requirement already satisfied: triton==2.2.0 in /home/codespace/.local/lib/python3.10/site-packages (from torch>=1.13->stable-baselines3) (2.2.0)\n",
            "Requirement already satisfied: nvidia-nvjitlink-cu12 in /home/codespace/.local/lib/python3.10/site-packages (from nvidia-cusolver-cu12==11.4.5.107->torch>=1.13->stable-baselines3) (12.4.99)\n",
            "Requirement already satisfied: contourpy>=1.0.1 in /home/codespace/.local/lib/python3.10/site-packages (from matplotlib->stable-baselines3) (1.2.1)\n",
            "Requirement already satisfied: cycler>=0.10 in /home/codespace/.local/lib/python3.10/site-packages (from matplotlib->stable-baselines3) (0.12.1)\n",
            "Requirement already satisfied: fonttools>=4.22.0 in /home/codespace/.local/lib/python3.10/site-packages (from matplotlib->stable-baselines3) (4.50.0)\n",
            "Requirement already satisfied: kiwisolver>=1.3.1 in /home/codespace/.local/lib/python3.10/site-packages (from matplotlib->stable-baselines3) (1.4.5)\n",
            "Requirement already satisfied: packaging>=20.0 in /home/codespace/.local/lib/python3.10/site-packages (from matplotlib->stable-baselines3) (24.0)\n",
            "Requirement already satisfied: pillow>=8 in /home/codespace/.local/lib/python3.10/site-packages (from matplotlib->stable-baselines3) (10.3.0)\n",
            "Requirement already satisfied: pyparsing>=2.3.1 in /home/codespace/.local/lib/python3.10/site-packages (from matplotlib->stable-baselines3) (3.1.2)\n",
            "Requirement already satisfied: python-dateutil>=2.7 in /home/codespace/.local/lib/python3.10/site-packages (from matplotlib->stable-baselines3) (2.9.0.post0)\n",
            "Requirement already satisfied: pytz>=2020.1 in /home/codespace/.local/lib/python3.10/site-packages (from pandas->stable-baselines3) (2024.1)\n",
            "Requirement already satisfied: tzdata>=2022.7 in /home/codespace/.local/lib/python3.10/site-packages (from pandas->stable-baselines3) (2024.1)\n",
            "Requirement already satisfied: six>=1.5 in /home/codespace/.local/lib/python3.10/site-packages (from python-dateutil>=2.7->matplotlib->stable-baselines3) (1.16.0)\n",
            "Requirement already satisfied: MarkupSafe>=2.0 in /home/codespace/.local/lib/python3.10/site-packages (from jinja2->torch>=1.13->stable-baselines3) (2.1.5)\n",
            "Requirement already satisfied: mpmath>=0.19 in /home/codespace/.local/lib/python3.10/site-packages (from sympy->torch>=1.13->stable-baselines3) (1.3.0)\n",
            "Note: you may need to restart the kernel to use updated packages.\n"
          ]
        }
      ],
      "source": [
        "# install gymnasium packages\n",
        "%pip install gymnasium\n",
        "%pip install gymnasium[classic-control]\n",
        "%pip install swig\n",
        "\n",
        "# install virtual display packages\n",
        "%pip install pyvirtualdisplay\n",
        "%pip install moviepy\n",
        "%pip install --upgrade moviepy\n",
        "\n",
        "# install stable baselines3\n",
        "%pip install stable-baselines3"
      ]
    },
    {
      "cell_type": "code",
      "execution_count": 2,
      "metadata": {},
      "outputs": [
        {
          "name": "stdout",
          "output_type": "stream",
          "text": [
            "Hit:2 https://dl.yarnpkg.com/debian stable InRelease\n",
            "Get:3 http://security.ubuntu.com/ubuntu focal-security InRelease [114 kB]\n",
            "Get:4 https://packages.microsoft.com/repos/microsoft-ubuntu-focal-prod focal InRelease [3632 B]\n",
            "Hit:5 https://repo.anaconda.com/pkgs/misc/debrepo/conda stable InRelease\n",
            "Hit:6 http://archive.ubuntu.com/ubuntu focal InRelease\n",
            "Hit:1 https://packagecloud.io/github/git-lfs/ubuntu focal InRelease\n",
            "Get:7 http://archive.ubuntu.com/ubuntu focal-updates InRelease [114 kB]\n",
            "Get:8 http://security.ubuntu.com/ubuntu focal-security/universe amd64 Packages [1201 kB]\n",
            "Hit:9 http://archive.ubuntu.com/ubuntu focal-backports InRelease\n",
            "Get:10 http://security.ubuntu.com/ubuntu focal-security/main amd64 Packages [3595 kB]\n",
            "Get:11 http://archive.ubuntu.com/ubuntu focal-updates/main amd64 Packages [4069 kB]\n",
            "Get:12 http://archive.ubuntu.com/ubuntu focal-updates/universe amd64 Packages [1496 kB]\n",
            "Fetched 10.6 MB in 2s (4837 kB/s)\n",
            "Reading package lists...\n",
            "Building dependency tree...\n",
            "Reading state information...\n",
            "40 packages can be upgraded. Run 'apt list --upgradable' to see them.\n",
            "Reading package lists...\n",
            "Building dependency tree...\n",
            "Reading state information...\n",
            "xvfb is already the newest version (2:1.20.13-1ubuntu1~20.04.17).\n",
            "0 upgraded, 0 newly installed, 0 to remove and 40 not upgraded.\n"
          ]
        }
      ],
      "source": [
        "# Update the Package Index\n",
        "!sudo apt update --quiet\n",
        "\n",
        "# Install xvfb\n",
        "!sudo apt-get install -y xvfb --quiet"
      ]
    },
    {
      "cell_type": "code",
      "execution_count": 3,
      "metadata": {
        "id": "LzeSyt4-OPR_"
      },
      "outputs": [],
      "source": [
        "# gymnasium imports\n",
        "import gymnasium as gym\n",
        "from gymnasium.wrappers.record_video import RecordVideo\n",
        "\n",
        "# video imports\n",
        "import glob\n",
        "import uuid\n",
        "import io\n",
        "import base64\n",
        "from IPython.display import HTML\n",
        "# from IPython import display as ipythondisplay\n",
        "\n",
        "# ml imports\n",
        "import torch\n",
        "import torch.nn as nn\n",
        "import torch.optim as optim\n",
        "import torch.nn.functional as F\n",
        "\n",
        "# plot imports\n",
        "import matplotlib\n",
        "import matplotlib.pyplot as plt\n",
        "\n",
        "# set up matplotlib\n",
        "is_ipython = 'inline' in matplotlib.get_backend()\n",
        "if is_ipython:\n",
        "    from IPython import display as ipythondisplay\n",
        "\n",
        "\n",
        "# utility imports\n",
        "import os\n",
        "import math\n",
        "import shutil\n",
        "import random\n",
        "from itertools import count\n",
        "from collections import namedtuple, deque\n",
        "\n",
        "# if GPU is to be used\n",
        "device = torch.device(\"cuda\" if torch.cuda.is_available() else \"cpu\")"
      ]
    },
    {
      "cell_type": "markdown",
      "metadata": {},
      "source": [
        "## 1. What is Reinforcement Learning?"
      ]
    },
    {
      "cell_type": "markdown",
      "metadata": {},
      "source": [
        "<img src=\"images/RL_process.jpg\" width=\"800\" height=\"500\">\n",
        "\n",
        "Along with Supervised Learning and Unsupervised Learning, Reinforcement Learning is one of the 3 basic machine learning paradigms. The idea behind Reinforcement Learning is that an agent (an AI) will learn from the environment by interacting with it (through trial and error) and receiving rewards (negative or positive) as feedback for performing actions.\n",
        "\n",
        "You can think of it like playing a video game where you get points for collecting coins and you lose points for getting hit by enemies. This \"trains\" you to collect coins, while avoiding enemies. Of course, games get a lot more complicated than that which is why one of the main challenges of RL is figuring out how to reward or punish the agent. That is to say, we use the [carrot and the stick](https://en.wikipedia.org/wiki/Carrot_and_stick).\n",
        "\n",
        "The diagram describing how a RL agent interacts with a environment can be interpretated as such:\n",
        "\n",
        "1. The Agent/Model/AI receives a **state $S_t$** (the info the agent receieves from the environment at time t)\n",
        "2. Based on that **state** $S_t$ the agent takes an *action* $A_t$\n",
        "3. The environment goes to a new **state** $S_{t+1}$\n",
        "4. The environment gives some **reward** $R_{t+1}$ to the agent\n",
        "5. repeat\n"
      ]
    },
    {
      "cell_type": "markdown",
      "metadata": {},
      "source": [
        "### 1.1 Defining Cumulative Reward\n",
        "\n",
        "The reward is fundamental in RL because it’s the only feedback for the agent. Thanks to it, our agent knows if the action taken was good or not.\n",
        "\n",
        "Where\n",
        "* $R()$: `Return` is the cumulative reward function\n",
        "* $\\tau$: `Trajectory` represented by *tau* is a sequence of `states` and `actions`\n",
        "* $\\gamma$: `Discount Rate` represented by *gamma* between 0-1\n",
        "* $r_t$: `reward` at time step t\n",
        "\n",
        "The cumulative reward is represented by the function\n",
        "\n",
        "$R(\\tau) = r_{t+1} + \\gamma r_{t+2} + \\gamma^2 r_{t+3} + \\gamma^3 r_{t+4} + ...$\n",
        "\n",
        "or \n",
        "\n",
        "$R(\\tau) = \\sum_{k=0}^{\\infty} \\gamma^k r_{t+k+1}$\n",
        "\n",
        "An important insight here is that $\\gamma$ is exponentiated, this means a smaller $\\gamma$ causes a bigger `discount` and rewards at farther timesteps are `discounted` more. So, the smaller the $\\gamma$ the less the agent cares more about closer/short-term rewards, and the bigger $\\gamma$ the more the agent cares about farther/long-term rewards."
      ]
    },
    {
      "cell_type": "markdown",
      "metadata": {},
      "source": [
        "### 1.2 Defining Policy\n",
        "\n",
        "You can think of `policy`, $\\pi$, as the mind of the agent\n",
        "\n",
        "This `policy` is the function we want to learn, our goal is to find the `optimal policy` $\\pi^*$, the policy that maximizes expected return when the agent acts according to it. We find this $\\pi^*$ through training. \n",
        "\n",
        "Note: $\\pi^*$ is pronounced \"pie-star\" and in algorithms \"*\" (star) often denotes optimality\n",
        "\n",
        "There are two types of policies:\n",
        "\n",
        "1. Deterministic: a policy at a given state will always return the same action.\n",
        "    * $\\pi(s) = a$\n",
        "2. Stochastic: outputs a probability distribution over actions.\n",
        "    * $\\pi(s|a) = P[A|s]$\n",
        "        * $|$ means given\n",
        "        * $P[]$ means probability distribution\n",
        "        * $P[A|s]$ means a probability distribution over a set of actions given a state\n",
        "\n",
        "There are two approaches to **train** our agent to find this optimal policy π*:\n",
        "\n",
        "1. Directly, by teaching the agent to learn which action to take, given the current state: **Policy-Based Methods**.\n",
        "2. Indirectly, teach the agent to learn which state is more valuable and then take the action that leads to the more valuable states: **Value-Based Methods**.\n",
        "\n"
      ]
    },
    {
      "cell_type": "markdown",
      "metadata": {},
      "source": [
        "## 2. Creating an Environment\n",
        "\n",
        "Now that you understand what a Reinforcement Learning agent is and does. Lets create an environment for our prospective RL agent to interact with.\n",
        "\n",
        "To do that we will be using the environment library [Gymnasium](https://gymnasium.farama.org/) which was developed by OpenAI and handed off to the Farama Foundation to maintain and update."
      ]
    },
    {
      "cell_type": "markdown",
      "metadata": {},
      "source": [
        "*GitHub codespaces doesn't have an inbuilt display, create a virtual display instead.*"
      ]
    },
    {
      "cell_type": "code",
      "execution_count": 4,
      "metadata": {
        "colab": {
          "base_uri": "https://localhost:8080/"
        },
        "id": "ruR-EszrTfDX",
        "outputId": "793fb07e-1331-419d-ed03-6cf07f2254c0"
      },
      "outputs": [
        {
          "data": {
            "text/plain": [
              "<pyvirtualdisplay.display.Display at 0x7f4475781330>"
            ]
          },
          "execution_count": 4,
          "metadata": {},
          "output_type": "execute_result"
        }
      ],
      "source": [
        "# install a virtual display\n",
        "from pyvirtualdisplay import Display\n",
        "display = Display(visible=0, size=(1400, 900))\n",
        "display.start()"
      ]
    },
    {
      "cell_type": "markdown",
      "metadata": {},
      "source": [
        "The first virtual environment you will be using is the `'CartPole-v1'` environment. This is a virtual version of the real life Cart Pole/Inverted Pendulum task, here is a short fun [video](https://youtu.be/nOSTzpA0nGk?si=mFYYwhLhTb5hcrpB) for you to see."
      ]
    },
    {
      "cell_type": "markdown",
      "metadata": {},
      "source": [
        "### 2.1 Understanding Gymnasium\n",
        "Remember that at each step:\n",
        "- Our Agent receives a **state ($S_0$)** from the **Environment** — i.e. we receive the first frame of our game (Environment).\n",
        "- Based on that **state ($S_0$),** the Agent takes an **action ($A_0$)** — i.e. our Agent will move to the right.\n",
        "- The environment transitions to a **new** **state ($S_1$)** — i.e. new frame.\n",
        "- The environment gives some **reward ($R_1$)** to the Agent — i.e. we’re not dead *(Positive Reward +1)*.\n",
        "\n",
        "\n",
        "With Gymnasium:\n",
        "\n",
        "1. We create our environment using `gymnasium.make()`\n",
        "2. We reset the environment to its initial state with `observation = env.reset()`\n",
        "\n",
        "At each step:\n",
        "\n",
        "3. Get an action using our model (in our example we take a random action)\n",
        "4. Using `env.step(action)`, we perform this action in the environment and get\n",
        "    - `observation`: The new state ($s_{t+1}$)\n",
        "    - `reward`: The reward we get after executing the action\n",
        "    - `terminated`: Indicates if the episode terminated (agent reach the terminal state)\n",
        "    - `truncated`: Introduced with this new version, it indicates a timelimit or if an agent go out of bounds of the environment for instance.\n",
        "    - `info`: A dictionary that provides additional information (depends on the environment).\n",
        "\n",
        "For more explanations check this 👉 https://gymnasium.farama.org/api/env/#gymnasium.Env.step\n",
        "\n",
        "If the episode is terminated:\n",
        "- We reset the environment to its initial state with `observation = env.reset()`\n",
        "\n",
        "#### 2.2 Task Types\n",
        "There are two types of task: `Episodic Tasks` and `Continuous Tasks`\n",
        "\n",
        "1. Episodic Task\n",
        "    - In this case, we have a starting point and an ending point (a terminal state). This creates an episode: a list of States, Actions, Rewards, and new States.\n",
        "2. Continuous task\n",
        "    - These are tasks that continue forever (no terminal state). In this case, the agent must learn how to choose the best actions and simultaneously interact with the environment.\n",
        "    - For instance, an agent that does automated stock trading. For this task, there is no starting point and terminal state. The agent keeps running until we decide to stop it.\n"
      ]
    },
    {
      "cell_type": "markdown",
      "metadata": {},
      "source": [
        "## Question 1\n",
        "In gymnasium the environments are set up as episodic tasks. A good practice is to look at documentation before using an environment to know its properties. If `'CartPole-v1'` is episodic, that means it must have termination conditions. List `'CartPole-v1'`'s termination conditions below.\n",
        "\n",
        "Link to documentation -> https://gymnasium.farama.org/environments/classic_control/cart_pole/ "
      ]
    },
    {
      "cell_type": "markdown",
      "metadata": {},
      "source": [
        "<span style=\"color:green\">Answer</span>\n",
        "\n",
        "1.\n",
        "2.\n",
        "3."
      ]
    },
    {
      "cell_type": "markdown",
      "metadata": {},
      "source": [
        "#### 2.3 Default Properties of Gymnasium's Cart Pole environment \n",
        "\n",
        "##### **Action Space (The set of possible actions of the model)**\n",
        "\n",
        "The action is a ndarray with shape (1,) which can take values {0, 1} indicating the direction of the fixed force the cart is pushed with.\n",
        "\n",
        "0: Push cart to the left\n",
        "\n",
        "1: Push cart to the right\n",
        "\n",
        "Note: The velocity that is reduced or increased by the applied force is not fixed and it depends on the angle the pole is pointing. The center of gravity of the pole varies the amount of energy needed to move the cart underneath it\n",
        "\n",
        "##### **Observation Space (The subset of the state the actor observes)**\n",
        "\n",
        "The observation is a ndarray with shape (4,) with the values corresponding to the following positions and velocities:\n",
        "\n",
        "<img src=\"images/observation_space.png\" width=\"700\" height=\"200\">\n",
        "\n",
        "##### **Rewards**\n",
        "\n",
        "Since the goal is to keep the pole upright for as long as possible, a reward of +1 for every step taken, including the termination step, is allotted. The threshold for rewards is 500 for v1 and 200 for v0.\n"
      ]
    },
    {
      "cell_type": "code",
      "execution_count": 5,
      "metadata": {},
      "outputs": [
        {
          "name": "stdout",
          "output_type": "stream",
          "text": [
            "_____OBSERVATION SPACE_____ \n",
            "\n",
            "Observation Space Shape (4,)\n",
            "Sample observation [-9.4562209e-01 -6.5808986e+37  2.4927655e-01  8.3306514e+37]\n",
            "\n",
            " _____ACTION SPACE_____ \n",
            "\n",
            "Action Space Shape 2\n",
            "Action Space Sample 1\n"
          ]
        }
      ],
      "source": [
        "# How to access the above values\n",
        "env = gym.make(\"CartPole-v1\")\n",
        "env.reset()\n",
        "print(\"_____OBSERVATION SPACE_____ \\n\")\n",
        "print(\"Observation Space Shape\", env.observation_space.shape)\n",
        "print(\"Sample observation\", env.observation_space.sample()) # Get a random observation\n",
        "print(\"\\n _____ACTION SPACE_____ \\n\")\n",
        "print(\"Action Space Shape\", env.action_space.n)\n",
        "print(\"Action Space Sample\", env.action_space.sample()) # Take a random action"
      ]
    },
    {
      "cell_type": "markdown",
      "metadata": {},
      "source": [
        "#### 2.4 Gymnasium Interactive Loop\n",
        "\n",
        "Below is the code for a simple interactive loop where instead of a agent predicting a action we simply sample a random action. Look at what happens to the cartpole when random actions are chosen, and specifically note how long the episode lasts (duration) which the model will be learning to improve."
      ]
    },
    {
      "cell_type": "code",
      "execution_count": 6,
      "metadata": {
        "colab": {
          "base_uri": "https://localhost:8080/"
        },
        "id": "-WqjS0z9Nvbm",
        "outputId": "c7c05a60-fe49-4157-fec5-7c8192196dd4"
      },
      "outputs": [],
      "source": [
        "init_env = gym.make('CartPole-v1', render_mode='rgb_array')\n",
        "\n",
        "folder_name = os.path.join('video', 'CartPole-v1', f'{uuid.uuid4()}')\n",
        "\n",
        "# Use the wrapper environment RecordVideo() to record video\n",
        "env = RecordVideo(init_env, folder_name, disable_logger=True)\n",
        "\n",
        "observation, info = env.reset()\n",
        "\n",
        "for _ in range(1000):\n",
        "    action = env.action_space.sample()\n",
        "    observation, reward, terminated, truncated, info = env.step(action)\n",
        "\n",
        "    if terminated or truncated:\n",
        "        observation, info = env.reset()\n",
        "\n",
        "env.close()"
      ]
    },
    {
      "cell_type": "code",
      "execution_count": 7,
      "metadata": {
        "id": "x1iWqf2NO4g5"
      },
      "outputs": [],
      "source": [
        "def show_video(folder_name, episode='last'):\n",
        "    mp4list = glob.glob(f'{folder_name}/*.mp4')\n",
        "    if len(mp4list) > 0:\n",
        "        sorted_mp4list = sorted(mp4list, key=lambda x: int(x.split('-')[-1].split('.')[0]))\n",
        "        if episode == 'last':\n",
        "            mp4 = sorted_mp4list[-1]\n",
        "        elif episode == 'first':\n",
        "            mp4 = sorted_mp4list[0]\n",
        "        video = io.open(mp4, 'r+b').read()\n",
        "        encoded = base64.b64encode(video)\n",
        "        ipythondisplay.display(HTML(data='''<video alt=\"test\" autoplay\n",
        "                    loop controls style=\"height: 400px;\">\n",
        "                    <source src=\"data:video/mp4;base64,{0}\" type=\"video/mp4\" />\n",
        "                    </video>'''.format(encoded.decode('ascii'))))\n",
        "    else:\n",
        "        print(\"Could not find video\")"
      ]
    },
    {
      "cell_type": "code",
      "execution_count": 8,
      "metadata": {
        "colab": {
          "base_uri": "https://localhost:8080/",
          "height": 421
        },
        "id": "CD7we0ysR4DN",
        "outputId": "65cc1009-7c2b-4e38-989b-b0bcd0580ef6"
      },
      "outputs": [
        {
          "data": {
            "text/html": [
              "<video alt=\"test\" autoplay\n",
              "                    loop controls style=\"height: 400px;\">\n",
              "                    <source src=\"data:video/mp4;base64,AAAAIGZ0eXBpc29tAAACAGlzb21pc28yYXZjMW1wNDEAAAAIZnJlZQAACJ1tZGF0AAACrgYF//+q3EXpvebZSLeWLNgg2SPu73gyNjQgLSBjb3JlIDE1OSByMjk5MSAxNzcxYjU1IC0gSC4yNjQvTVBFRy00IEFWQyBjb2RlYyAtIENvcHlsZWZ0IDIwMDMtMjAxOSAtIGh0dHA6Ly93d3cudmlkZW9sYW4ub3JnL3gyNjQuaHRtbCAtIG9wdGlvbnM6IGNhYmFjPTEgcmVmPTMgZGVibG9jaz0xOjA6MCBhbmFseXNlPTB4MzoweDExMyBtZT1oZXggc3VibWU9NyBwc3k9MSBwc3lfcmQ9MS4wMDowLjAwIG1peGVkX3JlZj0xIG1lX3JhbmdlPTE2IGNocm9tYV9tZT0xIHRyZWxsaXM9MSA4eDhkY3Q9MSBjcW09MCBkZWFkem9uZT0yMSwxMSBmYXN0X3Bza2lwPTEgY2hyb21hX3FwX29mZnNldD0tMiB0aHJlYWRzPTMgbG9va2FoZWFkX3RocmVhZHM9MSBzbGljZWRfdGhyZWFkcz0wIG5yPTAgZGVjaW1hdGU9MSBpbnRlcmxhY2VkPTAgYmx1cmF5X2NvbXBhdD0wIGNvbnN0cmFpbmVkX2ludHJhPTAgYmZyYW1lcz0zIGJfcHlyYW1pZD0yIGJfYWRhcHQ9MSBiX2JpYXM9MCBkaXJlY3Q9MSB3ZWlnaHRiPTEgb3Blbl9nb3A9MCB3ZWlnaHRwPTIga2V5aW50PTI1MCBrZXlpbnRfbWluPTI1IHNjZW5lY3V0PTQwIGludHJhX3JlZnJlc2g9MCByY19sb29rYWhlYWQ9NDAgcmM9Y3JmIG1idHJlZT0xIGNyZj0yMy4wIHFjb21wPTAuNjAgcXBtaW49MCBxcG1heD02OSBxcHN0ZXA9NCBpcF9yYXRpbz0xLjQwIGFxPTE6MS4wMACAAAACCWWIhAAv//72rvzLK0cLlS4dWXuzUfLoSXL9iDB9aAAAAwAAAwAAJuKiZ0WFMeJsgAAALmAIWElDyDzETFWKgSxDPavgnEaAhrygNXp/lQ2YE+e+l8MTvM+U8PEjHVe4ZnoJahrFAp4IOntZB52tqhBsRJu/wWu8DjeNYy0d9537yAT7X3BWkVfx26vIP2+4hpcW088bmsxf9LF/nhS4JJJbJX9IFxs4NKQeN+LBfscIwijCq09XESD6SWcTMob6yK/MTOxNohSHcrHzpDE73qsqH/FB2p5mqiyrWr6EuGimjvv3eNR6kOGqQP/tvhaOu35ir0nHlmFlKlym5W43nfwfp8Dh7WXr7s6Pak84R+Ml35Ju9SNu7dca75oCUG6N9Uegdzv3dDgtjh+V1bqQIU+kPD/GO0xTqTK8tpNs0qqP/vAwMeZcIcDXR3v1HyPaJuB5yr/BQ3WtoALdBNu5EZSAbWqeFkhmIal/2jW8TkB/AMv/zcVzdOXdqjTMRynCLLl1gKaeSkjwTMgSBZoUgoNFPgk+fv7+ByXiJuX5ew0vI9gq8aTGhLRV3ufS3nAF3josfv4+EMn353GwGXzhVmM6sycWMhO0rurF2K3gxJ7AAAyufs4WRkSwnwacp8onpryXaaUY9FJD4SnRl+rI+BEE0jfgQ7fiPa2a5J1AJaS1Q0AAAAMAAARtAAAAuEGaJGxC//6MsAAARgjRIwAjIGqxsL+byyEI60fGIBieT5mdJ7+17QEP+3kpS6jNsKcaA9CKQh96O5T4WeaLWqOnZRNkyP/HLPvHqrZkJ1rEkgqNa9/eRyVA8faQfQ7pk5xSBgf0shrazNTWQ4IfHhVNvRIgSXX0jmbHbMMnFTkCQp/UfRTqaeN1PR9UmXkOLZJkD8kMloMH517Kmpk8Jw0AK4p1HGM/yUHgqjGTnW5aiO3H2jmUWWcAAABCQZ5CeIR/AAAWvPC4pnkoKh1qB0mXKNo2iXDkfMb2qeL3cPpJmrUduAAlANsen4wTRjLTJd3AsZ37uxshAbYrmpGBAAAAHQGeYXRH/wAAI8MXaKmlU9T7wgu7kPWSuzui1howAAAAOQGeY2pH/wAAI78EJm7X3isl0mDHizICPtNVLTEFxRxnEg85ICpidhQN/QWkUWpcZ/QUch/WCzTwcQAAALxBmmhJqEFomUwIT//98QAAAwKe6cUTUYvL3xZtlfQAJYvPzH7xi9gHg7C2kALQZZw277+69eSYnwKUakEk/CDuC2tcFhVWZj01aCP1vZRdgqHpfpVg/APsowTv/sMjIllg/yTx+qNulM8Hqurh/5oK1WuRdQfcmrT7OUAKTf33HrfIQqxuDApR9DTkNDU/qZnl2Fv+q9l/+PCqethnBIfaHrmmG41whHVV704LqiZup7BeP33r5zUg2AozYQAAAFtBnoZFESwj/wAAFruUVLGPs6X4iHsZiU0bPowHTrIC5RvK9rgcEpx5JfED0IEeM6HfYUjqwDRyzY598lELJrm4ESvpmfpwO/TwAcCTTrF+GhJ6sK0veB97urfhAAAAOQGepXRH/wAAI8MXaeundsS9Hcb0+/9sBOD3CkUAoPiEjnd3VzDjn6l03hRFKXr+7UrNpR3k5QwPLwAAAEEBnqdqR/8AACO9ysBKsuREsu454EtPQRS7CN0AXlWlxx5eI6Mr05WpWs69tQgBrNboXjZnAonC1frXuldM9Tpr3AAAAH1BmqpJqEFsmUwUTH/8hAAAD++iYWXsigBXrwv+B3pQP4EpI0oGLwBCHpfQ363FDjhhtk0Oa1f3OGB6jEC34mxKm7GqSiks1BDljpnFltCoTPJblcfaObzytEnn0p5Qeg9xyyh4e+zjt5v6Y2ghHLW+x/0lvMaciwrwFLN4+AAAAFABnslqR/8AACO9zc0Md3bddB2iLASkQ6J4fSJmA5wogPdqoZ+HhZqGA7iDowh5exPCbb95StAhqr8aioaCAAiAq0oYbcdZkcUeRuNn3e06YQAAA5dtb292AAAAbG12aGQAAAAAAAAAAAAAAAAAAAPoAAAA3AABAAABAAAAAAAAAAAAAAAAAQAAAAAAAAAAAAAAAAAAAAEAAAAAAAAAAAAAAAAAAEAAAAAAAAAAAAAAAAAAAAAAAAAAAAAAAAAAAAAAAAACAAACwXRyYWsAAABcdGtoZAAAAAMAAAAAAAAAAAAAAAEAAAAAAAAA3AAAAAAAAAAAAAAAAAAAAAAAAQAAAAAAAAAAAAAAAAAAAAEAAAAAAAAAAAAAAAAAAEAAAAACWAAAAZAAAAAAACRlZHRzAAAAHGVsc3QAAAAAAAAAAQAAANwAAAIAAAEAAAAAAjltZGlhAAAAIG1kaGQAAAAAAAAAAAAAAAAAADIAAAALAFXEAAAAAAAtaGRscgAAAAAAAAAAdmlkZQAAAAAAAAAAAAAAAFZpZGVvSGFuZGxlcgAAAAHkbWluZgAAABR2bWhkAAAAAQAAAAAAAAAAAAAAJGRpbmYAAAAcZHJlZgAAAAAAAAABAAAADHVybCAAAAABAAABpHN0YmwAAACYc3RzZAAAAAAAAAABAAAAiGF2YzEAAAAAAAAAAQAAAAAAAAAAAAAAAAAAAAACWAGQAEgAAABIAAAAAAAAAAEAAAAAAAAAAAAAAAAAAAAAAAAAAAAAAAAAAAAAAAAAAAAY//8AAAAyYXZjQwFkAB//4QAZZ2QAH6zZQJgz5eEAAAMAAQAAAwBkDxgxlgEABmjr48siwAAAABhzdHRzAAAAAAAAAAEAAAALAAABAAAAABRzdHNzAAAAAAAAAAEAAAABAAAAaGN0dHMAAAAAAAAACwAAAAEAAAIAAAAAAQAABQAAAAABAAACAAAAAAEAAAAAAAAAAQAAAQAAAAABAAAFAAAAAAEAAAIAAAAAAQAAAAAAAAABAAABAAAAAAEAAAMAAAAAAQAAAQAAAAAcc3RzYwAAAAAAAAABAAAAAQAAAAsAAAABAAAAQHN0c3oAAAAAAAAAAAAAAAsAAAS/AAAAvAAAAEYAAAAhAAAAPQAAAMAAAABfAAAAPQAAAEUAAACBAAAAVAAAABRzdGNvAAAAAAAAAAEAAAAwAAAAYnVkdGEAAABabWV0YQAAAAAAAAAhaGRscgAAAAAAAAAAbWRpcmFwcGwAAAAAAAAAAAAAAAAtaWxzdAAAACWpdG9vAAAAHWRhdGEAAAABAAAAAExhdmY1OC4yOS4xMDA=\" type=\"video/mp4\" />\n",
              "                    </video>"
            ],
            "text/plain": [
              "<IPython.core.display.HTML object>"
            ]
          },
          "metadata": {},
          "output_type": "display_data"
        }
      ],
      "source": [
        "show_video(folder_name)"
      ]
    },
    {
      "cell_type": "code",
      "execution_count": 9,
      "metadata": {},
      "outputs": [
        {
          "name": "stdout",
          "output_type": "stream",
          "text": [
            "Directory deleted successfully.\n"
          ]
        }
      ],
      "source": [
        "# Check if the directory exists\n",
        "if os.path.exists(folder_name):\n",
        "    # Remove the directory\n",
        "    shutil.rmtree(folder_name)\n",
        "    print(\"Directory deleted successfully.\")\n",
        "else:\n",
        "    print(\"Directory does not exist.\")"
      ]
    },
    {
      "cell_type": "markdown",
      "metadata": {
        "id": "ZqZwPeGNW9HI"
      },
      "source": [
        "## 3. Deep Q Networks\n",
        "\n",
        "There are many different types of algorithms/models for RL, which you can do research on in your free time, but today we will be introducing you to Deep Q Networks as we think it strikes a nice balance of being easy to explain, but complicated enough to be interesting.\n",
        "\n",
        "<img src=\"images/deep.jpg\" width=\"700\" height=\"350\">"
      ]
    },
    {
      "cell_type": "markdown",
      "metadata": {},
      "source": [
        "### 3.1 Approximating $\\pi^*$ with a Q-function\n",
        "\n",
        "Q-learning in general are a set of **value based methods** (which we mentioned earlier), meaning instead of training on the policy directly they train to find an optimal value function which leads to having an optimal policy.\n",
        "\n",
        "In this case the value function the model trains on is called the Q-function, an **action-value function** that determines the value of being at a particular state and taking a specific action at that state. The *link between value and policy* is represented in the equation here:\n",
        "\n",
        "$$\\pi^* = \\underset{a}{\\text{argmax}}\\ Q^*(s,a)$$\n",
        "\n",
        "### 3.2 Maths\n",
        "\n",
        "### 3.2.1 Bellman Equation\n",
        "\n",
        "Directly computing the cumulative reward for all future timesteps for a given state can be a computationally competitive task if you are doing it at each action. Which is why instead we use the **Bellman Equation** which is a recursive equation that considers the value of a state as the immediate reward and the discounted value of the state that follows.\n",
        "\n",
        "<img src=\"images/bellman4.jpg\" width=\"700\" height=\"380\">\n",
        "\n",
        "Remember:\n",
        "* $\\gamma$: `Discount Rate` represented by *gamma* between 0-1\n",
        "\n",
        "\n",
        "### 3.2.2 Temporal Difference Learning Approach\n",
        "\n",
        "There are two main types of strategies:\n",
        "* Monte Carlo Approach - Learning after each episode\n",
        "* Temporal Difference Learning Approach - Learning after each step\n",
        "\n",
        "Q-Learning uses a TD approach which includes the Bellman Equation\n",
        "\n",
        "<img src=\"images/TD-1.jpg\" width=\"700\" height=\"400\">\n",
        "\n",
        "### 3.2.3 Epsilon Greedy Algorithm\n",
        "\n",
        "In RL it is importat to have a policy that governs the **exploitatio-exploration tradeoff**. That is do we exploit our prior knowledge gained during learning and move according to what we currently have calculated as the best action for a given state or do we explore and select a different action in the hopes of finding a better route/set of actions?\n",
        "\n",
        "We use an **epsilon greedy policy** where $\\epsilon$ represents the probability of exploration (selecting a random action) and $1-\\epsilon$ represents the probability of exploitation. $\\epsilon$ is a number from 1-0.\n",
        "\n",
        "At the beginning As Q gets better and better with progressive training we slowly decrease $\\epsilon$ more and more according to a decay rate. This changes the policy to go from a higher ratio of exploration, to a higher ratio of exploitation.\n",
        "\n",
        "### 3.2.4 Q-Learning\n",
        "\n",
        "Bringing that all together we get the Q-Learning algorithm\n",
        "\n",
        "<img src=\"images/Q-learning-2.jpg\" width=\"700\" height=\"400\">\n",
        "\n",
        "### 3.2.5 Deep Q-Learning (DQN)\n",
        "\n",
        "Deep Q-Learning uses a deep neural network to approximate the different Q-values for each possible action at a state (value-function estimation).\n",
        "\n",
        "The difference is that, during the training phase, instead of updating the Q-value of a state-action pair directly as we have done with Q-Learning, in Deep Q-Learning, we create a loss function that compares our Q-value prediction and the Q-target and uses gradient descent to update the weights of our Deep Q-Network to approximate our Q-values better.\n",
        "\n",
        "<img src=\"images/q-ex-5.jpg\" width=\"700\" height=\"400\">\n",
        "\n",
        "<img src=\"images/Q-target.jpg\" width=\"700\" height=\"400\">\n",
        "\n",
        "* Where $\\delta$ represents temporal difference error, the equation looks like this:\n",
        "\n",
        "$$\\delta = Q(s, a) - (r + \\gamma \\max_{a}' Q(s', a'))$$\n",
        "\n",
        "* To minimize this error we use the [Huber Loss](https://en.wikipedia.org/wiki/Huber_loss). The Huber loss acts like the mean squared error when the error is small, but like the mean absolute error when the error is large.\n",
        "\n",
        "* There is also an additional feature of an **experience replay** which has two functions:\n",
        "    1. Make **more efficient use of the experiences** during the training. Usually, in online reinforcement learning, the agent interacts with the environment, gets experiences (state, action, reward, and next state), learns from them (updates the neural network), and discards them. This is not efficient.\n",
        "\n",
        "    2. Avoid forgetting previous experiences (aka catastrophic interference, or catastrophic forgetting) and reduce the correlation between experiences.\n",
        "        * **catastrophic forgetting**: The problem we get if we give sequential samples of experiences to our neural network is that it tends to forget the previous experiences as it gets new experiences. For instance, if the agent is in the first level and then in the second, which is different, it can forget how to behave and play in the first level.\n",
        "\n",
        "Here is the pseudocode for DQN:\n",
        "\n",
        "<img src=\"images/sampling-training.jpg\" width=\"700\" height=\"400\">\n"
      ]
    },
    {
      "cell_type": "markdown",
      "metadata": {},
      "source": [
        "### 3.3 Train a DQN\n",
        "\n",
        "The following is the code from here: https://pytorch.org/tutorials/intermediate/reinforcement_q_learning.html\n",
        " \n",
        "If you want more detail on the specifics of the code, we encouorage you to read through it.\n",
        "\n",
        "Now that you understand the basic overview of a DQN its time to actually train one on the `'CartPole-v1'` Gymnasium environment!"
      ]
    },
    {
      "cell_type": "code",
      "execution_count": 10,
      "metadata": {
        "id": "YiaXSBipW8lw"
      },
      "outputs": [],
      "source": [
        "Transition = namedtuple('Transition',\n",
        "                        ('state', 'action', 'next_state', 'reward'))\n",
        "\n",
        "\n",
        "class ReplayMemory(object):\n",
        "\n",
        "    def __init__(self, capacity):\n",
        "        self.memory = deque([], maxlen=capacity)\n",
        "\n",
        "    def push(self, *args):\n",
        "        \"\"\"Save a transition\"\"\"\n",
        "        self.memory.append(Transition(*args))\n",
        "\n",
        "    def sample(self, batch_size):\n",
        "        return random.sample(self.memory, batch_size)\n",
        "\n",
        "    def __len__(self):\n",
        "        return len(self.memory)"
      ]
    },
    {
      "cell_type": "code",
      "execution_count": 11,
      "metadata": {
        "id": "l6pbi-BwToeQ"
      },
      "outputs": [],
      "source": [
        "class DQN(nn.Module):\n",
        "\n",
        "    def __init__(self, n_observations, n_actions):\n",
        "        super(DQN, self).__init__()\n",
        "        self.layer1 = nn.Linear(n_observations, 128)\n",
        "        self.layer2 = nn.Linear(128, 128)\n",
        "        self.layer3 = nn.Linear(128, n_actions)\n",
        "\n",
        "    # Called with either one element to determine next action, or a batch\n",
        "    # during optimization. Returns tensor([[left0exp,right0exp]...]).\n",
        "    def forward(self, x):\n",
        "        x = F.relu(self.layer1(x))\n",
        "        x = F.relu(self.layer2(x))\n",
        "        return self.layer3(x)"
      ]
    },
    {
      "cell_type": "code",
      "execution_count": 12,
      "metadata": {
        "id": "xTX4-jUBWSJT"
      },
      "outputs": [],
      "source": [
        "# BATCH_SIZE is the number of transitions sampled from the replay buffer\n",
        "# GAMMA is the discount factor as mentioned in the previous section\n",
        "# EPS_START is the starting value of epsilon\n",
        "# EPS_END is the final value of epsilon\n",
        "# EPS_DECAY controls the rate of exponential decay of epsilon, higher means a slower decay\n",
        "# TAU is the update rate of the target network\n",
        "# LR is the learning rate of the ``AdamW`` optimizer\n",
        "BATCH_SIZE = 128\n",
        "GAMMA = 0.99\n",
        "EPS_START = 0.9\n",
        "EPS_END = 0.05\n",
        "EPS_DECAY = 1000\n",
        "TAU = 0.005\n",
        "LR = 1e-4\n",
        "\n",
        "# Get number of actions from gym action space\n",
        "n_actions = env.action_space.n\n",
        "# Get the number of state observations\n",
        "state, info = env.reset()\n",
        "n_observations = len(state)\n",
        "\n",
        "policy_net = DQN(n_observations, n_actions).to(device)\n",
        "target_net = DQN(n_observations, n_actions).to(device)\n",
        "target_net.load_state_dict(policy_net.state_dict())\n",
        "\n",
        "optimizer = optim.AdamW(policy_net.parameters(), lr=LR, amsgrad=True)\n",
        "memory = ReplayMemory(10000)\n",
        "\n",
        "\n",
        "steps_done = 0\n",
        "\n",
        "\n",
        "def select_action(state):\n",
        "    global steps_done\n",
        "    sample = random.random()\n",
        "    eps_threshold = EPS_END + (EPS_START - EPS_END) * \\\n",
        "        math.exp(-1. * steps_done / EPS_DECAY)\n",
        "    steps_done += 1\n",
        "    if sample > eps_threshold:\n",
        "        with torch.no_grad():\n",
        "            # t.max(1) will return the largest column value of each row.\n",
        "            # second column on max result is index of where max element was\n",
        "            # found, so we pick action with the larger expected reward.\n",
        "            return policy_net(state).max(1).indices.view(1, 1)\n",
        "    else:\n",
        "        return torch.tensor([[env.action_space.sample()]], device=device, dtype=torch.long)\n",
        "\n",
        "\n",
        "episode_durations = []\n",
        "\n",
        "\n",
        "def plot_durations(show_result=False):\n",
        "    plt.figure(1)\n",
        "    durations_t = torch.tensor(episode_durations, dtype=torch.float)\n",
        "    if show_result:\n",
        "        plt.title('Result')\n",
        "    else:\n",
        "        plt.clf()\n",
        "        plt.title('Training...')\n",
        "    plt.xlabel('Episode')\n",
        "    plt.ylabel('Duration')\n",
        "    plt.plot(durations_t.numpy())\n",
        "    # Take 100 episode averages and plot them too\n",
        "    if len(durations_t) >= 100:\n",
        "        means = durations_t.unfold(0, 100, 1).mean(1).view(-1)\n",
        "        means = torch.cat((torch.zeros(99), means))\n",
        "        plt.plot(means.numpy())\n",
        "\n",
        "    plt.pause(0.001)  # pause a bit so that plots are updated\n",
        "    if is_ipython:\n",
        "        if not show_result:\n",
        "            ipythondisplay.display(plt.gcf())\n",
        "            ipythondisplay.clear_output(wait=True)\n",
        "        else:\n",
        "            ipythondisplay.display(plt.gcf())"
      ]
    },
    {
      "cell_type": "code",
      "execution_count": 13,
      "metadata": {
        "id": "GWXFcjLsWhNE"
      },
      "outputs": [],
      "source": [
        "def optimize_model():\n",
        "    if len(memory) < BATCH_SIZE:\n",
        "        return\n",
        "    transitions = memory.sample(BATCH_SIZE)\n",
        "    # Transpose the batch (see https://stackoverflow.com/a/19343/3343043 for\n",
        "    # detailed explanation). This converts batch-array of Transitions\n",
        "    # to Transition of batch-arrays.\n",
        "    batch = Transition(*zip(*transitions))\n",
        "\n",
        "    # Compute a mask of non-final states and concatenate the batch elements\n",
        "    # (a final state would've been the one after which simulation ended)\n",
        "    non_final_mask = torch.tensor(tuple(map(lambda s: s is not None,\n",
        "                                          batch.next_state)), device=device, dtype=torch.bool)\n",
        "    non_final_next_states = torch.cat([s for s in batch.next_state\n",
        "                                                if s is not None])\n",
        "    state_batch = torch.cat(batch.state)\n",
        "    action_batch = torch.cat(batch.action)\n",
        "    reward_batch = torch.cat(batch.reward)\n",
        "\n",
        "    # Compute Q(s_t, a) - the model computes Q(s_t), then we select the\n",
        "    # columns of actions taken. These are the actions which would've been taken\n",
        "    # for each batch state according to policy_net\n",
        "    state_action_values = policy_net(state_batch).gather(1, action_batch)\n",
        "\n",
        "    # Compute V(s_{t+1}) for all next states.\n",
        "    # Expected values of actions for non_final_next_states are computed based\n",
        "    # on the \"older\" target_net; selecting their best reward with max(1).values\n",
        "    # This is merged based on the mask, such that we'll have either the expected\n",
        "    # state value or 0 in case the state was final.\n",
        "    next_state_values = torch.zeros(BATCH_SIZE, device=device)\n",
        "    with torch.no_grad():\n",
        "        next_state_values[non_final_mask] = target_net(non_final_next_states).max(1).values\n",
        "    # Compute the expected Q values\n",
        "    expected_state_action_values = (next_state_values * GAMMA) + reward_batch\n",
        "\n",
        "    # Compute Huber loss\n",
        "    criterion = nn.SmoothL1Loss()\n",
        "    loss = criterion(state_action_values, expected_state_action_values.unsqueeze(1))\n",
        "\n",
        "    # Optimize the model\n",
        "    optimizer.zero_grad()\n",
        "    loss.backward()\n",
        "    # In-place gradient clipping\n",
        "    torch.nn.utils.clip_grad_value_(policy_net.parameters(), 100)\n",
        "    optimizer.step()"
      ]
    },
    {
      "cell_type": "code",
      "execution_count": 14,
      "metadata": {
        "colab": {
          "base_uri": "https://localhost:8080/",
          "height": 524
        },
        "id": "0sVkpLBjXZZz",
        "outputId": "1ed8f913-7652-4b9d-a37b-a0a40afd90d1"
      },
      "outputs": [],
      "source": [
        "def train_loop(environment, episodes):\n",
        "\n",
        "    num_episodes = episodes\n",
        "    env = environment\n",
        "\n",
        "    for i_episode in range(num_episodes):\n",
        "        # Initialize the environment and get its state\n",
        "        state, info = env.reset()\n",
        "        state = torch.tensor(state, dtype=torch.float32, device=device).unsqueeze(0)\n",
        "        for t in count():\n",
        "            action = select_action(state)\n",
        "            observation, reward, terminated, truncated, _ = env.step(action.item())\n",
        "            reward = torch.tensor([reward], device=device)\n",
        "            done = terminated or truncated\n",
        "\n",
        "            if terminated:\n",
        "                next_state = None\n",
        "            else:\n",
        "                next_state = torch.tensor(observation, dtype=torch.float32, device=device).unsqueeze(0)\n",
        "\n",
        "            # Store the transition in memory\n",
        "            memory.push(state, action, next_state, reward)\n",
        "\n",
        "            # Move to the next state\n",
        "            state = next_state\n",
        "\n",
        "            # Perform one step of the optimization (on the policy network)\n",
        "            optimize_model()\n",
        "\n",
        "            # Soft update of the target network's weights\n",
        "            # θ′ ← τ θ + (1 −τ )θ′\n",
        "            target_net_state_dict = target_net.state_dict()\n",
        "            policy_net_state_dict = policy_net.state_dict()\n",
        "            for key in policy_net_state_dict:\n",
        "                target_net_state_dict[key] = policy_net_state_dict[key]*TAU + target_net_state_dict[key]*(1-TAU)\n",
        "            target_net.load_state_dict(target_net_state_dict)\n",
        "\n",
        "            if done:\n",
        "                episode_durations.append(t + 1)\n",
        "                plot_durations()\n",
        "                break\n",
        "\n",
        "    print('Complete')\n",
        "    plot_durations(show_result=True)\n",
        "    plt.ioff()\n",
        "    plt.show()"
      ]
    },
    {
      "cell_type": "code",
      "execution_count": 15,
      "metadata": {},
      "outputs": [
        {
          "name": "stdout",
          "output_type": "stream",
          "text": [
            "Complete\n"
          ]
        },
        {
          "data": {
            "image/png": "[encoded data removed]",
            "text/plain": [
              "<Figure size 640x480 with 1 Axes>"
            ]
          },
          "metadata": {},
          "output_type": "display_data"
        },
        {
          "data": {
            "text/plain": [
              "<Figure size 640x480 with 0 Axes>"
            ]
          },
          "metadata": {},
          "output_type": "display_data"
        },
        {
          "data": {
            "text/plain": [
              "<Figure size 640x480 with 0 Axes>"
            ]
          },
          "metadata": {},
          "output_type": "display_data"
        }
      ],
      "source": [
        "# make a new environment\n",
        "init_env = gym.make('CartPole-v1', render_mode='rgb_array')\n",
        "folder_name = os.path.join('video', 'CartPole-v1', f'{uuid.uuid4()}')\n",
        "env = RecordVideo(init_env, folder_name, disable_logger=True)\n",
        "\n",
        "# call the training loop\n",
        "train_loop(env, 400)\n",
        "\n",
        "# close the environment\n",
        "env.close()"
      ]
    },
    {
      "cell_type": "code",
      "execution_count": 16,
      "metadata": {},
      "outputs": [
        {
          "data": {
            "text/html": [
              "<video alt=\"test\" autoplay\n",
              "                    loop controls style=\"height: 400px;\">\n",
              "                    <source src=\"data:video/mp4;base64,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\" type=\"video/mp4\" />\n",
              "                    </video>"
            ],
            "text/plain": [
              "<IPython.core.display.HTML object>"
            ]
          },
          "metadata": {},
          "output_type": "display_data"
        }
      ],
      "source": [
        "show_video(folder_name, episode = 'first')"
      ]
    },
    {
      "cell_type": "code",
      "execution_count": 17,
      "metadata": {
        "colab": {
          "base_uri": "https://localhost:8080/",
          "height": 421
        },
        "id": "gTTuNd_nX3dh",
        "outputId": "cd255b39-551c-4917-fbc2-daf5eba3e6b7"
      },
      "outputs": [
        {
          "data": {
            "text/html": [
              "<video alt=\"test\" autoplay\n",
              "                    loop controls style=\"height: 400px;\">\n",
              "                    <source src=\"data:video/mp4;base64,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\" type=\"video/mp4\" />\n",
              "                    </video>"
            ],
            "text/plain": [
              "<IPython.core.display.HTML object>"
            ]
          },
          "metadata": {},
          "output_type": "display_data"
        }
      ],
      "source": [
        "show_video(folder_name, episode = 'last')"
      ]
    },
    {
      "cell_type": "markdown",
      "metadata": {},
      "source": [
        "## Question 2\n",
        "Has the model learned? What metrics did you use to determine that?"
      ]
    },
    {
      "cell_type": "markdown",
      "metadata": {},
      "source": [
        "<span style=\"color:green\">Answer</span>"
      ]
    },
    {
      "cell_type": "markdown",
      "metadata": {},
      "source": [
        "## Question 3 (Understanding the code)\n",
        "Hint: Use this as reference -> https://pytorch.org/tutorials/intermediate/reinforcement_q_learning.html\n",
        "\n",
        "3A. Copy and paste the section of the code where the epsilon greedy algorithm is implemented."
      ]
    },
    {
      "cell_type": "code",
      "execution_count": 18,
      "metadata": {},
      "outputs": [],
      "source": [
        "#####ANSWER#####"
      ]
    },
    {
      "cell_type": "markdown",
      "metadata": {},
      "source": [
        "3B. Line-by-line explain in your own words how this code works. Remember that you can use backticks \"\\`\" to denote `code`."
      ]
    },
    {
      "cell_type": "markdown",
      "metadata": {},
      "source": [
        "<span style=\"color:green\">Answer</span>"
      ]
    },
    {
      "cell_type": "markdown",
      "metadata": {},
      "source": [
        "3C. Copy and paste the section of the code where the expected Q Values are calculated."
      ]
    },
    {
      "cell_type": "code",
      "execution_count": 19,
      "metadata": {},
      "outputs": [],
      "source": [
        "#####ANSWER#####"
      ]
    },
    {
      "cell_type": "markdown",
      "metadata": {},
      "source": [
        "3D. Line-by-line explain in your own words how this code works. Remember that you can use backticks \"\\`\" to denote `code`."
      ]
    },
    {
      "cell_type": "markdown",
      "metadata": {},
      "source": [
        "<span style=\"color:green\">Answer</span>"
      ]
    },
    {
      "cell_type": "markdown",
      "metadata": {},
      "source": [
        "## Question 4\n",
        "\n",
        "Try different episode lengths. What happens when it is a lot shorter or a lot bigger?\n",
        "\n",
        "Hint: [catastrophic drop](https://ai.stackexchange.com/questions/28079/deep-q-learning-catastrophic-drop-reasons)."
      ]
    },
    {
      "cell_type": "code",
      "execution_count": 20,
      "metadata": {},
      "outputs": [],
      "source": [
        "# Reinitialize Parameters\n",
        "BATCH_SIZE = 128\n",
        "GAMMA = 0.99\n",
        "EPS_START = 0.9\n",
        "EPS_END = 0.05\n",
        "EPS_DECAY = 1000\n",
        "TAU = 0.005\n",
        "LR = 1e-4\n",
        "n_actions = env.action_space.n\n",
        "state, info = env.reset()\n",
        "n_observations = len(state)\n",
        "policy_net = DQN(n_observations, n_actions).to(device)\n",
        "target_net = DQN(n_observations, n_actions).to(device)\n",
        "target_net.load_state_dict(policy_net.state_dict())\n",
        "optimizer = optim.AdamW(policy_net.parameters(), lr=LR, amsgrad=True)\n",
        "memory = ReplayMemory(10000)\n",
        "steps_done = 0\n",
        "episode_durations = []"
      ]
    },
    {
      "cell_type": "code",
      "execution_count": 21,
      "metadata": {},
      "outputs": [
        {
          "name": "stdout",
          "output_type": "stream",
          "text": [
            "Complete\n"
          ]
        },
        {
          "data": {
            "image/png": "[encoded data removed]",
            "text/plain": [
              "<Figure size 640x480 with 1 Axes>"
            ]
          },
          "metadata": {},
          "output_type": "display_data"
        },
        {
          "data": {
            "text/plain": [
              "<Figure size 640x480 with 0 Axes>"
            ]
          },
          "metadata": {},
          "output_type": "display_data"
        },
        {
          "data": {
            "text/plain": [
              "<Figure size 640x480 with 0 Axes>"
            ]
          },
          "metadata": {},
          "output_type": "display_data"
        }
      ],
      "source": [
        "# make a new environment\n",
        "init_env = gym.make('CartPole-v1', render_mode='rgb_array')\n",
        "folder_name = os.path.join('video', 'CartPole-v1', f'{uuid.uuid4()}')\n",
        "env = RecordVideo(init_env, folder_name, disable_logger=True)\n",
        "\n",
        "# call the training loop\n",
        "train_loop(env, 50)  # Edit this!!!\n",
        "\n",
        "# close the environment\n",
        "env.close()"
      ]
    },
    {
      "cell_type": "markdown",
      "metadata": {},
      "source": [
        "<span style=\"color:green\">Answer</span>"
      ]
    },
    {
      "cell_type": "markdown",
      "metadata": {},
      "source": [
        "## Question 5 Manipulating the Reward\n",
        "\n",
        "Using [Gymnasium Reward Wrapper](https://gymnasium.farama.org/api/wrappers/reward_wrappers/) manipulate the reward in various ways."
      ]
    },
    {
      "cell_type": "markdown",
      "metadata": {},
      "source": [
        "5.1 Set the reward to zero then run the training loop again. What happens? Why is that?"
      ]
    },
    {
      "cell_type": "code",
      "execution_count": null,
      "metadata": {},
      "outputs": [],
      "source": [
        "##### Answer #####"
      ]
    },
    {
      "cell_type": "markdown",
      "metadata": {},
      "source": [
        "<span style=\"color:green\">Answer</span>"
      ]
    },
    {
      "cell_type": "markdown",
      "metadata": {},
      "source": [
        "5.2 Set the reward to go from 1 every timestep, to negative after 100 timesteps. What changes in behavior does this cause in the actor? Why is that?"
      ]
    },
    {
      "cell_type": "code",
      "execution_count": null,
      "metadata": {},
      "outputs": [],
      "source": [
        "##### Answer #####"
      ]
    },
    {
      "cell_type": "markdown",
      "metadata": {},
      "source": [
        "<span style=\"color:green\">Answer</span>"
      ]
    },
    {
      "cell_type": "markdown",
      "metadata": {},
      "source": [
        "5.3.1 Currently we only are printing out the duration/iteration number. Before the environment-action loop initialize a variable `record_reward = []`, then during the loop append the reward after each action. Using that list, create a graph comparing the normal reward, zero reward, and negative after 100 reward with `matplotlib`. Make sure to label the axes, give the plot a title, and a appropiately labeled legend for plotting multiple lines on one graph. \n",
        "\n",
        "matplotlib docs: https://matplotlib.org/stable/"
      ]
    },
    {
      "cell_type": "code",
      "execution_count": null,
      "metadata": {},
      "outputs": [],
      "source": [
        "##### Answer #####"
      ]
    },
    {
      "cell_type": "markdown",
      "metadata": {},
      "source": [
        "5.3.2 Create a new folder called `student_created_graphs`. Save the graphs you made in 5.3.1, place them in this new folder, then display them using markdown `<img src=\"student_created_graphs/your_graph\">` in the cell below. "
      ]
    },
    {
      "cell_type": "markdown",
      "metadata": {},
      "source": [
        "<span style=\"color:green\">Answer</span>"
      ]
    },
    {
      "cell_type": "markdown",
      "metadata": {},
      "source": [
        "5.4 Think of an interesting alternative reward transformation function that changes the behavior of the model in a noticeable way. What changed? Why did your modified reward cause this change? Make sure to displau the plots/graphs you used to view this change. "
      ]
    },
    {
      "cell_type": "code",
      "execution_count": null,
      "metadata": {},
      "outputs": [],
      "source": [
        "##### Answer #####"
      ]
    },
    {
      "cell_type": "markdown",
      "metadata": {},
      "source": [
        "<span style=\"color:green\">Answer</span>"
      ]
    },
    {
      "cell_type": "markdown",
      "metadata": {},
      "source": [
        "5.5 Write a paragraph on how reward affects learning using what you've learned so far in this homework."
      ]
    },
    {
      "cell_type": "markdown",
      "metadata": {},
      "source": [
        "<span style=\"color:green\">Answer</span>"
      ]
    },
    {
      "cell_type": "markdown",
      "metadata": {},
      "source": [
        "## Question 4 Manipulating the Environment"
      ]
    },
    {
      "cell_type": "markdown",
      "metadata": {},
      "source": [
        "## Question 5 Spikes into Actions\n",
        "\n",
        "In a future "
      ]
    },
    {
      "cell_type": "code",
      "execution_count": null,
      "metadata": {},
      "outputs": [],
      "source": [
        "init_env = gym.make('CartPole-v1', render_mode='rgb_array')\n",
        "\n",
        "folder_name = os.path.join('video', 'CartPole-v1', f'{uuid.uuid4()}')\n",
        "\n",
        "# Use the wrapper environment RecordVideo() to record video\n",
        "env = RecordVideo(init_env, folder_name, disable_logger=True)\n",
        "\n",
        "observation, info = env.reset()\n",
        "\n",
        "for _ in range(1000):\n",
        "    action = env.action_space.sample()\n",
        "    observation, reward, terminated, truncated, info = env.step(action)\n",
        "\n",
        "    if terminated or truncated:\n",
        "        observation, info = env.reset()\n",
        "\n",
        "env.close()"
      ]
    },
    {
      "cell_type": "code",
      "execution_count": null,
      "metadata": {},
      "outputs": [],
      "source": [
        "show_video(folder_name)"
      ]
    },
    {
      "cell_type": "markdown",
      "metadata": {},
      "source": [
        "## Feedback (Optional)\n",
        "\n",
        "This is a new homework for this quarter, plase provide feedback on things you think could be improved or even if you like it as is."
      ]
    },
    {
      "cell_type": "markdown",
      "metadata": {},
      "source": [
        "<span style=\"color:green\">Answer</span>"
      ]
    }
  ],
  "metadata": {
    "accelerator": "GPU",
    "colab": {
      "gpuType": "T4",
      "provenance": []
    },
    "kernelspec": {
      "display_name": "Python 3 (ipykernel)",
      "language": "python",
      "name": "python3"
    },
    "language_info": {
      "codemirror_mode": {
        "name": "ipython",
        "version": 3
      },
      "file_extension": ".py",
      "mimetype": "text/x-python",
      "name": "python",
      "nbconvert_exporter": "python",
      "pygments_lexer": "ipython3",
      "version": "3.10.13"
    }
  },
  "nbformat": 4,
  "nbformat_minor": 0
}
