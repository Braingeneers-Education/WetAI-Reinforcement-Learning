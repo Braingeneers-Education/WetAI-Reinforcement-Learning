{
  "cells": [
    {
      "cell_type": "markdown",
      "metadata": {},
      "source": [
        "# Intro to Reinforcement Learning"
      ]
    },
    {
      "cell_type": "markdown",
      "metadata": {},
      "source": [
        "In this assignment you will learn the basics of reinforcement learning (RL), as well how to train a DQN RL model.\n",
        "\n",
        "A lot of this information, text, and code is directly pooled from the following sources\n",
        "\n",
        "Credits:\n",
        "* Hugging Face Deep RL course [source](https://huggingface.co/learn/deep-rl-course/unit0/introduction)\n",
        "* Gymnasium-Colaboratory-Starter [source](https://github.com/hom-bahrani/Gymnasium-Colaboratory-Starter)\n",
        "* PyTorch RL Tutorials [source](https://pytorch.org/tutorials/)\n",
        "* Wikipedia RL Page [source](https://en.wikipedia.org/wiki/Reinforcement_learning)"
      ]
    },
    {
      "cell_type": "markdown",
      "metadata": {},
      "source": [
        "First, install and import the packages and libraries you will need throughout this exercise"
      ]
    },
    {
      "cell_type": "code",
      "execution_count": 2,
      "metadata": {
        "colab": {
          "base_uri": "https://localhost:8080/"
        },
        "id": "-MGHP8DHMBKp",
        "outputId": "b8a735b9-32d3-416e-e7bf-364e88b14fca"
      },
      "outputs": [
        {
          "name": "stdout",
          "output_type": "stream",
          "text": [
            "Requirement already satisfied: gymnasium in /usr/local/python/3.10.13/lib/python3.10/site-packages (0.29.1)\n",
            "Requirement already satisfied: numpy>=1.21.0 in /home/codespace/.local/lib/python3.10/site-packages (from gymnasium) (1.26.4)\n",
            "Requirement already satisfied: cloudpickle>=1.2.0 in /usr/local/python/3.10.13/lib/python3.10/site-packages (from gymnasium) (3.0.0)\n",
            "Requirement already satisfied: typing-extensions>=4.3.0 in /home/codespace/.local/lib/python3.10/site-packages (from gymnasium) (4.10.0)\n",
            "Requirement already satisfied: farama-notifications>=0.0.1 in /usr/local/python/3.10.13/lib/python3.10/site-packages (from gymnasium) (0.0.4)\n"
          ]
        },
        {
          "name": "stdout",
          "output_type": "stream",
          "text": [
            "Note: you may need to restart the kernel to use updated packages.\n",
            "Requirement already satisfied: gymnasium[classic-control] in /usr/local/python/3.10.13/lib/python3.10/site-packages (0.29.1)\n",
            "Requirement already satisfied: numpy>=1.21.0 in /home/codespace/.local/lib/python3.10/site-packages (from gymnasium[classic-control]) (1.26.4)\n",
            "Requirement already satisfied: cloudpickle>=1.2.0 in /usr/local/python/3.10.13/lib/python3.10/site-packages (from gymnasium[classic-control]) (3.0.0)\n",
            "Requirement already satisfied: typing-extensions>=4.3.0 in /home/codespace/.local/lib/python3.10/site-packages (from gymnasium[classic-control]) (4.10.0)\n",
            "Requirement already satisfied: farama-notifications>=0.0.1 in /usr/local/python/3.10.13/lib/python3.10/site-packages (from gymnasium[classic-control]) (0.0.4)\n",
            "Requirement already satisfied: pygame>=2.1.3 in /usr/local/python/3.10.13/lib/python3.10/site-packages (from gymnasium[classic-control]) (2.5.2)\n",
            "Note: you may need to restart the kernel to use updated packages.\n",
            "Requirement already satisfied: swig in /usr/local/python/3.10.13/lib/python3.10/site-packages (4.2.1)\n",
            "Note: you may need to restart the kernel to use updated packages.\n",
            "Requirement already satisfied: pyvirtualdisplay in /usr/local/python/3.10.13/lib/python3.10/site-packages (3.0)\n",
            "Note: you may need to restart the kernel to use updated packages.\n",
            "Requirement already satisfied: moviepy in /usr/local/python/3.10.13/lib/python3.10/site-packages (1.0.3)\n",
            "Requirement already satisfied: decorator<5.0,>=4.0.2 in /usr/local/python/3.10.13/lib/python3.10/site-packages (from moviepy) (4.4.2)\n",
            "Requirement already satisfied: tqdm<5.0,>=4.11.2 in /usr/local/python/3.10.13/lib/python3.10/site-packages (from moviepy) (4.66.2)\n",
            "Requirement already satisfied: requests<3.0,>=2.8.1 in /home/codespace/.local/lib/python3.10/site-packages (from moviepy) (2.31.0)\n",
            "Requirement already satisfied: proglog<=1.0.0 in /usr/local/python/3.10.13/lib/python3.10/site-packages (from moviepy) (0.1.10)\n",
            "Requirement already satisfied: numpy>=1.17.3 in /home/codespace/.local/lib/python3.10/site-packages (from moviepy) (1.26.4)\n",
            "Requirement already satisfied: imageio<3.0,>=2.5 in /usr/local/python/3.10.13/lib/python3.10/site-packages (from moviepy) (2.34.1)\n",
            "Requirement already satisfied: imageio-ffmpeg>=0.2.0 in /usr/local/python/3.10.13/lib/python3.10/site-packages (from moviepy) (0.4.9)\n",
            "Requirement already satisfied: pillow>=8.3.2 in /home/codespace/.local/lib/python3.10/site-packages (from imageio<3.0,>=2.5->moviepy) (10.3.0)\n",
            "Requirement already satisfied: setuptools in /usr/local/python/3.10.13/lib/python3.10/site-packages (from imageio-ffmpeg>=0.2.0->moviepy) (68.2.2)\n",
            "Requirement already satisfied: charset-normalizer<4,>=2 in /home/codespace/.local/lib/python3.10/site-packages (from requests<3.0,>=2.8.1->moviepy) (3.3.2)\n",
            "Requirement already satisfied: idna<4,>=2.5 in /home/codespace/.local/lib/python3.10/site-packages (from requests<3.0,>=2.8.1->moviepy) (3.6)\n",
            "Requirement already satisfied: urllib3<3,>=1.21.1 in /usr/local/python/3.10.13/lib/python3.10/site-packages (from requests<3.0,>=2.8.1->moviepy) (2.0.7)\n",
            "Requirement already satisfied: certifi>=2017.4.17 in /home/codespace/.local/lib/python3.10/site-packages (from requests<3.0,>=2.8.1->moviepy) (2024.2.2)\n",
            "Note: you may need to restart the kernel to use updated packages.\n",
            "Requirement already satisfied: moviepy in /usr/local/python/3.10.13/lib/python3.10/site-packages (1.0.3)\n",
            "Requirement already satisfied: decorator<5.0,>=4.0.2 in /usr/local/python/3.10.13/lib/python3.10/site-packages (from moviepy) (4.4.2)\n",
            "Requirement already satisfied: tqdm<5.0,>=4.11.2 in /usr/local/python/3.10.13/lib/python3.10/site-packages (from moviepy) (4.66.2)\n",
            "Requirement already satisfied: requests<3.0,>=2.8.1 in /home/codespace/.local/lib/python3.10/site-packages (from moviepy) (2.31.0)\n",
            "Requirement already satisfied: proglog<=1.0.0 in /usr/local/python/3.10.13/lib/python3.10/site-packages (from moviepy) (0.1.10)\n",
            "Requirement already satisfied: numpy>=1.17.3 in /home/codespace/.local/lib/python3.10/site-packages (from moviepy) (1.26.4)\n",
            "Requirement already satisfied: imageio<3.0,>=2.5 in /usr/local/python/3.10.13/lib/python3.10/site-packages (from moviepy) (2.34.1)\n",
            "Requirement already satisfied: imageio-ffmpeg>=0.2.0 in /usr/local/python/3.10.13/lib/python3.10/site-packages (from moviepy) (0.4.9)\n",
            "Requirement already satisfied: pillow>=8.3.2 in /home/codespace/.local/lib/python3.10/site-packages (from imageio<3.0,>=2.5->moviepy) (10.3.0)\n",
            "Requirement already satisfied: setuptools in /usr/local/python/3.10.13/lib/python3.10/site-packages (from imageio-ffmpeg>=0.2.0->moviepy) (68.2.2)\n",
            "Requirement already satisfied: charset-normalizer<4,>=2 in /home/codespace/.local/lib/python3.10/site-packages (from requests<3.0,>=2.8.1->moviepy) (3.3.2)\n",
            "Requirement already satisfied: idna<4,>=2.5 in /home/codespace/.local/lib/python3.10/site-packages (from requests<3.0,>=2.8.1->moviepy) (3.6)\n",
            "Requirement already satisfied: urllib3<3,>=1.21.1 in /usr/local/python/3.10.13/lib/python3.10/site-packages (from requests<3.0,>=2.8.1->moviepy) (2.0.7)\n",
            "Requirement already satisfied: certifi>=2017.4.17 in /home/codespace/.local/lib/python3.10/site-packages (from requests<3.0,>=2.8.1->moviepy) (2024.2.2)\n",
            "Note: you may need to restart the kernel to use updated packages.\n",
            "Requirement already satisfied: stable-baselines3 in /usr/local/python/3.10.13/lib/python3.10/site-packages (2.3.2)\n",
            "Requirement already satisfied: gymnasium<0.30,>=0.28.1 in /usr/local/python/3.10.13/lib/python3.10/site-packages (from stable-baselines3) (0.29.1)\n",
            "Requirement already satisfied: numpy>=1.20 in /home/codespace/.local/lib/python3.10/site-packages (from stable-baselines3) (1.26.4)\n",
            "Requirement already satisfied: torch>=1.13 in /home/codespace/.local/lib/python3.10/site-packages (from stable-baselines3) (2.2.2)\n",
            "Requirement already satisfied: cloudpickle in /usr/local/python/3.10.13/lib/python3.10/site-packages (from stable-baselines3) (3.0.0)\n",
            "Requirement already satisfied: pandas in /home/codespace/.local/lib/python3.10/site-packages (from stable-baselines3) (2.2.1)\n",
            "Requirement already satisfied: matplotlib in /home/codespace/.local/lib/python3.10/site-packages (from stable-baselines3) (3.8.3)\n",
            "Requirement already satisfied: typing-extensions>=4.3.0 in /home/codespace/.local/lib/python3.10/site-packages (from gymnasium<0.30,>=0.28.1->stable-baselines3) (4.10.0)\n",
            "Requirement already satisfied: farama-notifications>=0.0.1 in /usr/local/python/3.10.13/lib/python3.10/site-packages (from gymnasium<0.30,>=0.28.1->stable-baselines3) (0.0.4)\n",
            "Requirement already satisfied: filelock in /home/codespace/.local/lib/python3.10/site-packages (from torch>=1.13->stable-baselines3) (3.13.3)\n",
            "Requirement already satisfied: sympy in /home/codespace/.local/lib/python3.10/site-packages (from torch>=1.13->stable-baselines3) (1.12)\n",
            "Requirement already satisfied: networkx in /home/codespace/.local/lib/python3.10/site-packages (from torch>=1.13->stable-baselines3) (3.2.1)\n",
            "Requirement already satisfied: jinja2 in /home/codespace/.local/lib/python3.10/site-packages (from torch>=1.13->stable-baselines3) (3.1.3)\n",
            "Requirement already satisfied: fsspec in /home/codespace/.local/lib/python3.10/site-packages (from torch>=1.13->stable-baselines3) (2024.3.1)\n",
            "Requirement already satisfied: nvidia-cuda-nvrtc-cu12==12.1.105 in /home/codespace/.local/lib/python3.10/site-packages (from torch>=1.13->stable-baselines3) (12.1.105)\n",
            "Requirement already satisfied: nvidia-cuda-runtime-cu12==12.1.105 in /home/codespace/.local/lib/python3.10/site-packages (from torch>=1.13->stable-baselines3) (12.1.105)\n",
            "Requirement already satisfied: nvidia-cuda-cupti-cu12==12.1.105 in /home/codespace/.local/lib/python3.10/site-packages (from torch>=1.13->stable-baselines3) (12.1.105)\n",
            "Requirement already satisfied: nvidia-cudnn-cu12==8.9.2.26 in /home/codespace/.local/lib/python3.10/site-packages (from torch>=1.13->stable-baselines3) (8.9.2.26)\n",
            "Requirement already satisfied: nvidia-cublas-cu12==12.1.3.1 in /home/codespace/.local/lib/python3.10/site-packages (from torch>=1.13->stable-baselines3) (12.1.3.1)\n",
            "Requirement already satisfied: nvidia-cufft-cu12==11.0.2.54 in /home/codespace/.local/lib/python3.10/site-packages (from torch>=1.13->stable-baselines3) (11.0.2.54)\n",
            "Requirement already satisfied: nvidia-curand-cu12==10.3.2.106 in /home/codespace/.local/lib/python3.10/site-packages (from torch>=1.13->stable-baselines3) (10.3.2.106)\n",
            "Requirement already satisfied: nvidia-cusolver-cu12==11.4.5.107 in /home/codespace/.local/lib/python3.10/site-packages (from torch>=1.13->stable-baselines3) (11.4.5.107)\n",
            "Requirement already satisfied: nvidia-cusparse-cu12==12.1.0.106 in /home/codespace/.local/lib/python3.10/site-packages (from torch>=1.13->stable-baselines3) (12.1.0.106)\n",
            "Requirement already satisfied: nvidia-nccl-cu12==2.19.3 in /home/codespace/.local/lib/python3.10/site-packages (from torch>=1.13->stable-baselines3) (2.19.3)\n",
            "Requirement already satisfied: nvidia-nvtx-cu12==12.1.105 in /home/codespace/.local/lib/python3.10/site-packages (from torch>=1.13->stable-baselines3) (12.1.105)\n",
            "Requirement already satisfied: triton==2.2.0 in /home/codespace/.local/lib/python3.10/site-packages (from torch>=1.13->stable-baselines3) (2.2.0)\n",
            "Requirement already satisfied: nvidia-nvjitlink-cu12 in /home/codespace/.local/lib/python3.10/site-packages (from nvidia-cusolver-cu12==11.4.5.107->torch>=1.13->stable-baselines3) (12.4.99)\n",
            "Requirement already satisfied: contourpy>=1.0.1 in /home/codespace/.local/lib/python3.10/site-packages (from matplotlib->stable-baselines3) (1.2.1)\n",
            "Requirement already satisfied: cycler>=0.10 in /home/codespace/.local/lib/python3.10/site-packages (from matplotlib->stable-baselines3) (0.12.1)\n",
            "Requirement already satisfied: fonttools>=4.22.0 in /home/codespace/.local/lib/python3.10/site-packages (from matplotlib->stable-baselines3) (4.50.0)\n",
            "Requirement already satisfied: kiwisolver>=1.3.1 in /home/codespace/.local/lib/python3.10/site-packages (from matplotlib->stable-baselines3) (1.4.5)\n",
            "Requirement already satisfied: packaging>=20.0 in /home/codespace/.local/lib/python3.10/site-packages (from matplotlib->stable-baselines3) (24.0)\n",
            "Requirement already satisfied: pillow>=8 in /home/codespace/.local/lib/python3.10/site-packages (from matplotlib->stable-baselines3) (10.3.0)\n",
            "Requirement already satisfied: pyparsing>=2.3.1 in /home/codespace/.local/lib/python3.10/site-packages (from matplotlib->stable-baselines3) (3.1.2)\n",
            "Requirement already satisfied: python-dateutil>=2.7 in /home/codespace/.local/lib/python3.10/site-packages (from matplotlib->stable-baselines3) (2.9.0.post0)\n",
            "Requirement already satisfied: pytz>=2020.1 in /home/codespace/.local/lib/python3.10/site-packages (from pandas->stable-baselines3) (2024.1)\n",
            "Requirement already satisfied: tzdata>=2022.7 in /home/codespace/.local/lib/python3.10/site-packages (from pandas->stable-baselines3) (2024.1)\n",
            "Requirement already satisfied: six>=1.5 in /home/codespace/.local/lib/python3.10/site-packages (from python-dateutil>=2.7->matplotlib->stable-baselines3) (1.16.0)\n",
            "Requirement already satisfied: MarkupSafe>=2.0 in /home/codespace/.local/lib/python3.10/site-packages (from jinja2->torch>=1.13->stable-baselines3) (2.1.5)\n",
            "Requirement already satisfied: mpmath>=0.19 in /home/codespace/.local/lib/python3.10/site-packages (from sympy->torch>=1.13->stable-baselines3) (1.3.0)\n",
            "Note: you may need to restart the kernel to use updated packages.\n",
            "Requirement already satisfied: snntorch in /usr/local/python/3.10.13/lib/python3.10/site-packages (0.9.1)\n",
            "Requirement already satisfied: torch>=1.1.0 in /home/codespace/.local/lib/python3.10/site-packages (from snntorch) (2.2.2)\n",
            "Requirement already satisfied: pandas in /home/codespace/.local/lib/python3.10/site-packages (from snntorch) (2.2.1)\n",
            "Requirement already satisfied: matplotlib in /home/codespace/.local/lib/python3.10/site-packages (from snntorch) (3.8.3)\n",
            "Requirement already satisfied: numpy>=1.17 in /home/codespace/.local/lib/python3.10/site-packages (from snntorch) (1.26.4)\n",
            "Requirement already satisfied: nir in /usr/local/python/3.10.13/lib/python3.10/site-packages (from snntorch) (1.0.4)\n",
            "Requirement already satisfied: nirtorch in /usr/local/python/3.10.13/lib/python3.10/site-packages (from snntorch) (1.0)\n",
            "Requirement already satisfied: filelock in /home/codespace/.local/lib/python3.10/site-packages (from torch>=1.1.0->snntorch) (3.13.3)\n",
            "Requirement already satisfied: typing-extensions>=4.8.0 in /home/codespace/.local/lib/python3.10/site-packages (from torch>=1.1.0->snntorch) (4.10.0)\n",
            "Requirement already satisfied: sympy in /home/codespace/.local/lib/python3.10/site-packages (from torch>=1.1.0->snntorch) (1.12)\n",
            "Requirement already satisfied: networkx in /home/codespace/.local/lib/python3.10/site-packages (from torch>=1.1.0->snntorch) (3.2.1)\n",
            "Requirement already satisfied: jinja2 in /home/codespace/.local/lib/python3.10/site-packages (from torch>=1.1.0->snntorch) (3.1.3)\n",
            "Requirement already satisfied: fsspec in /home/codespace/.local/lib/python3.10/site-packages (from torch>=1.1.0->snntorch) (2024.3.1)\n",
            "Requirement already satisfied: nvidia-cuda-nvrtc-cu12==12.1.105 in /home/codespace/.local/lib/python3.10/site-packages (from torch>=1.1.0->snntorch) (12.1.105)\n",
            "Requirement already satisfied: nvidia-cuda-runtime-cu12==12.1.105 in /home/codespace/.local/lib/python3.10/site-packages (from torch>=1.1.0->snntorch) (12.1.105)\n",
            "Requirement already satisfied: nvidia-cuda-cupti-cu12==12.1.105 in /home/codespace/.local/lib/python3.10/site-packages (from torch>=1.1.0->snntorch) (12.1.105)\n",
            "Requirement already satisfied: nvidia-cudnn-cu12==8.9.2.26 in /home/codespace/.local/lib/python3.10/site-packages (from torch>=1.1.0->snntorch) (8.9.2.26)\n",
            "Requirement already satisfied: nvidia-cublas-cu12==12.1.3.1 in /home/codespace/.local/lib/python3.10/site-packages (from torch>=1.1.0->snntorch) (12.1.3.1)\n",
            "Requirement already satisfied: nvidia-cufft-cu12==11.0.2.54 in /home/codespace/.local/lib/python3.10/site-packages (from torch>=1.1.0->snntorch) (11.0.2.54)\n",
            "Requirement already satisfied: nvidia-curand-cu12==10.3.2.106 in /home/codespace/.local/lib/python3.10/site-packages (from torch>=1.1.0->snntorch) (10.3.2.106)\n",
            "Requirement already satisfied: nvidia-cusolver-cu12==11.4.5.107 in /home/codespace/.local/lib/python3.10/site-packages (from torch>=1.1.0->snntorch) (11.4.5.107)\n",
            "Requirement already satisfied: nvidia-cusparse-cu12==12.1.0.106 in /home/codespace/.local/lib/python3.10/site-packages (from torch>=1.1.0->snntorch) (12.1.0.106)\n",
            "Requirement already satisfied: nvidia-nccl-cu12==2.19.3 in /home/codespace/.local/lib/python3.10/site-packages (from torch>=1.1.0->snntorch) (2.19.3)\n",
            "Requirement already satisfied: nvidia-nvtx-cu12==12.1.105 in /home/codespace/.local/lib/python3.10/site-packages (from torch>=1.1.0->snntorch) (12.1.105)\n",
            "Requirement already satisfied: triton==2.2.0 in /home/codespace/.local/lib/python3.10/site-packages (from torch>=1.1.0->snntorch) (2.2.0)\n",
            "Requirement already satisfied: nvidia-nvjitlink-cu12 in /home/codespace/.local/lib/python3.10/site-packages (from nvidia-cusolver-cu12==11.4.5.107->torch>=1.1.0->snntorch) (12.4.99)\n",
            "Requirement already satisfied: contourpy>=1.0.1 in /home/codespace/.local/lib/python3.10/site-packages (from matplotlib->snntorch) (1.2.1)\n",
            "Requirement already satisfied: cycler>=0.10 in /home/codespace/.local/lib/python3.10/site-packages (from matplotlib->snntorch) (0.12.1)\n",
            "Requirement already satisfied: fonttools>=4.22.0 in /home/codespace/.local/lib/python3.10/site-packages (from matplotlib->snntorch) (4.50.0)\n",
            "Requirement already satisfied: kiwisolver>=1.3.1 in /home/codespace/.local/lib/python3.10/site-packages (from matplotlib->snntorch) (1.4.5)\n",
            "Requirement already satisfied: packaging>=20.0 in /home/codespace/.local/lib/python3.10/site-packages (from matplotlib->snntorch) (24.0)\n",
            "Requirement already satisfied: pillow>=8 in /home/codespace/.local/lib/python3.10/site-packages (from matplotlib->snntorch) (10.3.0)\n",
            "Requirement already satisfied: pyparsing>=2.3.1 in /home/codespace/.local/lib/python3.10/site-packages (from matplotlib->snntorch) (3.1.2)\n",
            "Requirement already satisfied: python-dateutil>=2.7 in /home/codespace/.local/lib/python3.10/site-packages (from matplotlib->snntorch) (2.9.0.post0)\n",
            "Requirement already satisfied: h5py in /usr/local/python/3.10.13/lib/python3.10/site-packages (from nir->snntorch) (3.11.0)\n",
            "Requirement already satisfied: pytz>=2020.1 in /home/codespace/.local/lib/python3.10/site-packages (from pandas->snntorch) (2024.1)\n",
            "Requirement already satisfied: tzdata>=2022.7 in /home/codespace/.local/lib/python3.10/site-packages (from pandas->snntorch) (2024.1)\n",
            "Requirement already satisfied: six>=1.5 in /home/codespace/.local/lib/python3.10/site-packages (from python-dateutil>=2.7->matplotlib->snntorch) (1.16.0)\n",
            "Requirement already satisfied: MarkupSafe>=2.0 in /home/codespace/.local/lib/python3.10/site-packages (from jinja2->torch>=1.1.0->snntorch) (2.1.5)\n",
            "Requirement already satisfied: mpmath>=0.19 in /home/codespace/.local/lib/python3.10/site-packages (from sympy->torch>=1.1.0->snntorch) (1.3.0)\n",
            "Note: you may need to restart the kernel to use updated packages.\n"
          ]
        }
      ],
      "source": [
        "# install gymnasium packages\n",
        "%pip install gymnasium\n",
        "%pip install gymnasium[classic-control]\n",
        "%pip install swig\n",
        "\n",
        "# install virtual display packages\n",
        "%pip install pyvirtualdisplay\n",
        "%pip install moviepy\n",
        "%pip install --upgrade moviepy\n",
        "\n",
        "# install stable baselines3\n",
        "%pip install stable-baselines3\n",
        "\n",
        "# install snntorch\n",
        "%pip install snntorch"
      ]
    },
    {
      "cell_type": "code",
      "execution_count": 3,
      "metadata": {},
      "outputs": [
        {
          "name": "stdout",
          "output_type": "stream",
          "text": [
            "Hit:2 https://packages.microsoft.com/repos/microsoft-ubuntu-focal-prod focal InRelease\n",
            "Hit:3 http://archive.ubuntu.com/ubuntu focal InRelease\n",
            "Hit:4 https://dl.yarnpkg.com/debian stable InRelease\n",
            "Hit:5 http://security.ubuntu.com/ubuntu focal-security InRelease\n",
            "Hit:6 https://repo.anaconda.com/pkgs/misc/debrepo/conda stable InRelease\n",
            "Get:7 http://archive.ubuntu.com/ubuntu focal-updates InRelease [114 kB]\n",
            "Hit:1 https://packagecloud.io/github/git-lfs/ubuntu focal InRelease\n",
            "Hit:8 http://archive.ubuntu.com/ubuntu focal-backports InRelease\n",
            "Fetched 114 kB in 1s (142 kB/s)\n",
            "Reading package lists...\n",
            "Building dependency tree...\n",
            "Reading state information...\n",
            "40 packages can be upgraded. Run 'apt list --upgradable' to see them.\n",
            "Reading package lists...\n",
            "Building dependency tree...\n",
            "Reading state information...\n",
            "xvfb is already the newest version (2:1.20.13-1ubuntu1~20.04.17).\n",
            "0 upgraded, 0 newly installed, 0 to remove and 40 not upgraded.\n"
          ]
        }
      ],
      "source": [
        "# Update the Package Index\n",
        "!sudo apt update --quiet\n",
        "\n",
        "# Install xvfb\n",
        "!sudo apt-get install -y xvfb --quiet"
      ]
    },
    {
      "cell_type": "code",
      "execution_count": 4,
      "metadata": {
        "id": "LzeSyt4-OPR_"
      },
      "outputs": [],
      "source": [
        "# gymnasium imports\n",
        "import gymnasium as gym\n",
        "from gymnasium.wrappers.record_video import RecordVideo\n",
        "\n",
        "# video imports\n",
        "import glob\n",
        "import uuid\n",
        "import io\n",
        "import base64\n",
        "from IPython.display import HTML\n",
        "# from IPython import display as ipythondisplay\n",
        "\n",
        "# ml imports\n",
        "import torch\n",
        "import torch.nn as nn\n",
        "import torch.optim as optim\n",
        "import torch.nn.functional as F\n",
        "\n",
        "# plot imports\n",
        "import matplotlib\n",
        "import matplotlib.pyplot as plt\n",
        "import snntorch.spikeplot as splt\n",
        "\n",
        "# set up matplotlib\n",
        "is_ipython = 'inline' in matplotlib.get_backend()\n",
        "if is_ipython:\n",
        "    from IPython import display as ipythondisplay\n",
        "\n",
        "\n",
        "# utility imports\n",
        "import os\n",
        "import math\n",
        "import random\n",
        "import shutil\n",
        "import random\n",
        "from itertools import count\n",
        "from collections import namedtuple, deque\n",
        "\n",
        "# if GPU is to be used\n",
        "device = torch.device(\"cuda\" if torch.cuda.is_available() else \"cpu\")"
      ]
    },
    {
      "cell_type": "markdown",
      "metadata": {},
      "source": [
        "## 1. What is Reinforcement Learning?"
      ]
    },
    {
      "cell_type": "markdown",
      "metadata": {},
      "source": [
        "<img src=\"images/RL_process.jpg\" width=\"800\" height=\"500\">\n",
        "\n",
        "Along with Supervised Learning and Unsupervised Learning, Reinforcement Learning is one of the 3 basic machine learning paradigms. The idea behind Reinforcement Learning is that an agent (an AI) will learn from the environment by interacting with it (through trial and error) and receiving rewards (negative or positive) as feedback for performing actions.\n",
        "\n",
        "You can think of it like playing a video game where you get points for collecting coins and you lose points for getting hit by enemies. This \"trains\" you to collect coins, while avoiding enemies. Of course, games get a lot more complicated than that which is why one of the main challenges of RL is figuring out how to reward or punish the agent. That is to say, we use the [carrot and the stick](https://en.wikipedia.org/wiki/Carrot_and_stick).\n",
        "\n",
        "The diagram describing how a RL agent interacts with a environment can be interpretated as such:\n",
        "\n",
        "1. The Agent/Model/AI receives a **state $S_t$** (the info the agent receieves from the environment at time t)\n",
        "2. Based on that **state** $S_t$ the agent takes an *action* $A_t$\n",
        "3. The environment goes to a new **state** $S_{t+1}$\n",
        "4. The environment gives some **reward** $R_{t+1}$ to the agent\n",
        "5. repeat\n"
      ]
    },
    {
      "cell_type": "markdown",
      "metadata": {},
      "source": [
        "### 1.1 Defining Cumulative Reward\n",
        "\n",
        "The reward is fundamental in RL because it’s the only feedback for the agent. Thanks to it, our agent knows if the action taken was good or not.\n",
        "\n",
        "Where\n",
        "* $R()$: `Return` is the cumulative reward function\n",
        "* $\\tau$: `Trajectory` represented by *tau* is a sequence of `states` and `actions`\n",
        "* $\\gamma$: `Discount Rate` represented by *gamma* between 0-1\n",
        "* $r_t$: `reward` at time step t\n",
        "\n",
        "The cumulative reward is represented by the function\n",
        "\n",
        "$R(\\tau) = r_{t+1} + \\gamma r_{t+2} + \\gamma^2 r_{t+3} + \\gamma^3 r_{t+4} + ...$\n",
        "\n",
        "or \n",
        "\n",
        "$R(\\tau) = \\sum_{k=0}^{\\infty} \\gamma^k r_{t+k+1}$\n",
        "\n",
        "An important insight here is that $\\gamma$ is exponentiated, this means a smaller $\\gamma$ causes a bigger `discount` and rewards at farther timesteps are `discounted` more. So, the smaller the $\\gamma$ the less the agent cares more about closer/short-term rewards, and the bigger $\\gamma$ the more the agent cares about farther/long-term rewards."
      ]
    },
    {
      "cell_type": "markdown",
      "metadata": {},
      "source": [
        "### 1.2 Defining Policy\n",
        "\n",
        "You can think of `policy`, $\\pi$, as the mind of the agent\n",
        "\n",
        "This `policy` is the function we want to learn, our goal is to find the `optimal policy` $\\pi^*$, the policy that maximizes expected return when the agent acts according to it. We find this $\\pi^*$ through training. \n",
        "\n",
        "Note: $\\pi^*$ is pronounced \"pie-star\" and in algorithms \"*\" (star) often denotes optimality\n",
        "\n",
        "There are two types of policies:\n",
        "\n",
        "1. Deterministic: a policy at a given state will always return the same action.\n",
        "    * $\\pi(s) = a$\n",
        "2. Stochastic: outputs a probability distribution over actions.\n",
        "    * $\\pi(s|a) = P[A|s]$\n",
        "        * $|$ means given\n",
        "        * $P[]$ means probability distribution\n",
        "        * $P[A|s]$ means a probability distribution over a set of actions given a state\n",
        "\n",
        "There are two approaches to **train** our agent to find this optimal policy π*:\n",
        "\n",
        "1. Directly, by teaching the agent to learn which action to take, given the current state: **Policy-Based Methods**.\n",
        "2. Indirectly, teach the agent to learn which state is more valuable and then take the action that leads to the more valuable states: **Value-Based Methods**.\n",
        "\n"
      ]
    },
    {
      "cell_type": "markdown",
      "metadata": {},
      "source": [
        "## 2. Creating an Environment\n",
        "\n",
        "Now that you understand what a Reinforcement Learning agent is and does. Lets create an environment for our prospective RL agent to interact with.\n",
        "\n",
        "To do that we will be using the environment library [Gymnasium](https://gymnasium.farama.org/) which was developed by OpenAI and handed off to the Farama Foundation to maintain and update."
      ]
    },
    {
      "cell_type": "markdown",
      "metadata": {},
      "source": [
        "*GitHub codespaces doesn't have an inbuilt display, create a virtual display instead.*"
      ]
    },
    {
      "cell_type": "code",
      "execution_count": 5,
      "metadata": {
        "colab": {
          "base_uri": "https://localhost:8080/"
        },
        "id": "ruR-EszrTfDX",
        "outputId": "793fb07e-1331-419d-ed03-6cf07f2254c0"
      },
      "outputs": [
        {
          "data": {
            "text/plain": [
              "<pyvirtualdisplay.display.Display at 0x7f9fc6fe3f70>"
            ]
          },
          "execution_count": 5,
          "metadata": {},
          "output_type": "execute_result"
        }
      ],
      "source": [
        "# install a virtual display\n",
        "from pyvirtualdisplay import Display\n",
        "display = Display(visible=0, size=(1400, 900))\n",
        "display.start()"
      ]
    },
    {
      "cell_type": "markdown",
      "metadata": {},
      "source": [
        "The first virtual environment you will be using is the `'CartPole-v1'` environment. This is a virtual version of the real life Cart Pole/Inverted Pendulum task, here is a short fun [video](https://youtu.be/nOSTzpA0nGk?si=mFYYwhLhTb5hcrpB) for you to see."
      ]
    },
    {
      "cell_type": "markdown",
      "metadata": {},
      "source": [
        "### 2.1 Understanding Gymnasium\n",
        "Remember that at each step:\n",
        "- Our Agent receives a **state ($S_0$)** from the **Environment** — i.e. we receive the first frame of our game (Environment).\n",
        "- Based on that **state ($S_0$),** the Agent takes an **action ($A_0$)** — i.e. our Agent will move to the right.\n",
        "- The environment transitions to a **new** **state ($S_1$)** — i.e. new frame.\n",
        "- The environment gives some **reward ($R_1$)** to the Agent — i.e. we’re not dead *(Positive Reward +1)*.\n",
        "\n",
        "\n",
        "With Gymnasium:\n",
        "\n",
        "1. We create our environment using `gymnasium.make()`\n",
        "2. We reset the environment to its initial state with `observation = env.reset()`\n",
        "\n",
        "At each step:\n",
        "\n",
        "3. Get an action using our model (in our example we take a random action)\n",
        "4. Using `env.step(action)`, we perform this action in the environment and get\n",
        "    - `observation`: The new state ($s_{t+1}$)\n",
        "    - `reward`: The reward we get after executing the action\n",
        "    - `terminated`: Indicates if the episode terminated (agent reach the terminal state)\n",
        "    - `truncated`: Introduced with this new version, it indicates a timelimit or if an agent go out of bounds of the environment for instance.\n",
        "    - `info`: A dictionary that provides additional information (depends on the environment).\n",
        "\n",
        "For more explanations check this 👉 https://gymnasium.farama.org/api/env/#gymnasium.Env.step\n",
        "\n",
        "If the episode is terminated:\n",
        "- We reset the environment to its initial state with `observation = env.reset()`\n",
        "\n",
        "#### 2.2 Task Types\n",
        "There are two types of task: `Episodic Tasks` and `Continuous Tasks`\n",
        "\n",
        "1. Episodic Task\n",
        "    - In this case, we have a starting point and an ending point (a terminal state). This creates an episode: a list of States, Actions, Rewards, and new States.\n",
        "2. Continuous task\n",
        "    - These are tasks that continue forever (no terminal state). In this case, the agent must learn how to choose the best actions and simultaneously interact with the environment.\n",
        "    - For instance, an agent that does automated stock trading. For this task, there is no starting point and terminal state. The agent keeps running until we decide to stop it.\n"
      ]
    },
    {
      "cell_type": "markdown",
      "metadata": {},
      "source": [
        "## Question 1\n",
        "In gymnasium the environments are set up as episodic tasks. A good practice is to look at documentation before using an environment to know its properties. If `'CartPole-v1'` is episodic, that means it must have termination conditions. List `'CartPole-v1'`'s termination conditions below.\n",
        "\n",
        "Link to documentation -> https://gymnasium.farama.org/environments/classic_control/cart_pole/ "
      ]
    },
    {
      "cell_type": "markdown",
      "metadata": {},
      "source": [
        "<span style=\"color:green\">Answer</span>\n",
        "\n",
        "1.\n",
        "2.\n",
        "3."
      ]
    },
    {
      "cell_type": "markdown",
      "metadata": {},
      "source": [
        "#### 2.3 Default Properties of Gymnasium's Cart Pole environment \n",
        "\n",
        "##### **Action Space (The set of possible actions of the model)**\n",
        "\n",
        "The action is a ndarray with shape (1,) which can take values {0, 1} indicating the direction of the fixed force the cart is pushed with.\n",
        "\n",
        "0: Push cart to the left\n",
        "\n",
        "1: Push cart to the right\n",
        "\n",
        "Note: The velocity that is reduced or increased by the applied force is not fixed and it depends on the angle the pole is pointing. The center of gravity of the pole varies the amount of energy needed to move the cart underneath it\n",
        "\n",
        "##### **Observation Space (The subset of the state the actor observes)**\n",
        "\n",
        "The observation is a ndarray with shape (4,) with the values corresponding to the following positions and velocities:\n",
        "\n",
        "<img src=\"images/observation_space.png\" width=\"700\" height=\"200\">\n",
        "\n",
        "##### **Rewards**\n",
        "\n",
        "Since the goal is to keep the pole upright for as long as possible, a reward of +1 for every step taken, including the termination step, is allotted. The threshold for rewards is 500 for v1 and 200 for v0.\n"
      ]
    },
    {
      "cell_type": "code",
      "execution_count": 6,
      "metadata": {},
      "outputs": [
        {
          "name": "stdout",
          "output_type": "stream",
          "text": [
            "_____OBSERVATION SPACE_____ \n",
            "\n",
            "Observation Space Shape (4,)\n",
            "Sample observation [-3.8232565e+00 -1.3727236e+38  1.0673143e-01 -7.9847435e+37]\n",
            "\n",
            " _____ACTION SPACE_____ \n",
            "\n",
            "Action Space Shape 2\n",
            "Action Space Sample 1\n"
          ]
        }
      ],
      "source": [
        "# How to access the above values\n",
        "env = gym.make(\"CartPole-v1\")\n",
        "env.reset()\n",
        "print(\"_____OBSERVATION SPACE_____ \\n\")\n",
        "print(\"Observation Space Shape\", env.observation_space.shape)\n",
        "print(\"Sample observation\", env.observation_space.sample()) # Get a random observation\n",
        "print(\"\\n _____ACTION SPACE_____ \\n\")\n",
        "print(\"Action Space Shape\", env.action_space.n)\n",
        "print(\"Action Space Sample\", env.action_space.sample()) # Take a random action"
      ]
    },
    {
      "cell_type": "markdown",
      "metadata": {},
      "source": [
        "#### 2.4 Gymnasium Interactive Loop\n",
        "\n",
        "Below is the code for a simple interactive loop where instead of a agent predicting a action we simply sample a random action. Look at what happens to the cartpole when random actions are chosen, and specifically note how long the episode lasts (duration) which the model will be learning to improve."
      ]
    },
    {
      "cell_type": "code",
      "execution_count": 7,
      "metadata": {
        "colab": {
          "base_uri": "https://localhost:8080/"
        },
        "id": "-WqjS0z9Nvbm",
        "outputId": "c7c05a60-fe49-4157-fec5-7c8192196dd4"
      },
      "outputs": [],
      "source": [
        "init_env = gym.make('CartPole-v1', render_mode='rgb_array')\n",
        "\n",
        "folder_name = os.path.join('video', 'CartPole-v1', f'{uuid.uuid4()}')\n",
        "\n",
        "# Use the wrapper environment RecordVideo() to record video\n",
        "env = RecordVideo(init_env, folder_name, disable_logger=True)\n",
        "\n",
        "observation, info = env.reset()\n",
        "\n",
        "for _ in range(1000):\n",
        "    action = env.action_space.sample()\n",
        "    observation, reward, terminated, truncated, info = env.step(action)\n",
        "\n",
        "    if terminated or truncated:\n",
        "        observation, info = env.reset()\n",
        "\n",
        "env.close()"
      ]
    },
    {
      "cell_type": "code",
      "execution_count": 8,
      "metadata": {
        "id": "x1iWqf2NO4g5"
      },
      "outputs": [],
      "source": [
        "def show_video(folder_name, episode='last'):\n",
        "    mp4list = glob.glob(f'{folder_name}/*.mp4')\n",
        "    if len(mp4list) > 0:\n",
        "        sorted_mp4list = sorted(mp4list, key=lambda x: int(x.split('-')[-1].split('.')[0]))\n",
        "        if episode == 'last':\n",
        "            mp4 = sorted_mp4list[-1]\n",
        "        elif episode == 'first':\n",
        "            mp4 = sorted_mp4list[0]\n",
        "        video = io.open(mp4, 'r+b').read()\n",
        "        encoded = base64.b64encode(video)\n",
        "        ipythondisplay.display(HTML(data='''<video alt=\"test\" autoplay\n",
        "                    loop controls style=\"height: 400px;\">\n",
        "                    <source src=\"data:video/mp4;base64,{0}\" type=\"video/mp4\" />\n",
        "                    </video>'''.format(encoded.decode('ascii'))))\n",
        "    else:\n",
        "        print(\"Could not find video\")"
      ]
    },
    {
      "cell_type": "code",
      "execution_count": 9,
      "metadata": {
        "colab": {
          "base_uri": "https://localhost:8080/",
          "height": 421
        },
        "id": "CD7we0ysR4DN",
        "outputId": "65cc1009-7c2b-4e38-989b-b0bcd0580ef6"
      },
      "outputs": [
        {
          "data": {
            "text/html": [
              "<video alt=\"test\" autoplay\n",
              "                    loop controls style=\"height: 400px;\">\n",
              "                    <source src=\"data:video/mp4;base64,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\" type=\"video/mp4\" />\n",
              "                    </video>"
            ],
            "text/plain": [
              "<IPython.core.display.HTML object>"
            ]
          },
          "metadata": {},
          "output_type": "display_data"
        }
      ],
      "source": [
        "show_video(folder_name)"
      ]
    },
    {
      "cell_type": "code",
      "execution_count": 10,
      "metadata": {},
      "outputs": [
        {
          "name": "stdout",
          "output_type": "stream",
          "text": [
            "Directory deleted successfully.\n"
          ]
        }
      ],
      "source": [
        "# Delete the videos\n",
        "\n",
        "# Check if the directory exists\n",
        "if os.path.exists(folder_name):\n",
        "    # Remove the directory\n",
        "    shutil.rmtree(folder_name)\n",
        "    print(\"Directory deleted successfully.\")\n",
        "else:\n",
        "    print(\"Directory does not exist.\")"
      ]
    },
    {
      "cell_type": "markdown",
      "metadata": {
        "id": "ZqZwPeGNW9HI"
      },
      "source": [
        "## 3. Deep Q Networks\n",
        "\n",
        "There are many different types of algorithms/models for RL, which you can do research on in your free time, but today we will be introducing you to Deep Q Networks as we think it strikes a nice balance of being easy to explain, but complicated enough to be interesting.\n",
        "\n",
        "<img src=\"images/deep.jpg\" width=\"700\" height=\"350\">"
      ]
    },
    {
      "cell_type": "markdown",
      "metadata": {},
      "source": [
        "### 3.1 Approximating $\\pi^*$ with a Q-function\n",
        "\n",
        "Q-learning in general are a set of **value based methods** (which we mentioned earlier), meaning instead of training on the policy directly they train to find an optimal value function which leads to having an optimal policy.\n",
        "\n",
        "In this case the value function the model trains on is called the Q-function, an **action-value function** that determines the value of being at a particular state and taking a specific action at that state. The *link between value and policy* is represented in the equation here:\n",
        "\n",
        "$$\\pi^* = \\underset{a}{\\text{argmax}}\\ Q^*(s,a)$$\n",
        "\n",
        "### 3.2 Maths\n",
        "\n",
        "### 3.2.1 Bellman Equation\n",
        "\n",
        "Directly computing the cumulative reward for all future timesteps for a given state can be a computationally competitive task if you are doing it at each action. Which is why instead we use the **Bellman Equation** which is a recursive equation that considers the value of a state as the immediate reward and the discounted value of the state that follows.\n",
        "\n",
        "<img src=\"images/bellman4.jpg\" width=\"700\" height=\"380\">\n",
        "\n",
        "Remember:\n",
        "* $\\gamma$: `Discount Rate` represented by *gamma* between 0-1\n",
        "\n",
        "\n",
        "### 3.2.2 Temporal Difference Learning Approach\n",
        "\n",
        "There are two main types of strategies:\n",
        "* Monte Carlo Approach - Learning after each episode\n",
        "* Temporal Difference Learning Approach - Learning after each step\n",
        "\n",
        "Q-Learning uses a TD approach which includes the Bellman Equation\n",
        "\n",
        "<img src=\"images/TD-1.jpg\" width=\"700\" height=\"400\">\n",
        "\n",
        "### 3.2.3 Epsilon Greedy Algorithm\n",
        "\n",
        "In RL it is importat to have a policy that governs the **exploitatio-exploration tradeoff**. That is do we exploit our prior knowledge gained during learning and move according to what we currently have calculated as the best action for a given state or do we explore and select a different action in the hopes of finding a better route/set of actions?\n",
        "\n",
        "We use an **epsilon greedy policy** where $\\epsilon$ represents the probability of exploration (selecting a random action) and $1-\\epsilon$ represents the probability of exploitation. $\\epsilon$ is a number from 1-0.\n",
        "\n",
        "At the beginning As Q gets better and better with progressive training we slowly decrease $\\epsilon$ more and more according to a decay rate. This changes the policy to go from a higher ratio of exploration, to a higher ratio of exploitation.\n",
        "\n",
        "### 3.2.4 Q-Learning\n",
        "\n",
        "Bringing that all together we get the Q-Learning algorithm\n",
        "\n",
        "<img src=\"images/Q-learning-2.jpg\" width=\"700\" height=\"400\">\n",
        "\n",
        "### 3.2.5 Deep Q-Learning (DQN)\n",
        "\n",
        "Deep Q-Learning uses a deep neural network to approximate the different Q-values for each possible action at a state (value-function estimation).\n",
        "\n",
        "The difference is that, during the training phase, instead of updating the Q-value of a state-action pair directly as we have done with Q-Learning, in Deep Q-Learning, we create a loss function that compares our Q-value prediction and the Q-target and uses gradient descent to update the weights of our Deep Q-Network to approximate our Q-values better.\n",
        "\n",
        "<img src=\"images/q-ex-5.jpg\" width=\"700\" height=\"400\">\n",
        "\n",
        "<img src=\"images/Q-target.jpg\" width=\"700\" height=\"400\">\n",
        "\n",
        "* Where $\\delta$ represents temporal difference error, the equation looks like this:\n",
        "\n",
        "$$\\delta = Q(s, a) - (r + \\gamma \\max_{a}' Q(s', a'))$$\n",
        "\n",
        "* To minimize this error we use the [Huber Loss](https://en.wikipedia.org/wiki/Huber_loss). The Huber loss acts like the mean squared error when the error is small, but like the mean absolute error when the error is large.\n",
        "\n",
        "* There is also an additional feature of an **experience replay** which has two functions:\n",
        "    1. Make **more efficient use of the experiences** during the training. Usually, in online reinforcement learning, the agent interacts with the environment, gets experiences (state, action, reward, and next state), learns from them (updates the neural network), and discards them. This is not efficient.\n",
        "\n",
        "    2. Avoid forgetting previous experiences (aka catastrophic interference, or catastrophic forgetting) and reduce the correlation between experiences.\n",
        "        * **catastrophic forgetting**: The problem we get if we give sequential samples of experiences to our neural network is that it tends to forget the previous experiences as it gets new experiences. For instance, if the agent is in the first level and then in the second, which is different, it can forget how to behave and play in the first level.\n",
        "\n",
        "Here is the pseudocode for DQN:\n",
        "\n",
        "<img src=\"images/sampling-training.jpg\" width=\"700\" height=\"400\">\n"
      ]
    },
    {
      "cell_type": "markdown",
      "metadata": {},
      "source": [
        "### 3.3 Train a DQN\n",
        "\n",
        "The following is the code from here: https://pytorch.org/tutorials/intermediate/reinforcement_q_learning.html\n",
        " \n",
        "If you want more detail on the specifics of the code, we encouorage you to read through it.\n",
        "\n",
        "Now that you understand the basic overview of a DQN its time to actually train one on the `'CartPole-v1'` Gymnasium environment!"
      ]
    },
    {
      "cell_type": "code",
      "execution_count": 11,
      "metadata": {
        "id": "YiaXSBipW8lw"
      },
      "outputs": [],
      "source": [
        "Transition = namedtuple('Transition',\n",
        "                        ('state', 'action', 'next_state', 'reward'))\n",
        "\n",
        "\n",
        "class ReplayMemory(object):\n",
        "\n",
        "    def __init__(self, capacity):\n",
        "        self.memory = deque([], maxlen=capacity)\n",
        "\n",
        "    def push(self, *args):\n",
        "        \"\"\"Save a transition\"\"\"\n",
        "        self.memory.append(Transition(*args))\n",
        "\n",
        "    def sample(self, batch_size):\n",
        "        return random.sample(self.memory, batch_size)\n",
        "\n",
        "    def __len__(self):\n",
        "        return len(self.memory)"
      ]
    },
    {
      "cell_type": "code",
      "execution_count": 12,
      "metadata": {
        "id": "l6pbi-BwToeQ"
      },
      "outputs": [],
      "source": [
        "class DQN(nn.Module):\n",
        "\n",
        "    def __init__(self, n_observations, n_actions):\n",
        "        super(DQN, self).__init__()\n",
        "        self.layer1 = nn.Linear(n_observations, 128)\n",
        "        self.layer2 = nn.Linear(128, 128)\n",
        "        self.layer3 = nn.Linear(128, n_actions)\n",
        "\n",
        "    # Called with either one element to determine next action, or a batch\n",
        "    # during optimization. Returns tensor([[left0exp,right0exp]...]).\n",
        "    def forward(self, x):\n",
        "        x = F.relu(self.layer1(x))\n",
        "        x = F.relu(self.layer2(x))\n",
        "        return self.layer3(x)"
      ]
    },
    {
      "cell_type": "code",
      "execution_count": 13,
      "metadata": {
        "id": "xTX4-jUBWSJT"
      },
      "outputs": [],
      "source": [
        "# BATCH_SIZE is the number of transitions sampled from the replay buffer\n",
        "# GAMMA is the discount factor as mentioned in the previous section\n",
        "# EPS_START is the starting value of epsilon\n",
        "# EPS_END is the final value of epsilon\n",
        "# EPS_DECAY controls the rate of exponential decay of epsilon, higher means a slower decay\n",
        "# TAU is the update rate of the target network\n",
        "# LR is the learning rate of the ``AdamW`` optimizer\n",
        "BATCH_SIZE = 128\n",
        "GAMMA = 0.99\n",
        "EPS_START = 0.9\n",
        "EPS_END = 0.05\n",
        "EPS_DECAY = 1000\n",
        "TAU = 0.005\n",
        "LR = 1e-4\n",
        "\n",
        "# Get number of actions from gym action space\n",
        "n_actions = env.action_space.n\n",
        "# Get the number of state observations\n",
        "state, info = env.reset()\n",
        "n_observations = len(state)\n",
        "\n",
        "policy_net = DQN(n_observations, n_actions).to(device)\n",
        "target_net = DQN(n_observations, n_actions).to(device)\n",
        "target_net.load_state_dict(policy_net.state_dict())\n",
        "\n",
        "optimizer = optim.AdamW(policy_net.parameters(), lr=LR, amsgrad=True)\n",
        "memory = ReplayMemory(10000)\n",
        "\n",
        "\n",
        "steps_done = 0\n",
        "\n",
        "\n",
        "def select_action(state):\n",
        "    global steps_done\n",
        "    sample = random.random()\n",
        "    eps_threshold = EPS_END + (EPS_START - EPS_END) * \\\n",
        "        math.exp(-1. * steps_done / EPS_DECAY)\n",
        "    steps_done += 1\n",
        "    if sample > eps_threshold:\n",
        "        with torch.no_grad():\n",
        "            # t.max(1) will return the largest column value of each row.\n",
        "            # second column on max result is index of where max element was\n",
        "            # found, so we pick action with the larger expected reward.\n",
        "            return policy_net(state).max(1).indices.view(1, 1)\n",
        "    else:\n",
        "        return torch.tensor([[env.action_space.sample()]], device=device, dtype=torch.long)\n",
        "\n",
        "\n",
        "episode_durations = []\n",
        "\n",
        "\n",
        "def plot_durations(show_result=False):\n",
        "    plt.figure(1)\n",
        "    durations_t = torch.tensor(episode_durations, dtype=torch.float)\n",
        "    if show_result:\n",
        "        plt.title('Result')\n",
        "    else:\n",
        "        plt.clf()\n",
        "        plt.title('Training...')\n",
        "    plt.xlabel('Episode')\n",
        "    plt.ylabel('Duration')\n",
        "    plt.plot(durations_t.numpy())\n",
        "    # Take 100 episode averages and plot them too\n",
        "    if len(durations_t) >= 100:\n",
        "        means = durations_t.unfold(0, 100, 1).mean(1).view(-1)\n",
        "        means = torch.cat((torch.zeros(99), means))\n",
        "        plt.plot(means.numpy())\n",
        "\n",
        "    plt.pause(0.001)  # pause a bit so that plots are updated\n",
        "    if is_ipython:\n",
        "        if not show_result:\n",
        "            ipythondisplay.display(plt.gcf())\n",
        "            ipythondisplay.clear_output(wait=True)\n",
        "        else:\n",
        "            ipythondisplay.display(plt.gcf())"
      ]
    },
    {
      "cell_type": "code",
      "execution_count": 14,
      "metadata": {
        "id": "GWXFcjLsWhNE"
      },
      "outputs": [],
      "source": [
        "def optimize_model():\n",
        "    if len(memory) < BATCH_SIZE:\n",
        "        return\n",
        "    transitions = memory.sample(BATCH_SIZE)\n",
        "    # Transpose the batch (see https://stackoverflow.com/a/19343/3343043 for\n",
        "    # detailed explanation). This converts batch-array of Transitions\n",
        "    # to Transition of batch-arrays.\n",
        "    batch = Transition(*zip(*transitions))\n",
        "\n",
        "    # Compute a mask of non-final states and concatenate the batch elements\n",
        "    # (a final state would've been the one after which simulation ended)\n",
        "    non_final_mask = torch.tensor(tuple(map(lambda s: s is not None,\n",
        "                                          batch.next_state)), device=device, dtype=torch.bool)\n",
        "    non_final_next_states = torch.cat([s for s in batch.next_state\n",
        "                                                if s is not None])\n",
        "    state_batch = torch.cat(batch.state)\n",
        "    action_batch = torch.cat(batch.action)\n",
        "    reward_batch = torch.cat(batch.reward)\n",
        "\n",
        "    # Compute Q(s_t, a) - the model computes Q(s_t), then we select the\n",
        "    # columns of actions taken. These are the actions which would've been taken\n",
        "    # for each batch state according to policy_net\n",
        "    state_action_values = policy_net(state_batch).gather(1, action_batch)\n",
        "\n",
        "    # Compute V(s_{t+1}) for all next states.\n",
        "    # Expected values of actions for non_final_next_states are computed based\n",
        "    # on the \"older\" target_net; selecting their best reward with max(1).values\n",
        "    # This is merged based on the mask, such that we'll have either the expected\n",
        "    # state value or 0 in case the state was final.\n",
        "    next_state_values = torch.zeros(BATCH_SIZE, device=device)\n",
        "    with torch.no_grad():\n",
        "        next_state_values[non_final_mask] = target_net(non_final_next_states).max(1).values\n",
        "    # Compute the expected Q values\n",
        "    expected_state_action_values = (next_state_values * GAMMA) + reward_batch\n",
        "\n",
        "    # Compute Huber loss\n",
        "    criterion = nn.SmoothL1Loss()\n",
        "    loss = criterion(state_action_values, expected_state_action_values.unsqueeze(1))\n",
        "\n",
        "    # Optimize the model\n",
        "    optimizer.zero_grad()\n",
        "    loss.backward()\n",
        "    # In-place gradient clipping\n",
        "    torch.nn.utils.clip_grad_value_(policy_net.parameters(), 100)\n",
        "    optimizer.step()"
      ]
    },
    {
      "cell_type": "code",
      "execution_count": 15,
      "metadata": {
        "colab": {
          "base_uri": "https://localhost:8080/",
          "height": 524
        },
        "id": "0sVkpLBjXZZz",
        "outputId": "1ed8f913-7652-4b9d-a37b-a0a40afd90d1"
      },
      "outputs": [],
      "source": [
        "def train_loop(environment, episodes):\n",
        "\n",
        "    num_episodes = episodes\n",
        "    env = environment\n",
        "\n",
        "    for i_episode in range(num_episodes):\n",
        "        # Initialize the environment and get its state\n",
        "        state, info = env.reset()\n",
        "        state = torch.tensor(state, dtype=torch.float32, device=device).unsqueeze(0)\n",
        "        for t in count():\n",
        "            action = select_action(state)\n",
        "            observation, reward, terminated, truncated, _ = env.step(action.item())\n",
        "            reward = torch.tensor([reward], device=device)\n",
        "            done = terminated or truncated\n",
        "\n",
        "            if terminated:\n",
        "                next_state = None\n",
        "            else:\n",
        "                next_state = torch.tensor(observation, dtype=torch.float32, device=device).unsqueeze(0)\n",
        "\n",
        "            # Store the transition in memory\n",
        "            memory.push(state, action, next_state, reward)\n",
        "\n",
        "            # Move to the next state\n",
        "            state = next_state\n",
        "\n",
        "            # Perform one step of the optimization (on the policy network)\n",
        "            optimize_model()\n",
        "\n",
        "            # Soft update of the target network's weights\n",
        "            # θ′ ← τ θ + (1 −τ )θ′\n",
        "            target_net_state_dict = target_net.state_dict()\n",
        "            policy_net_state_dict = policy_net.state_dict()\n",
        "            for key in policy_net_state_dict:\n",
        "                target_net_state_dict[key] = policy_net_state_dict[key]*TAU + target_net_state_dict[key]*(1-TAU)\n",
        "            target_net.load_state_dict(target_net_state_dict)\n",
        "\n",
        "            if done:\n",
        "                episode_durations.append(t + 1)\n",
        "                plot_durations()\n",
        "                break\n",
        "\n",
        "    print('Complete')\n",
        "    plot_durations(show_result=True)\n",
        "    plt.ioff()\n",
        "    plt.show()"
      ]
    },
    {
      "cell_type": "code",
      "execution_count": 16,
      "metadata": {},
      "outputs": [
        {
          "data": {
            "image/png": "[encoded data removed]",
            "text/plain": [
              "<Figure size 640x480 with 1 Axes>"
            ]
          },
          "metadata": {},
          "output_type": "display_data"
        },
        {
          "data": {
            "text/plain": [
              "<Figure size 640x480 with 0 Axes>"
            ]
          },
          "metadata": {},
          "output_type": "display_data"
        }
      ],
      "source": [
        "# make a new environment\n",
        "init_env = gym.make('CartPole-v1', render_mode='rgb_array')\n",
        "folder_name = os.path.join('video', 'CartPole-v1', f'{uuid.uuid4()}')\n",
        "env = RecordVideo(init_env, folder_name, disable_logger=True)\n",
        "\n",
        "# call the training loop\n",
        "train_loop(env, 500)\n",
        "\n",
        "# close the environment\n",
        "env.close()"
      ]
    },
    {
      "cell_type": "code",
      "execution_count": null,
      "metadata": {},
      "outputs": [
        {
          "data": {
            "text/html": [
              "<video alt=\"test\" autoplay\n",
              "                    loop controls style=\"height: 400px;\">\n",
              "                    <source src=\"data:video/mp4;base64,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\" type=\"video/mp4\" />\n",
              "                    </video>"
            ],
            "text/plain": [
              "<IPython.core.display.HTML object>"
            ]
          },
          "metadata": {},
          "output_type": "display_data"
        }
      ],
      "source": [
        "show_video(folder_name, episode = 'first')"
      ]
    },
    {
      "cell_type": "code",
      "execution_count": null,
      "metadata": {
        "colab": {
          "base_uri": "https://localhost:8080/",
          "height": 421
        },
        "id": "gTTuNd_nX3dh",
        "outputId": "cd255b39-551c-4917-fbc2-daf5eba3e6b7"
      },
      "outputs": [
        {
          "data": {
            "text/html": [
              "<video alt=\"test\" autoplay\n",
              "                    loop controls style=\"height: 400px;\">\n",
              "                    <source src=\"data:video/mp4;base64,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\" type=\"video/mp4\" />\n",
              "                    </video>"
            ],
            "text/plain": [
              "<IPython.core.display.HTML object>"
            ]
          },
          "metadata": {},
          "output_type": "display_data"
        }
      ],
      "source": [
        "show_video(folder_name, episode = 'last')"
      ]
    },
    {
      "cell_type": "markdown",
      "metadata": {},
      "source": [
        "## Question 2\n",
        "Has the model learned? What metrics did you use to determine that?"
      ]
    },
    {
      "cell_type": "markdown",
      "metadata": {},
      "source": [
        "<span style=\"color:green\">Answer</span>"
      ]
    },
    {
      "cell_type": "markdown",
      "metadata": {},
      "source": [
        "## Question 3 (Understanding the code)\n",
        "Hint: Use this as reference -> https://pytorch.org/tutorials/intermediate/reinforcement_q_learning.html\n",
        "\n",
        "3A. Copy and paste the section of the code where the epsilon greedy algorithm is implemented."
      ]
    },
    {
      "cell_type": "code",
      "execution_count": null,
      "metadata": {},
      "outputs": [],
      "source": [
        "#####ANSWER#####"
      ]
    },
    {
      "cell_type": "markdown",
      "metadata": {},
      "source": [
        "3B. Line-by-line explain in your own words how this code works. Remember that you can use backticks \"\\`\" to denote `code`."
      ]
    },
    {
      "cell_type": "markdown",
      "metadata": {},
      "source": [
        "<span style=\"color:green\">Answer</span>"
      ]
    },
    {
      "cell_type": "markdown",
      "metadata": {},
      "source": [
        "3C. Copy and paste the section of the code where the expected Q Values are calculated."
      ]
    },
    {
      "cell_type": "code",
      "execution_count": null,
      "metadata": {},
      "outputs": [],
      "source": [
        "#####ANSWER#####"
      ]
    },
    {
      "cell_type": "markdown",
      "metadata": {},
      "source": [
        "3D. Line-by-line explain in your own words how this code works. Remember that you can use backticks \"\\`\" to denote `code`."
      ]
    },
    {
      "cell_type": "markdown",
      "metadata": {},
      "source": [
        "<span style=\"color:green\">Answer</span>"
      ]
    },
    {
      "cell_type": "markdown",
      "metadata": {},
      "source": [
        "## Question 4 Changing Episode Length\n",
        "\n",
        "Try different episode lengths. What happens when it is a lot shorter or a lot bigger?\n",
        "\n",
        "Hint: [catastrophic drop](https://ai.stackexchange.com/questions/28079/deep-q-learning-catastrophic-drop-reasons)."
      ]
    },
    {
      "cell_type": "code",
      "execution_count": null,
      "metadata": {},
      "outputs": [],
      "source": [
        "# Reinitialize Parameters\n",
        "BATCH_SIZE = 128\n",
        "GAMMA = 0.99\n",
        "EPS_START = 0.9\n",
        "EPS_END = 0.05\n",
        "EPS_DECAY = 1000\n",
        "TAU = 0.005\n",
        "LR = 1e-4\n",
        "n_actions = env.action_space.n\n",
        "state, info = env.reset()\n",
        "n_observations = len(state)\n",
        "policy_net = DQN(n_observations, n_actions).to(device)\n",
        "target_net = DQN(n_observations, n_actions).to(device)\n",
        "target_net.load_state_dict(policy_net.state_dict())\n",
        "optimizer = optim.AdamW(policy_net.parameters(), lr=LR, amsgrad=True)\n",
        "memory = ReplayMemory(10000)\n",
        "steps_done = 0\n",
        "episode_durations = []"
      ]
    },
    {
      "cell_type": "code",
      "execution_count": null,
      "metadata": {},
      "outputs": [
        {
          "name": "stdout",
          "output_type": "stream",
          "text": [
            "Complete\n"
          ]
        },
        {
          "data": {
            "image/png": "[encoded data removed]",
            "text/plain": [
              "<Figure size 640x480 with 1 Axes>"
            ]
          },
          "metadata": {},
          "output_type": "display_data"
        },
        {
          "data": {
            "text/plain": [
              "<Figure size 640x480 with 0 Axes>"
            ]
          },
          "metadata": {},
          "output_type": "display_data"
        },
        {
          "data": {
            "text/plain": [
              "<Figure size 640x480 with 0 Axes>"
            ]
          },
          "metadata": {},
          "output_type": "display_data"
        }
      ],
      "source": [
        "# make a new environment\n",
        "init_env = gym.make('CartPole-v1', render_mode='rgb_array')\n",
        "folder_name = os.path.join('video', 'CartPole-v1', f'{uuid.uuid4()}')\n",
        "env = RecordVideo(init_env, folder_name, disable_logger=True)\n",
        "\n",
        "# call the training loop\n",
        "train_loop(env, 50)  # Edit this!!!\n",
        "\n",
        "# close the environment\n",
        "env.close()"
      ]
    },
    {
      "cell_type": "markdown",
      "metadata": {},
      "source": [
        "<span style=\"color:green\">Answer</span>"
      ]
    },
    {
      "cell_type": "markdown",
      "metadata": {},
      "source": [
        "## Question 5 Manipulating the Reward\n",
        "\n",
        "Using [Gymnasium Reward Wrapper](https://gymnasium.farama.org/api/wrappers/reward_wrappers/) manipulate the reward in various ways."
      ]
    },
    {
      "cell_type": "markdown",
      "metadata": {},
      "source": [
        "5.1 Set the reward to zero then run the training loop again. What happens? Why is that?"
      ]
    },
    {
      "cell_type": "code",
      "execution_count": null,
      "metadata": {},
      "outputs": [],
      "source": [
        "##### Answer #####"
      ]
    },
    {
      "cell_type": "markdown",
      "metadata": {},
      "source": [
        "<span style=\"color:green\">Answer</span>"
      ]
    },
    {
      "cell_type": "markdown",
      "metadata": {},
      "source": [
        "5.2 Set the reward to go from 1 every timestep, to negative after 100 timesteps. What changes in behavior does this cause in the actor? Why is that?"
      ]
    },
    {
      "cell_type": "code",
      "execution_count": null,
      "metadata": {},
      "outputs": [],
      "source": [
        "##### Answer #####"
      ]
    },
    {
      "cell_type": "markdown",
      "metadata": {},
      "source": [
        "<span style=\"color:green\">Answer</span>"
      ]
    },
    {
      "cell_type": "markdown",
      "metadata": {},
      "source": [
        "5.3.1 Currently we only are printing out the duration/iteration number. Before the environment-action loop initialize a variable `record_reward = []`, then during the loop append the reward after each action. Using that list, create a graph comparing the normal reward, zero reward, and negative after 100 reward with `matplotlib`. Make sure to label the axes, give the plot a title, and a appropiately labeled legend for plotting multiple lines on one graph. \n",
        "\n",
        "matplotlib docs: https://matplotlib.org/stable/"
      ]
    },
    {
      "cell_type": "code",
      "execution_count": null,
      "metadata": {},
      "outputs": [],
      "source": [
        "##### Answer #####"
      ]
    },
    {
      "cell_type": "markdown",
      "metadata": {},
      "source": [
        "5.3.2 Create a new folder called `student_created_graphs`. Save the graphs you made in 5.3.1, place them in this new folder, then display them using markdown `<img src=\"student_created_graphs/your_graph\">` in the cell below. "
      ]
    },
    {
      "cell_type": "markdown",
      "metadata": {},
      "source": [
        "<span style=\"color:green\">Answer</span>"
      ]
    },
    {
      "cell_type": "markdown",
      "metadata": {},
      "source": [
        "5.4 Think of an interesting alternative reward transformation function that changes the behavior of the model in a noticeable way. What changed? Why did your modified reward cause this change? Make sure to displau the plots/graphs you used to view this change. "
      ]
    },
    {
      "cell_type": "code",
      "execution_count": null,
      "metadata": {},
      "outputs": [],
      "source": [
        "##### Answer #####"
      ]
    },
    {
      "cell_type": "markdown",
      "metadata": {},
      "source": [
        "<span style=\"color:green\">Answer</span>"
      ]
    },
    {
      "cell_type": "markdown",
      "metadata": {},
      "source": [
        "5.5 Write a paragraph on how reward affects learning using what you've learned so far in this homework."
      ]
    },
    {
      "cell_type": "markdown",
      "metadata": {},
      "source": [
        "<span style=\"color:green\">Answer</span>"
      ]
    },
    {
      "cell_type": "markdown",
      "metadata": {},
      "source": [
        "## Question 6 Manipulating the Observation\n",
        "\n",
        "6.1 Using a Gymnasium [observation wrapper](https://gymnasium.farama.org/api/wrappers/observation_wrappers/) or directly zeroing out the indexes of the observation manipulate the observation so that the model can only see the angle of the pole. "
      ]
    },
    {
      "cell_type": "code",
      "execution_count": null,
      "metadata": {},
      "outputs": [],
      "source": [
        "##### Answer #####"
      ]
    },
    {
      "cell_type": "markdown",
      "metadata": {},
      "source": [
        "6.2 How does this affect learning (include graph)? "
      ]
    },
    {
      "cell_type": "markdown",
      "metadata": {},
      "source": [
        "<span style=\"color:green\">Answer</span>"
      ]
    },
    {
      "cell_type": "markdown",
      "metadata": {},
      "source": [
        "6.3 In theory, how should increasing/decreasing the obervation space affect learning? The current observations we are feeding to the model clearly include useful information. Are all observations equally useful? Could we theoretically add a useless observation? What are the tradeoffs of adding more observations?"
      ]
    },
    {
      "cell_type": "markdown",
      "metadata": {},
      "source": [
        "<span style=\"color:green\">Answer</span>"
      ]
    },
    {
      "cell_type": "markdown",
      "metadata": {},
      "source": [
        "6.4 The current observation space is cart position, cart velocity, pole angle, and pole angular velocity. What if we changed the observation to the current frame, or a stack of frames of the environment? Reflect on in a single paragraph the benefits/detriments to doing this change, what factors are considered when choosing observations in general, and the importance of selecting a good observation space."
      ]
    },
    {
      "cell_type": "markdown",
      "metadata": {},
      "source": [
        "<span style=\"color:green\">Answer</span>"
      ]
    },
    {
      "cell_type": "markdown",
      "metadata": {},
      "source": [
        "6.5 Manipulating the observation changes what the model can see of the environment. What if we manipulate the environment itself? What could we do to make this cartpole task harder to learn what could make it easier? "
      ]
    },
    {
      "cell_type": "markdown",
      "metadata": {},
      "source": [
        "<span style=\"color:green\">Answer</span>"
      ]
    },
    {
      "cell_type": "markdown",
      "metadata": {},
      "source": [
        "## Question 7 Spikes into Actions\n",
        "\n",
        "In a future assigment instead of training a RL agent model, you will be training an organoid. As you learned in the electrophysiology homework, the output of an organoid is represented in spiketrains. "
      ]
    },
    {
      "cell_type": "markdown",
      "metadata": {},
      "source": [
        "Here is how to create a rate coded tensor by creating a tensor of probabilities and running a Bernouli trial over it:"
      ]
    },
    {
      "cell_type": "code",
      "execution_count": null,
      "metadata": {},
      "outputs": [
        {
          "name": "stdout",
          "output_type": "stream",
          "text": [
            "Converted vector: tensor([[1., 1., 0., 1., 0., 0., 0., 0., 0., 1., 1., 0., 0., 1., 0., 0., 0., 0.,\n",
            "         1., 1., 0., 0., 0., 1., 1., 1., 0., 1., 1., 1., 0., 1., 0., 1., 1., 1.,\n",
            "         0., 0., 1., 1., 0., 0., 1., 0., 0., 0., 1., 0., 0., 0.],\n",
            "        [1., 0., 0., 1., 0., 0., 1., 0., 0., 0., 1., 0., 1., 1., 1., 0., 0., 0.,\n",
            "         1., 0., 1., 0., 0., 0., 1., 1., 1., 1., 1., 1., 0., 0., 0., 0., 0., 1.,\n",
            "         1., 1., 0., 0., 0., 1., 1., 1., 1., 0., 1., 1., 0., 0.]])\n",
            "The output is spiking 46.00% of the time.\n"
          ]
        }
      ],
      "source": [
        "# Temporal Dynamics\n",
        "num_steps = 50\n",
        "\n",
        "# create vector filled with 0.5\n",
        "raw_vector = torch.ones(2, num_steps)*0.5\n",
        "\n",
        "# pass each sample through a Bernoulli trial\n",
        "rate_coded_vector = torch.bernoulli(raw_vector)\n",
        "print(f\"Converted vector: {rate_coded_vector}\")\n",
        "\n",
        "print(f\"The output is spiking {rate_coded_vector.sum()*100/torch.numel(rate_coded_vector):.2f}% of the time.\")"
      ]
    },
    {
      "cell_type": "markdown",
      "metadata": {},
      "source": [
        "Here is how to concatenate multiple tensors to make a artificial spike train:"
      ]
    },
    {
      "cell_type": "code",
      "execution_count": null,
      "metadata": {},
      "outputs": [
        {
          "name": "stdout",
          "output_type": "stream",
          "text": [
            "tensor([[1., 1., 1., 1., 1., 0., 1., 0., 0., 1., 1., 0., 0., 1., 1., 0., 1., 1.,\n",
            "         1., 1., 1., 0., 1., 1., 1., 1., 1., 1., 1., 0., 1., 1., 1., 1., 1., 1.,\n",
            "         0., 1., 1., 1., 1., 0., 1., 1., 1., 1., 1., 1., 1., 0.],\n",
            "        [1., 1., 1., 0., 1., 0., 1., 1., 1., 1., 1., 1., 1., 1., 0., 1., 1., 0.,\n",
            "         1., 1., 1., 1., 1., 0., 1., 1., 0., 1., 1., 1., 1., 1., 1., 1., 1., 1.,\n",
            "         1., 1., 0., 1., 1., 1., 1., 1., 1., 1., 0., 1., 1., 1.],\n",
            "        [0., 0., 0., 0., 0., 0., 1., 0., 0., 0., 1., 0., 0., 0., 1., 1., 0., 0.,\n",
            "         1., 0., 1., 0., 1., 1., 0., 0., 0., 1., 0., 0., 0., 0., 1., 1., 1., 0.,\n",
            "         1., 0., 0., 0., 0., 1., 0., 0., 0., 0., 1., 0., 0., 0.],\n",
            "        [0., 0., 1., 0., 0., 0., 0., 0., 1., 0., 0., 0., 0., 1., 1., 1., 0., 0.,\n",
            "         0., 0., 1., 1., 0., 0., 1., 0., 0., 0., 1., 1., 0., 0., 1., 0., 1., 1.,\n",
            "         0., 0., 1., 0., 0., 1., 1., 0., 0., 0., 0., 0., 0., 0.]])\n",
            "torch.Size([4, 50])\n"
          ]
        }
      ],
      "source": [
        "raw_vector_1 = torch.ones(2, num_steps)*0.8\n",
        "raw_vector_2 = torch.ones(2, num_steps)*0.3\n",
        "raw_vector_sum = torch.cat((raw_vector_1, raw_vector_2))\n",
        "artificial_spike_train = torch.bernoulli(raw_vector_sum)\n",
        "print(artificial_spike_train)\n",
        "print(artificial_spike_train.size())\n"
      ]
    },
    {
      "cell_type": "markdown",
      "metadata": {},
      "source": [
        "Here is how to visualize the artificial spike train with a raster plot using `spikeplot.raster` from `snnTorch`:\n",
        "\n",
        "As you can see, \"neurons\" 0 and 1 are spiking 80% of the time, and \"neurons\" 2 and 3 are spiking 30% of the time.  \n",
        "\n",
        "Docs: https://snntorch.readthedocs.io/en/latest/snntorch.spikeplot.html#snntorch.spikeplot.raster"
      ]
    },
    {
      "cell_type": "code",
      "execution_count": null,
      "metadata": {},
      "outputs": [
        {
          "data": {
            "image/png": "[encoded data removed]",
            "text/plain": [
              "<Figure size 1000x500 with 1 Axes>"
            ]
          },
          "metadata": {},
          "output_type": "display_data"
        }
      ],
      "source": [
        "fig = plt.figure(facecolor=\"w\", figsize=(10, 5))\n",
        "ax = fig.add_subplot(111)\n",
        "\n",
        "# transpose the spike train so that time is the first dimension\n",
        "artificial_spike_train = torch.transpose(artificial_spike_train, 0, 1)\n",
        "\n",
        "#  s: size of scatter points; c: color of scatter points\n",
        "splt.raster(artificial_spike_train, ax, s=1.5, c=\"black\")\n",
        "plt.title(\"Input Layer\")\n",
        "plt.xlabel(\"Time step\")\n",
        "plt.ylabel(\"Neuron Number\")\n",
        "plt.show()"
      ]
    },
    {
      "cell_type": "markdown",
      "metadata": {},
      "source": [
        "7.1 Ratio Threshold Decoding\n",
        "\n",
        "One way to decode spikes into actions is to choose a a ratio threshold where if the ratio of spikes is greater than that ratio choose one action and if it is below that ratio choose a different action. This could also be used to determine whether or not to do an action. \n",
        "\n",
        "Fill in the following function that takes in a spike train and a ratio threshold (0-1). The function should calculate the ratio between the sum of all the spikes and the number of time steps multiplied by the number of neurons. If that ratio is less than or equal to the ratio threshold push the cart left (action 0), else push the cart to the right (action 1)."
      ]
    },
    {
      "cell_type": "code",
      "execution_count": null,
      "metadata": {},
      "outputs": [],
      "source": [
        "def ratio_threshold(spike_train, ratio_threshold):\n",
        "    ###### Answer #####\n",
        "    action = _\n",
        "    return action"
      ]
    },
    {
      "cell_type": "code",
      "execution_count": null,
      "metadata": {},
      "outputs": [
        {
          "ename": "NameError",
          "evalue": "name 'ratio_threshold' is not defined",
          "output_type": "error",
          "traceback": [
            "\u001b[0;31m---------------------------------------------------------------------------\u001b[0m",
            "\u001b[0;31mNameError\u001b[0m                                 Traceback (most recent call last)",
            "Cell \u001b[0;32mIn[60], line 17\u001b[0m\n\u001b[1;32m     10\u001b[0m \u001b[38;5;28;01mfor\u001b[39;00m _ \u001b[38;5;129;01min\u001b[39;00m \u001b[38;5;28mrange\u001b[39m(\u001b[38;5;241m1000\u001b[39m):\n\u001b[1;32m     11\u001b[0m     new_spike_train \u001b[38;5;241m=\u001b[39m torch\u001b[38;5;241m.\u001b[39mbernoulli(\n\u001b[1;32m     12\u001b[0m         torch\u001b[38;5;241m.\u001b[39mcat((\n\u001b[1;32m     13\u001b[0m             torch\u001b[38;5;241m.\u001b[39mones(\u001b[38;5;241m2\u001b[39m,num_steps) \u001b[38;5;241m*\u001b[39m \u001b[38;5;241m0.5\u001b[39m,\n\u001b[1;32m     14\u001b[0m             torch\u001b[38;5;241m.\u001b[39mones(\u001b[38;5;241m2\u001b[39m, num_steps) \u001b[38;5;241m*\u001b[39m \u001b[38;5;241m0.3\u001b[39m\n\u001b[1;32m     15\u001b[0m         ))\n\u001b[1;32m     16\u001b[0m     )\n\u001b[0;32m---> 17\u001b[0m     action \u001b[38;5;241m=\u001b[39m \u001b[43mratio_threshold\u001b[49m(new_spike_train, \u001b[38;5;241m0.5\u001b[39m)\n\u001b[1;32m     18\u001b[0m     observation, reward, terminated, truncated, info \u001b[38;5;241m=\u001b[39m env\u001b[38;5;241m.\u001b[39mstep(action)\n\u001b[1;32m     20\u001b[0m     \u001b[38;5;28;01mif\u001b[39;00m terminated \u001b[38;5;129;01mor\u001b[39;00m truncated:\n",
            "\u001b[0;31mNameError\u001b[0m: name 'ratio_threshold' is not defined"
          ]
        }
      ],
      "source": [
        "init_env = gym.make('CartPole-v1', render_mode='rgb_array')\n",
        "\n",
        "folder_name = os.path.join('video', 'CartPole-v1', f'{uuid.uuid4()}')\n",
        "\n",
        "# Use the wrapper environment RecordVideo() to record video\n",
        "env = RecordVideo(init_env, folder_name, disable_logger=True)\n",
        "\n",
        "observation, info = env.reset()\n",
        "\n",
        "for _ in range(1000):\n",
        "    new_spike_train = torch.bernoulli(\n",
        "        torch.cat((\n",
        "            torch.ones(2,num_steps) * 0.5,\n",
        "            torch.ones(2, num_steps) * 0.3\n",
        "        ))\n",
        "    )\n",
        "    action = ratio_threshold(new_spike_train, 0.5)\n",
        "    observation, reward, terminated, truncated, info = env.step(action)\n",
        "\n",
        "    if terminated or truncated:\n",
        "        observation, info = env.reset()\n",
        "\n",
        "env.close()\n",
        "\n",
        "show_video(folder_name)"
      ]
    },
    {
      "cell_type": "code",
      "execution_count": null,
      "metadata": {},
      "outputs": [],
      "source": [
        "# Delete the videos\n",
        "\n",
        "# Check if the directory exists\n",
        "if os.path.exists(folder_name):\n",
        "    # Remove the directory\n",
        "    shutil.rmtree(folder_name)\n",
        "    print(\"Directory deleted successfully.\")\n",
        "else:\n",
        "    print(\"Directory does not exist.\")"
      ]
    },
    {
      "cell_type": "markdown",
      "metadata": {},
      "source": [
        "7.2 Neuron Comparison Decoding\n",
        "\n",
        "One way to decode spikes into actions is to compare the density or sum of spikes of groups of selected neurons. Then you would compare the sum or density to decide on an action.\n",
        "\n",
        "Fill in the following functions takes in a spike train and two lists indicating the neurons for the groups. The first function should compare spike sums, and the second function should compare spike density."
      ]
    },
    {
      "cell_type": "code",
      "execution_count": null,
      "metadata": {},
      "outputs": [],
      "source": [
        "def sum_comparison(spike_train, group1, group2):\n",
        "    ###### Answer #####\n",
        "    action = _\n",
        "    return action"
      ]
    },
    {
      "cell_type": "code",
      "execution_count": null,
      "metadata": {},
      "outputs": [],
      "source": [
        "def density_comparison(spike_train, group1, group2):\n",
        "    ###### Answer #####\n",
        "    action = _\n",
        "    return action"
      ]
    },
    {
      "cell_type": "code",
      "execution_count": null,
      "metadata": {},
      "outputs": [],
      "source": [
        "init_env = gym.make('CartPole-v1', render_mode='rgb_array')\n",
        "\n",
        "folder_name = os.path.join('video', 'CartPole-v1', f'{uuid.uuid4()}')\n",
        "\n",
        "# Use the wrapper environment RecordVideo() to record video\n",
        "env = RecordVideo(init_env, folder_name, disable_logger=True)\n",
        "\n",
        "observation, info = env.reset()\n",
        "\n",
        "for _ in range(1000):\n",
        "    new_spike_train = torch.bernoulli(\n",
        "        torch.cat((\n",
        "            torch.ones(2,num_steps) * 0.5,\n",
        "            torch.ones(2, num_steps) * 0.3\n",
        "        ))\n",
        "    )\n",
        "    action = sum_comparison(new_spike_train, [0,1], [2,3])\n",
        "    observation, reward, terminated, truncated, info = env.step(action)\n",
        "\n",
        "    if terminated or truncated:\n",
        "        observation, info = env.reset()\n",
        "\n",
        "env.close()\n",
        "\n",
        "show_video(folder_name)"
      ]
    },
    {
      "cell_type": "code",
      "execution_count": null,
      "metadata": {},
      "outputs": [],
      "source": [
        "# Delete the videos\n",
        "\n",
        "# Check if the directory exists\n",
        "if os.path.exists(folder_name):\n",
        "    # Remove the directory\n",
        "    shutil.rmtree(folder_name)\n",
        "    print(\"Directory deleted successfully.\")\n",
        "else:\n",
        "    print(\"Directory does not exist.\")"
      ]
    },
    {
      "cell_type": "code",
      "execution_count": null,
      "metadata": {},
      "outputs": [],
      "source": [
        "init_env = gym.make('CartPole-v1', render_mode='rgb_array')\n",
        "\n",
        "folder_name = os.path.join('video', 'CartPole-v1', f'{uuid.uuid4()}')\n",
        "\n",
        "# Use the wrapper environment RecordVideo() to record video\n",
        "env = RecordVideo(init_env, folder_name, disable_logger=True)\n",
        "\n",
        "observation, info = env.reset()\n",
        "\n",
        "for _ in range(1000):\n",
        "    new_spike_train = torch.bernoulli(\n",
        "        torch.cat((\n",
        "            torch.ones(2,num_steps) * 0.5,\n",
        "            torch.ones(2, num_steps) * 0.3\n",
        "        ))\n",
        "    )\n",
        "    action = sum_comparison(new_spike_train, [0,2], [1,3])\n",
        "    observation, reward, terminated, truncated, info = env.step(action)\n",
        "\n",
        "    if terminated or truncated:\n",
        "        observation, info = env.reset()\n",
        "\n",
        "env.close()\n",
        "\n",
        "show_video(folder_name)"
      ]
    },
    {
      "cell_type": "code",
      "execution_count": null,
      "metadata": {},
      "outputs": [],
      "source": [
        "# Delete the videos\n",
        "\n",
        "# Check if the directory exists\n",
        "if os.path.exists(folder_name):\n",
        "    # Remove the directory\n",
        "    shutil.rmtree(folder_name)\n",
        "    print(\"Directory deleted successfully.\")\n",
        "else:\n",
        "    print(\"Directory does not exist.\")"
      ]
    },
    {
      "cell_type": "code",
      "execution_count": null,
      "metadata": {},
      "outputs": [],
      "source": [
        "init_env = gym.make('CartPole-v1', render_mode='rgb_array')\n",
        "\n",
        "folder_name = os.path.join('video', 'CartPole-v1', f'{uuid.uuid4()}')\n",
        "\n",
        "# Use the wrapper environment RecordVideo() to record video\n",
        "env = RecordVideo(init_env, folder_name, disable_logger=True)\n",
        "\n",
        "observation, info = env.reset()\n",
        "\n",
        "for _ in range(1000):\n",
        "    new_spike_train = torch.bernoulli(\n",
        "        torch.cat((\n",
        "            torch.ones(2,num_steps) * 0.5,\n",
        "            torch.ones(2, num_steps) * 0.3\n",
        "        ))\n",
        "    )\n",
        "    action = density_comparison(new_spike_train, [0], [1,2,3])\n",
        "    observation, reward, terminated, truncated, info = env.step(action)\n",
        "\n",
        "    if terminated or truncated:\n",
        "        observation, info = env.reset()\n",
        "\n",
        "env.close()\n",
        "\n",
        "show_video(folder_name)"
      ]
    },
    {
      "cell_type": "code",
      "execution_count": null,
      "metadata": {},
      "outputs": [],
      "source": [
        "# Delete the videos\n",
        "\n",
        "# Check if the directory exists\n",
        "if os.path.exists(folder_name):\n",
        "    # Remove the directory\n",
        "    shutil.rmtree(folder_name)\n",
        "    print(\"Directory deleted successfully.\")\n",
        "else:\n",
        "    print(\"Directory does not exist.\")"
      ]
    },
    {
      "cell_type": "markdown",
      "metadata": {},
      "source": [
        "7.3 Stochastic Spike Decoding\n",
        "\n",
        "Instead of comparing the spike densities of groups of neurons, one could interpret the density of a subset of the spike train as a probability to take an action. \n",
        "\n",
        "Fill in the following function that takes in a spike train, and a list of neurons in a group. It then calculates the density of that group and then uses that probability to determine if the cart pole should move right (1). That is if the density is 0.9, there is a 90% chance the cart will be moved right, else move the cart left (0)."
      ]
    },
    {
      "cell_type": "code",
      "execution_count": null,
      "metadata": {},
      "outputs": [],
      "source": [
        "def sum_comparison(spike_train, group):\n",
        "    ###### Answer #####\n",
        "    action = _\n",
        "    return action"
      ]
    },
    {
      "cell_type": "code",
      "execution_count": null,
      "metadata": {},
      "outputs": [],
      "source": [
        "init_env = gym.make('CartPole-v1', render_mode='rgb_array')\n",
        "\n",
        "folder_name = os.path.join('video', 'CartPole-v1', f'{uuid.uuid4()}')\n",
        "\n",
        "# Use the wrapper environment RecordVideo() to record video\n",
        "env = RecordVideo(init_env, folder_name, disable_logger=True)\n",
        "\n",
        "observation, info = env.reset()\n",
        "\n",
        "for _ in range(1000):\n",
        "    new_spike_train = torch.bernoulli(\n",
        "        torch.cat((\n",
        "            torch.ones(2,num_steps) * 0.5,\n",
        "            torch.ones(2, num_steps) * 0.3\n",
        "        ))\n",
        "    )\n",
        "    action = density_comparison(new_spike_train, [0, 1, 2])\n",
        "    observation, reward, terminated, truncated, info = env.step(action)\n",
        "\n",
        "    if terminated or truncated:\n",
        "        observation, info = env.reset()\n",
        "\n",
        "env.close()\n",
        "\n",
        "show_video(folder_name)"
      ]
    },
    {
      "cell_type": "code",
      "execution_count": null,
      "metadata": {},
      "outputs": [],
      "source": [
        "# Delete the videos\n",
        "\n",
        "# Check if the directory exists\n",
        "if os.path.exists(folder_name):\n",
        "    # Remove the directory\n",
        "    shutil.rmtree(folder_name)\n",
        "    print(\"Directory deleted successfully.\")\n",
        "else:\n",
        "    print(\"Directory does not exist.\")"
      ]
    },
    {
      "cell_type": "markdown",
      "metadata": {},
      "source": [
        "7.4 Decode Into a Continuous Action Space\n",
        "\n",
        "So far we have been working with binary descrete actions, but it is possible to not only have multiple actions but a continuous action space instead. For example, if you wanted to determine the degrees a agent controlling a top down character mouse should move. A continuous action space would include not just the 360 degree angles, but even the decimal points in between them. \n",
        "\n",
        "Create a function that takes in a spike train and outputs a angle from 0-360 a theoretical mouse should move by returning the product of density and 360."
      ]
    },
    {
      "cell_type": "code",
      "execution_count": null,
      "metadata": {},
      "outputs": [],
      "source": [
        "def continuous_degrees_turned(spike_train):\n",
        "    ##### Answer ######\n",
        "    action = _\n",
        "    return action"
      ]
    },
    {
      "cell_type": "markdown",
      "metadata": {},
      "source": [
        "## Feedback (Optional)\n",
        "\n",
        "This is a new homework for this quarter, plase provide feedback on things you think could be improved or even if you like it as is."
      ]
    },
    {
      "cell_type": "markdown",
      "metadata": {},
      "source": [
        "<span style=\"color:green\">Answer</span>"
      ]
    }
  ],
  "metadata": {
    "accelerator": "GPU",
    "colab": {
      "gpuType": "T4",
      "provenance": []
    },
    "kernelspec": {
      "display_name": "Python 3 (ipykernel)",
      "language": "python",
      "name": "python3"
    },
    "language_info": {
      "codemirror_mode": {
        "name": "ipython",
        "version": 3
      },
      "file_extension": ".py",
      "mimetype": "text/x-python",
      "name": "python",
      "nbconvert_exporter": "python",
      "pygments_lexer": "ipython3",
      "version": "3.10.13"
    }
  },
  "nbformat": 4,
  "nbformat_minor": 0
}
