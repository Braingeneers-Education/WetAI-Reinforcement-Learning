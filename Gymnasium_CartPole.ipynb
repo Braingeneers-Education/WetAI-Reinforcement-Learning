{
  "cells": [
    {
      "cell_type": "markdown",
      "metadata": {},
      "source": [
        "# Intro to Reinforcement Learning"
      ]
    },
    {
      "cell_type": "markdown",
      "metadata": {},
      "source": [
        "In this assignment you will learn the basics of reinforcement learning (RL), as well how to train a DQN RL model.\n",
        "\n",
        "A lot of this information, text, and code is directly pooled from the following sources\n",
        "\n",
        "Credits:\n",
        "* Hugging Face Deep RL course [source](https://huggingface.co/learn/deep-rl-course/unit0/introduction)\n",
        "* Gymnasium-Colaboratory-Starter [source](https://github.com/hom-bahrani/Gymnasium-Colaboratory-Starter)\n",
        "* PyTorch RL Tutorials [source](https://pytorch.org/tutorials/)\n",
        "* Wikipedia RL Page [source](https://en.wikipedia.org/wiki/Reinforcement_learning)"
      ]
    },
    {
      "cell_type": "markdown",
      "metadata": {},
      "source": [
        "First, install and import the packages and libraries you will need throughout this exercise"
      ]
    },
    {
      "cell_type": "code",
      "execution_count": 61,
      "metadata": {
        "colab": {
          "base_uri": "https://localhost:8080/"
        },
        "id": "-MGHP8DHMBKp",
        "outputId": "b8a735b9-32d3-416e-e7bf-364e88b14fca"
      },
      "outputs": [
        {
          "name": "stdout",
          "output_type": "stream",
          "text": [
            "Requirement already satisfied: gymnasium in /usr/local/python/3.10.13/lib/python3.10/site-packages (0.29.1)\n",
            "Requirement already satisfied: numpy>=1.21.0 in /home/codespace/.local/lib/python3.10/site-packages (from gymnasium) (1.26.4)\n",
            "Requirement already satisfied: cloudpickle>=1.2.0 in /usr/local/python/3.10.13/lib/python3.10/site-packages (from gymnasium) (3.0.0)\n",
            "Requirement already satisfied: typing-extensions>=4.3.0 in /home/codespace/.local/lib/python3.10/site-packages (from gymnasium) (4.10.0)\n",
            "Requirement already satisfied: farama-notifications>=0.0.1 in /usr/local/python/3.10.13/lib/python3.10/site-packages (from gymnasium) (0.0.4)\n"
          ]
        },
        {
          "name": "stdout",
          "output_type": "stream",
          "text": [
            "Note: you may need to restart the kernel to use updated packages.\n",
            "Requirement already satisfied: gymnasium[classic-control] in /usr/local/python/3.10.13/lib/python3.10/site-packages (0.29.1)\n",
            "Requirement already satisfied: numpy>=1.21.0 in /home/codespace/.local/lib/python3.10/site-packages (from gymnasium[classic-control]) (1.26.4)\n",
            "Requirement already satisfied: cloudpickle>=1.2.0 in /usr/local/python/3.10.13/lib/python3.10/site-packages (from gymnasium[classic-control]) (3.0.0)\n",
            "Requirement already satisfied: typing-extensions>=4.3.0 in /home/codespace/.local/lib/python3.10/site-packages (from gymnasium[classic-control]) (4.10.0)\n",
            "Requirement already satisfied: farama-notifications>=0.0.1 in /usr/local/python/3.10.13/lib/python3.10/site-packages (from gymnasium[classic-control]) (0.0.4)\n",
            "Requirement already satisfied: pygame>=2.1.3 in /usr/local/python/3.10.13/lib/python3.10/site-packages (from gymnasium[classic-control]) (2.5.2)\n",
            "Note: you may need to restart the kernel to use updated packages.\n",
            "Requirement already satisfied: swig in /usr/local/python/3.10.13/lib/python3.10/site-packages (4.2.1)\n",
            "Note: you may need to restart the kernel to use updated packages.\n",
            "Requirement already satisfied: pyvirtualdisplay in /usr/local/python/3.10.13/lib/python3.10/site-packages (3.0)\n",
            "Note: you may need to restart the kernel to use updated packages.\n",
            "Requirement already satisfied: moviepy in /usr/local/python/3.10.13/lib/python3.10/site-packages (1.0.3)\n",
            "Requirement already satisfied: decorator<5.0,>=4.0.2 in /usr/local/python/3.10.13/lib/python3.10/site-packages (from moviepy) (4.4.2)\n",
            "Requirement already satisfied: tqdm<5.0,>=4.11.2 in /usr/local/python/3.10.13/lib/python3.10/site-packages (from moviepy) (4.66.2)\n",
            "Requirement already satisfied: requests<3.0,>=2.8.1 in /home/codespace/.local/lib/python3.10/site-packages (from moviepy) (2.31.0)\n",
            "Requirement already satisfied: proglog<=1.0.0 in /usr/local/python/3.10.13/lib/python3.10/site-packages (from moviepy) (0.1.10)\n",
            "Requirement already satisfied: numpy>=1.17.3 in /home/codespace/.local/lib/python3.10/site-packages (from moviepy) (1.26.4)\n",
            "Requirement already satisfied: imageio<3.0,>=2.5 in /usr/local/python/3.10.13/lib/python3.10/site-packages (from moviepy) (2.34.1)\n",
            "Requirement already satisfied: imageio-ffmpeg>=0.2.0 in /usr/local/python/3.10.13/lib/python3.10/site-packages (from moviepy) (0.4.9)\n",
            "Requirement already satisfied: pillow>=8.3.2 in /home/codespace/.local/lib/python3.10/site-packages (from imageio<3.0,>=2.5->moviepy) (10.3.0)\n",
            "Requirement already satisfied: setuptools in /usr/local/python/3.10.13/lib/python3.10/site-packages (from imageio-ffmpeg>=0.2.0->moviepy) (68.2.2)\n",
            "Requirement already satisfied: charset-normalizer<4,>=2 in /home/codespace/.local/lib/python3.10/site-packages (from requests<3.0,>=2.8.1->moviepy) (3.3.2)\n",
            "Requirement already satisfied: idna<4,>=2.5 in /home/codespace/.local/lib/python3.10/site-packages (from requests<3.0,>=2.8.1->moviepy) (3.6)\n",
            "Requirement already satisfied: urllib3<3,>=1.21.1 in /usr/local/python/3.10.13/lib/python3.10/site-packages (from requests<3.0,>=2.8.1->moviepy) (2.0.7)\n",
            "Requirement already satisfied: certifi>=2017.4.17 in /home/codespace/.local/lib/python3.10/site-packages (from requests<3.0,>=2.8.1->moviepy) (2024.2.2)\n",
            "Note: you may need to restart the kernel to use updated packages.\n",
            "Requirement already satisfied: moviepy in /usr/local/python/3.10.13/lib/python3.10/site-packages (1.0.3)\n",
            "Requirement already satisfied: decorator<5.0,>=4.0.2 in /usr/local/python/3.10.13/lib/python3.10/site-packages (from moviepy) (4.4.2)\n",
            "Requirement already satisfied: tqdm<5.0,>=4.11.2 in /usr/local/python/3.10.13/lib/python3.10/site-packages (from moviepy) (4.66.2)\n",
            "Requirement already satisfied: requests<3.0,>=2.8.1 in /home/codespace/.local/lib/python3.10/site-packages (from moviepy) (2.31.0)\n",
            "Requirement already satisfied: proglog<=1.0.0 in /usr/local/python/3.10.13/lib/python3.10/site-packages (from moviepy) (0.1.10)\n",
            "Requirement already satisfied: numpy>=1.17.3 in /home/codespace/.local/lib/python3.10/site-packages (from moviepy) (1.26.4)\n",
            "Requirement already satisfied: imageio<3.0,>=2.5 in /usr/local/python/3.10.13/lib/python3.10/site-packages (from moviepy) (2.34.1)\n",
            "Requirement already satisfied: imageio-ffmpeg>=0.2.0 in /usr/local/python/3.10.13/lib/python3.10/site-packages (from moviepy) (0.4.9)\n",
            "Requirement already satisfied: pillow>=8.3.2 in /home/codespace/.local/lib/python3.10/site-packages (from imageio<3.0,>=2.5->moviepy) (10.3.0)\n",
            "Requirement already satisfied: setuptools in /usr/local/python/3.10.13/lib/python3.10/site-packages (from imageio-ffmpeg>=0.2.0->moviepy) (68.2.2)\n",
            "Requirement already satisfied: charset-normalizer<4,>=2 in /home/codespace/.local/lib/python3.10/site-packages (from requests<3.0,>=2.8.1->moviepy) (3.3.2)\n",
            "Requirement already satisfied: idna<4,>=2.5 in /home/codespace/.local/lib/python3.10/site-packages (from requests<3.0,>=2.8.1->moviepy) (3.6)\n",
            "Requirement already satisfied: urllib3<3,>=1.21.1 in /usr/local/python/3.10.13/lib/python3.10/site-packages (from requests<3.0,>=2.8.1->moviepy) (2.0.7)\n",
            "Requirement already satisfied: certifi>=2017.4.17 in /home/codespace/.local/lib/python3.10/site-packages (from requests<3.0,>=2.8.1->moviepy) (2024.2.2)\n",
            "Note: you may need to restart the kernel to use updated packages.\n",
            "Requirement already satisfied: stable-baselines3 in /usr/local/python/3.10.13/lib/python3.10/site-packages (2.3.2)\n",
            "Requirement already satisfied: gymnasium<0.30,>=0.28.1 in /usr/local/python/3.10.13/lib/python3.10/site-packages (from stable-baselines3) (0.29.1)\n",
            "Requirement already satisfied: numpy>=1.20 in /home/codespace/.local/lib/python3.10/site-packages (from stable-baselines3) (1.26.4)\n",
            "Requirement already satisfied: torch>=1.13 in /home/codespace/.local/lib/python3.10/site-packages (from stable-baselines3) (2.2.2)\n",
            "Requirement already satisfied: cloudpickle in /usr/local/python/3.10.13/lib/python3.10/site-packages (from stable-baselines3) (3.0.0)\n",
            "Requirement already satisfied: pandas in /home/codespace/.local/lib/python3.10/site-packages (from stable-baselines3) (2.2.1)\n",
            "Requirement already satisfied: matplotlib in /home/codespace/.local/lib/python3.10/site-packages (from stable-baselines3) (3.8.3)\n",
            "Requirement already satisfied: typing-extensions>=4.3.0 in /home/codespace/.local/lib/python3.10/site-packages (from gymnasium<0.30,>=0.28.1->stable-baselines3) (4.10.0)\n",
            "Requirement already satisfied: farama-notifications>=0.0.1 in /usr/local/python/3.10.13/lib/python3.10/site-packages (from gymnasium<0.30,>=0.28.1->stable-baselines3) (0.0.4)\n",
            "Requirement already satisfied: filelock in /home/codespace/.local/lib/python3.10/site-packages (from torch>=1.13->stable-baselines3) (3.13.3)\n",
            "Requirement already satisfied: sympy in /home/codespace/.local/lib/python3.10/site-packages (from torch>=1.13->stable-baselines3) (1.12)\n",
            "Requirement already satisfied: networkx in /home/codespace/.local/lib/python3.10/site-packages (from torch>=1.13->stable-baselines3) (3.2.1)\n",
            "Requirement already satisfied: jinja2 in /home/codespace/.local/lib/python3.10/site-packages (from torch>=1.13->stable-baselines3) (3.1.3)\n",
            "Requirement already satisfied: fsspec in /home/codespace/.local/lib/python3.10/site-packages (from torch>=1.13->stable-baselines3) (2024.3.1)\n",
            "Requirement already satisfied: nvidia-cuda-nvrtc-cu12==12.1.105 in /home/codespace/.local/lib/python3.10/site-packages (from torch>=1.13->stable-baselines3) (12.1.105)\n",
            "Requirement already satisfied: nvidia-cuda-runtime-cu12==12.1.105 in /home/codespace/.local/lib/python3.10/site-packages (from torch>=1.13->stable-baselines3) (12.1.105)\n",
            "Requirement already satisfied: nvidia-cuda-cupti-cu12==12.1.105 in /home/codespace/.local/lib/python3.10/site-packages (from torch>=1.13->stable-baselines3) (12.1.105)\n",
            "Requirement already satisfied: nvidia-cudnn-cu12==8.9.2.26 in /home/codespace/.local/lib/python3.10/site-packages (from torch>=1.13->stable-baselines3) (8.9.2.26)\n",
            "Requirement already satisfied: nvidia-cublas-cu12==12.1.3.1 in /home/codespace/.local/lib/python3.10/site-packages (from torch>=1.13->stable-baselines3) (12.1.3.1)\n",
            "Requirement already satisfied: nvidia-cufft-cu12==11.0.2.54 in /home/codespace/.local/lib/python3.10/site-packages (from torch>=1.13->stable-baselines3) (11.0.2.54)\n",
            "Requirement already satisfied: nvidia-curand-cu12==10.3.2.106 in /home/codespace/.local/lib/python3.10/site-packages (from torch>=1.13->stable-baselines3) (10.3.2.106)\n",
            "Requirement already satisfied: nvidia-cusolver-cu12==11.4.5.107 in /home/codespace/.local/lib/python3.10/site-packages (from torch>=1.13->stable-baselines3) (11.4.5.107)\n",
            "Requirement already satisfied: nvidia-cusparse-cu12==12.1.0.106 in /home/codespace/.local/lib/python3.10/site-packages (from torch>=1.13->stable-baselines3) (12.1.0.106)\n",
            "Requirement already satisfied: nvidia-nccl-cu12==2.19.3 in /home/codespace/.local/lib/python3.10/site-packages (from torch>=1.13->stable-baselines3) (2.19.3)\n",
            "Requirement already satisfied: nvidia-nvtx-cu12==12.1.105 in /home/codespace/.local/lib/python3.10/site-packages (from torch>=1.13->stable-baselines3) (12.1.105)\n",
            "Requirement already satisfied: triton==2.2.0 in /home/codespace/.local/lib/python3.10/site-packages (from torch>=1.13->stable-baselines3) (2.2.0)\n",
            "Requirement already satisfied: nvidia-nvjitlink-cu12 in /home/codespace/.local/lib/python3.10/site-packages (from nvidia-cusolver-cu12==11.4.5.107->torch>=1.13->stable-baselines3) (12.4.99)\n",
            "Requirement already satisfied: contourpy>=1.0.1 in /home/codespace/.local/lib/python3.10/site-packages (from matplotlib->stable-baselines3) (1.2.1)\n",
            "Requirement already satisfied: cycler>=0.10 in /home/codespace/.local/lib/python3.10/site-packages (from matplotlib->stable-baselines3) (0.12.1)\n",
            "Requirement already satisfied: fonttools>=4.22.0 in /home/codespace/.local/lib/python3.10/site-packages (from matplotlib->stable-baselines3) (4.50.0)\n",
            "Requirement already satisfied: kiwisolver>=1.3.1 in /home/codespace/.local/lib/python3.10/site-packages (from matplotlib->stable-baselines3) (1.4.5)\n",
            "Requirement already satisfied: packaging>=20.0 in /home/codespace/.local/lib/python3.10/site-packages (from matplotlib->stable-baselines3) (24.0)\n",
            "Requirement already satisfied: pillow>=8 in /home/codespace/.local/lib/python3.10/site-packages (from matplotlib->stable-baselines3) (10.3.0)\n",
            "Requirement already satisfied: pyparsing>=2.3.1 in /home/codespace/.local/lib/python3.10/site-packages (from matplotlib->stable-baselines3) (3.1.2)\n",
            "Requirement already satisfied: python-dateutil>=2.7 in /home/codespace/.local/lib/python3.10/site-packages (from matplotlib->stable-baselines3) (2.9.0.post0)\n",
            "Requirement already satisfied: pytz>=2020.1 in /home/codespace/.local/lib/python3.10/site-packages (from pandas->stable-baselines3) (2024.1)\n",
            "Requirement already satisfied: tzdata>=2022.7 in /home/codespace/.local/lib/python3.10/site-packages (from pandas->stable-baselines3) (2024.1)\n",
            "Requirement already satisfied: six>=1.5 in /home/codespace/.local/lib/python3.10/site-packages (from python-dateutil>=2.7->matplotlib->stable-baselines3) (1.16.0)\n",
            "Requirement already satisfied: MarkupSafe>=2.0 in /home/codespace/.local/lib/python3.10/site-packages (from jinja2->torch>=1.13->stable-baselines3) (2.1.5)\n",
            "Requirement already satisfied: mpmath>=0.19 in /home/codespace/.local/lib/python3.10/site-packages (from sympy->torch>=1.13->stable-baselines3) (1.3.0)\n",
            "Note: you may need to restart the kernel to use updated packages.\n"
          ]
        }
      ],
      "source": [
        "# install gymnasium packages\n",
        "%pip install gymnasium\n",
        "%pip install gymnasium[classic-control]\n",
        "%pip install swig\n",
        "\n",
        "# install virtual display packages\n",
        "%pip install pyvirtualdisplay\n",
        "%pip install moviepy\n",
        "%pip install --upgrade moviepy\n",
        "\n",
        "# install stable baselines3\n",
        "%pip install stable-baselines3"
      ]
    },
    {
      "cell_type": "code",
      "execution_count": 62,
      "metadata": {},
      "outputs": [
        {
          "name": "stdout",
          "output_type": "stream",
          "text": [
            "Hit:2 https://dl.yarnpkg.com/debian stable InRelease\n",
            "Hit:3 http://security.ubuntu.com/ubuntu focal-security InRelease\n",
            "Hit:4 https://repo.anaconda.com/pkgs/misc/debrepo/conda stable InRelease\n",
            "Hit:5 http://archive.ubuntu.com/ubuntu focal InRelease\n",
            "Hit:6 https://packages.microsoft.com/repos/microsoft-ubuntu-focal-prod focal InRelease\n",
            "Hit:1 https://packagecloud.io/github/git-lfs/ubuntu focal InRelease\n",
            "Hit:7 http://archive.ubuntu.com/ubuntu focal-updates InRelease\n",
            "Hit:8 http://archive.ubuntu.com/ubuntu focal-backports InRelease\n",
            "Reading package lists...\n",
            "Building dependency tree...\n",
            "Reading state information...\n",
            "40 packages can be upgraded. Run 'apt list --upgradable' to see them.\n",
            "Reading package lists...\n",
            "Building dependency tree...\n",
            "Reading state information...\n",
            "xvfb is already the newest version (2:1.20.13-1ubuntu1~20.04.17).\n",
            "0 upgraded, 0 newly installed, 0 to remove and 40 not upgraded.\n"
          ]
        }
      ],
      "source": [
        "# Update the Package Index\n",
        "!sudo apt update --quiet\n",
        "\n",
        "# Install xvfb\n",
        "!sudo apt-get install -y xvfb --quiet"
      ]
    },
    {
      "cell_type": "code",
      "execution_count": 63,
      "metadata": {
        "id": "LzeSyt4-OPR_"
      },
      "outputs": [],
      "source": [
        "# gymnasium imports\n",
        "import gymnasium as gym\n",
        "from gymnasium.wrappers.record_video import RecordVideo\n",
        "\n",
        "# video imports\n",
        "import glob\n",
        "import uuid\n",
        "import io\n",
        "import base64\n",
        "from IPython.display import HTML\n",
        "# from IPython import display as ipythondisplay\n",
        "\n",
        "# ml imports\n",
        "import torch\n",
        "import torch.nn as nn\n",
        "import torch.optim as optim\n",
        "import torch.nn.functional as F\n",
        "\n",
        "# plot imports\n",
        "import matplotlib\n",
        "import matplotlib.pyplot as plt\n",
        "\n",
        "# set up matplotlib\n",
        "is_ipython = 'inline' in matplotlib.get_backend()\n",
        "if is_ipython:\n",
        "    from IPython import display as ipythondisplay\n",
        "\n",
        "\n",
        "# utility imports\n",
        "import os\n",
        "import math\n",
        "import shutil\n",
        "import random\n",
        "from itertools import count\n",
        "from collections import namedtuple, deque\n",
        "\n",
        "# if GPU is to be used\n",
        "device = torch.device(\"cuda\" if torch.cuda.is_available() else \"cpu\")"
      ]
    },
    {
      "cell_type": "markdown",
      "metadata": {},
      "source": [
        "## 1. What is Reinforcement Learning?"
      ]
    },
    {
      "cell_type": "markdown",
      "metadata": {},
      "source": [
        "<img src=\"images/RL_process.jpg\" width=\"800\" height=\"500\">\n",
        "\n",
        "Along with Supervised Learning and Unsupervised Learning, Reinforcement Learning is one of the 3 basic machine learning paradigms. The idea behind Reinforcement Learning is that an agent (an AI) will learn from the environment by interacting with it (through trial and error) and receiving rewards (negative or positive) as feedback for performing actions.\n",
        "\n",
        "You can think of it like playing a video game where you get points for collecting coins and you lose points for getting hit by enemies. This \"trains\" you to collect coins, while avoiding enemies. Of course, games get a lot more complicated than that which is why one of the main challenges of RL is figuring out how to reward or punish the agent. That is to say, we use the [carrot and the stick](https://en.wikipedia.org/wiki/Carrot_and_stick).\n",
        "\n",
        "The diagram describing how a RL agent interacts with a environment can be interpretated as such:\n",
        "\n",
        "1. The Agent/Model/AI receives a **state $S_t$** (the info the agent receieves from the environment at time t)\n",
        "2. Based on that **state** $S_t$ the agent takes an *action* $A_t$\n",
        "3. The environment goes to a new **state** $S_{t+1}$\n",
        "4. The environment gives some **reward** $R_{t+1}$ to the agent\n",
        "5. repeat\n"
      ]
    },
    {
      "cell_type": "markdown",
      "metadata": {},
      "source": [
        "### 1.1 Defining Cumulative Reward\n",
        "\n",
        "The reward is fundamental in RL because it’s the only feedback for the agent. Thanks to it, our agent knows if the action taken was good or not.\n",
        "\n",
        "Where\n",
        "* $R()$: `Return` is the cumulative reward function\n",
        "* $\\tau$: `Trajectory` represented by *tau* is a sequence of `states` and `actions`\n",
        "* $\\gamma$: `Discount Rate` represented by *gamma* between 0-1\n",
        "* $r_t$: `reward` at time step t\n",
        "\n",
        "The cumulative reward is represented by the function\n",
        "\n",
        "$R(\\tau) = r_{t+1} + \\gamma r_{t+2} + \\gamma^2 r_{t+3} + \\gamma^3 r_{t+4} + ...$\n",
        "\n",
        "or \n",
        "\n",
        "$R(\\tau) = \\sum_{k=0}^{\\infty} \\gamma^k r_{t+k+1}$\n",
        "\n",
        "An important insight here is that $\\gamma$ is exponentiated, this means a smaller $\\gamma$ causes a bigger `discount` and rewards at farther timesteps are `discounted` more. So, the smaller the $\\gamma$ the less the agent cares more about closer/short-term rewards, and the bigger $\\gamma$ the more the agent cares about farther/long-term rewards."
      ]
    },
    {
      "cell_type": "markdown",
      "metadata": {},
      "source": [
        "### 1.2 Defining Policy\n",
        "\n",
        "You can think of `policy`, $\\pi$, as the mind of the agent\n",
        "\n",
        "This `policy` is the function we want to learn, our goal is to find the `optimal policy` $\\pi^*$, the policy that maximizes expected return when the agent acts according to it. We find this $\\pi^*$ through training. \n",
        "\n",
        "Note: $\\pi^*$ is pronounced \"pie-star\" and in algorithms \"*\" (star) often denotes optimality\n",
        "\n",
        "There are two types of policies:\n",
        "\n",
        "1. Deterministic: a policy at a given state will always return the same action.\n",
        "    * $\\pi(s) = a$\n",
        "2. Stochastic: outputs a probability distribution over actions.\n",
        "    * $\\pi(s|a) = P[A|s]$\n",
        "        * $|$ means given\n",
        "        * $P[]$ means probability distribution\n",
        "        * $P[A|s]$ means a probability distribution over a set of actions given a state\n",
        "\n",
        "There are two approaches to **train** our agent to find this optimal policy π*:\n",
        "\n",
        "1. Directly, by teaching the agent to learn which action to take, given the current state: **Policy-Based Methods**.\n",
        "2. Indirectly, teach the agent to learn which state is more valuable and then take the action that leads to the more valuable states: **Value-Based Methods**.\n",
        "\n"
      ]
    },
    {
      "cell_type": "markdown",
      "metadata": {},
      "source": [
        "## 2. Creating an Environment\n",
        "\n",
        "Now that you understand what a Reinforcement Learning agent is and does. Lets create an environment for our prospective RL agent to interact with.\n",
        "\n",
        "To do that we will be using the environment library [Gymnasium](https://gymnasium.farama.org/) which was developed by OpenAI and handed off to the Farama Foundation to maintain and update."
      ]
    },
    {
      "cell_type": "markdown",
      "metadata": {},
      "source": [
        "*GitHub codespaces doesn't have an inbuilt display, create a virtual display instead.*"
      ]
    },
    {
      "cell_type": "code",
      "execution_count": 64,
      "metadata": {
        "colab": {
          "base_uri": "https://localhost:8080/"
        },
        "id": "ruR-EszrTfDX",
        "outputId": "793fb07e-1331-419d-ed03-6cf07f2254c0"
      },
      "outputs": [
        {
          "data": {
            "text/plain": [
              "<pyvirtualdisplay.display.Display at 0x7f52d5ea70d0>"
            ]
          },
          "execution_count": 64,
          "metadata": {},
          "output_type": "execute_result"
        }
      ],
      "source": [
        "# install a virtual display\n",
        "from pyvirtualdisplay import Display\n",
        "display = Display(visible=0, size=(1400, 900))\n",
        "display.start()"
      ]
    },
    {
      "cell_type": "markdown",
      "metadata": {},
      "source": [
        "The first virtual environment you will be using is the `'CartPole-v1'` environment. This is a virtual version of the real life Cart Pole/Inverted Pendulum task, here is a short fun [video](https://youtu.be/nOSTzpA0nGk?si=mFYYwhLhTb5hcrpB) for you to see."
      ]
    },
    {
      "cell_type": "markdown",
      "metadata": {},
      "source": [
        "### 2.1 Understanding Gymnasium\n",
        "Remember that at each step:\n",
        "- Our Agent receives a **state ($S_0$)** from the **Environment** — i.e. we receive the first frame of our game (Environment).\n",
        "- Based on that **state ($S_0$),** the Agent takes an **action ($A_0$)** — i.e. our Agent will move to the right.\n",
        "- The environment transitions to a **new** **state ($S_1$)** — i.e. new frame.\n",
        "- The environment gives some **reward ($R_1$)** to the Agent — i.e. we’re not dead *(Positive Reward +1)*.\n",
        "\n",
        "\n",
        "With Gymnasium:\n",
        "\n",
        "1. We create our environment using `gymnasium.make()`\n",
        "2. We reset the environment to its initial state with `observation = env.reset()`\n",
        "\n",
        "At each step:\n",
        "\n",
        "3. Get an action using our model (in our example we take a random action)\n",
        "4. Using `env.step(action)`, we perform this action in the environment and get\n",
        "    - `observation`: The new state ($s_{t+1}$)\n",
        "    - `reward`: The reward we get after executing the action\n",
        "    - `terminated`: Indicates if the episode terminated (agent reach the terminal state)\n",
        "    - `truncated`: Introduced with this new version, it indicates a timelimit or if an agent go out of bounds of the environment for instance.\n",
        "    - `info`: A dictionary that provides additional information (depends on the environment).\n",
        "\n",
        "For more explanations check this 👉 https://gymnasium.farama.org/api/env/#gymnasium.Env.step\n",
        "\n",
        "If the episode is terminated:\n",
        "- We reset the environment to its initial state with `observation = env.reset()`\n",
        "\n",
        "#### 2.2 Task Types\n",
        "There are two types of task: `Episodic Tasks` and `Continuous Tasks`\n",
        "\n",
        "1. Episodic Task\n",
        "    - In this case, we have a starting point and an ending point (a terminal state). This creates an episode: a list of States, Actions, Rewards, and new States.\n",
        "2. Continuous task\n",
        "    - These are tasks that continue forever (no terminal state). In this case, the agent must learn how to choose the best actions and simultaneously interact with the environment.\n",
        "    - For instance, an agent that does automated stock trading. For this task, there is no starting point and terminal state. The agent keeps running until we decide to stop it.\n"
      ]
    },
    {
      "cell_type": "markdown",
      "metadata": {},
      "source": [
        "## Question 1\n",
        "In gymnasium the environments are set up as episodic tasks. A good practice is to look at documentation before using an environment to know its properties. If `'CartPole-v1'` is episodic, that means it must have termination conditions. List `'CartPole-v1'`'s termination conditions below.\n",
        "\n",
        "Link to documentation -> https://gymnasium.farama.org/environments/classic_control/cart_pole/ "
      ]
    },
    {
      "cell_type": "markdown",
      "metadata": {},
      "source": [
        "<span style=\"color:green\">Answer</span>\n",
        "\n",
        "1.\n",
        "2.\n",
        "3."
      ]
    },
    {
      "cell_type": "markdown",
      "metadata": {},
      "source": [
        "#### 2.3 Default Properties of Gymnasium's Cart Pole environment \n",
        "\n",
        "##### **Action Space (The set of possible actions of the model)**\n",
        "\n",
        "The action is a ndarray with shape (1,) which can take values {0, 1} indicating the direction of the fixed force the cart is pushed with.\n",
        "\n",
        "0: Push cart to the left\n",
        "\n",
        "1: Push cart to the right\n",
        "\n",
        "Note: The velocity that is reduced or increased by the applied force is not fixed and it depends on the angle the pole is pointing. The center of gravity of the pole varies the amount of energy needed to move the cart underneath it\n",
        "\n",
        "##### **Observation Space (The subset of the state the actor observes)**\n",
        "\n",
        "The observation is a ndarray with shape (4,) with the values corresponding to the following positions and velocities:\n",
        "\n",
        "<img src=\"images/observation_space.png\" width=\"700\" height=\"200\">\n",
        "\n",
        "##### **Rewards**\n",
        "\n",
        "Since the goal is to keep the pole upright for as long as possible, a reward of +1 for every step taken, including the termination step, is allotted. The threshold for rewards is 500 for v1 and 200 for v0.\n"
      ]
    },
    {
      "cell_type": "code",
      "execution_count": 65,
      "metadata": {},
      "outputs": [
        {
          "name": "stdout",
          "output_type": "stream",
          "text": [
            "_____OBSERVATION SPACE_____ \n",
            "\n",
            "Observation Space Shape (4,)\n",
            "Sample observation [-3.6845067e+00 -1.4933201e+38  2.3855814e-01 -1.0084419e+38]\n",
            "\n",
            " _____ACTION SPACE_____ \n",
            "\n",
            "Action Space Shape 2\n",
            "Action Space Sample 0\n"
          ]
        }
      ],
      "source": [
        "# How to access the above values\n",
        "env = gym.make(\"CartPole-v1\")\n",
        "env.reset()\n",
        "print(\"_____OBSERVATION SPACE_____ \\n\")\n",
        "print(\"Observation Space Shape\", env.observation_space.shape)\n",
        "print(\"Sample observation\", env.observation_space.sample()) # Get a random observation\n",
        "print(\"\\n _____ACTION SPACE_____ \\n\")\n",
        "print(\"Action Space Shape\", env.action_space.n)\n",
        "print(\"Action Space Sample\", env.action_space.sample()) # Take a random action"
      ]
    },
    {
      "cell_type": "markdown",
      "metadata": {},
      "source": [
        "#### 2.4 Gymnasium Interactive Loop\n",
        "\n",
        "Below is the code for a simple interactive loop where instead of a agent predicting a action we simply sample a random action. Look at what happens to the cartpole when random actions are chosen, and specifically note how long the episode lasts (duration) which the model will be learning to improve."
      ]
    },
    {
      "cell_type": "code",
      "execution_count": 66,
      "metadata": {
        "colab": {
          "base_uri": "https://localhost:8080/"
        },
        "id": "-WqjS0z9Nvbm",
        "outputId": "c7c05a60-fe49-4157-fec5-7c8192196dd4"
      },
      "outputs": [],
      "source": [
        "init_env = gym.make('CartPole-v1', render_mode='rgb_array')\n",
        "\n",
        "folder_name = os.path.join('video', 'CartPole-v1', f'{uuid.uuid4()}')\n",
        "\n",
        "# Use the wrapper environment RecordVideo() to record video\n",
        "env = RecordVideo(init_env, folder_name, disable_logger=True)\n",
        "\n",
        "observation, info = env.reset()\n",
        "\n",
        "for _ in range(1000):\n",
        "    action = env.action_space.sample()\n",
        "    observation, reward, terminated, truncated, info = env.step(action)\n",
        "\n",
        "    if terminated or truncated:\n",
        "        observation, info = env.reset()\n",
        "\n",
        "env.close()"
      ]
    },
    {
      "cell_type": "code",
      "execution_count": 67,
      "metadata": {
        "id": "x1iWqf2NO4g5"
      },
      "outputs": [],
      "source": [
        "def show_video(folder_name, episode='last'):\n",
        "    mp4list = glob.glob(f'{folder_name}/*.mp4')\n",
        "    if len(mp4list) > 0:\n",
        "        sorted_mp4list = sorted(mp4list, key=lambda x: int(x.split('-')[-1].split('.')[0]))\n",
        "        if episode == 'last':\n",
        "            mp4 = sorted_mp4list[-1]\n",
        "        elif episode == 'first':\n",
        "            mp4 = sorted_mp4list[0]\n",
        "        video = io.open(mp4, 'r+b').read()\n",
        "        encoded = base64.b64encode(video)\n",
        "        ipythondisplay.display(HTML(data='''<video alt=\"test\" autoplay\n",
        "                    loop controls style=\"height: 400px;\">\n",
        "                    <source src=\"data:video/mp4;base64,{0}\" type=\"video/mp4\" />\n",
        "                    </video>'''.format(encoded.decode('ascii'))))\n",
        "    else:\n",
        "        print(\"Could not find video\")"
      ]
    },
    {
      "cell_type": "code",
      "execution_count": 68,
      "metadata": {
        "colab": {
          "base_uri": "https://localhost:8080/",
          "height": 421
        },
        "id": "CD7we0ysR4DN",
        "outputId": "65cc1009-7c2b-4e38-989b-b0bcd0580ef6"
      },
      "outputs": [
        {
          "data": {
            "text/html": [
              "<video alt=\"test\" autoplay\n",
              "                    loop controls style=\"height: 400px;\">\n",
              "                    <source src=\"data:video/mp4;base64,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\" type=\"video/mp4\" />\n",
              "                    </video>"
            ],
            "text/plain": [
              "<IPython.core.display.HTML object>"
            ]
          },
          "metadata": {},
          "output_type": "display_data"
        }
      ],
      "source": [
        "show_video(folder_name)"
      ]
    },
    {
      "cell_type": "code",
      "execution_count": 69,
      "metadata": {},
      "outputs": [
        {
          "name": "stdout",
          "output_type": "stream",
          "text": [
            "Directory deleted successfully.\n"
          ]
        }
      ],
      "source": [
        "# Check if the directory exists\n",
        "if os.path.exists(folder_name):\n",
        "    # Remove the directory\n",
        "    shutil.rmtree(folder_name)\n",
        "    print(\"Directory deleted successfully.\")\n",
        "else:\n",
        "    print(\"Directory does not exist.\")"
      ]
    },
    {
      "cell_type": "markdown",
      "metadata": {
        "id": "ZqZwPeGNW9HI"
      },
      "source": [
        "## 3. Deep Q Networks\n",
        "\n",
        "There are many different types of algorithms/models for RL, which you can do research on in your free time, but today we will be introducing you to Deep Q Networks as we think it strikes a nice balance of being easy to explain, but complicated enough to be interesting.\n",
        "\n",
        "<img src=\"images/deep.jpg\" width=\"700\" height=\"350\">"
      ]
    },
    {
      "cell_type": "markdown",
      "metadata": {},
      "source": [
        "### 3.1 Approximating $\\pi^*$ with a Q-function\n",
        "\n",
        "Q-learning in general are a set of **value based methods** (which we mentioned earlier), meaning instead of training on the policy directly they train to find an optimal value function which leads to having an optimal policy.\n",
        "\n",
        "In this case the value function the model trains on is called the Q-function, an **action-value function** that determines the value of being at a particular state and taking a specific action at that state. The *link between value and policy* is represented in the equation here:\n",
        "\n",
        "$$\\pi^* = \\underset{a}{\\text{argmax}}\\ Q^*(s,a)$$\n",
        "\n",
        "### 3.2 Maths\n",
        "\n",
        "### 3.2.1 Bellman Equation\n",
        "\n",
        "Directly computing the cumulative reward for all future timesteps for a given state can be a computationally competitive task if you are doing it at each action. Which is why instead we use the **Bellman Equation** which is a recursive equation that considers the value of a state as the immediate reward and the discounted value of the state that follows.\n",
        "\n",
        "<img src=\"images/bellman4.jpg\" width=\"700\" height=\"380\">\n",
        "\n",
        "Remember:\n",
        "* $\\gamma$: `Discount Rate` represented by *gamma* between 0-1\n",
        "\n",
        "\n",
        "### 3.2.2 Temporal Difference Learning Approach\n",
        "\n",
        "There are two main types of strategies:\n",
        "* Monte Carlo Approach - Learning after each episode\n",
        "* Temporal Difference Learning Approach - Learning after each step\n",
        "\n",
        "Q-Learning uses a TD approach which includes the Bellman Equation\n",
        "\n",
        "<img src=\"images/TD-1.jpg\" width=\"700\" height=\"400\">\n",
        "\n",
        "### 3.2.3 Epsilon Greedy Algorithm\n",
        "\n",
        "In RL it is importat to have a policy that governs the **exploitatio-exploration tradeoff**. That is do we exploit our prior knowledge gained during learning and move according to what we currently have calculated as the best action for a given state or do we explore and select a different action in the hopes of finding a better route/set of actions?\n",
        "\n",
        "We use an **epsilon greedy policy** where $\\epsilon$ represents the probability of exploration (selecting a random action) and $1-\\epsilon$ represents the probability of exploitation. $\\epsilon$ is a number from 1-0.\n",
        "\n",
        "At the beginning As Q gets better and better with progressive training we slowly decrease $\\epsilon$ more and more according to a decay rate. This changes the policy to go from a higher ratio of exploration, to a higher ratio of exploitation.\n",
        "\n",
        "### 3.2.4 Q-Learning\n",
        "\n",
        "Bringing that all together we get the Q-Learning algorithm\n",
        "\n",
        "<img src=\"images/Q-learning-2.jpg\" width=\"700\" height=\"400\">\n",
        "\n",
        "### 3.2.5 Deep Q-Learning (DQN)\n",
        "\n",
        "Deep Q-Learning uses a deep neural network to approximate the different Q-values for each possible action at a state (value-function estimation).\n",
        "\n",
        "The difference is that, during the training phase, instead of updating the Q-value of a state-action pair directly as we have done with Q-Learning, in Deep Q-Learning, we create a loss function that compares our Q-value prediction and the Q-target and uses gradient descent to update the weights of our Deep Q-Network to approximate our Q-values better.\n",
        "\n",
        "<img src=\"images/q-ex-5.jpg\" width=\"700\" height=\"400\">\n",
        "\n",
        "<img src=\"images/Q-target.jpg\" width=\"700\" height=\"400\">\n",
        "\n",
        "* Where $\\delta$ represents temporal difference error, the equation looks like this:\n",
        "\n",
        "$$\\delta = Q(s, a) - (r + \\gamma \\max_{a}' Q(s', a'))$$\n",
        "\n",
        "* To minimize this error we use the [Huber Loss](https://en.wikipedia.org/wiki/Huber_loss). The Huber loss acts like the mean squared error when the error is small, but like the mean absolute error when the error is large.\n",
        "\n",
        "* There is also an additional feature of an **experience replay** which has two functions:\n",
        "    1. Make **more efficient use of the experiences** during the training. Usually, in online reinforcement learning, the agent interacts with the environment, gets experiences (state, action, reward, and next state), learns from them (updates the neural network), and discards them. This is not efficient.\n",
        "\n",
        "    2. Avoid forgetting previous experiences (aka catastrophic interference, or catastrophic forgetting) and reduce the correlation between experiences.\n",
        "        * **catastrophic forgetting**: The problem we get if we give sequential samples of experiences to our neural network is that it tends to forget the previous experiences as it gets new experiences. For instance, if the agent is in the first level and then in the second, which is different, it can forget how to behave and play in the first level.\n",
        "\n",
        "Here is the pseudocode for DQN:\n",
        "\n",
        "<img src=\"images/sampling-training.jpg\" width=\"700\" height=\"400\">\n"
      ]
    },
    {
      "cell_type": "markdown",
      "metadata": {},
      "source": [
        "### 3.3 Train a DQN\n",
        "\n",
        "The following is the code from here: https://pytorch.org/tutorials/intermediate/reinforcement_q_learning.html\n",
        " \n",
        "If you want more detail on the specifics of the code, we encouorage you to read through it.\n",
        "\n",
        "Now that you understand the basic overview of a DQN its time to actually train one on the `'CartPole-v1'` Gymnasium environment!"
      ]
    },
    {
      "cell_type": "code",
      "execution_count": 70,
      "metadata": {
        "id": "YiaXSBipW8lw"
      },
      "outputs": [],
      "source": [
        "Transition = namedtuple('Transition',\n",
        "                        ('state', 'action', 'next_state', 'reward'))\n",
        "\n",
        "\n",
        "class ReplayMemory(object):\n",
        "\n",
        "    def __init__(self, capacity):\n",
        "        self.memory = deque([], maxlen=capacity)\n",
        "\n",
        "    def push(self, *args):\n",
        "        \"\"\"Save a transition\"\"\"\n",
        "        self.memory.append(Transition(*args))\n",
        "\n",
        "    def sample(self, batch_size):\n",
        "        return random.sample(self.memory, batch_size)\n",
        "\n",
        "    def __len__(self):\n",
        "        return len(self.memory)"
      ]
    },
    {
      "cell_type": "code",
      "execution_count": 71,
      "metadata": {
        "id": "l6pbi-BwToeQ"
      },
      "outputs": [],
      "source": [
        "class DQN(nn.Module):\n",
        "\n",
        "    def __init__(self, n_observations, n_actions):\n",
        "        super(DQN, self).__init__()\n",
        "        self.layer1 = nn.Linear(n_observations, 128)\n",
        "        self.layer2 = nn.Linear(128, 128)\n",
        "        self.layer3 = nn.Linear(128, n_actions)\n",
        "\n",
        "    # Called with either one element to determine next action, or a batch\n",
        "    # during optimization. Returns tensor([[left0exp,right0exp]...]).\n",
        "    def forward(self, x):\n",
        "        x = F.relu(self.layer1(x))\n",
        "        x = F.relu(self.layer2(x))\n",
        "        return self.layer3(x)"
      ]
    },
    {
      "cell_type": "code",
      "execution_count": 73,
      "metadata": {
        "id": "xTX4-jUBWSJT"
      },
      "outputs": [],
      "source": [
        "# BATCH_SIZE is the number of transitions sampled from the replay buffer\n",
        "# GAMMA is the discount factor as mentioned in the previous section\n",
        "# EPS_START is the starting value of epsilon\n",
        "# EPS_END is the final value of epsilon\n",
        "# EPS_DECAY controls the rate of exponential decay of epsilon, higher means a slower decay\n",
        "# TAU is the update rate of the target network\n",
        "# LR is the learning rate of the ``AdamW`` optimizer\n",
        "BATCH_SIZE = 128\n",
        "GAMMA = 0.99\n",
        "EPS_START = 0.9\n",
        "EPS_END = 0.05\n",
        "EPS_DECAY = 1000\n",
        "TAU = 0.005\n",
        "LR = 1e-4\n",
        "\n",
        "# Get number of actions from gym action space\n",
        "n_actions = env.action_space.n\n",
        "# Get the number of state observations\n",
        "state, info = env.reset()\n",
        "n_observations = len(state)\n",
        "\n",
        "policy_net = DQN(n_observations, n_actions).to(device)\n",
        "target_net = DQN(n_observations, n_actions).to(device)\n",
        "target_net.load_state_dict(policy_net.state_dict())\n",
        "\n",
        "optimizer = optim.AdamW(policy_net.parameters(), lr=LR, amsgrad=True)\n",
        "memory = ReplayMemory(10000)\n",
        "\n",
        "\n",
        "steps_done = 0\n",
        "\n",
        "\n",
        "def select_action(state):\n",
        "    global steps_done\n",
        "    sample = random.random()\n",
        "    eps_threshold = EPS_END + (EPS_START - EPS_END) * \\\n",
        "        math.exp(-1. * steps_done / EPS_DECAY)\n",
        "    steps_done += 1\n",
        "    if sample > eps_threshold:\n",
        "        with torch.no_grad():\n",
        "            # t.max(1) will return the largest column value of each row.\n",
        "            # second column on max result is index of where max element was\n",
        "            # found, so we pick action with the larger expected reward.\n",
        "            return policy_net(state).max(1).indices.view(1, 1)\n",
        "    else:\n",
        "        return torch.tensor([[env.action_space.sample()]], device=device, dtype=torch.long)\n",
        "\n",
        "\n",
        "episode_durations = []\n",
        "\n",
        "\n",
        "def plot_durations(show_result=False):\n",
        "    plt.figure(1)\n",
        "    durations_t = torch.tensor(episode_durations, dtype=torch.float)\n",
        "    if show_result:\n",
        "        plt.title('Result')\n",
        "    else:\n",
        "        plt.clf()\n",
        "        plt.title('Training...')\n",
        "    plt.xlabel('Episode')\n",
        "    plt.ylabel('Duration')\n",
        "    plt.plot(durations_t.numpy())\n",
        "    # Take 100 episode averages and plot them too\n",
        "    if len(durations_t) >= 100:\n",
        "        means = durations_t.unfold(0, 100, 1).mean(1).view(-1)\n",
        "        means = torch.cat((torch.zeros(99), means))\n",
        "        plt.plot(means.numpy())\n",
        "\n",
        "    plt.pause(0.001)  # pause a bit so that plots are updated\n",
        "    if is_ipython:\n",
        "        if not show_result:\n",
        "            ipythondisplay.display(plt.gcf())\n",
        "            ipythondisplay.clear_output(wait=True)\n",
        "        else:\n",
        "            ipythondisplay.display(plt.gcf())"
      ]
    },
    {
      "cell_type": "code",
      "execution_count": 74,
      "metadata": {
        "id": "GWXFcjLsWhNE"
      },
      "outputs": [],
      "source": [
        "def optimize_model():\n",
        "    if len(memory) < BATCH_SIZE:\n",
        "        return\n",
        "    transitions = memory.sample(BATCH_SIZE)\n",
        "    # Transpose the batch (see https://stackoverflow.com/a/19343/3343043 for\n",
        "    # detailed explanation). This converts batch-array of Transitions\n",
        "    # to Transition of batch-arrays.\n",
        "    batch = Transition(*zip(*transitions))\n",
        "\n",
        "    # Compute a mask of non-final states and concatenate the batch elements\n",
        "    # (a final state would've been the one after which simulation ended)\n",
        "    non_final_mask = torch.tensor(tuple(map(lambda s: s is not None,\n",
        "                                          batch.next_state)), device=device, dtype=torch.bool)\n",
        "    non_final_next_states = torch.cat([s for s in batch.next_state\n",
        "                                                if s is not None])\n",
        "    state_batch = torch.cat(batch.state)\n",
        "    action_batch = torch.cat(batch.action)\n",
        "    reward_batch = torch.cat(batch.reward)\n",
        "\n",
        "    # Compute Q(s_t, a) - the model computes Q(s_t), then we select the\n",
        "    # columns of actions taken. These are the actions which would've been taken\n",
        "    # for each batch state according to policy_net\n",
        "    state_action_values = policy_net(state_batch).gather(1, action_batch)\n",
        "\n",
        "    # Compute V(s_{t+1}) for all next states.\n",
        "    # Expected values of actions for non_final_next_states are computed based\n",
        "    # on the \"older\" target_net; selecting their best reward with max(1).values\n",
        "    # This is merged based on the mask, such that we'll have either the expected\n",
        "    # state value or 0 in case the state was final.\n",
        "    next_state_values = torch.zeros(BATCH_SIZE, device=device)\n",
        "    with torch.no_grad():\n",
        "        next_state_values[non_final_mask] = target_net(non_final_next_states).max(1).values\n",
        "    # Compute the expected Q values\n",
        "    expected_state_action_values = (next_state_values * GAMMA) + reward_batch\n",
        "\n",
        "    # Compute Huber loss\n",
        "    criterion = nn.SmoothL1Loss()\n",
        "    loss = criterion(state_action_values, expected_state_action_values.unsqueeze(1))\n",
        "\n",
        "    # Optimize the model\n",
        "    optimizer.zero_grad()\n",
        "    loss.backward()\n",
        "    # In-place gradient clipping\n",
        "    torch.nn.utils.clip_grad_value_(policy_net.parameters(), 100)\n",
        "    optimizer.step()"
      ]
    },
    {
      "cell_type": "code",
      "execution_count": 75,
      "metadata": {
        "colab": {
          "base_uri": "https://localhost:8080/",
          "height": 524
        },
        "id": "0sVkpLBjXZZz",
        "outputId": "1ed8f913-7652-4b9d-a37b-a0a40afd90d1"
      },
      "outputs": [],
      "source": [
        "def train_loop(environment, episodes):\n",
        "\n",
        "    num_episodes = episodes\n",
        "    env = environment\n",
        "\n",
        "    for i_episode in range(num_episodes):\n",
        "        # Initialize the environment and get its state\n",
        "        state, info = env.reset()\n",
        "        state = torch.tensor(state, dtype=torch.float32, device=device).unsqueeze(0)\n",
        "        for t in count():\n",
        "            action = select_action(state)\n",
        "            observation, reward, terminated, truncated, _ = env.step(action.item())\n",
        "            reward = torch.tensor([reward], device=device)\n",
        "            done = terminated or truncated\n",
        "\n",
        "            if terminated:\n",
        "                next_state = None\n",
        "            else:\n",
        "                next_state = torch.tensor(observation, dtype=torch.float32, device=device).unsqueeze(0)\n",
        "\n",
        "            # Store the transition in memory\n",
        "            memory.push(state, action, next_state, reward)\n",
        "\n",
        "            # Move to the next state\n",
        "            state = next_state\n",
        "\n",
        "            # Perform one step of the optimization (on the policy network)\n",
        "            optimize_model()\n",
        "\n",
        "            # Soft update of the target network's weights\n",
        "            # θ′ ← τ θ + (1 −τ )θ′\n",
        "            target_net_state_dict = target_net.state_dict()\n",
        "            policy_net_state_dict = policy_net.state_dict()\n",
        "            for key in policy_net_state_dict:\n",
        "                target_net_state_dict[key] = policy_net_state_dict[key]*TAU + target_net_state_dict[key]*(1-TAU)\n",
        "            target_net.load_state_dict(target_net_state_dict)\n",
        "\n",
        "            if done:\n",
        "                episode_durations.append(t + 1)\n",
        "                plot_durations()\n",
        "                break\n",
        "\n",
        "    print('Complete')\n",
        "    plot_durations(show_result=True)\n",
        "    plt.ioff()\n",
        "    plt.show()"
      ]
    },
    {
      "cell_type": "code",
      "execution_count": 76,
      "metadata": {},
      "outputs": [
        {
          "name": "stdout",
          "output_type": "stream",
          "text": [
            "Complete\n"
          ]
        },
        {
          "data": {
            "image/png": "[encoded data removed]",
            "text/plain": [
              "<Figure size 640x480 with 1 Axes>"
            ]
          },
          "metadata": {},
          "output_type": "display_data"
        },
        {
          "data": {
            "text/plain": [
              "<Figure size 640x480 with 0 Axes>"
            ]
          },
          "metadata": {},
          "output_type": "display_data"
        },
        {
          "data": {
            "text/plain": [
              "<Figure size 640x480 with 0 Axes>"
            ]
          },
          "metadata": {},
          "output_type": "display_data"
        }
      ],
      "source": [
        "# make a new environment\n",
        "init_env = gym.make('CartPole-v1', render_mode='rgb_array')\n",
        "folder_name = os.path.join('video', 'CartPole-v1', f'{uuid.uuid4()}')\n",
        "env = RecordVideo(init_env, folder_name, disable_logger=True)\n",
        "\n",
        "# call the training loop\n",
        "train_loop(env, 400)\n",
        "\n",
        "# close the environment\n",
        "env.close()"
      ]
    },
    {
      "cell_type": "code",
      "execution_count": 77,
      "metadata": {},
      "outputs": [
        {
          "data": {
            "text/html": [
              "<video alt=\"test\" autoplay\n",
              "                    loop controls style=\"height: 400px;\">\n",
              "                    <source src=\"data:video/mp4;base64,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\" type=\"video/mp4\" />\n",
              "                    </video>"
            ],
            "text/plain": [
              "<IPython.core.display.HTML object>"
            ]
          },
          "metadata": {},
          "output_type": "display_data"
        }
      ],
      "source": [
        "show_video(folder_name, episode = 'first')"
      ]
    },
    {
      "cell_type": "code",
      "execution_count": 78,
      "metadata": {
        "colab": {
          "base_uri": "https://localhost:8080/",
          "height": 421
        },
        "id": "gTTuNd_nX3dh",
        "outputId": "cd255b39-551c-4917-fbc2-daf5eba3e6b7"
      },
      "outputs": [
        {
          "data": {
            "text/html": [
              "<video alt=\"test\" autoplay\n",
              "                    loop controls style=\"height: 400px;\">\n",
              "                    <source src=\"data:video/mp4;base64,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\" type=\"video/mp4\" />\n",
              "                    </video>"
            ],
            "text/plain": [
              "<IPython.core.display.HTML object>"
            ]
          },
          "metadata": {},
          "output_type": "display_data"
        }
      ],
      "source": [
        "show_video(folder_name, episode = 'last')"
      ]
    },
    {
      "cell_type": "markdown",
      "metadata": {},
      "source": [
        "## Question 2\n",
        "Has the model learned? What metrics did you use to determine that?"
      ]
    },
    {
      "cell_type": "markdown",
      "metadata": {},
      "source": [
        "<span style=\"color:green\">Answer</span>"
      ]
    },
    {
      "cell_type": "markdown",
      "metadata": {},
      "source": [
        "## Question 3 (Understanding the code)\n",
        "Hint: Use this as reference -> https://pytorch.org/tutorials/intermediate/reinforcement_q_learning.html\n",
        "\n",
        "3A. Copy and paste the section of the code where the epsilon greedy algorithm is implemented."
      ]
    },
    {
      "cell_type": "code",
      "execution_count": 79,
      "metadata": {},
      "outputs": [],
      "source": [
        "#####ANSWER#####"
      ]
    },
    {
      "cell_type": "markdown",
      "metadata": {},
      "source": [
        "3B. Line-by-line explain in your own words how this code works. Remember that you can use backticks \"\\`\" to denote `code`."
      ]
    },
    {
      "cell_type": "markdown",
      "metadata": {},
      "source": [
        "<span style=\"color:green\">Answer</span>"
      ]
    },
    {
      "cell_type": "markdown",
      "metadata": {},
      "source": [
        "3C. Copy and paste the section of the code where the expected Q Values are calculated."
      ]
    },
    {
      "cell_type": "code",
      "execution_count": 80,
      "metadata": {},
      "outputs": [],
      "source": [
        "#####ANSWER#####"
      ]
    },
    {
      "cell_type": "markdown",
      "metadata": {},
      "source": [
        "3D. Line-by-line explain in your own words how this code works. Remember that you can use backticks \"\\`\" to denote `code`."
      ]
    },
    {
      "cell_type": "markdown",
      "metadata": {},
      "source": [
        "<span style=\"color:green\">Answer</span>"
      ]
    },
    {
      "cell_type": "markdown",
      "metadata": {},
      "source": [
        "## Question 4\n",
        "\n",
        "Try different episode lengths. What happens when it is a lot shorter or a lot bigger?\n",
        "\n",
        "Hint: [catastrophic drop](https://ai.stackexchange.com/questions/28079/deep-q-learning-catastrophic-drop-reasons)."
      ]
    },
    {
      "cell_type": "code",
      "execution_count": 84,
      "metadata": {},
      "outputs": [],
      "source": [
        "# Reinitialize Parameters\n",
        "BATCH_SIZE = 128\n",
        "GAMMA = 0.99\n",
        "EPS_START = 0.9\n",
        "EPS_END = 0.05\n",
        "EPS_DECAY = 1000\n",
        "TAU = 0.005\n",
        "LR = 1e-4\n",
        "n_actions = env.action_space.n\n",
        "state, info = env.reset()\n",
        "n_observations = len(state)\n",
        "policy_net = DQN(n_observations, n_actions).to(device)\n",
        "target_net = DQN(n_observations, n_actions).to(device)\n",
        "target_net.load_state_dict(policy_net.state_dict())\n",
        "optimizer = optim.AdamW(policy_net.parameters(), lr=LR, amsgrad=True)\n",
        "memory = ReplayMemory(10000)\n",
        "steps_done = 0\n",
        "episode_durations = []"
      ]
    },
    {
      "cell_type": "code",
      "execution_count": 85,
      "metadata": {},
      "outputs": [
        {
          "name": "stdout",
          "output_type": "stream",
          "text": [
            "Complete\n"
          ]
        },
        {
          "data": {
            "image/png": "[encoded data removed]",
            "text/plain": [
              "<Figure size 640x480 with 1 Axes>"
            ]
          },
          "metadata": {},
          "output_type": "display_data"
        },
        {
          "data": {
            "text/plain": [
              "<Figure size 640x480 with 0 Axes>"
            ]
          },
          "metadata": {},
          "output_type": "display_data"
        },
        {
          "data": {
            "text/plain": [
              "<Figure size 640x480 with 0 Axes>"
            ]
          },
          "metadata": {},
          "output_type": "display_data"
        }
      ],
      "source": [
        "# make a new environment\n",
        "init_env = gym.make('CartPole-v1', render_mode='rgb_array')\n",
        "folder_name = os.path.join('video', 'CartPole-v1', f'{uuid.uuid4()}')\n",
        "env = RecordVideo(init_env, folder_name, disable_logger=True)\n",
        "\n",
        "# call the training loop\n",
        "train_loop(env, 50)  # Edit this!!!\n",
        "\n",
        "# close the environment\n",
        "env.close()"
      ]
    },
    {
      "cell_type": "markdown",
      "metadata": {},
      "source": [
        "## Question 4 Manipulating the Environment"
      ]
    },
    {
      "cell_type": "markdown",
      "metadata": {},
      "source": [
        "# Work in progress:"
      ]
    },
    {
      "cell_type": "code",
      "execution_count": 81,
      "metadata": {},
      "outputs": [
        {
          "name": "stdout",
          "output_type": "stream",
          "text": [
            "Using cpu device\n",
            "Wrapping the env with a `Monitor` wrapper\n",
            "Wrapping the env in a DummyVecEnv.\n"
          ]
        },
        {
          "ename": "ValueError",
          "evalue": "setting an array element with a sequence. The requested array has an inhomogeneous shape after 1 dimensions. The detected shape was (4,) + inhomogeneous part.",
          "output_type": "error",
          "traceback": [
            "\u001b[0;31m---------------------------------------------------------------------------\u001b[0m",
            "\u001b[0;31mValueError\u001b[0m                                Traceback (most recent call last)",
            "Cell \u001b[0;32mIn[81], line 16\u001b[0m\n\u001b[1;32m     13\u001b[0m model \u001b[38;5;241m=\u001b[39m SAC(\u001b[38;5;124m\"\u001b[39m\u001b[38;5;124mMlpPolicy\u001b[39m\u001b[38;5;124m\"\u001b[39m, init_env, verbose\u001b[38;5;241m=\u001b[39m\u001b[38;5;241m1\u001b[39m, learning_rate\u001b[38;5;241m=\u001b[39m\u001b[38;5;241m.001\u001b[39m,batch_size\u001b[38;5;241m=\u001b[39m\u001b[38;5;241m256\u001b[39m, buffer_size\u001b[38;5;241m=\u001b[39m\u001b[38;5;241m100000\u001b[39m)\n\u001b[1;32m     14\u001b[0m \u001b[38;5;66;03m# model.set_logger(new_logger)\u001b[39;00m\n\u001b[0;32m---> 16\u001b[0m \u001b[43mmodel\u001b[49m\u001b[38;5;241;43m.\u001b[39;49m\u001b[43mlearn\u001b[49m\u001b[43m(\u001b[49m\u001b[43mtotal_timesteps\u001b[49m\u001b[38;5;241;43m=\u001b[39;49m\u001b[38;5;241;43m10\u001b[39;49m\u001b[43m,\u001b[49m\u001b[43m \u001b[49m\u001b[43mlog_interval\u001b[49m\u001b[38;5;241;43m=\u001b[39;49m\u001b[38;5;241;43m4\u001b[39;49m\u001b[43m)\u001b[49m\n\u001b[1;32m     18\u001b[0m rewards \u001b[38;5;241m=\u001b[39m []\n\u001b[1;32m     19\u001b[0m reward_trials \u001b[38;5;241m=\u001b[39m []\n",
            "File \u001b[0;32m~/.python/current/lib/python3.10/site-packages/stable_baselines3/sac/sac.py:307\u001b[0m, in \u001b[0;36mSAC.learn\u001b[0;34m(self, total_timesteps, callback, log_interval, tb_log_name, reset_num_timesteps, progress_bar)\u001b[0m\n\u001b[1;32m    298\u001b[0m \u001b[38;5;28;01mdef\u001b[39;00m \u001b[38;5;21mlearn\u001b[39m(\n\u001b[1;32m    299\u001b[0m     \u001b[38;5;28mself\u001b[39m: SelfSAC,\n\u001b[1;32m    300\u001b[0m     total_timesteps: \u001b[38;5;28mint\u001b[39m,\n\u001b[0;32m   (...)\u001b[0m\n\u001b[1;32m    305\u001b[0m     progress_bar: \u001b[38;5;28mbool\u001b[39m \u001b[38;5;241m=\u001b[39m \u001b[38;5;28;01mFalse\u001b[39;00m,\n\u001b[1;32m    306\u001b[0m ) \u001b[38;5;241m-\u001b[39m\u001b[38;5;241m>\u001b[39m SelfSAC:\n\u001b[0;32m--> 307\u001b[0m     \u001b[38;5;28;01mreturn\u001b[39;00m \u001b[38;5;28;43msuper\u001b[39;49m\u001b[43m(\u001b[49m\u001b[43m)\u001b[49m\u001b[38;5;241;43m.\u001b[39;49m\u001b[43mlearn\u001b[49m\u001b[43m(\u001b[49m\n\u001b[1;32m    308\u001b[0m \u001b[43m        \u001b[49m\u001b[43mtotal_timesteps\u001b[49m\u001b[38;5;241;43m=\u001b[39;49m\u001b[43mtotal_timesteps\u001b[49m\u001b[43m,\u001b[49m\n\u001b[1;32m    309\u001b[0m \u001b[43m        \u001b[49m\u001b[43mcallback\u001b[49m\u001b[38;5;241;43m=\u001b[39;49m\u001b[43mcallback\u001b[49m\u001b[43m,\u001b[49m\n\u001b[1;32m    310\u001b[0m \u001b[43m        \u001b[49m\u001b[43mlog_interval\u001b[49m\u001b[38;5;241;43m=\u001b[39;49m\u001b[43mlog_interval\u001b[49m\u001b[43m,\u001b[49m\n\u001b[1;32m    311\u001b[0m \u001b[43m        \u001b[49m\u001b[43mtb_log_name\u001b[49m\u001b[38;5;241;43m=\u001b[39;49m\u001b[43mtb_log_name\u001b[49m\u001b[43m,\u001b[49m\n\u001b[1;32m    312\u001b[0m \u001b[43m        \u001b[49m\u001b[43mreset_num_timesteps\u001b[49m\u001b[38;5;241;43m=\u001b[39;49m\u001b[43mreset_num_timesteps\u001b[49m\u001b[43m,\u001b[49m\n\u001b[1;32m    313\u001b[0m \u001b[43m        \u001b[49m\u001b[43mprogress_bar\u001b[49m\u001b[38;5;241;43m=\u001b[39;49m\u001b[43mprogress_bar\u001b[49m\u001b[43m,\u001b[49m\n\u001b[1;32m    314\u001b[0m \u001b[43m    \u001b[49m\u001b[43m)\u001b[49m\n",
            "File \u001b[0;32m~/.python/current/lib/python3.10/site-packages/stable_baselines3/common/off_policy_algorithm.py:328\u001b[0m, in \u001b[0;36mOffPolicyAlgorithm.learn\u001b[0;34m(self, total_timesteps, callback, log_interval, tb_log_name, reset_num_timesteps, progress_bar)\u001b[0m\n\u001b[1;32m    325\u001b[0m \u001b[38;5;28;01massert\u001b[39;00m \u001b[38;5;28misinstance\u001b[39m(\u001b[38;5;28mself\u001b[39m\u001b[38;5;241m.\u001b[39mtrain_freq, TrainFreq)  \u001b[38;5;66;03m# check done in _setup_learn()\u001b[39;00m\n\u001b[1;32m    327\u001b[0m \u001b[38;5;28;01mwhile\u001b[39;00m \u001b[38;5;28mself\u001b[39m\u001b[38;5;241m.\u001b[39mnum_timesteps \u001b[38;5;241m<\u001b[39m total_timesteps:\n\u001b[0;32m--> 328\u001b[0m     rollout \u001b[38;5;241m=\u001b[39m \u001b[38;5;28;43mself\u001b[39;49m\u001b[38;5;241;43m.\u001b[39;49m\u001b[43mcollect_rollouts\u001b[49m\u001b[43m(\u001b[49m\n\u001b[1;32m    329\u001b[0m \u001b[43m        \u001b[49m\u001b[38;5;28;43mself\u001b[39;49m\u001b[38;5;241;43m.\u001b[39;49m\u001b[43menv\u001b[49m\u001b[43m,\u001b[49m\n\u001b[1;32m    330\u001b[0m \u001b[43m        \u001b[49m\u001b[43mtrain_freq\u001b[49m\u001b[38;5;241;43m=\u001b[39;49m\u001b[38;5;28;43mself\u001b[39;49m\u001b[38;5;241;43m.\u001b[39;49m\u001b[43mtrain_freq\u001b[49m\u001b[43m,\u001b[49m\n\u001b[1;32m    331\u001b[0m \u001b[43m        \u001b[49m\u001b[43maction_noise\u001b[49m\u001b[38;5;241;43m=\u001b[39;49m\u001b[38;5;28;43mself\u001b[39;49m\u001b[38;5;241;43m.\u001b[39;49m\u001b[43maction_noise\u001b[49m\u001b[43m,\u001b[49m\n\u001b[1;32m    332\u001b[0m \u001b[43m        \u001b[49m\u001b[43mcallback\u001b[49m\u001b[38;5;241;43m=\u001b[39;49m\u001b[43mcallback\u001b[49m\u001b[43m,\u001b[49m\n\u001b[1;32m    333\u001b[0m \u001b[43m        \u001b[49m\u001b[43mlearning_starts\u001b[49m\u001b[38;5;241;43m=\u001b[39;49m\u001b[38;5;28;43mself\u001b[39;49m\u001b[38;5;241;43m.\u001b[39;49m\u001b[43mlearning_starts\u001b[49m\u001b[43m,\u001b[49m\n\u001b[1;32m    334\u001b[0m \u001b[43m        \u001b[49m\u001b[43mreplay_buffer\u001b[49m\u001b[38;5;241;43m=\u001b[39;49m\u001b[38;5;28;43mself\u001b[39;49m\u001b[38;5;241;43m.\u001b[39;49m\u001b[43mreplay_buffer\u001b[49m\u001b[43m,\u001b[49m\n\u001b[1;32m    335\u001b[0m \u001b[43m        \u001b[49m\u001b[43mlog_interval\u001b[49m\u001b[38;5;241;43m=\u001b[39;49m\u001b[43mlog_interval\u001b[49m\u001b[43m,\u001b[49m\n\u001b[1;32m    336\u001b[0m \u001b[43m    \u001b[49m\u001b[43m)\u001b[49m\n\u001b[1;32m    338\u001b[0m     \u001b[38;5;28;01mif\u001b[39;00m \u001b[38;5;129;01mnot\u001b[39;00m rollout\u001b[38;5;241m.\u001b[39mcontinue_training:\n\u001b[1;32m    339\u001b[0m         \u001b[38;5;28;01mbreak\u001b[39;00m\n",
            "File \u001b[0;32m~/.python/current/lib/python3.10/site-packages/stable_baselines3/common/off_policy_algorithm.py:560\u001b[0m, in \u001b[0;36mOffPolicyAlgorithm.collect_rollouts\u001b[0;34m(self, env, callback, train_freq, replay_buffer, action_noise, learning_starts, log_interval)\u001b[0m\n\u001b[1;32m    557\u001b[0m actions, buffer_actions \u001b[38;5;241m=\u001b[39m \u001b[38;5;28mself\u001b[39m\u001b[38;5;241m.\u001b[39m_sample_action(learning_starts, action_noise, env\u001b[38;5;241m.\u001b[39mnum_envs)\n\u001b[1;32m    559\u001b[0m \u001b[38;5;66;03m# Rescale and perform action\u001b[39;00m\n\u001b[0;32m--> 560\u001b[0m new_obs, rewards, dones, infos \u001b[38;5;241m=\u001b[39m \u001b[43menv\u001b[49m\u001b[38;5;241;43m.\u001b[39;49m\u001b[43mstep\u001b[49m\u001b[43m(\u001b[49m\u001b[43mactions\u001b[49m\u001b[43m)\u001b[49m\n\u001b[1;32m    562\u001b[0m \u001b[38;5;28mself\u001b[39m\u001b[38;5;241m.\u001b[39mnum_timesteps \u001b[38;5;241m+\u001b[39m\u001b[38;5;241m=\u001b[39m env\u001b[38;5;241m.\u001b[39mnum_envs\n\u001b[1;32m    563\u001b[0m num_collected_steps \u001b[38;5;241m+\u001b[39m\u001b[38;5;241m=\u001b[39m \u001b[38;5;241m1\u001b[39m\n",
            "File \u001b[0;32m~/.python/current/lib/python3.10/site-packages/stable_baselines3/common/vec_env/base_vec_env.py:206\u001b[0m, in \u001b[0;36mVecEnv.step\u001b[0;34m(self, actions)\u001b[0m\n\u001b[1;32m    199\u001b[0m \u001b[38;5;250m\u001b[39m\u001b[38;5;124;03m\"\"\"\u001b[39;00m\n\u001b[1;32m    200\u001b[0m \u001b[38;5;124;03mStep the environments with the given action\u001b[39;00m\n\u001b[1;32m    201\u001b[0m \n\u001b[1;32m    202\u001b[0m \u001b[38;5;124;03m:param actions: the action\u001b[39;00m\n\u001b[1;32m    203\u001b[0m \u001b[38;5;124;03m:return: observation, reward, done, information\u001b[39;00m\n\u001b[1;32m    204\u001b[0m \u001b[38;5;124;03m\"\"\"\u001b[39;00m\n\u001b[1;32m    205\u001b[0m \u001b[38;5;28mself\u001b[39m\u001b[38;5;241m.\u001b[39mstep_async(actions)\n\u001b[0;32m--> 206\u001b[0m \u001b[38;5;28;01mreturn\u001b[39;00m \u001b[38;5;28;43mself\u001b[39;49m\u001b[38;5;241;43m.\u001b[39;49m\u001b[43mstep_wait\u001b[49m\u001b[43m(\u001b[49m\u001b[43m)\u001b[49m\n",
            "File \u001b[0;32m~/.python/current/lib/python3.10/site-packages/stable_baselines3/common/vec_env/dummy_vec_env.py:58\u001b[0m, in \u001b[0;36mDummyVecEnv.step_wait\u001b[0;34m(self)\u001b[0m\n\u001b[1;32m     55\u001b[0m \u001b[38;5;28;01mdef\u001b[39;00m \u001b[38;5;21mstep_wait\u001b[39m(\u001b[38;5;28mself\u001b[39m) \u001b[38;5;241m-\u001b[39m\u001b[38;5;241m>\u001b[39m VecEnvStepReturn:\n\u001b[1;32m     56\u001b[0m     \u001b[38;5;66;03m# Avoid circular imports\u001b[39;00m\n\u001b[1;32m     57\u001b[0m     \u001b[38;5;28;01mfor\u001b[39;00m env_idx \u001b[38;5;129;01min\u001b[39;00m \u001b[38;5;28mrange\u001b[39m(\u001b[38;5;28mself\u001b[39m\u001b[38;5;241m.\u001b[39mnum_envs):\n\u001b[0;32m---> 58\u001b[0m         obs, \u001b[38;5;28mself\u001b[39m\u001b[38;5;241m.\u001b[39mbuf_rews[env_idx], terminated, truncated, \u001b[38;5;28mself\u001b[39m\u001b[38;5;241m.\u001b[39mbuf_infos[env_idx] \u001b[38;5;241m=\u001b[39m \u001b[38;5;28;43mself\u001b[39;49m\u001b[38;5;241;43m.\u001b[39;49m\u001b[43menvs\u001b[49m\u001b[43m[\u001b[49m\u001b[43menv_idx\u001b[49m\u001b[43m]\u001b[49m\u001b[38;5;241;43m.\u001b[39;49m\u001b[43mstep\u001b[49m\u001b[43m(\u001b[49m\n\u001b[1;32m     59\u001b[0m \u001b[43m            \u001b[49m\u001b[38;5;28;43mself\u001b[39;49m\u001b[38;5;241;43m.\u001b[39;49m\u001b[43mactions\u001b[49m\u001b[43m[\u001b[49m\u001b[43menv_idx\u001b[49m\u001b[43m]\u001b[49m\n\u001b[1;32m     60\u001b[0m \u001b[43m        \u001b[49m\u001b[43m)\u001b[49m\n\u001b[1;32m     61\u001b[0m         \u001b[38;5;66;03m# convert to SB3 VecEnv api\u001b[39;00m\n\u001b[1;32m     62\u001b[0m         \u001b[38;5;28mself\u001b[39m\u001b[38;5;241m.\u001b[39mbuf_dones[env_idx] \u001b[38;5;241m=\u001b[39m terminated \u001b[38;5;129;01mor\u001b[39;00m truncated\n",
            "File \u001b[0;32m~/.python/current/lib/python3.10/site-packages/stable_baselines3/common/monitor.py:94\u001b[0m, in \u001b[0;36mMonitor.step\u001b[0;34m(self, action)\u001b[0m\n\u001b[1;32m     92\u001b[0m \u001b[38;5;28;01mif\u001b[39;00m \u001b[38;5;28mself\u001b[39m\u001b[38;5;241m.\u001b[39mneeds_reset:\n\u001b[1;32m     93\u001b[0m     \u001b[38;5;28;01mraise\u001b[39;00m \u001b[38;5;167;01mRuntimeError\u001b[39;00m(\u001b[38;5;124m\"\u001b[39m\u001b[38;5;124mTried to step environment that needs reset\u001b[39m\u001b[38;5;124m\"\u001b[39m)\n\u001b[0;32m---> 94\u001b[0m observation, reward, terminated, truncated, info \u001b[38;5;241m=\u001b[39m \u001b[38;5;28;43mself\u001b[39;49m\u001b[38;5;241;43m.\u001b[39;49m\u001b[43menv\u001b[49m\u001b[38;5;241;43m.\u001b[39;49m\u001b[43mstep\u001b[49m\u001b[43m(\u001b[49m\u001b[43maction\u001b[49m\u001b[43m)\u001b[49m\n\u001b[1;32m     95\u001b[0m \u001b[38;5;28mself\u001b[39m\u001b[38;5;241m.\u001b[39mrewards\u001b[38;5;241m.\u001b[39mappend(\u001b[38;5;28mfloat\u001b[39m(reward))\n\u001b[1;32m     96\u001b[0m \u001b[38;5;28;01mif\u001b[39;00m terminated \u001b[38;5;129;01mor\u001b[39;00m truncated:\n",
            "File \u001b[0;32m/workspaces/WetAI-Reinforcement-Learning/cartpole_continuous.py:173\u001b[0m, in \u001b[0;36mCartPoleContinuousEnv.step\u001b[0;34m(self, action)\u001b[0m\n\u001b[1;32m    169\u001b[0m \u001b[38;5;28;01mif\u001b[39;00m x \u001b[38;5;241m<\u001b[39m \u001b[38;5;241m-\u001b[39m\u001b[38;5;28mself\u001b[39m\u001b[38;5;241m.\u001b[39mx_threshold:\n\u001b[1;32m    170\u001b[0m     x \u001b[38;5;241m=\u001b[39m \u001b[38;5;28mself\u001b[39m\u001b[38;5;241m.\u001b[39mx_threshold \n\u001b[0;32m--> 173\u001b[0m \u001b[38;5;28mself\u001b[39m\u001b[38;5;241m.\u001b[39mstate \u001b[38;5;241m=\u001b[39m \u001b[43mnp\u001b[49m\u001b[38;5;241;43m.\u001b[39;49m\u001b[43marray\u001b[49m\u001b[43m(\u001b[49m\u001b[43m(\u001b[49m\u001b[43mx\u001b[49m\u001b[43m,\u001b[49m\u001b[43m \u001b[49m\u001b[43mx_dot\u001b[49m\u001b[43m,\u001b[49m\u001b[43m \u001b[49m\u001b[43mtheta\u001b[49m\u001b[43m,\u001b[49m\u001b[43m \u001b[49m\u001b[43mtheta_dot\u001b[49m\u001b[43m)\u001b[49m\u001b[43m)\u001b[49m\n\u001b[1;32m    177\u001b[0m terminated \u001b[38;5;241m=\u001b[39m \u001b[38;5;28mbool\u001b[39m(\n\u001b[1;32m    178\u001b[0m     x \u001b[38;5;241m<\u001b[39m \u001b[38;5;241m-\u001b[39m\u001b[38;5;28mself\u001b[39m\u001b[38;5;241m.\u001b[39mx_threshold\n\u001b[1;32m    179\u001b[0m     \u001b[38;5;129;01mor\u001b[39;00m x \u001b[38;5;241m>\u001b[39m \u001b[38;5;28mself\u001b[39m\u001b[38;5;241m.\u001b[39mx_threshold\n\u001b[1;32m    180\u001b[0m     \u001b[38;5;129;01mor\u001b[39;00m theta \u001b[38;5;241m<\u001b[39m \u001b[38;5;241m-\u001b[39m\u001b[38;5;28mself\u001b[39m\u001b[38;5;241m.\u001b[39mtheta_threshold_radians\n\u001b[1;32m    181\u001b[0m     \u001b[38;5;129;01mor\u001b[39;00m theta \u001b[38;5;241m>\u001b[39m \u001b[38;5;28mself\u001b[39m\u001b[38;5;241m.\u001b[39mtheta_threshold_radians\n\u001b[1;32m    182\u001b[0m )\n\u001b[1;32m    184\u001b[0m \u001b[38;5;28;01mif\u001b[39;00m \u001b[38;5;129;01mnot\u001b[39;00m terminated:\n",
            "\u001b[0;31mValueError\u001b[0m: setting an array element with a sequence. The requested array has an inhomogeneous shape after 1 dimensions. The detected shape was (4,) + inhomogeneous part."
          ]
        }
      ],
      "source": [
        "from cartpole_continuous import CartPoleContinuousEnv, CartPoleVectorEnv\n",
        "import matplotlib.pyplot as plt\n",
        "\n",
        "from stable_baselines3 import SAC\n",
        "\n",
        "init_env = CartPoleContinuousEnv(render_mode='human')\n",
        "\n",
        "folder_name = os.path.join('video', 'CartPole-v1', f'{uuid.uuid4()}')\n",
        "\n",
        "# Use the wrapper environment RecordVideo() to record video\n",
        "# env = RecordVideo(init_env, folder_name, disable_logger=True)\n",
        "\n",
        "model = SAC(\"MlpPolicy\", init_env, verbose=1, learning_rate=.001,batch_size=256, buffer_size=100000)\n",
        "# model.set_logger(new_logger)\n",
        "\n",
        "model.learn(total_timesteps=10, log_interval=4)\n",
        "\n",
        "rewards = []\n",
        "reward_trials = []\n",
        "\n",
        "\n",
        "\n",
        "# Step throuhg model manually\n",
        "\n",
        "\n",
        "\n",
        "# obs,_ = env.reset()\n",
        "\n",
        "# print(obs)\n",
        "# for i in range(100000):\n",
        "#     action, _states = model.predict(np.array(obs), deterministic=False)\n",
        "#     obs, reward, dones, term,info = env.step(action[0])\n",
        "#     model.train(16)\n",
        "#     # print(\"Obs before\", obs)\n",
        "#     # obs = obs[:,0]\n",
        "\n",
        "#     rewards.append(reward)\n",
        "#     # env.render()\n",
        "#     if dones:\n",
        "\n",
        "#         obs_ = env.reset()\n",
        "#         reward_trials.append(sum(rewards))\n",
        "#         rewards = []\n",
        "#         print(\"~\"*50)\n",
        "#         print(\"Trial complete\")\n",
        "#         print(\"Reward: \", reward_trials[-1])\n",
        "\n",
        "# plt.plot(reward_trials)\n",
        "# plt.show()"
      ]
    },
    {
      "cell_type": "code",
      "execution_count": null,
      "metadata": {},
      "outputs": [
        {
          "name": "stdout",
          "output_type": "stream",
          "text": [
            "None\n"
          ]
        }
      ],
      "source": [
        "init_env = CartPoleVectorEnv(render_mode='rgb_array', num_envs=1)\n",
        "print(init_env.render_mode)"
      ]
    },
    {
      "cell_type": "code",
      "execution_count": null,
      "metadata": {},
      "outputs": [],
      "source": [
        "show_video(folder_name, episode = 'first')"
      ]
    },
    {
      "cell_type": "code",
      "execution_count": null,
      "metadata": {},
      "outputs": [],
      "source": [
        "show_video(folder_name, episode = 'last')"
      ]
    },
    {
      "cell_type": "markdown",
      "metadata": {},
      "source": [
        "## Feedback (Optional)\n",
        "\n",
        "This is a new homework for this quarter, plase provide feedback on things you think could be improved or even if you like it as is."
      ]
    },
    {
      "cell_type": "markdown",
      "metadata": {},
      "source": [
        "<span style=\"color:green\">Answer</span>"
      ]
    }
  ],
  "metadata": {
    "accelerator": "GPU",
    "colab": {
      "gpuType": "T4",
      "provenance": []
    },
    "kernelspec": {
      "display_name": "Python 3 (ipykernel)",
      "language": "python",
      "name": "python3"
    },
    "language_info": {
      "codemirror_mode": {
        "name": "ipython",
        "version": 3
      },
      "file_extension": ".py",
      "mimetype": "text/x-python",
      "name": "python",
      "nbconvert_exporter": "python",
      "pygments_lexer": "ipython3",
      "version": "3.10.13"
    }
  },
  "nbformat": 4,
  "nbformat_minor": 0
}
