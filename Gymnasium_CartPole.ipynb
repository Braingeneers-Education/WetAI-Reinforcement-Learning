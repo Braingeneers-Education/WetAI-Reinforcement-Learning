{
  "cells": [
    {
      "cell_type": "markdown",
      "metadata": {},
      "source": [
        "# Intro to Reinforcement Learning"
      ]
    },
    {
      "cell_type": "markdown",
      "metadata": {},
      "source": [
        "In this exercise you will learn the basics of reinforcement learning (RL), as well how to train a couple of RL models.\n",
        "\n",
        "A lot of this information, text, and code is directly pooled from the following sources\n",
        "\n",
        "Credits:\n",
        "* Hugging Face Deep RL course [source](https://huggingface.co/learn/deep-rl-course/unit0/introduction)\n",
        "* Gymnasium-Colaboratory-Starter [source](https://github.com/hom-bahrani/Gymnasium-Colaboratory-Starter)\n",
        "* PyTorch RL Tutorials [source](https://pytorch.org/tutorials/)\n",
        "* Wikipedia RL Page [source](https://en.wikipedia.org/wiki/Reinforcement_learning)"
      ]
    },
    {
      "cell_type": "markdown",
      "metadata": {},
      "source": [
        "First, install and import the packages and libraries you will need throughout this exercise"
      ]
    },
    {
      "cell_type": "code",
      "execution_count": 1,
      "metadata": {
        "colab": {
          "base_uri": "https://localhost:8080/"
        },
        "id": "-MGHP8DHMBKp",
        "outputId": "b8a735b9-32d3-416e-e7bf-364e88b14fca"
      },
      "outputs": [
        {
          "name": "stdout",
          "output_type": "stream",
          "text": [
            "Requirement already satisfied: gymnasium in /usr/local/python/3.10.13/lib/python3.10/site-packages (0.29.1)\n",
            "Requirement already satisfied: numpy>=1.21.0 in /home/codespace/.local/lib/python3.10/site-packages (from gymnasium) (1.26.4)\n",
            "Requirement already satisfied: cloudpickle>=1.2.0 in /usr/local/python/3.10.13/lib/python3.10/site-packages (from gymnasium) (3.0.0)\n",
            "Requirement already satisfied: typing-extensions>=4.3.0 in /home/codespace/.local/lib/python3.10/site-packages (from gymnasium) (4.10.0)\n",
            "Requirement already satisfied: farama-notifications>=0.0.1 in /usr/local/python/3.10.13/lib/python3.10/site-packages (from gymnasium) (0.0.4)\n",
            "Note: you may need to restart the kernel to use updated packages.\n",
            "Requirement already satisfied: gymnasium[classic-control] in /usr/local/python/3.10.13/lib/python3.10/site-packages (0.29.1)\n",
            "Requirement already satisfied: numpy>=1.21.0 in /home/codespace/.local/lib/python3.10/site-packages (from gymnasium[classic-control]) (1.26.4)\n",
            "Requirement already satisfied: cloudpickle>=1.2.0 in /usr/local/python/3.10.13/lib/python3.10/site-packages (from gymnasium[classic-control]) (3.0.0)\n",
            "Requirement already satisfied: typing-extensions>=4.3.0 in /home/codespace/.local/lib/python3.10/site-packages (from gymnasium[classic-control]) (4.10.0)\n",
            "Requirement already satisfied: farama-notifications>=0.0.1 in /usr/local/python/3.10.13/lib/python3.10/site-packages (from gymnasium[classic-control]) (0.0.4)\n",
            "Requirement already satisfied: pygame>=2.1.3 in /usr/local/python/3.10.13/lib/python3.10/site-packages (from gymnasium[classic-control]) (2.5.2)\n",
            "Note: you may need to restart the kernel to use updated packages.\n",
            "Requirement already satisfied: swig in /usr/local/python/3.10.13/lib/python3.10/site-packages (4.2.1)\n",
            "Note: you may need to restart the kernel to use updated packages.\n",
            "Requirement already satisfied: pyvirtualdisplay in /usr/local/python/3.10.13/lib/python3.10/site-packages (3.0)\n",
            "Note: you may need to restart the kernel to use updated packages.\n",
            "Requirement already satisfied: moviepy in /usr/local/python/3.10.13/lib/python3.10/site-packages (1.0.3)\n",
            "Requirement already satisfied: decorator<5.0,>=4.0.2 in /usr/local/python/3.10.13/lib/python3.10/site-packages (from moviepy) (4.4.2)\n",
            "Requirement already satisfied: tqdm<5.0,>=4.11.2 in /usr/local/python/3.10.13/lib/python3.10/site-packages (from moviepy) (4.66.2)\n",
            "Requirement already satisfied: requests<3.0,>=2.8.1 in /home/codespace/.local/lib/python3.10/site-packages (from moviepy) (2.31.0)\n",
            "Requirement already satisfied: proglog<=1.0.0 in /usr/local/python/3.10.13/lib/python3.10/site-packages (from moviepy) (0.1.10)\n",
            "Requirement already satisfied: numpy>=1.17.3 in /home/codespace/.local/lib/python3.10/site-packages (from moviepy) (1.26.4)\n",
            "Requirement already satisfied: imageio<3.0,>=2.5 in /usr/local/python/3.10.13/lib/python3.10/site-packages (from moviepy) (2.34.1)\n",
            "Requirement already satisfied: imageio-ffmpeg>=0.2.0 in /usr/local/python/3.10.13/lib/python3.10/site-packages (from moviepy) (0.4.9)\n",
            "Requirement already satisfied: pillow>=8.3.2 in /home/codespace/.local/lib/python3.10/site-packages (from imageio<3.0,>=2.5->moviepy) (10.3.0)\n",
            "Requirement already satisfied: setuptools in /usr/local/python/3.10.13/lib/python3.10/site-packages (from imageio-ffmpeg>=0.2.0->moviepy) (68.2.2)\n",
            "Requirement already satisfied: charset-normalizer<4,>=2 in /home/codespace/.local/lib/python3.10/site-packages (from requests<3.0,>=2.8.1->moviepy) (3.3.2)\n",
            "Requirement already satisfied: idna<4,>=2.5 in /home/codespace/.local/lib/python3.10/site-packages (from requests<3.0,>=2.8.1->moviepy) (3.6)\n",
            "Requirement already satisfied: urllib3<3,>=1.21.1 in /usr/local/python/3.10.13/lib/python3.10/site-packages (from requests<3.0,>=2.8.1->moviepy) (2.0.7)\n",
            "Requirement already satisfied: certifi>=2017.4.17 in /home/codespace/.local/lib/python3.10/site-packages (from requests<3.0,>=2.8.1->moviepy) (2024.2.2)\n",
            "Note: you may need to restart the kernel to use updated packages.\n",
            "Requirement already satisfied: moviepy in /usr/local/python/3.10.13/lib/python3.10/site-packages (1.0.3)\n",
            "Requirement already satisfied: decorator<5.0,>=4.0.2 in /usr/local/python/3.10.13/lib/python3.10/site-packages (from moviepy) (4.4.2)\n",
            "Requirement already satisfied: tqdm<5.0,>=4.11.2 in /usr/local/python/3.10.13/lib/python3.10/site-packages (from moviepy) (4.66.2)\n",
            "Requirement already satisfied: requests<3.0,>=2.8.1 in /home/codespace/.local/lib/python3.10/site-packages (from moviepy) (2.31.0)\n",
            "Requirement already satisfied: proglog<=1.0.0 in /usr/local/python/3.10.13/lib/python3.10/site-packages (from moviepy) (0.1.10)\n",
            "Requirement already satisfied: numpy>=1.17.3 in /home/codespace/.local/lib/python3.10/site-packages (from moviepy) (1.26.4)\n",
            "Requirement already satisfied: imageio<3.0,>=2.5 in /usr/local/python/3.10.13/lib/python3.10/site-packages (from moviepy) (2.34.1)\n",
            "Requirement already satisfied: imageio-ffmpeg>=0.2.0 in /usr/local/python/3.10.13/lib/python3.10/site-packages (from moviepy) (0.4.9)\n",
            "Requirement already satisfied: pillow>=8.3.2 in /home/codespace/.local/lib/python3.10/site-packages (from imageio<3.0,>=2.5->moviepy) (10.3.0)\n",
            "Requirement already satisfied: setuptools in /usr/local/python/3.10.13/lib/python3.10/site-packages (from imageio-ffmpeg>=0.2.0->moviepy) (68.2.2)\n",
            "Requirement already satisfied: charset-normalizer<4,>=2 in /home/codespace/.local/lib/python3.10/site-packages (from requests<3.0,>=2.8.1->moviepy) (3.3.2)\n",
            "Requirement already satisfied: idna<4,>=2.5 in /home/codespace/.local/lib/python3.10/site-packages (from requests<3.0,>=2.8.1->moviepy) (3.6)\n",
            "Requirement already satisfied: urllib3<3,>=1.21.1 in /usr/local/python/3.10.13/lib/python3.10/site-packages (from requests<3.0,>=2.8.1->moviepy) (2.0.7)\n",
            "Requirement already satisfied: certifi>=2017.4.17 in /home/codespace/.local/lib/python3.10/site-packages (from requests<3.0,>=2.8.1->moviepy) (2024.2.2)\n",
            "Note: you may need to restart the kernel to use updated packages.\n",
            "Requirement already satisfied: stable-baselines3 in /usr/local/python/3.10.13/lib/python3.10/site-packages (2.3.2)\n",
            "Requirement already satisfied: gymnasium<0.30,>=0.28.1 in /usr/local/python/3.10.13/lib/python3.10/site-packages (from stable-baselines3) (0.29.1)\n",
            "Requirement already satisfied: numpy>=1.20 in /home/codespace/.local/lib/python3.10/site-packages (from stable-baselines3) (1.26.4)\n",
            "Requirement already satisfied: torch>=1.13 in /home/codespace/.local/lib/python3.10/site-packages (from stable-baselines3) (2.2.2)\n",
            "Requirement already satisfied: cloudpickle in /usr/local/python/3.10.13/lib/python3.10/site-packages (from stable-baselines3) (3.0.0)\n",
            "Requirement already satisfied: pandas in /home/codespace/.local/lib/python3.10/site-packages (from stable-baselines3) (2.2.1)\n",
            "Requirement already satisfied: matplotlib in /home/codespace/.local/lib/python3.10/site-packages (from stable-baselines3) (3.8.3)\n",
            "Requirement already satisfied: typing-extensions>=4.3.0 in /home/codespace/.local/lib/python3.10/site-packages (from gymnasium<0.30,>=0.28.1->stable-baselines3) (4.10.0)\n",
            "Requirement already satisfied: farama-notifications>=0.0.1 in /usr/local/python/3.10.13/lib/python3.10/site-packages (from gymnasium<0.30,>=0.28.1->stable-baselines3) (0.0.4)\n",
            "Requirement already satisfied: filelock in /home/codespace/.local/lib/python3.10/site-packages (from torch>=1.13->stable-baselines3) (3.13.3)\n",
            "Requirement already satisfied: sympy in /home/codespace/.local/lib/python3.10/site-packages (from torch>=1.13->stable-baselines3) (1.12)\n",
            "Requirement already satisfied: networkx in /home/codespace/.local/lib/python3.10/site-packages (from torch>=1.13->stable-baselines3) (3.2.1)\n",
            "Requirement already satisfied: jinja2 in /home/codespace/.local/lib/python3.10/site-packages (from torch>=1.13->stable-baselines3) (3.1.3)\n",
            "Requirement already satisfied: fsspec in /home/codespace/.local/lib/python3.10/site-packages (from torch>=1.13->stable-baselines3) (2024.3.1)\n",
            "Requirement already satisfied: nvidia-cuda-nvrtc-cu12==12.1.105 in /home/codespace/.local/lib/python3.10/site-packages (from torch>=1.13->stable-baselines3) (12.1.105)\n",
            "Requirement already satisfied: nvidia-cuda-runtime-cu12==12.1.105 in /home/codespace/.local/lib/python3.10/site-packages (from torch>=1.13->stable-baselines3) (12.1.105)\n",
            "Requirement already satisfied: nvidia-cuda-cupti-cu12==12.1.105 in /home/codespace/.local/lib/python3.10/site-packages (from torch>=1.13->stable-baselines3) (12.1.105)\n",
            "Requirement already satisfied: nvidia-cudnn-cu12==8.9.2.26 in /home/codespace/.local/lib/python3.10/site-packages (from torch>=1.13->stable-baselines3) (8.9.2.26)\n",
            "Requirement already satisfied: nvidia-cublas-cu12==12.1.3.1 in /home/codespace/.local/lib/python3.10/site-packages (from torch>=1.13->stable-baselines3) (12.1.3.1)\n",
            "Requirement already satisfied: nvidia-cufft-cu12==11.0.2.54 in /home/codespace/.local/lib/python3.10/site-packages (from torch>=1.13->stable-baselines3) (11.0.2.54)\n",
            "Requirement already satisfied: nvidia-curand-cu12==10.3.2.106 in /home/codespace/.local/lib/python3.10/site-packages (from torch>=1.13->stable-baselines3) (10.3.2.106)\n",
            "Requirement already satisfied: nvidia-cusolver-cu12==11.4.5.107 in /home/codespace/.local/lib/python3.10/site-packages (from torch>=1.13->stable-baselines3) (11.4.5.107)\n",
            "Requirement already satisfied: nvidia-cusparse-cu12==12.1.0.106 in /home/codespace/.local/lib/python3.10/site-packages (from torch>=1.13->stable-baselines3) (12.1.0.106)\n",
            "Requirement already satisfied: nvidia-nccl-cu12==2.19.3 in /home/codespace/.local/lib/python3.10/site-packages (from torch>=1.13->stable-baselines3) (2.19.3)\n",
            "Requirement already satisfied: nvidia-nvtx-cu12==12.1.105 in /home/codespace/.local/lib/python3.10/site-packages (from torch>=1.13->stable-baselines3) (12.1.105)\n",
            "Requirement already satisfied: triton==2.2.0 in /home/codespace/.local/lib/python3.10/site-packages (from torch>=1.13->stable-baselines3) (2.2.0)\n",
            "Requirement already satisfied: nvidia-nvjitlink-cu12 in /home/codespace/.local/lib/python3.10/site-packages (from nvidia-cusolver-cu12==11.4.5.107->torch>=1.13->stable-baselines3) (12.4.99)\n",
            "Requirement already satisfied: contourpy>=1.0.1 in /home/codespace/.local/lib/python3.10/site-packages (from matplotlib->stable-baselines3) (1.2.1)\n",
            "Requirement already satisfied: cycler>=0.10 in /home/codespace/.local/lib/python3.10/site-packages (from matplotlib->stable-baselines3) (0.12.1)\n",
            "Requirement already satisfied: fonttools>=4.22.0 in /home/codespace/.local/lib/python3.10/site-packages (from matplotlib->stable-baselines3) (4.50.0)\n",
            "Requirement already satisfied: kiwisolver>=1.3.1 in /home/codespace/.local/lib/python3.10/site-packages (from matplotlib->stable-baselines3) (1.4.5)\n",
            "Requirement already satisfied: packaging>=20.0 in /home/codespace/.local/lib/python3.10/site-packages (from matplotlib->stable-baselines3) (24.0)\n",
            "Requirement already satisfied: pillow>=8 in /home/codespace/.local/lib/python3.10/site-packages (from matplotlib->stable-baselines3) (10.3.0)\n",
            "Requirement already satisfied: pyparsing>=2.3.1 in /home/codespace/.local/lib/python3.10/site-packages (from matplotlib->stable-baselines3) (3.1.2)\n",
            "Requirement already satisfied: python-dateutil>=2.7 in /home/codespace/.local/lib/python3.10/site-packages (from matplotlib->stable-baselines3) (2.9.0.post0)\n",
            "Requirement already satisfied: pytz>=2020.1 in /home/codespace/.local/lib/python3.10/site-packages (from pandas->stable-baselines3) (2024.1)\n",
            "Requirement already satisfied: tzdata>=2022.7 in /home/codespace/.local/lib/python3.10/site-packages (from pandas->stable-baselines3) (2024.1)\n",
            "Requirement already satisfied: six>=1.5 in /home/codespace/.local/lib/python3.10/site-packages (from python-dateutil>=2.7->matplotlib->stable-baselines3) (1.16.0)\n",
            "Requirement already satisfied: MarkupSafe>=2.0 in /home/codespace/.local/lib/python3.10/site-packages (from jinja2->torch>=1.13->stable-baselines3) (2.1.5)\n",
            "Requirement already satisfied: mpmath>=0.19 in /home/codespace/.local/lib/python3.10/site-packages (from sympy->torch>=1.13->stable-baselines3) (1.3.0)\n",
            "Note: you may need to restart the kernel to use updated packages.\n"
          ]
        }
      ],
      "source": [
        "# install gymnasium packages\n",
        "%pip install gymnasium\n",
        "%pip install gymnasium[classic-control]\n",
        "%pip install swig\n",
        "\n",
        "# install virtual display packages\n",
        "%pip install pyvirtualdisplay\n",
        "%pip install moviepy\n",
        "%pip install --upgrade moviepy\n",
        "\n",
        "# install stable baselines3\n",
        "%pip install stable-baselines3"
      ]
    },
    {
      "cell_type": "code",
      "execution_count": 2,
      "metadata": {},
      "outputs": [
        {
          "name": "stdout",
          "output_type": "stream",
          "text": [
            "Hit:1 https://packages.microsoft.com/repos/microsoft-ubuntu-focal-prod focal InRelease\n",
            "Hit:2 https://dl.yarnpkg.com/debian stable InRelease\n",
            "Hit:4 https://repo.anaconda.com/pkgs/misc/debrepo/conda stable InRelease\n",
            "Hit:5 http://archive.ubuntu.com/ubuntu focal InRelease\n",
            "Hit:6 http://security.ubuntu.com/ubuntu focal-security InRelease\n",
            "Hit:7 http://archive.ubuntu.com/ubuntu focal-updates InRelease\n",
            "Hit:3 https://packagecloud.io/github/git-lfs/ubuntu focal InRelease\n",
            "Hit:8 http://archive.ubuntu.com/ubuntu focal-backports InRelease\n",
            "Reading package lists...\n",
            "Building dependency tree...\n",
            "Reading state information...\n",
            "40 packages can be upgraded. Run 'apt list --upgradable' to see them.\n",
            "Reading package lists...\n",
            "Building dependency tree...\n",
            "Reading state information...\n",
            "xvfb is already the newest version (2:1.20.13-1ubuntu1~20.04.17).\n",
            "0 upgraded, 0 newly installed, 0 to remove and 40 not upgraded.\n"
          ]
        }
      ],
      "source": [
        "# Update the Package Index\n",
        "!sudo apt update --quiet\n",
        "\n",
        "# Install xvfb\n",
        "!sudo apt-get install -y xvfb --quiet"
      ]
    },
    {
      "cell_type": "code",
      "execution_count": 3,
      "metadata": {
        "id": "LzeSyt4-OPR_"
      },
      "outputs": [],
      "source": [
        "# gymnasium imports\n",
        "import gymnasium as gym\n",
        "from gymnasium.wrappers.record_video import RecordVideo\n",
        "\n",
        "# video imports\n",
        "import glob\n",
        "import uuid\n",
        "import io\n",
        "import base64\n",
        "from IPython.display import HTML\n",
        "# from IPython import display as ipythondisplay\n",
        "\n",
        "# ml imports\n",
        "import torch\n",
        "import torch.nn as nn\n",
        "import torch.optim as optim\n",
        "import torch.nn.functional as F\n",
        "\n",
        "# plot imports\n",
        "import matplotlib\n",
        "import matplotlib.pyplot as plt\n",
        "\n",
        "# set up matplotlib\n",
        "is_ipython = 'inline' in matplotlib.get_backend()\n",
        "if is_ipython:\n",
        "    from IPython import display as ipythondisplay\n",
        "\n",
        "\n",
        "# utility imports\n",
        "import os\n",
        "import math\n",
        "import random\n",
        "from itertools import count\n",
        "from collections import namedtuple, deque\n",
        "\n",
        "# if GPU is to be used\n",
        "device = torch.device(\"cuda\" if torch.cuda.is_available() else \"cpu\")"
      ]
    },
    {
      "cell_type": "markdown",
      "metadata": {},
      "source": [
        "## 1. What is Reinforcement Learning?"
      ]
    },
    {
      "cell_type": "markdown",
      "metadata": {},
      "source": [
        "<img src=\"images/RL_process.jpg\" width=\"800\" height=\"500\">\n",
        "\n",
        "Along with Supervised Learning and Unsupervised Learning, Reinforcement Learning is one of the 3 basic machine learning paradigms. The idea behind Reinforcement Learning is that an agent (an AI) will learn from the environment by interacting with it (through trial and error) and receiving rewards (negative or positive) as feedback for performing actions.\n",
        "\n",
        "You can think of it like playing a video game where you get points for collecting coins and you lose points for getting hit by enemies. This \"trains\" you to collect coins, while avoiding enemies. Of course, games get a lot more complicated than that which is why one of the main challenges of RL is figuring out how to reward or punish the agent. That is to say, we use the [carrot and the stick](https://en.wikipedia.org/wiki/Carrot_and_stick).\n",
        "\n",
        "The diagram describing how a RL agent interacts with a environment can be interpretated as such:\n",
        "\n",
        "1. The Agent/Model/AI receives a **state $S_t$** (the info the agent receieves from the environment at time t)\n",
        "2. Based on that **state** $S_t$ the agent takes an *action* $A_t$\n",
        "3. The environment goes to a new **state** $S_{t+1}$\n",
        "4. The environment gives some **reward** $R_{t+1}$ to the agent\n",
        "5. repeat\n"
      ]
    },
    {
      "cell_type": "markdown",
      "metadata": {},
      "source": [
        "### 1.1 Defining Cumulative Reward\n",
        "\n",
        "The reward is fundamental in RL because it’s the only feedback for the agent. Thanks to it, our agent knows if the action taken was good or not.\n",
        "\n",
        "Where\n",
        "* $R()$: `Return` is the cumulative reward function\n",
        "* $\\tau$: `Trajectory` represented by *tau* is a sequence of `states` and `actions`\n",
        "* $\\gamma$: `Discount Rate` represented by *gamma* between 0-1\n",
        "* $r_t$: `reward` at time step t\n",
        "\n",
        "The cumulative reward is represented by the function\n",
        "\n",
        "$R(\\tau) = r_{t+1} + \\gamma r_{t+2} + \\gamma^2 r_{t+3} + \\gamma^3 r_{t+4} + ...$\n",
        "\n",
        "or \n",
        "\n",
        "$R(\\tau) = \\sum_{k=0}^{\\infty} \\gamma^k r_{t+k+1}$\n",
        "\n",
        "An important insight here is that $\\gamma$ is exponentiated, this means a smaller $\\gamma$ causes a bigger `discount` and rewards at farther timesteps are `discounted` more. So, the smaller the $\\gamma$ the less the agent cares more about closer/short-term rewards, and the bigger $\\gamma$ the more the agent cares about farther/long-term rewards."
      ]
    },
    {
      "cell_type": "markdown",
      "metadata": {},
      "source": [
        "### 1.2 Defining Policy\n",
        "\n",
        "You can think of `policy`, $\\pi$, as the mind of the agent\n",
        "\n",
        "This `policy` is the function we want to learn, our goal is to find the `optimal policy` $\\pi^*$, the policy that maximizes expected return when the agent acts according to it. We find this $\\pi^*$ through training. \n",
        "\n",
        "Note: $\\pi^*$ is pronounced \"pie-star\" and in algorithms \"*\" (star) often denotes optimality\n",
        "\n",
        "There are two types of policies:\n",
        "\n",
        "1. Deterministic: a policy at a given state will always return the same action.\n",
        "    * $\\pi(s) = a$\n",
        "2. Stochastic: outputs a probability distribution over actions.\n",
        "    * $\\pi(s|a) = P[A|s]$\n",
        "        * $|$ means given\n",
        "        * $P[]$ means probability distribution\n",
        "        * $P[A|s]$ means a probability distribution over a set of actions given a state\n",
        "\n",
        "There are two approaches to **train** our agent to find this optimal policy π*:\n",
        "\n",
        "1. Directly, by teaching the agent to learn which action to take, given the current state: **Policy-Based Methods**.\n",
        "2. Indirectly, teach the agent to learn which state is more valuable and then take the action that leads to the more valuable states: **Value-Based Methods**.\n",
        "\n"
      ]
    },
    {
      "cell_type": "markdown",
      "metadata": {},
      "source": [
        "## 2. Creating an Environment\n",
        "\n",
        "Now that you understand what a Reinforcement Learning agent is and does. Lets create an environment for our prospective RL agent to interact with.\n",
        "\n",
        "To do that we will be using the environment library [Gymnasium](https://gymnasium.farama.org/) which was developed by OpenAI and handed off to the Farama Foundation to maintain and update."
      ]
    },
    {
      "cell_type": "markdown",
      "metadata": {},
      "source": [
        "*GitHub codespaces doesn't have an inbuilt display, create a virtual display instead.*"
      ]
    },
    {
      "cell_type": "code",
      "execution_count": 4,
      "metadata": {
        "colab": {
          "base_uri": "https://localhost:8080/"
        },
        "id": "ruR-EszrTfDX",
        "outputId": "793fb07e-1331-419d-ed03-6cf07f2254c0"
      },
      "outputs": [
        {
          "data": {
            "text/plain": [
              "<pyvirtualdisplay.display.Display at 0x7f53b42dae30>"
            ]
          },
          "execution_count": 4,
          "metadata": {},
          "output_type": "execute_result"
        }
      ],
      "source": [
        "# install a virtual display\n",
        "from pyvirtualdisplay import Display\n",
        "display = Display(visible=0, size=(1400, 900))\n",
        "display.start()"
      ]
    },
    {
      "cell_type": "markdown",
      "metadata": {},
      "source": [
        "The first virtual environment you will be using is the `'CartPole-v1'` environment. This is a virtual version of the real life Cart Pole/Inverted Pendulum task, here is a short fun [video](https://youtu.be/nOSTzpA0nGk?si=mFYYwhLhTb5hcrpB) for you to see."
      ]
    },
    {
      "cell_type": "markdown",
      "metadata": {},
      "source": [
        "### 2.1 Understanding Gymnasium\n",
        "Remember that at each step:\n",
        "- Our Agent receives a **state ($S_0$)** from the **Environment** — i.e. we receive the first frame of our game (Environment).\n",
        "- Based on that **state ($S_0$),** the Agent takes an **action ($A_0$)** — i.e. our Agent will move to the right.\n",
        "- The environment transitions to a **new** **state ($S_1$)** — i.e. new frame.\n",
        "- The environment gives some **reward ($R_1$)** to the Agent — i.e. we’re not dead *(Positive Reward +1)*.\n",
        "\n",
        "\n",
        "With Gymnasium:\n",
        "\n",
        "1. We create our environment using `gymnasium.make()`\n",
        "2. We reset the environment to its initial state with `observation = env.reset()`\n",
        "\n",
        "At each step:\n",
        "\n",
        "3. Get an action using our model (in our example we take a random action)\n",
        "4. Using `env.step(action)`, we perform this action in the environment and get\n",
        "    - `observation`: The new state ($s_{t+1}$)\n",
        "    - `reward`: The reward we get after executing the action\n",
        "    - `terminated`: Indicates if the episode terminated (agent reach the terminal state)\n",
        "    - `truncated`: Introduced with this new version, it indicates a timelimit or if an agent go out of bounds of the environment for instance.\n",
        "    - `info`: A dictionary that provides additional information (depends on the environment).\n",
        "\n",
        "For more explanations check this 👉 https://gymnasium.farama.org/api/env/#gymnasium.Env.step\n",
        "\n",
        "If the episode is terminated:\n",
        "- We reset the environment to its initial state with `observation = env.reset()`\n",
        "\n",
        "#### 2.2 Task Types\n",
        "There are two types of task: `Episodic Tasks` and `Continuous Tasks`\n",
        "\n",
        "1. Episodic Task\n",
        "    - In this case, we have a starting point and an ending point (a terminal state). This creates an episode: a list of States, Actions, Rewards, and new States.\n",
        "2. Continuous task\n",
        "    - These are tasks that continue forever (no terminal state). In this case, the agent must learn how to choose the best actions and simultaneously interact with the environment.\n",
        "    - For instance, an agent that does automated stock trading. For this task, there is no starting point and terminal state. The agent keeps running until we decide to stop it.\n"
      ]
    },
    {
      "cell_type": "markdown",
      "metadata": {},
      "source": [
        "## Question 1\n",
        "In gymnasium the environments are set up as episodic tasks. A good practice is to look at documentation before using an environment to know its properties. If `'CartPole-v1'` is episodic, that means it must have termination conditions. List `'CartPole-v1'`'s termination conditions below.\n",
        "\n",
        "Link to documentation -> https://gymnasium.farama.org/environments/classic_control/cart_pole/ "
      ]
    },
    {
      "cell_type": "markdown",
      "metadata": {},
      "source": [
        "<span style=\"color:green\">Answer</span>\n",
        "\n",
        "1.\n",
        "2.\n",
        "3."
      ]
    },
    {
      "cell_type": "markdown",
      "metadata": {},
      "source": [
        "#### 2.3 Default Properties of Gymnasium's Cart Pole environment \n",
        "\n",
        "##### **Action Space (The set of possible actions of the model)**\n",
        "\n",
        "The action is a ndarray with shape (1,) which can take values {0, 1} indicating the direction of the fixed force the cart is pushed with.\n",
        "\n",
        "0: Push cart to the left\n",
        "\n",
        "1: Push cart to the right\n",
        "\n",
        "Note: The velocity that is reduced or increased by the applied force is not fixed and it depends on the angle the pole is pointing. The center of gravity of the pole varies the amount of energy needed to move the cart underneath it\n",
        "\n",
        "##### **Observation Space (The subset of the state the actor observes)**\n",
        "\n",
        "The observation is a ndarray with shape (4,) with the values corresponding to the following positions and velocities:\n",
        "\n",
        "<img src=\"images/observation_space.png\" width=\"700\" height=\"200\">\n",
        "\n",
        "##### **Rewards**\n",
        "\n",
        "Since the goal is to keep the pole upright for as long as possible, a reward of +1 for every step taken, including the termination step, is allotted. The threshold for rewards is 500 for v1 and 200 for v0.\n"
      ]
    },
    {
      "cell_type": "code",
      "execution_count": 5,
      "metadata": {},
      "outputs": [
        {
          "name": "stdout",
          "output_type": "stream",
          "text": [
            "_____OBSERVATION SPACE_____ \n",
            "\n",
            "Observation Space Shape (4,)\n",
            "Sample observation [-3.1389542e+00 -1.0611863e+38 -3.3676499e-01 -1.6970958e+37]\n",
            "\n",
            " _____ACTION SPACE_____ \n",
            "\n",
            "Action Space Shape 2\n",
            "Action Space Sample 1\n"
          ]
        }
      ],
      "source": [
        "# How to access the above values\n",
        "env = gym.make(\"CartPole-v1\")\n",
        "env.reset()\n",
        "print(\"_____OBSERVATION SPACE_____ \\n\")\n",
        "print(\"Observation Space Shape\", env.observation_space.shape)\n",
        "print(\"Sample observation\", env.observation_space.sample()) # Get a random observation\n",
        "print(\"\\n _____ACTION SPACE_____ \\n\")\n",
        "print(\"Action Space Shape\", env.action_space.n)\n",
        "print(\"Action Space Sample\", env.action_space.sample()) # Take a random action"
      ]
    },
    {
      "cell_type": "markdown",
      "metadata": {},
      "source": [
        "#### 2.4 Gymnasium Interactive Loop\n",
        "\n",
        "Below is the code for a simple interactive loop where instead of a agent predicting a action we simply sample a random action. Look at what happens to the cartpole when random actions are chosen, and specifically note how long the episode lasts (duration) which the model will be learning to improve."
      ]
    },
    {
      "cell_type": "code",
      "execution_count": 6,
      "metadata": {
        "colab": {
          "base_uri": "https://localhost:8080/"
        },
        "id": "-WqjS0z9Nvbm",
        "outputId": "c7c05a60-fe49-4157-fec5-7c8192196dd4"
      },
      "outputs": [],
      "source": [
        "init_env = gym.make('CartPole-v1', render_mode='rgb_array')\n",
        "\n",
        "folder_name = os.path.join('video', 'CartPole-v1', f'{uuid.uuid4()}')\n",
        "\n",
        "# Use the wrapper environment RecordVideo() to record video\n",
        "env = RecordVideo(init_env, folder_name, disable_logger=True)\n",
        "\n",
        "observation, info = env.reset()\n",
        "\n",
        "for _ in range(1000):\n",
        "    action = env.action_space.sample()\n",
        "    observation, reward, terminated, truncated, info = env.step(action)\n",
        "\n",
        "    if terminated or truncated:\n",
        "        observation, info = env.reset()\n",
        "\n",
        "env.close()"
      ]
    },
    {
      "cell_type": "code",
      "execution_count": 7,
      "metadata": {
        "id": "x1iWqf2NO4g5"
      },
      "outputs": [],
      "source": [
        "def show_video(folder_name, episode='last'):\n",
        "    mp4list = glob.glob(f'{folder_name}/*.mp4')\n",
        "    if len(mp4list) > 0:\n",
        "        sorted_mp4list = sorted(mp4list, key=lambda x: int(x.split('-')[-1].split('.')[0]))\n",
        "        if episode == 'last':\n",
        "            mp4 = sorted_mp4list[-1]\n",
        "        elif episode == 'first':\n",
        "            mp4 = sorted_mp4list[0]\n",
        "        video = io.open(mp4, 'r+b').read()\n",
        "        encoded = base64.b64encode(video)\n",
        "        ipythondisplay.display(HTML(data='''<video alt=\"test\" autoplay\n",
        "                    loop controls style=\"height: 400px;\">\n",
        "                    <source src=\"data:video/mp4;base64,{0}\" type=\"video/mp4\" />\n",
        "                    </video>'''.format(encoded.decode('ascii'))))\n",
        "    else:\n",
        "        print(\"Could not find video\")"
      ]
    },
    {
      "cell_type": "code",
      "execution_count": 8,
      "metadata": {
        "colab": {
          "base_uri": "https://localhost:8080/",
          "height": 421
        },
        "id": "CD7we0ysR4DN",
        "outputId": "65cc1009-7c2b-4e38-989b-b0bcd0580ef6"
      },
      "outputs": [
        {
          "data": {
            "text/html": [
              "<video alt=\"test\" autoplay\n",
              "                    loop controls style=\"height: 400px;\">\n",
              "                    <source src=\"data:video/mp4;base64,AAAAIGZ0eXBpc29tAAACAGlzb21pc28yYXZjMW1wNDEAAAAIZnJlZQAACOttZGF0AAACrgYF//+q3EXpvebZSLeWLNgg2SPu73gyNjQgLSBjb3JlIDE1OSByMjk5MSAxNzcxYjU1IC0gSC4yNjQvTVBFRy00IEFWQyBjb2RlYyAtIENvcHlsZWZ0IDIwMDMtMjAxOSAtIGh0dHA6Ly93d3cudmlkZW9sYW4ub3JnL3gyNjQuaHRtbCAtIG9wdGlvbnM6IGNhYmFjPTEgcmVmPTMgZGVibG9jaz0xOjA6MCBhbmFseXNlPTB4MzoweDExMyBtZT1oZXggc3VibWU9NyBwc3k9MSBwc3lfcmQ9MS4wMDowLjAwIG1peGVkX3JlZj0xIG1lX3JhbmdlPTE2IGNocm9tYV9tZT0xIHRyZWxsaXM9MSA4eDhkY3Q9MSBjcW09MCBkZWFkem9uZT0yMSwxMSBmYXN0X3Bza2lwPTEgY2hyb21hX3FwX29mZnNldD0tMiB0aHJlYWRzPTMgbG9va2FoZWFkX3RocmVhZHM9MSBzbGljZWRfdGhyZWFkcz0wIG5yPTAgZGVjaW1hdGU9MSBpbnRlcmxhY2VkPTAgYmx1cmF5X2NvbXBhdD0wIGNvbnN0cmFpbmVkX2ludHJhPTAgYmZyYW1lcz0zIGJfcHlyYW1pZD0yIGJfYWRhcHQ9MSBiX2JpYXM9MCBkaXJlY3Q9MSB3ZWlnaHRiPTEgb3Blbl9nb3A9MCB3ZWlnaHRwPTIga2V5aW50PTI1MCBrZXlpbnRfbWluPTI1IHNjZW5lY3V0PTQwIGludHJhX3JlZnJlc2g9MCByY19sb29rYWhlYWQ9NDAgcmM9Y3JmIG1idHJlZT0xIGNyZj0yMy4wIHFjb21wPTAuNjAgcXBtaW49MCBxcG1heD02OSBxcHN0ZXA9NCBpcF9yYXRpbz0xLjQwIGFxPTE6MS4wMACAAAAB52WIhAAv//72rvzLK0cLlS4dWXuzUfLoSXL9iDB9aAAAAwAAAwAAJuKiZ0WFMeJsgAAALmAIWElDyDzETFWKgS2k3gc8QAKA88WtpjFJ6+EE7cF8X7Yfm/5/jlBqcziiU9hyqZn0oPxNILqRF4Nx+tiFycoULB8g9zjQ13ayQU62z45f3TLB7AUI3H0g8YMwqo6PlrFknCO75L0OHiIeoFpqcm9qZCTJeQ4GGSRTDy1noXR8OC2hKsHaDQhyoJJdl35tFhTATcyevuw1NI6XAAfiVsWoSX87HmnDdYrMm3F7VJgHs31lcW0gLfbVAXbKwlZEyt+OKF+lBNv6byxSrnZnADHeNNkPDmAHd6qydeumXIj2d/DQCHmFu9qTAIa4CgQvdIYd3JQjjFQSMYfmyauK2KYSB+PKxAiHWp9SCUzF2DTfWfNmUTRa9PRpUDNfxH8sfe4Ub7xh1C6FpQiurv7+iY+w5JnSbyCj8iVLGFgahGpakQEDi5UWPlh1emBJ6OsVT3kgAlV2O4yAYLm0Z/EJilWrO/J4SoWvNYoE3ONlQwnoo59nPnUtiCOZurbHfuAG0Us7b3/gqVPo2sUiqLWlqm3CnoycY4UWHtGRTqyF+I3DY+5jwnj8DLBJQU4AAAMAAAMABNUAAACdQZokbEL//oywAABICl5GsxYABTGbocFG/bvJWYf6tTy3fS1zjJDdLLHDWEfDT7YMegcOqlGDezvyWa4GHd1ZWItwCFc9H60/GdrnJGFNXU38lvCPUn0ztYgru3lirOG0R5aH/r6xWG/xefuSk1ZCQGXJq5YwIGW5h6VnDjEn5nAOx2PVDqYSOxIGYvcvFkv+ibqUCNmWnFWZBq1S2gAAAEFBnkJ4hH8AABdOS6+WLF4BTsT7ajAAHXbviXO4jz6BFFne7nMb6GQheOWTdNABAIBPAwuu7v5vEcZ0vD5oM7BUVQAAAB8BnmF0R/8AAA3V6hwDIVOdWwyYu7YD4r6cIu5O8LfgAAAANwGeY2pH/wAAJL8EJ17cRl9jCRPwPlwAsvAUg5JD4dzCcL6B8zJ1anzL4ABD0fH+Qh1DMlCUbxcAAAC1QZpoSahBaJlMCFf//jhAAAEU9o0X2/U0RTQaZ2/6dBX0xw591+gCHdBS6b+WrlYwdKdYkDsdF7FHfLOz6A73eK6aNn4JgDDrz/o7iCFvgkWY2wNMXdia9AOzarXgwDDFiRVGWYvEZ7e4vlvKY8/6n/2L0dUTao9eq5JEzlIaNjGn/ZO2aChdC8aAIviubHwmf6h8jv9Z8SXaXVa7vgWmZBfcxV1sDK3qZ8kshsFhtw3A2SoxMQAAAEpBnoZFESwj/wAAF0NGN5hI0UWmuQtisLq3o+PiTKbY+gzZYt4soM8vQqwEuygC9WNg8tqywQQWAuM4N5vdH5SzuciOBR/urs39IQAAAEABnqV0R/8AACTDF2Qs2Eu8jvuBjbeg8G7wG4dSdB6h1F1UBOIe14MY6eFpQVevbb/VfgAE1oC/37Y23AvhXS2hAAAAPQGep2pH/wAAJLHMDL0EpLtcsQuLS+DjbSXOyVPKebQllJIDMOH54854auMOpS+xnWqRjDu2ULvGudkM7ZMAAACBQZqrSahBbJlMCEf//eEAAAQ5wmxCdhbJUS5y7e9pozTYa3+dCoRfTfum79Vqwxir1qVzD9NJ1ABxtYsloyFlI1gwMMZV8eUnKH63ADFCc4y0bCVqw+Coa069IA280xJiGARl15+ol8wZrjGRLyQVAmYcKWlqImsx4mkadJIY5lOQAAAASUGeyUUVLCP/AAAXQrbG2EzYTJFNAWT08mySqj+M2LLqzP9T0YEN7QXnNglwPSxS237EmlCBxNm4xxPAXoluLLipFS8Gn+ttYMEAAABIAZ7qakf/AAAkxwqV7IQ4Ucp7Mx8J/0xyE+jqoplaEqna5K47BT3ovn854OkbzZPFGYNltmkYnBkt4NTxTagA/Mt+DjqhA2SYAAAAVEGa7EmoQWyZTAj//IQAABBe96pen5vW3y0ZRHymb+cZDbRELvQFcQSryCQrtaOAPr7iQORFfcgw8T6fcMFNT+iNM35jfSj5DPqpLHstYfmrFtHKcAAAA6dtb292AAAAbG12aGQAAAAAAAAAAAAAAAAAAAPoAAABBAABAAABAAAAAAAAAAAAAAAAAQAAAAAAAAAAAAAAAAAAAAEAAAAAAAAAAAAAAAAAAEAAAAAAAAAAAAAAAAAAAAAAAAAAAAAAAAAAAAAAAAACAAAC0XRyYWsAAABcdGtoZAAAAAMAAAAAAAAAAAAAAAEAAAAAAAABBAAAAAAAAAAAAAAAAAAAAAAAAQAAAAAAAAAAAAAAAAAAAAEAAAAAAAAAAAAAAAAAAEAAAAACWAAAAZAAAAAAACRlZHRzAAAAHGVsc3QAAAAAAAAAAQAAAQQAAAIAAAEAAAAAAkltZGlhAAAAIG1kaGQAAAAAAAAAAAAAAAAAADIAAAANAFXEAAAAAAAtaGRscgAAAAAAAAAAdmlkZQAAAAAAAAAAAAAAAFZpZGVvSGFuZGxlcgAAAAH0bWluZgAAABR2bWhkAAAAAQAAAAAAAAAAAAAAJGRpbmYAAAAcZHJlZgAAAAAAAAABAAAADHVybCAAAAABAAABtHN0YmwAAACYc3RzZAAAAAAAAAABAAAAiGF2YzEAAAAAAAAAAQAAAAAAAAAAAAAAAAAAAAACWAGQAEgAAABIAAAAAAAAAAEAAAAAAAAAAAAAAAAAAAAAAAAAAAAAAAAAAAAAAAAAAAAY//8AAAAyYXZjQwFkAB//4QAZZ2QAH6zZQJgz5eEAAAMAAQAAAwBkDxgxlgEABmjr48siwAAAABhzdHRzAAAAAAAAAAEAAAANAAABAAAAABRzdHNzAAAAAAAAAAEAAAABAAAAcGN0dHMAAAAAAAAADAAAAAEAAAIAAAAAAQAABQAAAAABAAACAAAAAAEAAAAAAAAAAQAAAQAAAAABAAAFAAAAAAEAAAIAAAAAAQAAAAAAAAABAAABAAAAAAEAAAQAAAAAAgAAAQAAAAABAAACAAAAABxzdHNjAAAAAAAAAAEAAAABAAAADQAAAAEAAABIc3RzegAAAAAAAAAAAAAADQAABJ0AAAChAAAARQAAACMAAAA7AAAAuQAAAE4AAABEAAAAQQAAAIUAAABNAAAATAAAAFgAAAAUc3RjbwAAAAAAAAABAAAAMAAAAGJ1ZHRhAAAAWm1ldGEAAAAAAAAAIWhkbHIAAAAAAAAAAG1kaXJhcHBsAAAAAAAAAAAAAAAALWlsc3QAAAAlqXRvbwAAAB1kYXRhAAAAAQAAAABMYXZmNTguMjkuMTAw\" type=\"video/mp4\" />\n",
              "                    </video>"
            ],
            "text/plain": [
              "<IPython.core.display.HTML object>"
            ]
          },
          "metadata": {},
          "output_type": "display_data"
        }
      ],
      "source": [
        "show_video(folder_name)"
      ]
    },
    {
      "cell_type": "markdown",
      "metadata": {
        "id": "ZqZwPeGNW9HI"
      },
      "source": [
        "## 3. Deep Q Networks\n",
        "\n",
        "There are many different types of algorithms/models for RL, which you can do research on in your free time, but today we will be introducing you to Deep Q Networks as we think it strikes a nice balance of being easy to explain, but complicated enough to be interesting.\n",
        "\n",
        "<img src=\"images/deep.jpg\" width=\"700\" height=\"350\">"
      ]
    },
    {
      "cell_type": "markdown",
      "metadata": {},
      "source": [
        "### 3.1 Approximating $\\pi^*$ with a Q-function\n",
        "\n",
        "Q-learning in general are a set of **value based methods** (which we mentioned earlier), meaning instead of training on the policy directly they train to find an optimal value function which leads to having an optimal policy.\n",
        "\n",
        "In this case the value function the model trains on is called the Q-function, an **action-value function** that determines the value of being at a particular state and taking a specific action at that state. The *link between value and policy* is represented in the equation here:\n",
        "\n",
        "$$\\pi^* = \\underset{a}{\\text{argmax}}\\ Q^*(s,a)$$\n",
        "\n",
        "### 3.2 Maths\n",
        "\n",
        "### 3.2.1 Bellman Equation\n",
        "\n",
        "Directly computing the cumulative reward for all future timesteps for a given state can be a computationally competitive task if you are doing it at each action. Which is why instead we use the **Bellman Equation** which is a recursive equation that considers the value of a state as the immediate reward and the discounted value of the state that follows.\n",
        "\n",
        "<img src=\"images/bellman4.jpg\" width=\"700\" height=\"380\">\n",
        "\n",
        "Remember:\n",
        "* $\\gamma$: `Discount Rate` represented by *gamma* between 0-1\n",
        "\n",
        "\n",
        "### 3.2.2 Temporal Difference Learning Approach\n",
        "\n",
        "There are two main types of strategies:\n",
        "* Monte Carlo Approach - Learning after each episode\n",
        "* Temporal Difference Learning Approach - Learning after each step\n",
        "\n",
        "Q-Learning uses a TD approach which includes the Bellman Equation\n",
        "\n",
        "<img src=\"images/TD-1.jpg\" width=\"700\" height=\"400\">\n",
        "\n",
        "### 3.2.3 Epsilon Greedy Algorithm\n",
        "\n",
        "In RL it is importat to have a policy that governs the **exploitatio-exploration tradeoff**. That is do we exploit our prior knowledge gained during learning and move according to what we currently have calculated as the best action for a given state or do we explore and select a different action in the hopes of finding a better route/set of actions?\n",
        "\n",
        "We use an **epsilon greedy policy** where $\\epsilon$ represents the probability of exploration (selecting a random action) and $1-\\epsilon$ represents the probability of exploitation. $\\epsilon$ is a number from 1-0.\n",
        "\n",
        "At the beginning As Q gets better and better with progressive training we slowly decrease $\\epsilon$ more and more according to a decay rate. This changes the policy to go from a higher ratio of exploration, to a higher ratio of exploitation.\n",
        "\n",
        "### 3.2.4 Q-Learning\n",
        "\n",
        "Bringing that all together we get the Q-Learning algorithm\n",
        "\n",
        "<img src=\"images/Q-learning-2.jpg\" width=\"700\" height=\"400\">\n",
        "\n",
        "### 3.2.5 Deep Q-Learning (DQN)\n",
        "\n",
        "Deep Q-Learning uses a deep neural network to approximate the different Q-values for each possible action at a state (value-function estimation).\n",
        "\n",
        "The difference is that, during the training phase, instead of updating the Q-value of a state-action pair directly as we have done with Q-Learning, in Deep Q-Learning, we create a loss function that compares our Q-value prediction and the Q-target and uses gradient descent to update the weights of our Deep Q-Network to approximate our Q-values better.\n",
        "\n",
        "<img src=\"images/q-ex-5.jpg\" width=\"700\" height=\"400\">\n",
        "\n",
        "<img src=\"images/Q-target.jpg\" width=\"700\" height=\"400\">\n",
        "\n",
        "* Where $\\delta$ represents temporal difference error, the equation looks like this:\n",
        "\n",
        "$$\\delta = Q(s, a) - (r + \\gamma \\max_{a}' Q(s', a'))$$\n",
        "\n",
        "* To minimize this error we use the [Huber Loss](https://en.wikipedia.org/wiki/Huber_loss). The Huber loss acts like the mean squared error when the error is small, but like the mean absolute error when the error is large.\n",
        "\n",
        "* There is also an additional feature of an **experience replay** which has two functions:\n",
        "    1. Make **more efficient use of the experiences** during the training. Usually, in online reinforcement learning, the agent interacts with the environment, gets experiences (state, action, reward, and next state), learns from them (updates the neural network), and discards them. This is not efficient.\n",
        "\n",
        "    2. Avoid forgetting previous experiences (aka catastrophic interference, or catastrophic forgetting) and reduce the correlation between experiences.\n",
        "        * **catastrophic forgetting**: The problem we get if we give sequential samples of experiences to our neural network is that it tends to forget the previous experiences as it gets new experiences. For instance, if the agent is in the first level and then in the second, which is different, it can forget how to behave and play in the first level.\n",
        "\n",
        "Here is the pseudocode for DQN:\n",
        "\n",
        "<img src=\"images/sampling-training.jpg\" width=\"700\" height=\"400\">\n"
      ]
    },
    {
      "cell_type": "markdown",
      "metadata": {},
      "source": [
        "### 3.3 Train a DQN\n",
        "\n",
        "The following is the code from here: https://pytorch.org/tutorials/intermediate/reinforcement_q_learning.html\n",
        " \n",
        "If you want more detail on the specifics of the code, we encouorage you to read through it.\n",
        "\n",
        "Now that you understand the basic overview of a DQN its time to actually train one on the `'CartPole-v1'` Gymnasium environment!"
      ]
    },
    {
      "cell_type": "code",
      "execution_count": 9,
      "metadata": {
        "id": "YiaXSBipW8lw"
      },
      "outputs": [],
      "source": [
        "Transition = namedtuple('Transition',\n",
        "                        ('state', 'action', 'next_state', 'reward'))\n",
        "\n",
        "\n",
        "class ReplayMemory(object):\n",
        "\n",
        "    def __init__(self, capacity):\n",
        "        self.memory = deque([], maxlen=capacity)\n",
        "\n",
        "    def push(self, *args):\n",
        "        \"\"\"Save a transition\"\"\"\n",
        "        self.memory.append(Transition(*args))\n",
        "\n",
        "    def sample(self, batch_size):\n",
        "        return random.sample(self.memory, batch_size)\n",
        "\n",
        "    def __len__(self):\n",
        "        return len(self.memory)"
      ]
    },
    {
      "cell_type": "code",
      "execution_count": 10,
      "metadata": {
        "id": "l6pbi-BwToeQ"
      },
      "outputs": [],
      "source": [
        "class DQN(nn.Module):\n",
        "\n",
        "    def __init__(self, n_observations, n_actions):\n",
        "        super(DQN, self).__init__()\n",
        "        self.layer1 = nn.Linear(n_observations, 128)\n",
        "        self.layer2 = nn.Linear(128, 128)\n",
        "        self.layer3 = nn.Linear(128, n_actions)\n",
        "\n",
        "    # Called with either one element to determine next action, or a batch\n",
        "    # during optimization. Returns tensor([[left0exp,right0exp]...]).\n",
        "    def forward(self, x):\n",
        "        x = F.relu(self.layer1(x))\n",
        "        x = F.relu(self.layer2(x))\n",
        "        return self.layer3(x)"
      ]
    },
    {
      "cell_type": "code",
      "execution_count": 11,
      "metadata": {
        "id": "xTX4-jUBWSJT"
      },
      "outputs": [],
      "source": [
        "# BATCH_SIZE is the number of transitions sampled from the replay buffer\n",
        "# GAMMA is the discount factor as mentioned in the previous section\n",
        "# EPS_START is the starting value of epsilon\n",
        "# EPS_END is the final value of epsilon\n",
        "# EPS_DECAY controls the rate of exponential decay of epsilon, higher means a slower decay\n",
        "# TAU is the update rate of the target network\n",
        "# LR is the learning rate of the ``AdamW`` optimizer\n",
        "BATCH_SIZE = 128\n",
        "GAMMA = 0.99\n",
        "EPS_START = 0.9\n",
        "EPS_END = 0.05\n",
        "EPS_DECAY = 1000\n",
        "TAU = 0.005\n",
        "LR = 1e-4\n",
        "\n",
        "# Get number of actions from gym action space\n",
        "n_actions = env.action_space.n\n",
        "# Get the number of state observations\n",
        "state, info = env.reset()\n",
        "n_observations = len(state)\n",
        "\n",
        "policy_net = DQN(n_observations, n_actions).to(device)\n",
        "target_net = DQN(n_observations, n_actions).to(device)\n",
        "target_net.load_state_dict(policy_net.state_dict())\n",
        "\n",
        "optimizer = optim.AdamW(policy_net.parameters(), lr=LR, amsgrad=True)\n",
        "memory = ReplayMemory(10000)\n",
        "\n",
        "\n",
        "steps_done = 0\n",
        "\n",
        "\n",
        "def select_action(state):\n",
        "    global steps_done\n",
        "    sample = random.random()\n",
        "    eps_threshold = EPS_END + (EPS_START - EPS_END) * \\\n",
        "        math.exp(-1. * steps_done / EPS_DECAY)\n",
        "    steps_done += 1\n",
        "    if sample > eps_threshold:\n",
        "        with torch.no_grad():\n",
        "            # t.max(1) will return the largest column value of each row.\n",
        "            # second column on max result is index of where max element was\n",
        "            # found, so we pick action with the larger expected reward.\n",
        "            return policy_net(state).max(1).indices.view(1, 1)\n",
        "    else:\n",
        "        return torch.tensor([[env.action_space.sample()]], device=device, dtype=torch.long)\n",
        "\n",
        "\n",
        "episode_durations = []\n",
        "\n",
        "\n",
        "def plot_durations(show_result=False):\n",
        "    plt.figure(1)\n",
        "    durations_t = torch.tensor(episode_durations, dtype=torch.float)\n",
        "    if show_result:\n",
        "        plt.title('Result')\n",
        "    else:\n",
        "        plt.clf()\n",
        "        plt.title('Training...')\n",
        "    plt.xlabel('Episode')\n",
        "    plt.ylabel('Duration')\n",
        "    plt.plot(durations_t.numpy())\n",
        "    # Take 100 episode averages and plot them too\n",
        "    if len(durations_t) >= 100:\n",
        "        means = durations_t.unfold(0, 100, 1).mean(1).view(-1)\n",
        "        means = torch.cat((torch.zeros(99), means))\n",
        "        plt.plot(means.numpy())\n",
        "\n",
        "    plt.pause(0.001)  # pause a bit so that plots are updated\n",
        "    if is_ipython:\n",
        "        if not show_result:\n",
        "            ipythondisplay.display(plt.gcf())\n",
        "            ipythondisplay.clear_output(wait=True)\n",
        "        else:\n",
        "            ipythondisplay.display(plt.gcf())"
      ]
    },
    {
      "cell_type": "code",
      "execution_count": 12,
      "metadata": {
        "id": "GWXFcjLsWhNE"
      },
      "outputs": [],
      "source": [
        "def optimize_model():\n",
        "    if len(memory) < BATCH_SIZE:\n",
        "        return\n",
        "    transitions = memory.sample(BATCH_SIZE)\n",
        "    # Transpose the batch (see https://stackoverflow.com/a/19343/3343043 for\n",
        "    # detailed explanation). This converts batch-array of Transitions\n",
        "    # to Transition of batch-arrays.\n",
        "    batch = Transition(*zip(*transitions))\n",
        "\n",
        "    # Compute a mask of non-final states and concatenate the batch elements\n",
        "    # (a final state would've been the one after which simulation ended)\n",
        "    non_final_mask = torch.tensor(tuple(map(lambda s: s is not None,\n",
        "                                          batch.next_state)), device=device, dtype=torch.bool)\n",
        "    non_final_next_states = torch.cat([s for s in batch.next_state\n",
        "                                                if s is not None])\n",
        "    state_batch = torch.cat(batch.state)\n",
        "    action_batch = torch.cat(batch.action)\n",
        "    reward_batch = torch.cat(batch.reward)\n",
        "\n",
        "    # Compute Q(s_t, a) - the model computes Q(s_t), then we select the\n",
        "    # columns of actions taken. These are the actions which would've been taken\n",
        "    # for each batch state according to policy_net\n",
        "    state_action_values = policy_net(state_batch).gather(1, action_batch)\n",
        "\n",
        "    # Compute V(s_{t+1}) for all next states.\n",
        "    # Expected values of actions for non_final_next_states are computed based\n",
        "    # on the \"older\" target_net; selecting their best reward with max(1).values\n",
        "    # This is merged based on the mask, such that we'll have either the expected\n",
        "    # state value or 0 in case the state was final.\n",
        "    next_state_values = torch.zeros(BATCH_SIZE, device=device)\n",
        "    with torch.no_grad():\n",
        "        next_state_values[non_final_mask] = target_net(non_final_next_states).max(1).values\n",
        "    # Compute the expected Q values\n",
        "    expected_state_action_values = (next_state_values * GAMMA) + reward_batch\n",
        "\n",
        "    # Compute Huber loss\n",
        "    criterion = nn.SmoothL1Loss()\n",
        "    loss = criterion(state_action_values, expected_state_action_values.unsqueeze(1))\n",
        "\n",
        "    # Optimize the model\n",
        "    optimizer.zero_grad()\n",
        "    loss.backward()\n",
        "    # In-place gradient clipping\n",
        "    torch.nn.utils.clip_grad_value_(policy_net.parameters(), 100)\n",
        "    optimizer.step()"
      ]
    },
    {
      "cell_type": "code",
      "execution_count": 13,
      "metadata": {
        "colab": {
          "base_uri": "https://localhost:8080/",
          "height": 524
        },
        "id": "0sVkpLBjXZZz",
        "outputId": "1ed8f913-7652-4b9d-a37b-a0a40afd90d1"
      },
      "outputs": [
        {
          "data": {
            "image/png": "[encoded data removed]",
            "text/plain": [
              "<Figure size 640x480 with 1 Axes>"
            ]
          },
          "metadata": {},
          "output_type": "display_data"
        },
        {
          "data": {
            "text/plain": [
              "<Figure size 640x480 with 0 Axes>"
            ]
          },
          "metadata": {},
          "output_type": "display_data"
        }
      ],
      "source": [
        "num_episodes = 600\n",
        "\n",
        "for i_episode in range(num_episodes):\n",
        "    # Initialize the environment and get its state\n",
        "    state, info = env.reset()\n",
        "    state = torch.tensor(state, dtype=torch.float32, device=device).unsqueeze(0)\n",
        "    for t in count():\n",
        "        action = select_action(state)\n",
        "        observation, reward, terminated, truncated, _ = env.step(action.item())\n",
        "        reward = torch.tensor([reward], device=device)\n",
        "        done = terminated or truncated\n",
        "\n",
        "        if terminated:\n",
        "            next_state = None\n",
        "        else:\n",
        "            next_state = torch.tensor(observation, dtype=torch.float32, device=device).unsqueeze(0)\n",
        "\n",
        "        # Store the transition in memory\n",
        "        memory.push(state, action, next_state, reward)\n",
        "\n",
        "        # Move to the next state\n",
        "        state = next_state\n",
        "\n",
        "        # Perform one step of the optimization (on the policy network)\n",
        "        optimize_model()\n",
        "\n",
        "        # Soft update of the target network's weights\n",
        "        # θ′ ← τ θ + (1 −τ )θ′\n",
        "        target_net_state_dict = target_net.state_dict()\n",
        "        policy_net_state_dict = policy_net.state_dict()\n",
        "        for key in policy_net_state_dict:\n",
        "            target_net_state_dict[key] = policy_net_state_dict[key]*TAU + target_net_state_dict[key]*(1-TAU)\n",
        "        target_net.load_state_dict(target_net_state_dict)\n",
        "\n",
        "        if done:\n",
        "            episode_durations.append(t + 1)\n",
        "            plot_durations()\n",
        "            break\n",
        "\n",
        "print('Complete')\n",
        "plot_durations(show_result=True)\n",
        "plt.ioff()\n",
        "plt.show()"
      ]
    },
    {
      "cell_type": "markdown",
      "metadata": {},
      "source": [
        "Its possible that in the above graph if you train for too long you may experience a [catastrophic drop](https://ai.stackexchange.com/questions/28079/deep-q-learning-catastrophic-drop-reasons). Play around with running the code multiple times and with different episode lengths to see this effect as well as the model differing in the duration it is able to find between runs."
      ]
    },
    {
      "cell_type": "code",
      "execution_count": null,
      "metadata": {},
      "outputs": [
        {
          "data": {
            "text/html": [
              "<video alt=\"test\" autoplay\n",
              "                    loop controls style=\"height: 400px;\">\n",
              "                    <source src=\"data:video/mp4;base64,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\" type=\"video/mp4\" />\n",
              "                    </video>"
            ],
            "text/plain": [
              "<IPython.core.display.HTML object>"
            ]
          },
          "metadata": {},
          "output_type": "display_data"
        }
      ],
      "source": [
        "show_video(folder_name, episode = 'first')"
      ]
    },
    {
      "cell_type": "code",
      "execution_count": null,
      "metadata": {
        "colab": {
          "base_uri": "https://localhost:8080/",
          "height": 421
        },
        "id": "gTTuNd_nX3dh",
        "outputId": "cd255b39-551c-4917-fbc2-daf5eba3e6b7"
      },
      "outputs": [
        {
          "data": {
            "text/html": [
              "<video alt=\"test\" autoplay\n",
              "                    loop controls style=\"height: 400px;\">\n",
              "                    <source src=\"data:video/mp4;base64,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\" type=\"video/mp4\" />\n",
              "                    </video>"
            ],
            "text/plain": [
              "<IPython.core.display.HTML object>"
            ]
          },
          "metadata": {},
          "output_type": "display_data"
        }
      ],
      "source": [
        "show_video(folder_name, episode = 'last')"
      ]
    },
    {
      "cell_type": "markdown",
      "metadata": {},
      "source": [
        "## Question 2\n",
        "Has the model learned? What metrics did you use to determine that?"
      ]
    },
    {
      "cell_type": "markdown",
      "metadata": {},
      "source": [
        "<span style=\"color:green\">Answer</span>"
      ]
    },
    {
      "cell_type": "code",
      "execution_count": null,
      "metadata": {},
      "outputs": [
        {
          "name": "stdout",
          "output_type": "stream",
          "text": [
            "Using cpu device\n",
            "Wrapping the env with a `Monitor` wrapper\n",
            "Wrapping the env in a DummyVecEnv.\n"
          ]
        },
        {
          "ename": "AttributeError",
          "evalue": "'CartPoleContinuousEnv' object has no attribute 'my_font'",
          "output_type": "error",
          "traceback": [
            "\u001b[0;31m---------------------------------------------------------------------------\u001b[0m",
            "\u001b[0;31mAttributeError\u001b[0m                            Traceback (most recent call last)",
            "Cell \u001b[0;32mIn[25], line 16\u001b[0m\n\u001b[1;32m     13\u001b[0m model \u001b[38;5;241m=\u001b[39m SAC(\u001b[38;5;124m\"\u001b[39m\u001b[38;5;124mMlpPolicy\u001b[39m\u001b[38;5;124m\"\u001b[39m, env, verbose\u001b[38;5;241m=\u001b[39m\u001b[38;5;241m1\u001b[39m, learning_rate\u001b[38;5;241m=\u001b[39m\u001b[38;5;241m.001\u001b[39m,batch_size\u001b[38;5;241m=\u001b[39m\u001b[38;5;241m256\u001b[39m, buffer_size\u001b[38;5;241m=\u001b[39m\u001b[38;5;241m100000\u001b[39m)\n\u001b[1;32m     14\u001b[0m \u001b[38;5;66;03m# model.set_logger(new_logger)\u001b[39;00m\n\u001b[0;32m---> 16\u001b[0m \u001b[43mmodel\u001b[49m\u001b[38;5;241;43m.\u001b[39;49m\u001b[43mlearn\u001b[49m\u001b[43m(\u001b[49m\u001b[43mtotal_timesteps\u001b[49m\u001b[38;5;241;43m=\u001b[39;49m\u001b[38;5;241;43m10\u001b[39;49m\u001b[43m,\u001b[49m\u001b[43m \u001b[49m\u001b[43mlog_interval\u001b[49m\u001b[38;5;241;43m=\u001b[39;49m\u001b[38;5;241;43m4\u001b[39;49m\u001b[43m)\u001b[49m\n\u001b[1;32m     18\u001b[0m rewards \u001b[38;5;241m=\u001b[39m []\n\u001b[1;32m     19\u001b[0m reward_trials \u001b[38;5;241m=\u001b[39m []\n",
            "File \u001b[0;32m~/.python/current/lib/python3.10/site-packages/stable_baselines3/sac/sac.py:307\u001b[0m, in \u001b[0;36mSAC.learn\u001b[0;34m(self, total_timesteps, callback, log_interval, tb_log_name, reset_num_timesteps, progress_bar)\u001b[0m\n\u001b[1;32m    298\u001b[0m \u001b[38;5;28;01mdef\u001b[39;00m \u001b[38;5;21mlearn\u001b[39m(\n\u001b[1;32m    299\u001b[0m     \u001b[38;5;28mself\u001b[39m: SelfSAC,\n\u001b[1;32m    300\u001b[0m     total_timesteps: \u001b[38;5;28mint\u001b[39m,\n\u001b[0;32m   (...)\u001b[0m\n\u001b[1;32m    305\u001b[0m     progress_bar: \u001b[38;5;28mbool\u001b[39m \u001b[38;5;241m=\u001b[39m \u001b[38;5;28;01mFalse\u001b[39;00m,\n\u001b[1;32m    306\u001b[0m ) \u001b[38;5;241m-\u001b[39m\u001b[38;5;241m>\u001b[39m SelfSAC:\n\u001b[0;32m--> 307\u001b[0m     \u001b[38;5;28;01mreturn\u001b[39;00m \u001b[38;5;28;43msuper\u001b[39;49m\u001b[43m(\u001b[49m\u001b[43m)\u001b[49m\u001b[38;5;241;43m.\u001b[39;49m\u001b[43mlearn\u001b[49m\u001b[43m(\u001b[49m\n\u001b[1;32m    308\u001b[0m \u001b[43m        \u001b[49m\u001b[43mtotal_timesteps\u001b[49m\u001b[38;5;241;43m=\u001b[39;49m\u001b[43mtotal_timesteps\u001b[49m\u001b[43m,\u001b[49m\n\u001b[1;32m    309\u001b[0m \u001b[43m        \u001b[49m\u001b[43mcallback\u001b[49m\u001b[38;5;241;43m=\u001b[39;49m\u001b[43mcallback\u001b[49m\u001b[43m,\u001b[49m\n\u001b[1;32m    310\u001b[0m \u001b[43m        \u001b[49m\u001b[43mlog_interval\u001b[49m\u001b[38;5;241;43m=\u001b[39;49m\u001b[43mlog_interval\u001b[49m\u001b[43m,\u001b[49m\n\u001b[1;32m    311\u001b[0m \u001b[43m        \u001b[49m\u001b[43mtb_log_name\u001b[49m\u001b[38;5;241;43m=\u001b[39;49m\u001b[43mtb_log_name\u001b[49m\u001b[43m,\u001b[49m\n\u001b[1;32m    312\u001b[0m \u001b[43m        \u001b[49m\u001b[43mreset_num_timesteps\u001b[49m\u001b[38;5;241;43m=\u001b[39;49m\u001b[43mreset_num_timesteps\u001b[49m\u001b[43m,\u001b[49m\n\u001b[1;32m    313\u001b[0m \u001b[43m        \u001b[49m\u001b[43mprogress_bar\u001b[49m\u001b[38;5;241;43m=\u001b[39;49m\u001b[43mprogress_bar\u001b[49m\u001b[43m,\u001b[49m\n\u001b[1;32m    314\u001b[0m \u001b[43m    \u001b[49m\u001b[43m)\u001b[49m\n",
            "File \u001b[0;32m~/.python/current/lib/python3.10/site-packages/stable_baselines3/common/off_policy_algorithm.py:314\u001b[0m, in \u001b[0;36mOffPolicyAlgorithm.learn\u001b[0;34m(self, total_timesteps, callback, log_interval, tb_log_name, reset_num_timesteps, progress_bar)\u001b[0m\n\u001b[1;32m    305\u001b[0m \u001b[38;5;28;01mdef\u001b[39;00m \u001b[38;5;21mlearn\u001b[39m(\n\u001b[1;32m    306\u001b[0m     \u001b[38;5;28mself\u001b[39m: SelfOffPolicyAlgorithm,\n\u001b[1;32m    307\u001b[0m     total_timesteps: \u001b[38;5;28mint\u001b[39m,\n\u001b[0;32m   (...)\u001b[0m\n\u001b[1;32m    312\u001b[0m     progress_bar: \u001b[38;5;28mbool\u001b[39m \u001b[38;5;241m=\u001b[39m \u001b[38;5;28;01mFalse\u001b[39;00m,\n\u001b[1;32m    313\u001b[0m ) \u001b[38;5;241m-\u001b[39m\u001b[38;5;241m>\u001b[39m SelfOffPolicyAlgorithm:\n\u001b[0;32m--> 314\u001b[0m     total_timesteps, callback \u001b[38;5;241m=\u001b[39m \u001b[38;5;28;43mself\u001b[39;49m\u001b[38;5;241;43m.\u001b[39;49m\u001b[43m_setup_learn\u001b[49m\u001b[43m(\u001b[49m\n\u001b[1;32m    315\u001b[0m \u001b[43m        \u001b[49m\u001b[43mtotal_timesteps\u001b[49m\u001b[43m,\u001b[49m\n\u001b[1;32m    316\u001b[0m \u001b[43m        \u001b[49m\u001b[43mcallback\u001b[49m\u001b[43m,\u001b[49m\n\u001b[1;32m    317\u001b[0m \u001b[43m        \u001b[49m\u001b[43mreset_num_timesteps\u001b[49m\u001b[43m,\u001b[49m\n\u001b[1;32m    318\u001b[0m \u001b[43m        \u001b[49m\u001b[43mtb_log_name\u001b[49m\u001b[43m,\u001b[49m\n\u001b[1;32m    319\u001b[0m \u001b[43m        \u001b[49m\u001b[43mprogress_bar\u001b[49m\u001b[43m,\u001b[49m\n\u001b[1;32m    320\u001b[0m \u001b[43m    \u001b[49m\u001b[43m)\u001b[49m\n\u001b[1;32m    322\u001b[0m     callback\u001b[38;5;241m.\u001b[39mon_training_start(\u001b[38;5;28mlocals\u001b[39m(), \u001b[38;5;28mglobals\u001b[39m())\n\u001b[1;32m    324\u001b[0m     \u001b[38;5;28;01massert\u001b[39;00m \u001b[38;5;28mself\u001b[39m\u001b[38;5;241m.\u001b[39menv \u001b[38;5;129;01mis\u001b[39;00m \u001b[38;5;129;01mnot\u001b[39;00m \u001b[38;5;28;01mNone\u001b[39;00m, \u001b[38;5;124m\"\u001b[39m\u001b[38;5;124mYou must set the environment before calling learn()\u001b[39m\u001b[38;5;124m\"\u001b[39m\n",
            "File \u001b[0;32m~/.python/current/lib/python3.10/site-packages/stable_baselines3/common/off_policy_algorithm.py:297\u001b[0m, in \u001b[0;36mOffPolicyAlgorithm._setup_learn\u001b[0;34m(self, total_timesteps, callback, reset_num_timesteps, tb_log_name, progress_bar)\u001b[0m\n\u001b[1;32m    290\u001b[0m \u001b[38;5;28;01mif\u001b[39;00m (\n\u001b[1;32m    291\u001b[0m     \u001b[38;5;28mself\u001b[39m\u001b[38;5;241m.\u001b[39maction_noise \u001b[38;5;129;01mis\u001b[39;00m \u001b[38;5;129;01mnot\u001b[39;00m \u001b[38;5;28;01mNone\u001b[39;00m\n\u001b[1;32m    292\u001b[0m     \u001b[38;5;129;01mand\u001b[39;00m \u001b[38;5;28mself\u001b[39m\u001b[38;5;241m.\u001b[39menv\u001b[38;5;241m.\u001b[39mnum_envs \u001b[38;5;241m>\u001b[39m \u001b[38;5;241m1\u001b[39m\n\u001b[1;32m    293\u001b[0m     \u001b[38;5;129;01mand\u001b[39;00m \u001b[38;5;129;01mnot\u001b[39;00m \u001b[38;5;28misinstance\u001b[39m(\u001b[38;5;28mself\u001b[39m\u001b[38;5;241m.\u001b[39maction_noise, VectorizedActionNoise)\n\u001b[1;32m    294\u001b[0m ):\n\u001b[1;32m    295\u001b[0m     \u001b[38;5;28mself\u001b[39m\u001b[38;5;241m.\u001b[39maction_noise \u001b[38;5;241m=\u001b[39m VectorizedActionNoise(\u001b[38;5;28mself\u001b[39m\u001b[38;5;241m.\u001b[39maction_noise, \u001b[38;5;28mself\u001b[39m\u001b[38;5;241m.\u001b[39menv\u001b[38;5;241m.\u001b[39mnum_envs)\n\u001b[0;32m--> 297\u001b[0m \u001b[38;5;28;01mreturn\u001b[39;00m \u001b[38;5;28;43msuper\u001b[39;49m\u001b[43m(\u001b[49m\u001b[43m)\u001b[49m\u001b[38;5;241;43m.\u001b[39;49m\u001b[43m_setup_learn\u001b[49m\u001b[43m(\u001b[49m\n\u001b[1;32m    298\u001b[0m \u001b[43m    \u001b[49m\u001b[43mtotal_timesteps\u001b[49m\u001b[43m,\u001b[49m\n\u001b[1;32m    299\u001b[0m \u001b[43m    \u001b[49m\u001b[43mcallback\u001b[49m\u001b[43m,\u001b[49m\n\u001b[1;32m    300\u001b[0m \u001b[43m    \u001b[49m\u001b[43mreset_num_timesteps\u001b[49m\u001b[43m,\u001b[49m\n\u001b[1;32m    301\u001b[0m \u001b[43m    \u001b[49m\u001b[43mtb_log_name\u001b[49m\u001b[43m,\u001b[49m\n\u001b[1;32m    302\u001b[0m \u001b[43m    \u001b[49m\u001b[43mprogress_bar\u001b[49m\u001b[43m,\u001b[49m\n\u001b[1;32m    303\u001b[0m \u001b[43m\u001b[49m\u001b[43m)\u001b[49m\n",
            "File \u001b[0;32m~/.python/current/lib/python3.10/site-packages/stable_baselines3/common/base_class.py:423\u001b[0m, in \u001b[0;36mBaseAlgorithm._setup_learn\u001b[0;34m(self, total_timesteps, callback, reset_num_timesteps, tb_log_name, progress_bar)\u001b[0m\n\u001b[1;32m    421\u001b[0m \u001b[38;5;28;01mif\u001b[39;00m reset_num_timesteps \u001b[38;5;129;01mor\u001b[39;00m \u001b[38;5;28mself\u001b[39m\u001b[38;5;241m.\u001b[39m_last_obs \u001b[38;5;129;01mis\u001b[39;00m \u001b[38;5;28;01mNone\u001b[39;00m:\n\u001b[1;32m    422\u001b[0m     \u001b[38;5;28;01massert\u001b[39;00m \u001b[38;5;28mself\u001b[39m\u001b[38;5;241m.\u001b[39menv \u001b[38;5;129;01mis\u001b[39;00m \u001b[38;5;129;01mnot\u001b[39;00m \u001b[38;5;28;01mNone\u001b[39;00m\n\u001b[0;32m--> 423\u001b[0m     \u001b[38;5;28mself\u001b[39m\u001b[38;5;241m.\u001b[39m_last_obs \u001b[38;5;241m=\u001b[39m \u001b[38;5;28;43mself\u001b[39;49m\u001b[38;5;241;43m.\u001b[39;49m\u001b[43menv\u001b[49m\u001b[38;5;241;43m.\u001b[39;49m\u001b[43mreset\u001b[49m\u001b[43m(\u001b[49m\u001b[43m)\u001b[49m  \u001b[38;5;66;03m# type: ignore[assignment]\u001b[39;00m\n\u001b[1;32m    424\u001b[0m     \u001b[38;5;28mself\u001b[39m\u001b[38;5;241m.\u001b[39m_last_episode_starts \u001b[38;5;241m=\u001b[39m np\u001b[38;5;241m.\u001b[39mones((\u001b[38;5;28mself\u001b[39m\u001b[38;5;241m.\u001b[39menv\u001b[38;5;241m.\u001b[39mnum_envs,), dtype\u001b[38;5;241m=\u001b[39m\u001b[38;5;28mbool\u001b[39m)\n\u001b[1;32m    425\u001b[0m     \u001b[38;5;66;03m# Retrieve unnormalized observation for saving into the buffer\u001b[39;00m\n",
            "File \u001b[0;32m~/.python/current/lib/python3.10/site-packages/stable_baselines3/common/vec_env/dummy_vec_env.py:77\u001b[0m, in \u001b[0;36mDummyVecEnv.reset\u001b[0;34m(self)\u001b[0m\n\u001b[1;32m     75\u001b[0m \u001b[38;5;28;01mfor\u001b[39;00m env_idx \u001b[38;5;129;01min\u001b[39;00m \u001b[38;5;28mrange\u001b[39m(\u001b[38;5;28mself\u001b[39m\u001b[38;5;241m.\u001b[39mnum_envs):\n\u001b[1;32m     76\u001b[0m     maybe_options \u001b[38;5;241m=\u001b[39m {\u001b[38;5;124m\"\u001b[39m\u001b[38;5;124moptions\u001b[39m\u001b[38;5;124m\"\u001b[39m: \u001b[38;5;28mself\u001b[39m\u001b[38;5;241m.\u001b[39m_options[env_idx]} \u001b[38;5;28;01mif\u001b[39;00m \u001b[38;5;28mself\u001b[39m\u001b[38;5;241m.\u001b[39m_options[env_idx] \u001b[38;5;28;01melse\u001b[39;00m {}\n\u001b[0;32m---> 77\u001b[0m     obs, \u001b[38;5;28mself\u001b[39m\u001b[38;5;241m.\u001b[39mreset_infos[env_idx] \u001b[38;5;241m=\u001b[39m \u001b[38;5;28;43mself\u001b[39;49m\u001b[38;5;241;43m.\u001b[39;49m\u001b[43menvs\u001b[49m\u001b[43m[\u001b[49m\u001b[43menv_idx\u001b[49m\u001b[43m]\u001b[49m\u001b[38;5;241;43m.\u001b[39;49m\u001b[43mreset\u001b[49m\u001b[43m(\u001b[49m\u001b[43mseed\u001b[49m\u001b[38;5;241;43m=\u001b[39;49m\u001b[38;5;28;43mself\u001b[39;49m\u001b[38;5;241;43m.\u001b[39;49m\u001b[43m_seeds\u001b[49m\u001b[43m[\u001b[49m\u001b[43menv_idx\u001b[49m\u001b[43m]\u001b[49m\u001b[43m,\u001b[49m\u001b[43m \u001b[49m\u001b[38;5;241;43m*\u001b[39;49m\u001b[38;5;241;43m*\u001b[39;49m\u001b[43mmaybe_options\u001b[49m\u001b[43m)\u001b[49m\n\u001b[1;32m     78\u001b[0m     \u001b[38;5;28mself\u001b[39m\u001b[38;5;241m.\u001b[39m_save_obs(env_idx, obs)\n\u001b[1;32m     79\u001b[0m \u001b[38;5;66;03m# Seeds and options are only used once\u001b[39;00m\n",
            "File \u001b[0;32m~/.python/current/lib/python3.10/site-packages/stable_baselines3/common/monitor.py:83\u001b[0m, in \u001b[0;36mMonitor.reset\u001b[0;34m(self, **kwargs)\u001b[0m\n\u001b[1;32m     81\u001b[0m         \u001b[38;5;28;01mraise\u001b[39;00m \u001b[38;5;167;01mValueError\u001b[39;00m(\u001b[38;5;124mf\u001b[39m\u001b[38;5;124m\"\u001b[39m\u001b[38;5;124mExpected you to pass keyword argument \u001b[39m\u001b[38;5;132;01m{\u001b[39;00mkey\u001b[38;5;132;01m}\u001b[39;00m\u001b[38;5;124m into reset\u001b[39m\u001b[38;5;124m\"\u001b[39m)\n\u001b[1;32m     82\u001b[0m     \u001b[38;5;28mself\u001b[39m\u001b[38;5;241m.\u001b[39mcurrent_reset_info[key] \u001b[38;5;241m=\u001b[39m value\n\u001b[0;32m---> 83\u001b[0m \u001b[38;5;28;01mreturn\u001b[39;00m \u001b[38;5;28;43mself\u001b[39;49m\u001b[38;5;241;43m.\u001b[39;49m\u001b[43menv\u001b[49m\u001b[38;5;241;43m.\u001b[39;49m\u001b[43mreset\u001b[49m\u001b[43m(\u001b[49m\u001b[38;5;241;43m*\u001b[39;49m\u001b[38;5;241;43m*\u001b[39;49m\u001b[43mkwargs\u001b[49m\u001b[43m)\u001b[49m\n",
            "File \u001b[0;32m~/.python/current/lib/python3.10/site-packages/gymnasium/wrappers/record_video.py:129\u001b[0m, in \u001b[0;36mRecordVideo.reset\u001b[0;34m(self, **kwargs)\u001b[0m\n\u001b[1;32m    127\u001b[0m             \u001b[38;5;28mself\u001b[39m\u001b[38;5;241m.\u001b[39mclose_video_recorder()\n\u001b[1;32m    128\u001b[0m \u001b[38;5;28;01melif\u001b[39;00m \u001b[38;5;28mself\u001b[39m\u001b[38;5;241m.\u001b[39m_video_enabled():\n\u001b[0;32m--> 129\u001b[0m     \u001b[38;5;28;43mself\u001b[39;49m\u001b[38;5;241;43m.\u001b[39;49m\u001b[43mstart_video_recorder\u001b[49m\u001b[43m(\u001b[49m\u001b[43m)\u001b[49m\n\u001b[1;32m    130\u001b[0m \u001b[38;5;28;01mreturn\u001b[39;00m observations\n",
            "File \u001b[0;32m~/.python/current/lib/python3.10/site-packages/gymnasium/wrappers/record_video.py:148\u001b[0m, in \u001b[0;36mRecordVideo.start_video_recorder\u001b[0;34m(self)\u001b[0m\n\u001b[1;32m    140\u001b[0m base_path \u001b[38;5;241m=\u001b[39m os\u001b[38;5;241m.\u001b[39mpath\u001b[38;5;241m.\u001b[39mjoin(\u001b[38;5;28mself\u001b[39m\u001b[38;5;241m.\u001b[39mvideo_folder, video_name)\n\u001b[1;32m    141\u001b[0m \u001b[38;5;28mself\u001b[39m\u001b[38;5;241m.\u001b[39mvideo_recorder \u001b[38;5;241m=\u001b[39m video_recorder\u001b[38;5;241m.\u001b[39mVideoRecorder(\n\u001b[1;32m    142\u001b[0m     env\u001b[38;5;241m=\u001b[39m\u001b[38;5;28mself\u001b[39m\u001b[38;5;241m.\u001b[39menv,\n\u001b[1;32m    143\u001b[0m     base_path\u001b[38;5;241m=\u001b[39mbase_path,\n\u001b[1;32m    144\u001b[0m     metadata\u001b[38;5;241m=\u001b[39m{\u001b[38;5;124m\"\u001b[39m\u001b[38;5;124mstep_id\u001b[39m\u001b[38;5;124m\"\u001b[39m: \u001b[38;5;28mself\u001b[39m\u001b[38;5;241m.\u001b[39mstep_id, \u001b[38;5;124m\"\u001b[39m\u001b[38;5;124mepisode_id\u001b[39m\u001b[38;5;124m\"\u001b[39m: \u001b[38;5;28mself\u001b[39m\u001b[38;5;241m.\u001b[39mepisode_id},\n\u001b[1;32m    145\u001b[0m     disable_logger\u001b[38;5;241m=\u001b[39m\u001b[38;5;28mself\u001b[39m\u001b[38;5;241m.\u001b[39mdisable_logger,\n\u001b[1;32m    146\u001b[0m )\n\u001b[0;32m--> 148\u001b[0m \u001b[38;5;28;43mself\u001b[39;49m\u001b[38;5;241;43m.\u001b[39;49m\u001b[43mvideo_recorder\u001b[49m\u001b[38;5;241;43m.\u001b[39;49m\u001b[43mcapture_frame\u001b[49m\u001b[43m(\u001b[49m\u001b[43m)\u001b[49m\n\u001b[1;32m    149\u001b[0m \u001b[38;5;28mself\u001b[39m\u001b[38;5;241m.\u001b[39mrecorded_frames \u001b[38;5;241m=\u001b[39m \u001b[38;5;241m1\u001b[39m\n\u001b[1;32m    150\u001b[0m \u001b[38;5;28mself\u001b[39m\u001b[38;5;241m.\u001b[39mrecording \u001b[38;5;241m=\u001b[39m \u001b[38;5;28;01mTrue\u001b[39;00m\n",
            "File \u001b[0;32m~/.python/current/lib/python3.10/site-packages/gymnasium/wrappers/monitoring/video_recorder.py:113\u001b[0m, in \u001b[0;36mVideoRecorder.capture_frame\u001b[0;34m(self)\u001b[0m\n\u001b[1;32m    111\u001b[0m \u001b[38;5;28;01mdef\u001b[39;00m \u001b[38;5;21mcapture_frame\u001b[39m(\u001b[38;5;28mself\u001b[39m):\n\u001b[1;32m    112\u001b[0m \u001b[38;5;250m    \u001b[39m\u001b[38;5;124;03m\"\"\"Render the given `env` and add the resulting frame to the video.\"\"\"\u001b[39;00m\n\u001b[0;32m--> 113\u001b[0m     frame \u001b[38;5;241m=\u001b[39m \u001b[38;5;28;43mself\u001b[39;49m\u001b[38;5;241;43m.\u001b[39;49m\u001b[43menv\u001b[49m\u001b[38;5;241;43m.\u001b[39;49m\u001b[43mrender\u001b[49m\u001b[43m(\u001b[49m\u001b[43m)\u001b[49m\n\u001b[1;32m    114\u001b[0m     \u001b[38;5;28;01mif\u001b[39;00m \u001b[38;5;28misinstance\u001b[39m(frame, List):\n\u001b[1;32m    115\u001b[0m         \u001b[38;5;28mself\u001b[39m\u001b[38;5;241m.\u001b[39mrender_history \u001b[38;5;241m+\u001b[39m\u001b[38;5;241m=\u001b[39m frame\n",
            "File \u001b[0;32m/workspaces/WetAI-Reinforcement-Learning/cartpole_continuous.py:317\u001b[0m, in \u001b[0;36mCartPoleContinuousEnv.render\u001b[0;34m(self)\u001b[0m\n\u001b[1;32m    308\u001b[0m gfxdraw\u001b[38;5;241m.\u001b[39mfilled_circle(\n\u001b[1;32m    309\u001b[0m     \u001b[38;5;28mself\u001b[39m\u001b[38;5;241m.\u001b[39msurf,\n\u001b[1;32m    310\u001b[0m     \u001b[38;5;28mint\u001b[39m(cartx),\n\u001b[0;32m   (...)\u001b[0m\n\u001b[1;32m    313\u001b[0m     (\u001b[38;5;241m129\u001b[39m, \u001b[38;5;241m132\u001b[39m, \u001b[38;5;241m203\u001b[39m),\n\u001b[1;32m    314\u001b[0m )\n\u001b[1;32m    316\u001b[0m gfxdraw\u001b[38;5;241m.\u001b[39mhline(\u001b[38;5;28mself\u001b[39m\u001b[38;5;241m.\u001b[39msurf, \u001b[38;5;241m0\u001b[39m, \u001b[38;5;28mself\u001b[39m\u001b[38;5;241m.\u001b[39mscreen_width, carty, (\u001b[38;5;241m0\u001b[39m, \u001b[38;5;241m0\u001b[39m, \u001b[38;5;241m0\u001b[39m))\n\u001b[0;32m--> 317\u001b[0m text_surface \u001b[38;5;241m=\u001b[39m \u001b[38;5;28;43mself\u001b[39;49m\u001b[38;5;241;43m.\u001b[39;49m\u001b[43mmy_font\u001b[49m\u001b[38;5;241m.\u001b[39mrender(\u001b[38;5;124mf\u001b[39m\u001b[38;5;124m'\u001b[39m\u001b[38;5;132;01m{\u001b[39;00m\u001b[38;5;28mself\u001b[39m\u001b[38;5;241m.\u001b[39mstate[\u001b[38;5;241m2\u001b[39m]\u001b[38;5;241m*\u001b[39m\u001b[38;5;241m180\u001b[39m\u001b[38;5;241m/\u001b[39mnp\u001b[38;5;241m.\u001b[39mpi\u001b[38;5;132;01m:\u001b[39;00m\u001b[38;5;124m0.2f\u001b[39m\u001b[38;5;132;01m}\u001b[39;00m\u001b[38;5;124m'\u001b[39m, \u001b[38;5;28;01mFalse\u001b[39;00m, (\u001b[38;5;241m0\u001b[39m, \u001b[38;5;241m0\u001b[39m, \u001b[38;5;241m0\u001b[39m))\n\u001b[1;32m    319\u001b[0m \u001b[38;5;28mself\u001b[39m\u001b[38;5;241m.\u001b[39msurf \u001b[38;5;241m=\u001b[39m pygame\u001b[38;5;241m.\u001b[39mtransform\u001b[38;5;241m.\u001b[39mflip(\u001b[38;5;28mself\u001b[39m\u001b[38;5;241m.\u001b[39msurf, \u001b[38;5;28;01mFalse\u001b[39;00m, \u001b[38;5;28;01mTrue\u001b[39;00m)\n\u001b[1;32m    320\u001b[0m \u001b[38;5;28mself\u001b[39m\u001b[38;5;241m.\u001b[39mscreen\u001b[38;5;241m.\u001b[39mblit(\u001b[38;5;28mself\u001b[39m\u001b[38;5;241m.\u001b[39msurf, (\u001b[38;5;241m0\u001b[39m, \u001b[38;5;241m0\u001b[39m))\n",
            "\u001b[0;31mAttributeError\u001b[0m: 'CartPoleContinuousEnv' object has no attribute 'my_font'"
          ]
        }
      ],
      "source": [
        "from cartpole_continuous import CartPoleContinuousEnv, CartPoleVectorEnv\n",
        "import matplotlib.pyplot as plt\n",
        "\n",
        "from stable_baselines3 import SAC\n",
        "\n",
        "init_env = CartPoleContinuousEnv(render_mode='rgb_array')\n",
        "\n",
        "folder_name = os.path.join('video', 'CartPole-v1', f'{uuid.uuid4()}')\n",
        "\n",
        "# Use the wrapper environment RecordVideo() to record video\n",
        "env = RecordVideo(init_env, folder_name, disable_logger=True)\n",
        "\n",
        "model = SAC(\"MlpPolicy\", env, verbose=1, learning_rate=.001,batch_size=256, buffer_size=100000)\n",
        "# model.set_logger(new_logger)\n",
        "\n",
        "model.learn(total_timesteps=10, log_interval=4)\n",
        "\n",
        "rewards = []\n",
        "reward_trials = []\n",
        "\n",
        "\n",
        "\n",
        "# Step throuhg model manually\n",
        "\n",
        "\n",
        "\n",
        "# obs,_ = env.reset()\n",
        "\n",
        "# print(obs)\n",
        "# for i in range(100000):\n",
        "#     action, _states = model.predict(np.array(obs), deterministic=False)\n",
        "#     obs, reward, dones, term,info = env.step(action[0])\n",
        "#     model.train(16)\n",
        "#     # print(\"Obs before\", obs)\n",
        "#     # obs = obs[:,0]\n",
        "\n",
        "#     rewards.append(reward)\n",
        "#     # env.render()\n",
        "#     if dones:\n",
        "\n",
        "#         obs_ = env.reset()\n",
        "#         reward_trials.append(sum(rewards))\n",
        "#         rewards = []\n",
        "#         print(\"~\"*50)\n",
        "#         print(\"Trial complete\")\n",
        "#         print(\"Reward: \", reward_trials[-1])\n",
        "\n",
        "# plt.plot(reward_trials)\n",
        "# plt.show()"
      ]
    },
    {
      "cell_type": "code",
      "execution_count": null,
      "metadata": {},
      "outputs": [
        {
          "name": "stdout",
          "output_type": "stream",
          "text": [
            "None\n"
          ]
        }
      ],
      "source": [
        "init_env = CartPoleVectorEnv(render_mode='rgb_array', num_envs=1)\n",
        "print(init_env.render_mode)"
      ]
    },
    {
      "cell_type": "code",
      "execution_count": null,
      "metadata": {},
      "outputs": [],
      "source": [
        "show_video(folder_name, episode = 'first')"
      ]
    },
    {
      "cell_type": "code",
      "execution_count": null,
      "metadata": {},
      "outputs": [],
      "source": [
        "show_video(folder_name, episode = 'last')"
      ]
    },
    {
      "cell_type": "markdown",
      "metadata": {},
      "source": [
        "## Feedback (Optional)\n",
        "\n",
        "This is a new homework for this quarter, plase provide feedback on things you think could be improved or even if you like it as is."
      ]
    },
    {
      "cell_type": "markdown",
      "metadata": {},
      "source": [
        "<span style=\"color:green\">Answer</span>"
      ]
    }
  ],
  "metadata": {
    "accelerator": "GPU",
    "colab": {
      "gpuType": "T4",
      "provenance": []
    },
    "kernelspec": {
      "display_name": "Python 3 (ipykernel)",
      "language": "python",
      "name": "python3"
    },
    "language_info": {
      "codemirror_mode": {
        "name": "ipython",
        "version": 3
      },
      "file_extension": ".py",
      "mimetype": "text/x-python",
      "name": "python",
      "nbconvert_exporter": "python",
      "pygments_lexer": "ipython3",
      "version": "3.10.13"
    }
  },
  "nbformat": 4,
  "nbformat_minor": 0
}
