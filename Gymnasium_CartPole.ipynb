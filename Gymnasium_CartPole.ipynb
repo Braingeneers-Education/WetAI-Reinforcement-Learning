{
  "cells": [
    {
      "cell_type": "markdown",
      "metadata": {},
      "source": [
        "# Intro to Reinforcement Learning"
      ]
    },
    {
      "cell_type": "markdown",
      "metadata": {},
      "source": [
        "In this exercise you will learn the basics of reinforcement learning (RL), as well how to train a couple of RL models.\n",
        "\n",
        "A lot of this information, text, and code is directly pooled from the following sources\n",
        "\n",
        "Credits:\n",
        "* Hugging Face Deep RL course [source](https://huggingface.co/learn/deep-rl-course/unit0/introduction)\n",
        "* Gymnasium-Colaboratory-Starter [source](https://github.com/hom-bahrani/Gymnasium-Colaboratory-Starter)\n",
        "* PyTorch RL Tutorials [source](https://pytorch.org/tutorials/)\n",
        "* Wikipedia RL Page [source](https://en.wikipedia.org/wiki/Reinforcement_learning)"
      ]
    },
    {
      "cell_type": "markdown",
      "metadata": {},
      "source": [
        "First, install and import the packages and libraries you will need throughout this exercise"
      ]
    },
    {
      "cell_type": "code",
      "execution_count": 16,
      "metadata": {
        "colab": {
          "base_uri": "https://localhost:8080/"
        },
        "id": "-MGHP8DHMBKp",
        "outputId": "b8a735b9-32d3-416e-e7bf-364e88b14fca"
      },
      "outputs": [
        {
          "name": "stdout",
          "output_type": "stream",
          "text": [
            "Requirement already satisfied: gymnasium in /usr/local/python/3.10.13/lib/python3.10/site-packages (0.29.1)\n",
            "Requirement already satisfied: numpy>=1.21.0 in /home/codespace/.local/lib/python3.10/site-packages (from gymnasium) (1.26.4)\n",
            "Requirement already satisfied: cloudpickle>=1.2.0 in /usr/local/python/3.10.13/lib/python3.10/site-packages (from gymnasium) (3.0.0)\n",
            "Requirement already satisfied: typing-extensions>=4.3.0 in /home/codespace/.local/lib/python3.10/site-packages (from gymnasium) (4.10.0)\n",
            "Requirement already satisfied: farama-notifications>=0.0.1 in /usr/local/python/3.10.13/lib/python3.10/site-packages (from gymnasium) (0.0.4)\n"
          ]
        },
        {
          "name": "stdout",
          "output_type": "stream",
          "text": [
            "Note: you may need to restart the kernel to use updated packages.\n",
            "Requirement already satisfied: gymnasium[classic-control] in /usr/local/python/3.10.13/lib/python3.10/site-packages (0.29.1)\n",
            "Requirement already satisfied: numpy>=1.21.0 in /home/codespace/.local/lib/python3.10/site-packages (from gymnasium[classic-control]) (1.26.4)\n",
            "Requirement already satisfied: cloudpickle>=1.2.0 in /usr/local/python/3.10.13/lib/python3.10/site-packages (from gymnasium[classic-control]) (3.0.0)\n",
            "Requirement already satisfied: typing-extensions>=4.3.0 in /home/codespace/.local/lib/python3.10/site-packages (from gymnasium[classic-control]) (4.10.0)\n",
            "Requirement already satisfied: farama-notifications>=0.0.1 in /usr/local/python/3.10.13/lib/python3.10/site-packages (from gymnasium[classic-control]) (0.0.4)\n",
            "Requirement already satisfied: pygame>=2.1.3 in /usr/local/python/3.10.13/lib/python3.10/site-packages (from gymnasium[classic-control]) (2.5.2)\n",
            "Note: you may need to restart the kernel to use updated packages.\n",
            "Requirement already satisfied: swig in /usr/local/python/3.10.13/lib/python3.10/site-packages (4.2.1)\n",
            "Note: you may need to restart the kernel to use updated packages.\n",
            "Requirement already satisfied: pyvirtualdisplay in /usr/local/python/3.10.13/lib/python3.10/site-packages (3.0)\n",
            "Note: you may need to restart the kernel to use updated packages.\n",
            "Requirement already satisfied: moviepy in /usr/local/python/3.10.13/lib/python3.10/site-packages (1.0.3)\n",
            "Requirement already satisfied: decorator<5.0,>=4.0.2 in /usr/local/python/3.10.13/lib/python3.10/site-packages (from moviepy) (4.4.2)\n",
            "Requirement already satisfied: tqdm<5.0,>=4.11.2 in /usr/local/python/3.10.13/lib/python3.10/site-packages (from moviepy) (4.66.2)\n",
            "Requirement already satisfied: requests<3.0,>=2.8.1 in /home/codespace/.local/lib/python3.10/site-packages (from moviepy) (2.31.0)\n",
            "Requirement already satisfied: proglog<=1.0.0 in /usr/local/python/3.10.13/lib/python3.10/site-packages (from moviepy) (0.1.10)\n",
            "Requirement already satisfied: numpy>=1.17.3 in /home/codespace/.local/lib/python3.10/site-packages (from moviepy) (1.26.4)\n",
            "Requirement already satisfied: imageio<3.0,>=2.5 in /usr/local/python/3.10.13/lib/python3.10/site-packages (from moviepy) (2.34.1)\n",
            "Requirement already satisfied: imageio-ffmpeg>=0.2.0 in /usr/local/python/3.10.13/lib/python3.10/site-packages (from moviepy) (0.4.9)\n",
            "Requirement already satisfied: pillow>=8.3.2 in /home/codespace/.local/lib/python3.10/site-packages (from imageio<3.0,>=2.5->moviepy) (10.3.0)\n",
            "Requirement already satisfied: setuptools in /usr/local/python/3.10.13/lib/python3.10/site-packages (from imageio-ffmpeg>=0.2.0->moviepy) (68.2.2)\n",
            "Requirement already satisfied: charset-normalizer<4,>=2 in /home/codespace/.local/lib/python3.10/site-packages (from requests<3.0,>=2.8.1->moviepy) (3.3.2)\n",
            "Requirement already satisfied: idna<4,>=2.5 in /home/codespace/.local/lib/python3.10/site-packages (from requests<3.0,>=2.8.1->moviepy) (3.6)\n",
            "Requirement already satisfied: urllib3<3,>=1.21.1 in /usr/local/python/3.10.13/lib/python3.10/site-packages (from requests<3.0,>=2.8.1->moviepy) (2.0.7)\n",
            "Requirement already satisfied: certifi>=2017.4.17 in /home/codespace/.local/lib/python3.10/site-packages (from requests<3.0,>=2.8.1->moviepy) (2024.2.2)\n",
            "Note: you may need to restart the kernel to use updated packages.\n",
            "Requirement already satisfied: moviepy in /usr/local/python/3.10.13/lib/python3.10/site-packages (1.0.3)\n",
            "Requirement already satisfied: decorator<5.0,>=4.0.2 in /usr/local/python/3.10.13/lib/python3.10/site-packages (from moviepy) (4.4.2)\n",
            "Requirement already satisfied: tqdm<5.0,>=4.11.2 in /usr/local/python/3.10.13/lib/python3.10/site-packages (from moviepy) (4.66.2)\n",
            "Requirement already satisfied: requests<3.0,>=2.8.1 in /home/codespace/.local/lib/python3.10/site-packages (from moviepy) (2.31.0)\n",
            "Requirement already satisfied: proglog<=1.0.0 in /usr/local/python/3.10.13/lib/python3.10/site-packages (from moviepy) (0.1.10)\n",
            "Requirement already satisfied: numpy>=1.17.3 in /home/codespace/.local/lib/python3.10/site-packages (from moviepy) (1.26.4)\n",
            "Requirement already satisfied: imageio<3.0,>=2.5 in /usr/local/python/3.10.13/lib/python3.10/site-packages (from moviepy) (2.34.1)\n",
            "Requirement already satisfied: imageio-ffmpeg>=0.2.0 in /usr/local/python/3.10.13/lib/python3.10/site-packages (from moviepy) (0.4.9)\n",
            "Requirement already satisfied: pillow>=8.3.2 in /home/codespace/.local/lib/python3.10/site-packages (from imageio<3.0,>=2.5->moviepy) (10.3.0)\n",
            "Requirement already satisfied: setuptools in /usr/local/python/3.10.13/lib/python3.10/site-packages (from imageio-ffmpeg>=0.2.0->moviepy) (68.2.2)\n",
            "Requirement already satisfied: charset-normalizer<4,>=2 in /home/codespace/.local/lib/python3.10/site-packages (from requests<3.0,>=2.8.1->moviepy) (3.3.2)\n",
            "Requirement already satisfied: idna<4,>=2.5 in /home/codespace/.local/lib/python3.10/site-packages (from requests<3.0,>=2.8.1->moviepy) (3.6)\n",
            "Requirement already satisfied: urllib3<3,>=1.21.1 in /usr/local/python/3.10.13/lib/python3.10/site-packages (from requests<3.0,>=2.8.1->moviepy) (2.0.7)\n",
            "Requirement already satisfied: certifi>=2017.4.17 in /home/codespace/.local/lib/python3.10/site-packages (from requests<3.0,>=2.8.1->moviepy) (2024.2.2)\n"
          ]
        }
      ],
      "source": [
        "# install gymnasium packages\n",
        "%pip install gymnasium\n",
        "%pip install gymnasium[classic-control]\n",
        "%pip install swig\n",
        "\n",
        "# install virtual display packages\n",
        "%pip install pyvirtualdisplay\n",
        "%pip install moviepy\n",
        "%pip install --upgrade moviepy"
      ]
    },
    {
      "cell_type": "code",
      "execution_count": null,
      "metadata": {},
      "outputs": [
        {
          "name": "stdout",
          "output_type": "stream",
          "text": [
            "Hit:1 https://packages.microsoft.com/repos/microsoft-ubuntu-focal-prod focal InRelease\n",
            "Hit:2 https://dl.yarnpkg.com/debian stable InRelease\n",
            "Hit:4 http://archive.ubuntu.com/ubuntu focal InRelease\n",
            "Hit:5 http://archive.ubuntu.com/ubuntu focal-updates InRelease\n",
            "Hit:6 https://repo.anaconda.com/pkgs/misc/debrepo/conda stable InRelease\n",
            "Hit:7 http://archive.ubuntu.com/ubuntu focal-backports InRelease\n",
            "Hit:8 http://security.ubuntu.com/ubuntu focal-security InRelease\n",
            "Hit:3 https://packagecloud.io/github/git-lfs/ubuntu focal InRelease\n",
            "Reading package lists...\n",
            "Building dependency tree...\n",
            "Reading state information...\n",
            "40 packages can be upgraded. Run 'apt list --upgradable' to see them.\n",
            "Reading package lists...\n",
            "Building dependency tree...\n",
            "Reading state information...\n",
            "xvfb is already the newest version (2:1.20.13-1ubuntu1~20.04.17).\n",
            "0 upgraded, 0 newly installed, 0 to remove and 40 not upgraded.\n"
          ]
        }
      ],
      "source": [
        "# Update the Package Index\n",
        "!sudo apt update --quiet\n",
        "\n",
        "# Install xvfb\n",
        "!sudo apt-get install -y xvfb --quiet"
      ]
    },
    {
      "cell_type": "code",
      "execution_count": null,
      "metadata": {
        "id": "LzeSyt4-OPR_"
      },
      "outputs": [],
      "source": [
        "# gymnasium imports\n",
        "import gymnasium as gym\n",
        "from gymnasium.wrappers.record_video import RecordVideo\n",
        "\n",
        "# video imports\n",
        "import glob\n",
        "import uuid\n",
        "import io\n",
        "import base64\n",
        "from IPython.display import HTML\n",
        "# from IPython import display as ipythondisplay\n",
        "\n",
        "# ml imports\n",
        "import torch\n",
        "import torch.nn as nn\n",
        "import torch.optim as optim\n",
        "import torch.nn.functional as F\n",
        "\n",
        "# plot imports\n",
        "import matplotlib\n",
        "import matplotlib.pyplot as plt\n",
        "\n",
        "# set up matplotlib\n",
        "is_ipython = 'inline' in matplotlib.get_backend()\n",
        "if is_ipython:\n",
        "    from IPython import display as ipythondisplay\n",
        "\n",
        "\n",
        "# utility imports\n",
        "import os\n",
        "import math\n",
        "import random\n",
        "from itertools import count\n",
        "from collections import namedtuple, deque\n",
        "\n",
        "# if GPU is to be used\n",
        "device = torch.device(\"cuda\" if torch.cuda.is_available() else \"cpu\")"
      ]
    },
    {
      "cell_type": "markdown",
      "metadata": {},
      "source": [
        "## 1. What is Reinforcement Learning?"
      ]
    },
    {
      "cell_type": "markdown",
      "metadata": {},
      "source": [
        "<img src=\"images/RL_process.jpg\" width=\"800\" height=\"500\">\n",
        "\n",
        "Along with Supervised Learning and Unsupervised Learning, Reinforcement Learning is one of the 3 basic machine learning paradigms. The idea behind Reinforcement Learning is that an agent (an AI) will learn from the environment by interacting with it (through trial and error) and receiving rewards (negative or positive) as feedback for performing actions.\n",
        "\n",
        "You can think of it like playing a video game where you get points for collecting coins and you lose points for getting hit by enemies. This \"trains\" you to collect coins, while avoiding enemies. Of course, games get a lot more complicated than that which is why one of the main challenges of RL is figuring out how to reward or punish the agent. That is to say, we use the [carrot and the stick](https://en.wikipedia.org/wiki/Carrot_and_stick).\n",
        "\n",
        "The diagram describing how a RL agent interacts with a environment can be interpretated as such:\n",
        "\n",
        "1. The Agent/Model/AI receives a **state $S_t$** (the info the agent receieves from the environment at time t)\n",
        "2. Based on that **state** $S_t$ the agent takes an *action* $A_t$\n",
        "3. The environment goes to a new **state** $S_{t+1}$\n",
        "4. The environment gives some **reward** $R_{t+1}$ to the agent\n",
        "5. repeat\n"
      ]
    },
    {
      "cell_type": "markdown",
      "metadata": {},
      "source": [
        "### 1.1 Defining Cumulative Reward\n",
        "\n",
        "The reward is fundamental in RL because it’s the only feedback for the agent. Thanks to it, our agent knows if the action taken was good or not.\n",
        "\n",
        "Where\n",
        "* $R()$: `Return` is the cumulative reward function\n",
        "* $\\tau$: `Trajectory` represented by *tau* is a sequence of `states` and `actions`\n",
        "* $\\gamma$: `Discount Rate` represented by *gamma* between 0-1\n",
        "* $r_t$: `reward` at time step t\n",
        "\n",
        "The cumulative reward is represented by the function\n",
        "\n",
        "$R(\\tau) = r_{t+1} + \\gamma r_{t+2} + \\gamma^2 r_{t+3} + \\gamma^3 r_{t+4} + ...$\n",
        "\n",
        "or \n",
        "\n",
        "$R(\\tau) = \\sum_{k=0}^{\\infty} \\gamma^k r_{t+k+1}$\n",
        "\n",
        "An important insight here is that $\\gamma$ is exponentiated, this means a smaller $\\gamma$ causes a bigger `discount` and rewards at farther timesteps are `discounted` more. So, the smaller the $\\gamma$ the less the agent cares more about closer/short-term rewards, and the bigger $\\gamma$ the more the agent cares about farther/long-term rewards."
      ]
    },
    {
      "cell_type": "markdown",
      "metadata": {},
      "source": [
        "### 1.2 Defining Policy\n",
        "\n",
        "You can think of `policy`, $\\pi$, as the mind of the agent\n",
        "\n",
        "This `policy` is the function we want to learn, our goal is to find the `optimal policy` $\\pi^*$, the policy that maximizes expected return when the agent acts according to it. We find this $\\pi^*$ through training. \n",
        "\n",
        "Note: $\\pi^*$ is pronounced \"pie-star\" and in algorithms \"*\" (star) often denotes optimality\n",
        "\n",
        "There are two types of policies:\n",
        "\n",
        "1. Deterministic: a policy at a given state will always return the same action.\n",
        "    * $\\pi(s) = a$\n",
        "2. Stochastic: outputs a probability distribution over actions.\n",
        "    * $\\pi(s|a) = P[A|s]$\n",
        "        * $|$ means given\n",
        "        * $P[]$ means probability distribution\n",
        "        * $P[A|s]$ means a probability distribution over a set of actions given a state\n",
        "\n",
        "There are two approaches to **train** our agent to find this optimal policy π*:\n",
        "\n",
        "1. Directly, by teaching the agent to learn which action to take, given the current state: **Policy-Based Methods**.\n",
        "2. Indirectly, teach the agent to learn which state is more valuable and then take the action that leads to the more valuable states: **Value-Based Methods**.\n",
        "\n"
      ]
    },
    {
      "cell_type": "markdown",
      "metadata": {},
      "source": [
        "## 2. Creating an Environment\n",
        "\n",
        "Now that you understand what a Reinforcement Learning agent is and does. Lets create an environment for our prospective RL agent to interact with.\n",
        "\n",
        "To do that we will be using the environment library [Gymnasium](https://gymnasium.farama.org/) which was developed by OpenAI and handed off to the Farama Foundation to maintain and update."
      ]
    },
    {
      "cell_type": "markdown",
      "metadata": {},
      "source": [
        "*GitHub codespaces doesn't have an inbuilt display, create a virtual display instead.*"
      ]
    },
    {
      "cell_type": "code",
      "execution_count": null,
      "metadata": {
        "colab": {
          "base_uri": "https://localhost:8080/"
        },
        "id": "ruR-EszrTfDX",
        "outputId": "793fb07e-1331-419d-ed03-6cf07f2254c0"
      },
      "outputs": [
        {
          "data": {
            "text/plain": [
              "<pyvirtualdisplay.display.Display at 0x7fb014211e10>"
            ]
          },
          "execution_count": 4,
          "metadata": {},
          "output_type": "execute_result"
        }
      ],
      "source": [
        "# install a virtual display\n",
        "from pyvirtualdisplay import Display\n",
        "display = Display(visible=0, size=(1400, 900))\n",
        "display.start()"
      ]
    },
    {
      "cell_type": "markdown",
      "metadata": {},
      "source": [
        "The first virtual environment you will be using is the `'CartPole-v1'` environment. This is a virtual version of the real life Cart Pole/Inverted Pendulum task, here is a short fun [video](https://youtu.be/nOSTzpA0nGk?si=mFYYwhLhTb5hcrpB) for you to see."
      ]
    },
    {
      "cell_type": "markdown",
      "metadata": {},
      "source": [
        "### 2.1 Understanding Gymnasium\n",
        "Remember that at each step:\n",
        "- Our Agent receives a **state ($S_0$)** from the **Environment** — i.e. we receive the first frame of our game (Environment).\n",
        "- Based on that **state ($S_0$),** the Agent takes an **action ($A_0$)** — i.e. our Agent will move to the right.\n",
        "- The environment transitions to a **new** **state ($S_1$)** — i.e. new frame.\n",
        "- The environment gives some **reward ($R_1$)** to the Agent — i.e. we’re not dead *(Positive Reward +1)*.\n",
        "\n",
        "\n",
        "With Gymnasium:\n",
        "\n",
        "1. We create our environment using `gymnasium.make()`\n",
        "2. We reset the environment to its initial state with `observation = env.reset()`\n",
        "\n",
        "At each step:\n",
        "\n",
        "3. Get an action using our model (in our example we take a random action)\n",
        "4. Using `env.step(action)`, we perform this action in the environment and get\n",
        "    - `observation`: The new state ($s_{t+1}$)\n",
        "    - `reward`: The reward we get after executing the action\n",
        "    - `terminated`: Indicates if the episode terminated (agent reach the terminal state)\n",
        "    - `truncated`: Introduced with this new version, it indicates a timelimit or if an agent go out of bounds of the environment for instance.\n",
        "    - `info`: A dictionary that provides additional information (depends on the environment).\n",
        "\n",
        "For more explanations check this 👉 https://gymnasium.farama.org/api/env/#gymnasium.Env.step\n",
        "\n",
        "If the episode is terminated:\n",
        "- We reset the environment to its initial state with `observation = env.reset()`\n",
        "\n",
        "#### 2.2 Task Types\n",
        "There are two types of task: `Episodic Tasks` and `Continuous Tasks`\n",
        "\n",
        "1. Episodic Task\n",
        "    - In this case, we have a starting point and an ending point (a terminal state). This creates an episode: a list of States, Actions, Rewards, and new States.\n",
        "2. Continuous task\n",
        "    - These are tasks that continue forever (no terminal state). In this case, the agent must learn how to choose the best actions and simultaneously interact with the environment.\n",
        "    - For instance, an agent that does automated stock trading. For this task, there is no starting point and terminal state. The agent keeps running until we decide to stop it.\n"
      ]
    },
    {
      "cell_type": "markdown",
      "metadata": {},
      "source": [
        "## Question 1\n",
        "In gymnasium the environments are set up as episodic tasks. A good practice is to look at documentation before using an environment to know its properties. If `'CartPole-v1'` is episodic, that means it must have termination conditions. List `'CartPole-v1'`'s termination conditions below.\n",
        "\n",
        "Link to documentation -> https://gymnasium.farama.org/environments/classic_control/cart_pole/ "
      ]
    },
    {
      "cell_type": "markdown",
      "metadata": {},
      "source": [
        "<span style=\"color:green\">Answer</span>\n",
        "\n",
        "1.\n",
        "2.\n",
        "3."
      ]
    },
    {
      "cell_type": "markdown",
      "metadata": {},
      "source": [
        "#### 2.3 Default Properties of Gymnasium's Cart Pole environment \n",
        "\n",
        "##### **Action Space (The set of possible actions of the model)**\n",
        "\n",
        "The action is a ndarray with shape (1,) which can take values {0, 1} indicating the direction of the fixed force the cart is pushed with.\n",
        "\n",
        "0: Push cart to the left\n",
        "\n",
        "1: Push cart to the right\n",
        "\n",
        "Note: The velocity that is reduced or increased by the applied force is not fixed and it depends on the angle the pole is pointing. The center of gravity of the pole varies the amount of energy needed to move the cart underneath it\n",
        "\n",
        "##### **Observation Space (The subset of the state the actor observes)**\n",
        "\n",
        "The observation is a ndarray with shape (4,) with the values corresponding to the following positions and velocities:\n",
        "\n",
        "<img src=\"images/observation_space.png\" width=\"700\" height=\"200\">\n",
        "\n",
        "##### **Rewards**\n",
        "\n",
        "Since the goal is to keep the pole upright for as long as possible, a reward of +1 for every step taken, including the termination step, is allotted. The threshold for rewards is 500 for v1 and 200 for v0.\n"
      ]
    },
    {
      "cell_type": "code",
      "execution_count": null,
      "metadata": {},
      "outputs": [
        {
          "name": "stdout",
          "output_type": "stream",
          "text": [
            "_____OBSERVATION SPACE_____ \n",
            "\n",
            "Observation Space Shape (4,)\n",
            "Sample observation [-3.7878995e+00  1.7548215e+38 -3.3793637e-01 -2.0583989e+37]\n",
            "\n",
            " _____ACTION SPACE_____ \n",
            "\n",
            "Action Space Shape 2\n",
            "Action Space Sample 1\n"
          ]
        }
      ],
      "source": [
        "# How to access the above values\n",
        "env = gym.make(\"CartPole-v1\")\n",
        "env.reset()\n",
        "print(\"_____OBSERVATION SPACE_____ \\n\")\n",
        "print(\"Observation Space Shape\", env.observation_space.shape)\n",
        "print(\"Sample observation\", env.observation_space.sample()) # Get a random observation\n",
        "print(\"\\n _____ACTION SPACE_____ \\n\")\n",
        "print(\"Action Space Shape\", env.action_space.n)\n",
        "print(\"Action Space Sample\", env.action_space.sample()) # Take a random action"
      ]
    },
    {
      "cell_type": "markdown",
      "metadata": {},
      "source": [
        "#### 2.4 Gymnasium Interactive Loop\n",
        "\n",
        "Below is the code for a simple interactive loop where instead of a agent predicting a action we simply sample a random action. Look at what happens to the cartpole when random actions are chosen, and specifically note how long the episode lasts (duration) which the model will be learning to improve."
      ]
    },
    {
      "cell_type": "code",
      "execution_count": null,
      "metadata": {
        "colab": {
          "base_uri": "https://localhost:8080/"
        },
        "id": "-WqjS0z9Nvbm",
        "outputId": "c7c05a60-fe49-4157-fec5-7c8192196dd4"
      },
      "outputs": [],
      "source": [
        "init_env = gym.make('CartPole-v1', render_mode='rgb_array')\n",
        "\n",
        "folder_name = os.path.join('video', 'CartPole-v1', f'{uuid.uuid4()}')\n",
        "\n",
        "# Use the wrapper environment RecordVideo() to record video\n",
        "env = RecordVideo(init_env, folder_name, disable_logger=True)\n",
        "\n",
        "observation, info = env.reset()\n",
        "\n",
        "for _ in range(1000):\n",
        "    action = env.action_space.sample()\n",
        "    observation, reward, terminated, truncated, info = env.step(action)\n",
        "\n",
        "    if terminated or truncated:\n",
        "        observation, info = env.reset()\n",
        "\n",
        "env.close()"
      ]
    },
    {
      "cell_type": "code",
      "execution_count": null,
      "metadata": {
        "id": "x1iWqf2NO4g5"
      },
      "outputs": [],
      "source": [
        "def show_video(folder_name, episode='last'):\n",
        "    mp4list = glob.glob(f'{folder_name}/*.mp4')\n",
        "    if len(mp4list) > 0:\n",
        "        sorted_mp4list = sorted(mp4list, key=lambda x: int(x.split('-')[-1].split('.')[0]))\n",
        "        if episode == 'last':\n",
        "            mp4 = sorted_mp4list[-1]\n",
        "        elif episode == 'first':\n",
        "            mp4 = sorted_mp4list[0]\n",
        "        video = io.open(mp4, 'r+b').read()\n",
        "        encoded = base64.b64encode(video)\n",
        "        ipythondisplay.display(HTML(data='''<video alt=\"test\" autoplay\n",
        "                    loop controls style=\"height: 400px;\">\n",
        "                    <source src=\"data:video/mp4;base64,{0}\" type=\"video/mp4\" />\n",
        "                    </video>'''.format(encoded.decode('ascii'))))\n",
        "    else:\n",
        "        print(\"Could not find video\")"
      ]
    },
    {
      "cell_type": "code",
      "execution_count": null,
      "metadata": {
        "colab": {
          "base_uri": "https://localhost:8080/",
          "height": 421
        },
        "id": "CD7we0ysR4DN",
        "outputId": "65cc1009-7c2b-4e38-989b-b0bcd0580ef6"
      },
      "outputs": [
        {
          "data": {
            "text/html": [
              "<video alt=\"test\" autoplay\n",
              "                    loop controls style=\"height: 400px;\">\n",
              "                    <source src=\"data:video/mp4;base64,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\" type=\"video/mp4\" />\n",
              "                    </video>"
            ],
            "text/plain": [
              "<IPython.core.display.HTML object>"
            ]
          },
          "metadata": {},
          "output_type": "display_data"
        }
      ],
      "source": [
        "show_video(folder_name)"
      ]
    },
    {
      "cell_type": "markdown",
      "metadata": {
        "id": "ZqZwPeGNW9HI"
      },
      "source": [
        "## 3. Deep Q Networks\n",
        "\n",
        "There are many different types of algorithms/models for RL, which you can do research on in your free time, but today we will be introducing you to Deep Q Networks as we think it strikes a nice balance of being easy to explain, but complicated enough to be interesting.\n",
        "\n",
        "<img src=\"images/deep.jpg\" width=\"700\" height=\"350\">"
      ]
    },
    {
      "cell_type": "markdown",
      "metadata": {},
      "source": [
        "### 3.1 Approximating $\\pi^*$ with a Q-function\n",
        "\n",
        "Q-learning in general are a set of **value based methods** (which we mentioned earlier), meaning instead of training on the policy directly they train to find an optimal value function which leads to having an optimal policy.\n",
        "\n",
        "In this case the value function the model trains on is called the Q-function, an **action-value function** that determines the value of being at a particular state and taking a specific action at that state. The *link between value and policy* is represented in the equation here:\n",
        "\n",
        "$$\\pi^* = \\underset{a}{\\text{argmax}}\\ Q^*(s,a)$$\n",
        "\n",
        "### 3.2 Maths\n",
        "\n",
        "### 3.2.1 Bellman Equation\n",
        "\n",
        "Directly computing the cumulative reward for all future timesteps for a given state can be a computationally competitive task if you are doing it at each action. Which is why instead we use the **Bellman Equation** which is a recursive equation that considers the value of a state as the immediate reward and the discounted value of the state that follows.\n",
        "\n",
        "<img src=\"images/bellman4.jpg\" width=\"700\" height=\"380\">\n",
        "\n",
        "Remember:\n",
        "* $\\gamma$: `Discount Rate` represented by *gamma* between 0-1\n",
        "\n",
        "\n",
        "### 3.2.2 Temporal Difference Learning Approach\n",
        "\n",
        "There are two main types of strategies:\n",
        "* Monte Carlo Approach - Learning after each episode\n",
        "* Temporal Difference Learning Approach - Learning after each step\n",
        "\n",
        "Q-Learning uses a TD approach which includes the Bellman Equation\n",
        "\n",
        "<img src=\"images/TD-1.jpg\" width=\"700\" height=\"400\">\n",
        "\n",
        "### 3.2.3 Epsilon Greedy Algorithm\n",
        "\n",
        "In RL it is importat to have a policy that governs the **exploitatio-exploration tradeoff**. That is do we exploit our prior knowledge gained during learning and move according to what we currently have calculated as the best action for a given state or do we explore and select a different action in the hopes of finding a better route/set of actions?\n",
        "\n",
        "We use an **epsilon greedy policy** where $\\epsilon$ represents the probability of exploration (selecting a random action) and $1-\\epsilon$ represents the probability of exploitation. $\\epsilon$ is a number from 1-0.\n",
        "\n",
        "At the beginning As Q gets better and better with progressive training we slowly decrease $\\epsilon$ more and more according to a decay rate. This changes the policy to go from a higher ratio of exploration, to a higher ratio of exploitation.\n",
        "\n",
        "### 3.2.4 Q-Learning\n",
        "\n",
        "Bringing that all together we get the Q-Learning algorithm\n",
        "\n",
        "<img src=\"images/Q-learning-2.jpg\" width=\"700\" height=\"400\">\n",
        "\n",
        "### 3.2.5 Deep Q-Learning (DQN)\n",
        "\n",
        "Deep Q-Learning uses a deep neural network to approximate the different Q-values for each possible action at a state (value-function estimation).\n",
        "\n",
        "The difference is that, during the training phase, instead of updating the Q-value of a state-action pair directly as we have done with Q-Learning, in Deep Q-Learning, we create a loss function that compares our Q-value prediction and the Q-target and uses gradient descent to update the weights of our Deep Q-Network to approximate our Q-values better.\n",
        "\n",
        "<img src=\"images/q-ex-5.jpg\" width=\"700\" height=\"400\">\n",
        "\n",
        "<img src=\"images/Q-target.jpg\" width=\"700\" height=\"400\">\n",
        "\n",
        "There is also an additional feature of an **experience replay** which has two functions:\n",
        "1. Make **more efficient use of the experiences** during the training. Usually, in online reinforcement learning, the agent interacts with the environment, gets experiences (state, action, reward, and next state), learns from them (updates the neural network), and discards them. This is not efficient.\n",
        "\n",
        "2. Avoid forgetting previous experiences (aka catastrophic interference, or catastrophic forgetting) and reduce the correlation between experiences.\n",
        "    * **catastrophic forgetting**: The problem we get if we give sequential samples of experiences to our neural network is that it tends to forget the previous experiences as it gets new experiences. For instance, if the agent is in the first level and then in the second, which is different, it can forget how to behave and play in the first level.\n",
        "\n",
        "Here is the pseudocode for DQN:\n",
        "\n",
        "<img src=\"images/sampling-training.jpg\" width=\"700\" height=\"400\">\n"
      ]
    },
    {
      "cell_type": "markdown",
      "metadata": {},
      "source": [
        "### 3.3 Train a DQN\n",
        "\n",
        "The following is the code from here: https://pytorch.org/tutorials/intermediate/reinforcement_q_learning.html\n",
        "\n",
        "Now that you understand the basic overview of a DQN its time to actually train one on the `'CartPole-v1'` Gymnasium environment!"
      ]
    },
    {
      "cell_type": "code",
      "execution_count": null,
      "metadata": {
        "id": "YiaXSBipW8lw"
      },
      "outputs": [],
      "source": [
        "Transition = namedtuple('Transition',\n",
        "                        ('state', 'action', 'next_state', 'reward'))\n",
        "\n",
        "\n",
        "class ReplayMemory(object):\n",
        "\n",
        "    def __init__(self, capacity):\n",
        "        self.memory = deque([], maxlen=capacity)\n",
        "\n",
        "    def push(self, *args):\n",
        "        \"\"\"Save a transition\"\"\"\n",
        "        self.memory.append(Transition(*args))\n",
        "\n",
        "    def sample(self, batch_size):\n",
        "        return random.sample(self.memory, batch_size)\n",
        "\n",
        "    def __len__(self):\n",
        "        return len(self.memory)"
      ]
    },
    {
      "cell_type": "code",
      "execution_count": null,
      "metadata": {
        "id": "l6pbi-BwToeQ"
      },
      "outputs": [],
      "source": [
        "class DQN(nn.Module):\n",
        "\n",
        "    def __init__(self, n_observations, n_actions):\n",
        "        super(DQN, self).__init__()\n",
        "        self.layer1 = nn.Linear(n_observations, 128)\n",
        "        self.layer2 = nn.Linear(128, 128)\n",
        "        self.layer3 = nn.Linear(128, n_actions)\n",
        "\n",
        "    # Called with either one element to determine next action, or a batch\n",
        "    # during optimization. Returns tensor([[left0exp,right0exp]...]).\n",
        "    def forward(self, x):\n",
        "        x = F.relu(self.layer1(x))\n",
        "        x = F.relu(self.layer2(x))\n",
        "        return self.layer3(x)"
      ]
    },
    {
      "cell_type": "code",
      "execution_count": null,
      "metadata": {
        "id": "xTX4-jUBWSJT"
      },
      "outputs": [],
      "source": [
        "# BATCH_SIZE is the number of transitions sampled from the replay buffer\n",
        "# GAMMA is the discount factor as mentioned in the previous section\n",
        "# EPS_START is the starting value of epsilon\n",
        "# EPS_END is the final value of epsilon\n",
        "# EPS_DECAY controls the rate of exponential decay of epsilon, higher means a slower decay\n",
        "# TAU is the update rate of the target network\n",
        "# LR is the learning rate of the ``AdamW`` optimizer\n",
        "BATCH_SIZE = 128\n",
        "GAMMA = 0.99\n",
        "EPS_START = 0.9\n",
        "EPS_END = 0.05\n",
        "EPS_DECAY = 1000\n",
        "TAU = 0.005\n",
        "LR = 1e-4\n",
        "\n",
        "# Get number of actions from gym action space\n",
        "n_actions = env.action_space.n\n",
        "# Get the number of state observations\n",
        "state, info = env.reset()\n",
        "n_observations = len(state)\n",
        "\n",
        "policy_net = DQN(n_observations, n_actions).to(device)\n",
        "target_net = DQN(n_observations, n_actions).to(device)\n",
        "target_net.load_state_dict(policy_net.state_dict())\n",
        "\n",
        "optimizer = optim.AdamW(policy_net.parameters(), lr=LR, amsgrad=True)\n",
        "memory = ReplayMemory(10000)\n",
        "\n",
        "\n",
        "steps_done = 0\n",
        "\n",
        "\n",
        "def select_action(state):\n",
        "    global steps_done\n",
        "    sample = random.random()\n",
        "    eps_threshold = EPS_END + (EPS_START - EPS_END) * \\\n",
        "        math.exp(-1. * steps_done / EPS_DECAY)\n",
        "    steps_done += 1\n",
        "    if sample > eps_threshold:\n",
        "        with torch.no_grad():\n",
        "            # t.max(1) will return the largest column value of each row.\n",
        "            # second column on max result is index of where max element was\n",
        "            # found, so we pick action with the larger expected reward.\n",
        "            return policy_net(state).max(1).indices.view(1, 1)\n",
        "    else:\n",
        "        return torch.tensor([[env.action_space.sample()]], device=device, dtype=torch.long)\n",
        "\n",
        "\n",
        "episode_durations = []\n",
        "\n",
        "\n",
        "def plot_durations(show_result=False):\n",
        "    plt.figure(1)\n",
        "    durations_t = torch.tensor(episode_durations, dtype=torch.float)\n",
        "    if show_result:\n",
        "        plt.title('Result')\n",
        "    else:\n",
        "        plt.clf()\n",
        "        plt.title('Training...')\n",
        "    plt.xlabel('Episode')\n",
        "    plt.ylabel('Duration')\n",
        "    plt.plot(durations_t.numpy())\n",
        "    # Take 100 episode averages and plot them too\n",
        "    if len(durations_t) >= 100:\n",
        "        means = durations_t.unfold(0, 100, 1).mean(1).view(-1)\n",
        "        means = torch.cat((torch.zeros(99), means))\n",
        "        plt.plot(means.numpy())\n",
        "\n",
        "    plt.pause(0.001)  # pause a bit so that plots are updated\n",
        "    if is_ipython:\n",
        "        if not show_result:\n",
        "            ipythondisplay.display(plt.gcf())\n",
        "            ipythondisplay.clear_output(wait=True)\n",
        "        else:\n",
        "            ipythondisplay.display(plt.gcf())"
      ]
    },
    {
      "cell_type": "code",
      "execution_count": null,
      "metadata": {
        "id": "GWXFcjLsWhNE"
      },
      "outputs": [],
      "source": [
        "def optimize_model():\n",
        "    if len(memory) < BATCH_SIZE:\n",
        "        return\n",
        "    transitions = memory.sample(BATCH_SIZE)\n",
        "    # Transpose the batch (see https://stackoverflow.com/a/19343/3343043 for\n",
        "    # detailed explanation). This converts batch-array of Transitions\n",
        "    # to Transition of batch-arrays.\n",
        "    batch = Transition(*zip(*transitions))\n",
        "\n",
        "    # Compute a mask of non-final states and concatenate the batch elements\n",
        "    # (a final state would've been the one after which simulation ended)\n",
        "    non_final_mask = torch.tensor(tuple(map(lambda s: s is not None,\n",
        "                                          batch.next_state)), device=device, dtype=torch.bool)\n",
        "    non_final_next_states = torch.cat([s for s in batch.next_state\n",
        "                                                if s is not None])\n",
        "    state_batch = torch.cat(batch.state)\n",
        "    action_batch = torch.cat(batch.action)\n",
        "    reward_batch = torch.cat(batch.reward)\n",
        "\n",
        "    # Compute Q(s_t, a) - the model computes Q(s_t), then we select the\n",
        "    # columns of actions taken. These are the actions which would've been taken\n",
        "    # for each batch state according to policy_net\n",
        "    state_action_values = policy_net(state_batch).gather(1, action_batch)\n",
        "\n",
        "    # Compute V(s_{t+1}) for all next states.\n",
        "    # Expected values of actions for non_final_next_states are computed based\n",
        "    # on the \"older\" target_net; selecting their best reward with max(1).values\n",
        "    # This is merged based on the mask, such that we'll have either the expected\n",
        "    # state value or 0 in case the state was final.\n",
        "    next_state_values = torch.zeros(BATCH_SIZE, device=device)\n",
        "    with torch.no_grad():\n",
        "        next_state_values[non_final_mask] = target_net(non_final_next_states).max(1).values\n",
        "    # Compute the expected Q values\n",
        "    expected_state_action_values = (next_state_values * GAMMA) + reward_batch\n",
        "\n",
        "    # Compute Huber loss\n",
        "    criterion = nn.SmoothL1Loss()\n",
        "    loss = criterion(state_action_values, expected_state_action_values.unsqueeze(1))\n",
        "\n",
        "    # Optimize the model\n",
        "    optimizer.zero_grad()\n",
        "    loss.backward()\n",
        "    # In-place gradient clipping\n",
        "    torch.nn.utils.clip_grad_value_(policy_net.parameters(), 100)\n",
        "    optimizer.step()"
      ]
    },
    {
      "cell_type": "code",
      "execution_count": null,
      "metadata": {
        "colab": {
          "base_uri": "https://localhost:8080/",
          "height": 524
        },
        "id": "0sVkpLBjXZZz",
        "outputId": "1ed8f913-7652-4b9d-a37b-a0a40afd90d1"
      },
      "outputs": [
        {
          "name": "stdout",
          "output_type": "stream",
          "text": [
            "Complete\n"
          ]
        },
        {
          "data": {
            "image/png": "[encoded data removed]",
            "text/plain": [
              "<Figure size 640x480 with 1 Axes>"
            ]
          },
          "metadata": {},
          "output_type": "display_data"
        },
        {
          "data": {
            "text/plain": [
              "<Figure size 640x480 with 0 Axes>"
            ]
          },
          "metadata": {},
          "output_type": "display_data"
        },
        {
          "data": {
            "text/plain": [
              "<Figure size 640x480 with 0 Axes>"
            ]
          },
          "metadata": {},
          "output_type": "display_data"
        }
      ],
      "source": [
        "num_episodes = 700\n",
        "\n",
        "for i_episode in range(num_episodes):\n",
        "    # Initialize the environment and get its state\n",
        "    state, info = env.reset()\n",
        "    state = torch.tensor(state, dtype=torch.float32, device=device).unsqueeze(0)\n",
        "    for t in count():\n",
        "        action = select_action(state)\n",
        "        observation, reward, terminated, truncated, _ = env.step(action.item())\n",
        "        reward = torch.tensor([reward], device=device)\n",
        "        done = terminated or truncated\n",
        "\n",
        "        if terminated:\n",
        "            next_state = None\n",
        "        else:\n",
        "            next_state = torch.tensor(observation, dtype=torch.float32, device=device).unsqueeze(0)\n",
        "\n",
        "        # Store the transition in memory\n",
        "        memory.push(state, action, next_state, reward)\n",
        "\n",
        "        # Move to the next state\n",
        "        state = next_state\n",
        "\n",
        "        # Perform one step of the optimization (on the policy network)\n",
        "        optimize_model()\n",
        "\n",
        "        # Soft update of the target network's weights\n",
        "        # θ′ ← τ θ + (1 −τ )θ′\n",
        "        target_net_state_dict = target_net.state_dict()\n",
        "        policy_net_state_dict = policy_net.state_dict()\n",
        "        for key in policy_net_state_dict:\n",
        "            target_net_state_dict[key] = policy_net_state_dict[key]*TAU + target_net_state_dict[key]*(1-TAU)\n",
        "        target_net.load_state_dict(target_net_state_dict)\n",
        "\n",
        "        if done:\n",
        "            episode_durations.append(t + 1)\n",
        "            plot_durations()\n",
        "            break\n",
        "\n",
        "print('Complete')\n",
        "plot_durations(show_result=True)\n",
        "plt.ioff()\n",
        "plt.show()"
      ]
    },
    {
      "cell_type": "code",
      "execution_count": null,
      "metadata": {},
      "outputs": [
        {
          "data": {
            "text/html": [
              "<video alt=\"test\" autoplay\n",
              "                    loop controls style=\"height: 400px;\">\n",
              "                    <source src=\"data:video/mp4;base64,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\" type=\"video/mp4\" />\n",
              "                    </video>"
            ],
            "text/plain": [
              "<IPython.core.display.HTML object>"
            ]
          },
          "metadata": {},
          "output_type": "display_data"
        }
      ],
      "source": [
        "show_video(folder_name, episode = 'first')"
      ]
    },
    {
      "cell_type": "code",
      "execution_count": null,
      "metadata": {
        "colab": {
          "base_uri": "https://localhost:8080/",
          "height": 421
        },
        "id": "gTTuNd_nX3dh",
        "outputId": "cd255b39-551c-4917-fbc2-daf5eba3e6b7"
      },
      "outputs": [
        {
          "data": {
            "text/html": [
              "<video alt=\"test\" autoplay\n",
              "                    loop controls style=\"height: 400px;\">\n",
              "                    <source src=\"data:video/mp4;base64,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\" type=\"video/mp4\" />\n",
              "                    </video>"
            ],
            "text/plain": [
              "<IPython.core.display.HTML object>"
            ]
          },
          "metadata": {},
          "output_type": "display_data"
        }
      ],
      "source": [
        "show_video(folder_name, episode = 'last')"
      ]
    }
  ],
  "metadata": {
    "accelerator": "GPU",
    "colab": {
      "gpuType": "T4",
      "provenance": []
    },
    "kernelspec": {
      "display_name": "Python 3 (ipykernel)",
      "language": "python",
      "name": "python3"
    },
    "language_info": {
      "codemirror_mode": {
        "name": "ipython",
        "version": 3
      },
      "file_extension": ".py",
      "mimetype": "text/x-python",
      "name": "python",
      "nbconvert_exporter": "python",
      "pygments_lexer": "ipython3",
      "version": "3.10.13"
    }
  },
  "nbformat": 4,
  "nbformat_minor": 0
}
