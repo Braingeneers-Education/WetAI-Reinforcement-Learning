{
  "cells": [
    {
      "cell_type": "markdown",
      "metadata": {},
      "source": [
        "# Intro to Reinforcement Learning"
      ]
    },
    {
      "cell_type": "markdown",
      "metadata": {},
      "source": [
        "In this assignment you will learn the basics of reinforcement learning (RL), as well how to train a DQN RL model.\n",
        "\n",
        "A lot of this information, text, and code is directly pooled from the following sources\n",
        "\n",
        "Credits:\n",
        "* Hugging Face Deep RL course [source](https://huggingface.co/learn/deep-rl-course/unit0/introduction)\n",
        "* Gymnasium-Colaboratory-Starter [source](https://github.com/hom-bahrani/Gymnasium-Colaboratory-Starter)\n",
        "* PyTorch RL Tutorials [source](https://pytorch.org/tutorials/)\n",
        "* Wikipedia RL Page [source](https://en.wikipedia.org/wiki/Reinforcement_learning)"
      ]
    },
    {
      "cell_type": "markdown",
      "metadata": {},
      "source": [
        "First, install and import the packages and libraries you will need throughout this exercise"
      ]
    },
    {
      "cell_type": "code",
      "execution_count": 31,
      "metadata": {
        "colab": {
          "base_uri": "https://localhost:8080/"
        },
        "id": "-MGHP8DHMBKp",
        "outputId": "b8a735b9-32d3-416e-e7bf-364e88b14fca"
      },
      "outputs": [
        {
          "name": "stdout",
          "output_type": "stream",
          "text": [
            "Requirement already satisfied: gymnasium in /usr/local/python/3.10.13/lib/python3.10/site-packages (0.29.1)\n",
            "Requirement already satisfied: numpy>=1.21.0 in /home/codespace/.local/lib/python3.10/site-packages (from gymnasium) (1.26.4)\n",
            "Requirement already satisfied: cloudpickle>=1.2.0 in /usr/local/python/3.10.13/lib/python3.10/site-packages (from gymnasium) (3.0.0)\n",
            "Requirement already satisfied: typing-extensions>=4.3.0 in /home/codespace/.local/lib/python3.10/site-packages (from gymnasium) (4.10.0)\n",
            "Requirement already satisfied: farama-notifications>=0.0.1 in /usr/local/python/3.10.13/lib/python3.10/site-packages (from gymnasium) (0.0.4)\n"
          ]
        },
        {
          "name": "stdout",
          "output_type": "stream",
          "text": [
            "Note: you may need to restart the kernel to use updated packages.\n",
            "Requirement already satisfied: gymnasium[classic-control] in /usr/local/python/3.10.13/lib/python3.10/site-packages (0.29.1)\n",
            "Requirement already satisfied: numpy>=1.21.0 in /home/codespace/.local/lib/python3.10/site-packages (from gymnasium[classic-control]) (1.26.4)\n",
            "Requirement already satisfied: cloudpickle>=1.2.0 in /usr/local/python/3.10.13/lib/python3.10/site-packages (from gymnasium[classic-control]) (3.0.0)\n",
            "Requirement already satisfied: typing-extensions>=4.3.0 in /home/codespace/.local/lib/python3.10/site-packages (from gymnasium[classic-control]) (4.10.0)\n",
            "Requirement already satisfied: farama-notifications>=0.0.1 in /usr/local/python/3.10.13/lib/python3.10/site-packages (from gymnasium[classic-control]) (0.0.4)\n",
            "Requirement already satisfied: pygame>=2.1.3 in /usr/local/python/3.10.13/lib/python3.10/site-packages (from gymnasium[classic-control]) (2.5.2)\n",
            "Note: you may need to restart the kernel to use updated packages.\n",
            "Requirement already satisfied: swig in /usr/local/python/3.10.13/lib/python3.10/site-packages (4.2.1)\n",
            "Note: you may need to restart the kernel to use updated packages.\n",
            "Requirement already satisfied: pyvirtualdisplay in /usr/local/python/3.10.13/lib/python3.10/site-packages (3.0)\n",
            "Note: you may need to restart the kernel to use updated packages.\n",
            "Requirement already satisfied: moviepy in /usr/local/python/3.10.13/lib/python3.10/site-packages (1.0.3)\n",
            "Requirement already satisfied: decorator<5.0,>=4.0.2 in /usr/local/python/3.10.13/lib/python3.10/site-packages (from moviepy) (4.4.2)\n",
            "Requirement already satisfied: tqdm<5.0,>=4.11.2 in /usr/local/python/3.10.13/lib/python3.10/site-packages (from moviepy) (4.66.2)\n",
            "Requirement already satisfied: requests<3.0,>=2.8.1 in /home/codespace/.local/lib/python3.10/site-packages (from moviepy) (2.31.0)\n",
            "Requirement already satisfied: proglog<=1.0.0 in /usr/local/python/3.10.13/lib/python3.10/site-packages (from moviepy) (0.1.10)\n",
            "Requirement already satisfied: numpy>=1.17.3 in /home/codespace/.local/lib/python3.10/site-packages (from moviepy) (1.26.4)\n",
            "Requirement already satisfied: imageio<3.0,>=2.5 in /usr/local/python/3.10.13/lib/python3.10/site-packages (from moviepy) (2.34.1)\n",
            "Requirement already satisfied: imageio-ffmpeg>=0.2.0 in /usr/local/python/3.10.13/lib/python3.10/site-packages (from moviepy) (0.4.9)\n",
            "Requirement already satisfied: pillow>=8.3.2 in /home/codespace/.local/lib/python3.10/site-packages (from imageio<3.0,>=2.5->moviepy) (10.3.0)\n",
            "Requirement already satisfied: setuptools in /usr/local/python/3.10.13/lib/python3.10/site-packages (from imageio-ffmpeg>=0.2.0->moviepy) (68.2.2)\n",
            "Requirement already satisfied: charset-normalizer<4,>=2 in /home/codespace/.local/lib/python3.10/site-packages (from requests<3.0,>=2.8.1->moviepy) (3.3.2)\n",
            "Requirement already satisfied: idna<4,>=2.5 in /home/codespace/.local/lib/python3.10/site-packages (from requests<3.0,>=2.8.1->moviepy) (3.6)\n",
            "Requirement already satisfied: urllib3<3,>=1.21.1 in /usr/local/python/3.10.13/lib/python3.10/site-packages (from requests<3.0,>=2.8.1->moviepy) (2.0.7)\n",
            "Requirement already satisfied: certifi>=2017.4.17 in /home/codespace/.local/lib/python3.10/site-packages (from requests<3.0,>=2.8.1->moviepy) (2024.2.2)\n",
            "Note: you may need to restart the kernel to use updated packages.\n",
            "Requirement already satisfied: moviepy in /usr/local/python/3.10.13/lib/python3.10/site-packages (1.0.3)\n",
            "Requirement already satisfied: decorator<5.0,>=4.0.2 in /usr/local/python/3.10.13/lib/python3.10/site-packages (from moviepy) (4.4.2)\n",
            "Requirement already satisfied: tqdm<5.0,>=4.11.2 in /usr/local/python/3.10.13/lib/python3.10/site-packages (from moviepy) (4.66.2)\n",
            "Requirement already satisfied: requests<3.0,>=2.8.1 in /home/codespace/.local/lib/python3.10/site-packages (from moviepy) (2.31.0)\n",
            "Requirement already satisfied: proglog<=1.0.0 in /usr/local/python/3.10.13/lib/python3.10/site-packages (from moviepy) (0.1.10)\n",
            "Requirement already satisfied: numpy>=1.17.3 in /home/codespace/.local/lib/python3.10/site-packages (from moviepy) (1.26.4)\n",
            "Requirement already satisfied: imageio<3.0,>=2.5 in /usr/local/python/3.10.13/lib/python3.10/site-packages (from moviepy) (2.34.1)\n",
            "Requirement already satisfied: imageio-ffmpeg>=0.2.0 in /usr/local/python/3.10.13/lib/python3.10/site-packages (from moviepy) (0.4.9)\n",
            "Requirement already satisfied: pillow>=8.3.2 in /home/codespace/.local/lib/python3.10/site-packages (from imageio<3.0,>=2.5->moviepy) (10.3.0)\n",
            "Requirement already satisfied: setuptools in /usr/local/python/3.10.13/lib/python3.10/site-packages (from imageio-ffmpeg>=0.2.0->moviepy) (68.2.2)\n",
            "Requirement already satisfied: charset-normalizer<4,>=2 in /home/codespace/.local/lib/python3.10/site-packages (from requests<3.0,>=2.8.1->moviepy) (3.3.2)\n",
            "Requirement already satisfied: idna<4,>=2.5 in /home/codespace/.local/lib/python3.10/site-packages (from requests<3.0,>=2.8.1->moviepy) (3.6)\n",
            "Requirement already satisfied: urllib3<3,>=1.21.1 in /usr/local/python/3.10.13/lib/python3.10/site-packages (from requests<3.0,>=2.8.1->moviepy) (2.0.7)\n",
            "Requirement already satisfied: certifi>=2017.4.17 in /home/codespace/.local/lib/python3.10/site-packages (from requests<3.0,>=2.8.1->moviepy) (2024.2.2)\n",
            "Note: you may need to restart the kernel to use updated packages.\n",
            "Requirement already satisfied: stable-baselines3 in /usr/local/python/3.10.13/lib/python3.10/site-packages (2.3.2)\n",
            "Requirement already satisfied: gymnasium<0.30,>=0.28.1 in /usr/local/python/3.10.13/lib/python3.10/site-packages (from stable-baselines3) (0.29.1)\n",
            "Requirement already satisfied: numpy>=1.20 in /home/codespace/.local/lib/python3.10/site-packages (from stable-baselines3) (1.26.4)\n",
            "Requirement already satisfied: torch>=1.13 in /home/codespace/.local/lib/python3.10/site-packages (from stable-baselines3) (2.2.2)\n",
            "Requirement already satisfied: cloudpickle in /usr/local/python/3.10.13/lib/python3.10/site-packages (from stable-baselines3) (3.0.0)\n",
            "Requirement already satisfied: pandas in /home/codespace/.local/lib/python3.10/site-packages (from stable-baselines3) (2.2.1)\n",
            "Requirement already satisfied: matplotlib in /home/codespace/.local/lib/python3.10/site-packages (from stable-baselines3) (3.8.3)\n",
            "Requirement already satisfied: typing-extensions>=4.3.0 in /home/codespace/.local/lib/python3.10/site-packages (from gymnasium<0.30,>=0.28.1->stable-baselines3) (4.10.0)\n",
            "Requirement already satisfied: farama-notifications>=0.0.1 in /usr/local/python/3.10.13/lib/python3.10/site-packages (from gymnasium<0.30,>=0.28.1->stable-baselines3) (0.0.4)\n",
            "Requirement already satisfied: filelock in /home/codespace/.local/lib/python3.10/site-packages (from torch>=1.13->stable-baselines3) (3.13.3)\n",
            "Requirement already satisfied: sympy in /home/codespace/.local/lib/python3.10/site-packages (from torch>=1.13->stable-baselines3) (1.12)\n",
            "Requirement already satisfied: networkx in /home/codespace/.local/lib/python3.10/site-packages (from torch>=1.13->stable-baselines3) (3.2.1)\n",
            "Requirement already satisfied: jinja2 in /home/codespace/.local/lib/python3.10/site-packages (from torch>=1.13->stable-baselines3) (3.1.3)\n",
            "Requirement already satisfied: fsspec in /home/codespace/.local/lib/python3.10/site-packages (from torch>=1.13->stable-baselines3) (2024.3.1)\n",
            "Requirement already satisfied: nvidia-cuda-nvrtc-cu12==12.1.105 in /home/codespace/.local/lib/python3.10/site-packages (from torch>=1.13->stable-baselines3) (12.1.105)\n",
            "Requirement already satisfied: nvidia-cuda-runtime-cu12==12.1.105 in /home/codespace/.local/lib/python3.10/site-packages (from torch>=1.13->stable-baselines3) (12.1.105)\n",
            "Requirement already satisfied: nvidia-cuda-cupti-cu12==12.1.105 in /home/codespace/.local/lib/python3.10/site-packages (from torch>=1.13->stable-baselines3) (12.1.105)\n",
            "Requirement already satisfied: nvidia-cudnn-cu12==8.9.2.26 in /home/codespace/.local/lib/python3.10/site-packages (from torch>=1.13->stable-baselines3) (8.9.2.26)\n",
            "Requirement already satisfied: nvidia-cublas-cu12==12.1.3.1 in /home/codespace/.local/lib/python3.10/site-packages (from torch>=1.13->stable-baselines3) (12.1.3.1)\n",
            "Requirement already satisfied: nvidia-cufft-cu12==11.0.2.54 in /home/codespace/.local/lib/python3.10/site-packages (from torch>=1.13->stable-baselines3) (11.0.2.54)\n",
            "Requirement already satisfied: nvidia-curand-cu12==10.3.2.106 in /home/codespace/.local/lib/python3.10/site-packages (from torch>=1.13->stable-baselines3) (10.3.2.106)\n",
            "Requirement already satisfied: nvidia-cusolver-cu12==11.4.5.107 in /home/codespace/.local/lib/python3.10/site-packages (from torch>=1.13->stable-baselines3) (11.4.5.107)\n",
            "Requirement already satisfied: nvidia-cusparse-cu12==12.1.0.106 in /home/codespace/.local/lib/python3.10/site-packages (from torch>=1.13->stable-baselines3) (12.1.0.106)\n",
            "Requirement already satisfied: nvidia-nccl-cu12==2.19.3 in /home/codespace/.local/lib/python3.10/site-packages (from torch>=1.13->stable-baselines3) (2.19.3)\n",
            "Requirement already satisfied: nvidia-nvtx-cu12==12.1.105 in /home/codespace/.local/lib/python3.10/site-packages (from torch>=1.13->stable-baselines3) (12.1.105)\n",
            "Requirement already satisfied: triton==2.2.0 in /home/codespace/.local/lib/python3.10/site-packages (from torch>=1.13->stable-baselines3) (2.2.0)\n",
            "Requirement already satisfied: nvidia-nvjitlink-cu12 in /home/codespace/.local/lib/python3.10/site-packages (from nvidia-cusolver-cu12==11.4.5.107->torch>=1.13->stable-baselines3) (12.4.99)\n",
            "Requirement already satisfied: contourpy>=1.0.1 in /home/codespace/.local/lib/python3.10/site-packages (from matplotlib->stable-baselines3) (1.2.1)\n",
            "Requirement already satisfied: cycler>=0.10 in /home/codespace/.local/lib/python3.10/site-packages (from matplotlib->stable-baselines3) (0.12.1)\n",
            "Requirement already satisfied: fonttools>=4.22.0 in /home/codespace/.local/lib/python3.10/site-packages (from matplotlib->stable-baselines3) (4.50.0)\n",
            "Requirement already satisfied: kiwisolver>=1.3.1 in /home/codespace/.local/lib/python3.10/site-packages (from matplotlib->stable-baselines3) (1.4.5)\n",
            "Requirement already satisfied: packaging>=20.0 in /home/codespace/.local/lib/python3.10/site-packages (from matplotlib->stable-baselines3) (24.0)\n",
            "Requirement already satisfied: pillow>=8 in /home/codespace/.local/lib/python3.10/site-packages (from matplotlib->stable-baselines3) (10.3.0)\n",
            "Requirement already satisfied: pyparsing>=2.3.1 in /home/codespace/.local/lib/python3.10/site-packages (from matplotlib->stable-baselines3) (3.1.2)\n",
            "Requirement already satisfied: python-dateutil>=2.7 in /home/codespace/.local/lib/python3.10/site-packages (from matplotlib->stable-baselines3) (2.9.0.post0)\n",
            "Requirement already satisfied: pytz>=2020.1 in /home/codespace/.local/lib/python3.10/site-packages (from pandas->stable-baselines3) (2024.1)\n",
            "Requirement already satisfied: tzdata>=2022.7 in /home/codespace/.local/lib/python3.10/site-packages (from pandas->stable-baselines3) (2024.1)\n",
            "Requirement already satisfied: six>=1.5 in /home/codespace/.local/lib/python3.10/site-packages (from python-dateutil>=2.7->matplotlib->stable-baselines3) (1.16.0)\n",
            "Requirement already satisfied: MarkupSafe>=2.0 in /home/codespace/.local/lib/python3.10/site-packages (from jinja2->torch>=1.13->stable-baselines3) (2.1.5)\n",
            "Requirement already satisfied: mpmath>=0.19 in /home/codespace/.local/lib/python3.10/site-packages (from sympy->torch>=1.13->stable-baselines3) (1.3.0)\n",
            "Note: you may need to restart the kernel to use updated packages.\n"
          ]
        }
      ],
      "source": [
        "# install gymnasium packages\n",
        "%pip install gymnasium\n",
        "%pip install gymnasium[classic-control]\n",
        "%pip install swig\n",
        "\n",
        "# install virtual display packages\n",
        "%pip install pyvirtualdisplay\n",
        "%pip install moviepy\n",
        "%pip install --upgrade moviepy\n",
        "\n",
        "# install stable baselines3\n",
        "%pip install stable-baselines3"
      ]
    },
    {
      "cell_type": "code",
      "execution_count": 32,
      "metadata": {},
      "outputs": [
        {
          "name": "stdout",
          "output_type": "stream",
          "text": [
            "Hit:1 https://packages.microsoft.com/repos/microsoft-ubuntu-focal-prod focal InRelease\n",
            "Hit:3 https://dl.yarnpkg.com/debian stable InRelease\n",
            "Hit:4 http://archive.ubuntu.com/ubuntu focal InRelease\n",
            "Hit:5 https://repo.anaconda.com/pkgs/misc/debrepo/conda stable InRelease\n",
            "Get:6 http://archive.ubuntu.com/ubuntu focal-updates InRelease [114 kB]\n",
            "Get:7 http://security.ubuntu.com/ubuntu focal-security InRelease [114 kB]\n",
            "Hit:2 https://packagecloud.io/github/git-lfs/ubuntu focal InRelease\n",
            "Hit:8 http://archive.ubuntu.com/ubuntu focal-backports InRelease\n",
            "Get:9 http://security.ubuntu.com/ubuntu focal-security/universe amd64 Packages [1200 kB]\n",
            "Fetched 1428 kB in 2s (948 kB/s)\n",
            "Reading package lists...\n",
            "Building dependency tree...\n",
            "Reading state information...\n",
            "40 packages can be upgraded. Run 'apt list --upgradable' to see them.\n",
            "Reading package lists...\n",
            "Building dependency tree...\n",
            "Reading state information...\n",
            "xvfb is already the newest version (2:1.20.13-1ubuntu1~20.04.17).\n",
            "0 upgraded, 0 newly installed, 0 to remove and 40 not upgraded.\n"
          ]
        }
      ],
      "source": [
        "# Update the Package Index\n",
        "!sudo apt update --quiet\n",
        "\n",
        "# Install xvfb\n",
        "!sudo apt-get install -y xvfb --quiet"
      ]
    },
    {
      "cell_type": "code",
      "execution_count": 33,
      "metadata": {
        "id": "LzeSyt4-OPR_"
      },
      "outputs": [],
      "source": [
        "# gymnasium imports\n",
        "import gymnasium as gym\n",
        "from gymnasium.wrappers.record_video import RecordVideo\n",
        "\n",
        "# video imports\n",
        "import glob\n",
        "import uuid\n",
        "import io\n",
        "import base64\n",
        "from IPython.display import HTML\n",
        "# from IPython import display as ipythondisplay\n",
        "\n",
        "# ml imports\n",
        "import torch\n",
        "import torch.nn as nn\n",
        "import torch.optim as optim\n",
        "import torch.nn.functional as F\n",
        "\n",
        "# plot imports\n",
        "import matplotlib\n",
        "import matplotlib.pyplot as plt\n",
        "\n",
        "# set up matplotlib\n",
        "is_ipython = 'inline' in matplotlib.get_backend()\n",
        "if is_ipython:\n",
        "    from IPython import display as ipythondisplay\n",
        "\n",
        "\n",
        "# utility imports\n",
        "import os\n",
        "import math\n",
        "import random\n",
        "from itertools import count\n",
        "from collections import namedtuple, deque\n",
        "\n",
        "# if GPU is to be used\n",
        "device = torch.device(\"cuda\" if torch.cuda.is_available() else \"cpu\")"
      ]
    },
    {
      "cell_type": "markdown",
      "metadata": {},
      "source": [
        "## 1. What is Reinforcement Learning?"
      ]
    },
    {
      "cell_type": "markdown",
      "metadata": {},
      "source": [
        "<img src=\"images/RL_process.jpg\" width=\"800\" height=\"500\">\n",
        "\n",
        "Along with Supervised Learning and Unsupervised Learning, Reinforcement Learning is one of the 3 basic machine learning paradigms. The idea behind Reinforcement Learning is that an agent (an AI) will learn from the environment by interacting with it (through trial and error) and receiving rewards (negative or positive) as feedback for performing actions.\n",
        "\n",
        "You can think of it like playing a video game where you get points for collecting coins and you lose points for getting hit by enemies. This \"trains\" you to collect coins, while avoiding enemies. Of course, games get a lot more complicated than that which is why one of the main challenges of RL is figuring out how to reward or punish the agent. That is to say, we use the [carrot and the stick](https://en.wikipedia.org/wiki/Carrot_and_stick).\n",
        "\n",
        "The diagram describing how a RL agent interacts with a environment can be interpretated as such:\n",
        "\n",
        "1. The Agent/Model/AI receives a **state $S_t$** (the info the agent receieves from the environment at time t)\n",
        "2. Based on that **state** $S_t$ the agent takes an *action* $A_t$\n",
        "3. The environment goes to a new **state** $S_{t+1}$\n",
        "4. The environment gives some **reward** $R_{t+1}$ to the agent\n",
        "5. repeat\n"
      ]
    },
    {
      "cell_type": "markdown",
      "metadata": {},
      "source": [
        "### 1.1 Defining Cumulative Reward\n",
        "\n",
        "The reward is fundamental in RL because it’s the only feedback for the agent. Thanks to it, our agent knows if the action taken was good or not.\n",
        "\n",
        "Where\n",
        "* $R()$: `Return` is the cumulative reward function\n",
        "* $\\tau$: `Trajectory` represented by *tau* is a sequence of `states` and `actions`\n",
        "* $\\gamma$: `Discount Rate` represented by *gamma* between 0-1\n",
        "* $r_t$: `reward` at time step t\n",
        "\n",
        "The cumulative reward is represented by the function\n",
        "\n",
        "$R(\\tau) = r_{t+1} + \\gamma r_{t+2} + \\gamma^2 r_{t+3} + \\gamma^3 r_{t+4} + ...$\n",
        "\n",
        "or \n",
        "\n",
        "$R(\\tau) = \\sum_{k=0}^{\\infty} \\gamma^k r_{t+k+1}$\n",
        "\n",
        "An important insight here is that $\\gamma$ is exponentiated, this means a smaller $\\gamma$ causes a bigger `discount` and rewards at farther timesteps are `discounted` more. So, the smaller the $\\gamma$ the less the agent cares more about closer/short-term rewards, and the bigger $\\gamma$ the more the agent cares about farther/long-term rewards."
      ]
    },
    {
      "cell_type": "markdown",
      "metadata": {},
      "source": [
        "### 1.2 Defining Policy\n",
        "\n",
        "You can think of `policy`, $\\pi$, as the mind of the agent\n",
        "\n",
        "This `policy` is the function we want to learn, our goal is to find the `optimal policy` $\\pi^*$, the policy that maximizes expected return when the agent acts according to it. We find this $\\pi^*$ through training. \n",
        "\n",
        "Note: $\\pi^*$ is pronounced \"pie-star\" and in algorithms \"*\" (star) often denotes optimality\n",
        "\n",
        "There are two types of policies:\n",
        "\n",
        "1. Deterministic: a policy at a given state will always return the same action.\n",
        "    * $\\pi(s) = a$\n",
        "2. Stochastic: outputs a probability distribution over actions.\n",
        "    * $\\pi(s|a) = P[A|s]$\n",
        "        * $|$ means given\n",
        "        * $P[]$ means probability distribution\n",
        "        * $P[A|s]$ means a probability distribution over a set of actions given a state\n",
        "\n",
        "There are two approaches to **train** our agent to find this optimal policy π*:\n",
        "\n",
        "1. Directly, by teaching the agent to learn which action to take, given the current state: **Policy-Based Methods**.\n",
        "2. Indirectly, teach the agent to learn which state is more valuable and then take the action that leads to the more valuable states: **Value-Based Methods**.\n",
        "\n"
      ]
    },
    {
      "cell_type": "markdown",
      "metadata": {},
      "source": [
        "## 2. Creating an Environment\n",
        "\n",
        "Now that you understand what a Reinforcement Learning agent is and does. Lets create an environment for our prospective RL agent to interact with.\n",
        "\n",
        "To do that we will be using the environment library [Gymnasium](https://gymnasium.farama.org/) which was developed by OpenAI and handed off to the Farama Foundation to maintain and update."
      ]
    },
    {
      "cell_type": "markdown",
      "metadata": {},
      "source": [
        "*GitHub codespaces doesn't have an inbuilt display, create a virtual display instead.*"
      ]
    },
    {
      "cell_type": "code",
      "execution_count": 34,
      "metadata": {
        "colab": {
          "base_uri": "https://localhost:8080/"
        },
        "id": "ruR-EszrTfDX",
        "outputId": "793fb07e-1331-419d-ed03-6cf07f2254c0"
      },
      "outputs": [
        {
          "data": {
            "text/plain": [
              "<pyvirtualdisplay.display.Display at 0x7f52d59407c0>"
            ]
          },
          "execution_count": 34,
          "metadata": {},
          "output_type": "execute_result"
        }
      ],
      "source": [
        "# install a virtual display\n",
        "from pyvirtualdisplay import Display\n",
        "display = Display(visible=0, size=(1400, 900))\n",
        "display.start()"
      ]
    },
    {
      "cell_type": "markdown",
      "metadata": {},
      "source": [
        "The first virtual environment you will be using is the `'CartPole-v1'` environment. This is a virtual version of the real life Cart Pole/Inverted Pendulum task, here is a short fun [video](https://youtu.be/nOSTzpA0nGk?si=mFYYwhLhTb5hcrpB) for you to see."
      ]
    },
    {
      "cell_type": "markdown",
      "metadata": {},
      "source": [
        "### 2.1 Understanding Gymnasium\n",
        "Remember that at each step:\n",
        "- Our Agent receives a **state ($S_0$)** from the **Environment** — i.e. we receive the first frame of our game (Environment).\n",
        "- Based on that **state ($S_0$),** the Agent takes an **action ($A_0$)** — i.e. our Agent will move to the right.\n",
        "- The environment transitions to a **new** **state ($S_1$)** — i.e. new frame.\n",
        "- The environment gives some **reward ($R_1$)** to the Agent — i.e. we’re not dead *(Positive Reward +1)*.\n",
        "\n",
        "\n",
        "With Gymnasium:\n",
        "\n",
        "1. We create our environment using `gymnasium.make()`\n",
        "2. We reset the environment to its initial state with `observation = env.reset()`\n",
        "\n",
        "At each step:\n",
        "\n",
        "3. Get an action using our model (in our example we take a random action)\n",
        "4. Using `env.step(action)`, we perform this action in the environment and get\n",
        "    - `observation`: The new state ($s_{t+1}$)\n",
        "    - `reward`: The reward we get after executing the action\n",
        "    - `terminated`: Indicates if the episode terminated (agent reach the terminal state)\n",
        "    - `truncated`: Introduced with this new version, it indicates a timelimit or if an agent go out of bounds of the environment for instance.\n",
        "    - `info`: A dictionary that provides additional information (depends on the environment).\n",
        "\n",
        "For more explanations check this 👉 https://gymnasium.farama.org/api/env/#gymnasium.Env.step\n",
        "\n",
        "If the episode is terminated:\n",
        "- We reset the environment to its initial state with `observation = env.reset()`\n",
        "\n",
        "#### 2.2 Task Types\n",
        "There are two types of task: `Episodic Tasks` and `Continuous Tasks`\n",
        "\n",
        "1. Episodic Task\n",
        "    - In this case, we have a starting point and an ending point (a terminal state). This creates an episode: a list of States, Actions, Rewards, and new States.\n",
        "2. Continuous task\n",
        "    - These are tasks that continue forever (no terminal state). In this case, the agent must learn how to choose the best actions and simultaneously interact with the environment.\n",
        "    - For instance, an agent that does automated stock trading. For this task, there is no starting point and terminal state. The agent keeps running until we decide to stop it.\n"
      ]
    },
    {
      "cell_type": "markdown",
      "metadata": {},
      "source": [
        "## Question 1\n",
        "In gymnasium the environments are set up as episodic tasks. A good practice is to look at documentation before using an environment to know its properties. If `'CartPole-v1'` is episodic, that means it must have termination conditions. List `'CartPole-v1'`'s termination conditions below.\n",
        "\n",
        "Link to documentation -> https://gymnasium.farama.org/environments/classic_control/cart_pole/ "
      ]
    },
    {
      "cell_type": "markdown",
      "metadata": {},
      "source": [
        "<span style=\"color:green\">Answer</span>\n",
        "\n",
        "1.\n",
        "2.\n",
        "3."
      ]
    },
    {
      "cell_type": "markdown",
      "metadata": {},
      "source": [
        "#### 2.3 Default Properties of Gymnasium's Cart Pole environment \n",
        "\n",
        "##### **Action Space (The set of possible actions of the model)**\n",
        "\n",
        "The action is a ndarray with shape (1,) which can take values {0, 1} indicating the direction of the fixed force the cart is pushed with.\n",
        "\n",
        "0: Push cart to the left\n",
        "\n",
        "1: Push cart to the right\n",
        "\n",
        "Note: The velocity that is reduced or increased by the applied force is not fixed and it depends on the angle the pole is pointing. The center of gravity of the pole varies the amount of energy needed to move the cart underneath it\n",
        "\n",
        "##### **Observation Space (The subset of the state the actor observes)**\n",
        "\n",
        "The observation is a ndarray with shape (4,) with the values corresponding to the following positions and velocities:\n",
        "\n",
        "<img src=\"images/observation_space.png\" width=\"700\" height=\"200\">\n",
        "\n",
        "##### **Rewards**\n",
        "\n",
        "Since the goal is to keep the pole upright for as long as possible, a reward of +1 for every step taken, including the termination step, is allotted. The threshold for rewards is 500 for v1 and 200 for v0.\n"
      ]
    },
    {
      "cell_type": "code",
      "execution_count": 35,
      "metadata": {},
      "outputs": [
        {
          "name": "stdout",
          "output_type": "stream",
          "text": [
            "_____OBSERVATION SPACE_____ \n",
            "\n",
            "Observation Space Shape (4,)\n",
            "Sample observation [-1.8933192e-01 -2.8042960e+38  2.0506781e-01  1.2172533e+38]\n",
            "\n",
            " _____ACTION SPACE_____ \n",
            "\n",
            "Action Space Shape 2\n",
            "Action Space Sample 0\n"
          ]
        }
      ],
      "source": [
        "# How to access the above values\n",
        "env = gym.make(\"CartPole-v1\")\n",
        "env.reset()\n",
        "print(\"_____OBSERVATION SPACE_____ \\n\")\n",
        "print(\"Observation Space Shape\", env.observation_space.shape)\n",
        "print(\"Sample observation\", env.observation_space.sample()) # Get a random observation\n",
        "print(\"\\n _____ACTION SPACE_____ \\n\")\n",
        "print(\"Action Space Shape\", env.action_space.n)\n",
        "print(\"Action Space Sample\", env.action_space.sample()) # Take a random action"
      ]
    },
    {
      "cell_type": "markdown",
      "metadata": {},
      "source": [
        "#### 2.4 Gymnasium Interactive Loop\n",
        "\n",
        "Below is the code for a simple interactive loop where instead of a agent predicting a action we simply sample a random action. Look at what happens to the cartpole when random actions are chosen, and specifically note how long the episode lasts (duration) which the model will be learning to improve."
      ]
    },
    {
      "cell_type": "code",
      "execution_count": 36,
      "metadata": {
        "colab": {
          "base_uri": "https://localhost:8080/"
        },
        "id": "-WqjS0z9Nvbm",
        "outputId": "c7c05a60-fe49-4157-fec5-7c8192196dd4"
      },
      "outputs": [],
      "source": [
        "init_env = gym.make('CartPole-v1', render_mode='rgb_array')\n",
        "\n",
        "folder_name = os.path.join('video', 'CartPole-v1', f'{uuid.uuid4()}')\n",
        "\n",
        "# Use the wrapper environment RecordVideo() to record video\n",
        "env = RecordVideo(init_env, folder_name, disable_logger=True)\n",
        "\n",
        "observation, info = env.reset()\n",
        "\n",
        "for _ in range(1000):\n",
        "    action = env.action_space.sample()\n",
        "    observation, reward, terminated, truncated, info = env.step(action)\n",
        "\n",
        "    if terminated or truncated:\n",
        "        observation, info = env.reset()\n",
        "\n",
        "env.close()"
      ]
    },
    {
      "cell_type": "code",
      "execution_count": 37,
      "metadata": {
        "id": "x1iWqf2NO4g5"
      },
      "outputs": [],
      "source": [
        "def show_video(folder_name, episode='last'):\n",
        "    mp4list = glob.glob(f'{folder_name}/*.mp4')\n",
        "    if len(mp4list) > 0:\n",
        "        sorted_mp4list = sorted(mp4list, key=lambda x: int(x.split('-')[-1].split('.')[0]))\n",
        "        if episode == 'last':\n",
        "            mp4 = sorted_mp4list[-1]\n",
        "        elif episode == 'first':\n",
        "            mp4 = sorted_mp4list[0]\n",
        "        video = io.open(mp4, 'r+b').read()\n",
        "        encoded = base64.b64encode(video)\n",
        "        ipythondisplay.display(HTML(data='''<video alt=\"test\" autoplay\n",
        "                    loop controls style=\"height: 400px;\">\n",
        "                    <source src=\"data:video/mp4;base64,{0}\" type=\"video/mp4\" />\n",
        "                    </video>'''.format(encoded.decode('ascii'))))\n",
        "    else:\n",
        "        print(\"Could not find video\")"
      ]
    },
    {
      "cell_type": "code",
      "execution_count": 38,
      "metadata": {
        "colab": {
          "base_uri": "https://localhost:8080/",
          "height": 421
        },
        "id": "CD7we0ysR4DN",
        "outputId": "65cc1009-7c2b-4e38-989b-b0bcd0580ef6"
      },
      "outputs": [
        {
          "data": {
            "text/html": [
              "<video alt=\"test\" autoplay\n",
              "                    loop controls style=\"height: 400px;\">\n",
              "                    <source src=\"data:video/mp4;base64,AAAAIGZ0eXBpc29tAAACAGlzb21pc28yYXZjMW1wNDEAAAAIZnJlZQAADCBtZGF0AAACrgYF//+q3EXpvebZSLeWLNgg2SPu73gyNjQgLSBjb3JlIDE1OSByMjk5MSAxNzcxYjU1IC0gSC4yNjQvTVBFRy00IEFWQyBjb2RlYyAtIENvcHlsZWZ0IDIwMDMtMjAxOSAtIGh0dHA6Ly93d3cudmlkZW9sYW4ub3JnL3gyNjQuaHRtbCAtIG9wdGlvbnM6IGNhYmFjPTEgcmVmPTMgZGVibG9jaz0xOjA6MCBhbmFseXNlPTB4MzoweDExMyBtZT1oZXggc3VibWU9NyBwc3k9MSBwc3lfcmQ9MS4wMDowLjAwIG1peGVkX3JlZj0xIG1lX3JhbmdlPTE2IGNocm9tYV9tZT0xIHRyZWxsaXM9MSA4eDhkY3Q9MSBjcW09MCBkZWFkem9uZT0yMSwxMSBmYXN0X3Bza2lwPTEgY2hyb21hX3FwX29mZnNldD0tMiB0aHJlYWRzPTMgbG9va2FoZWFkX3RocmVhZHM9MSBzbGljZWRfdGhyZWFkcz0wIG5yPTAgZGVjaW1hdGU9MSBpbnRlcmxhY2VkPTAgYmx1cmF5X2NvbXBhdD0wIGNvbnN0cmFpbmVkX2ludHJhPTAgYmZyYW1lcz0zIGJfcHlyYW1pZD0yIGJfYWRhcHQ9MSBiX2JpYXM9MCBkaXJlY3Q9MSB3ZWlnaHRiPTEgb3Blbl9nb3A9MCB3ZWlnaHRwPTIga2V5aW50PTI1MCBrZXlpbnRfbWluPTI1IHNjZW5lY3V0PTQwIGludHJhX3JlZnJlc2g9MCByY19sb29rYWhlYWQ9NDAgcmM9Y3JmIG1idHJlZT0xIGNyZj0yMy4wIHFjb21wPTAuNjAgcXBtaW49MCBxcG1heD02OSBxcHN0ZXA9NCBpcF9yYXRpbz0xLjQwIGFxPTE6MS4wMACAAAACD2WIhAAz//727L4FNf2f0JcRLMXaSnA+KqSAgHc0wAAAAwAAAwAAFgn0I7DkqgN3QAAAHGAFBCwCPCVC2EhH2OkN/weIfwAHQrt9FZjLQaqcGIq7xI0AjiWsMfRZnS7v+34+PwzrtTwH0e6E4Aua9cvdqo1OBrXdGP9h8225gX8UtBrZ/A4hO3/KUnltL2a367/JNI07/uqMVJiPLhNr9fut842MDyl4sC0PNngXiUnP/cJJtTQSSYsooqwBSMIXTAFUNhDgBDt2dzE8+axeNc6CMIicJu2X5kNIAREFZmFW+zHKW5YSpQ7EVEkzVlOzpZQBWLijwcrUBey9QhZPgD69fHstukvgiMoANQ3dJ0pqvUzRo6fR5mwSghhRpIoko2rV5CrMstUg3uawTsDOFPM9Lc35sI5PHNIAEOp0fMX7OP4HqQRiALP610CJUgCNfHK8ag2zo/+FNzu6QQQdGEz03CaaDVc9xXT9DRfcqjxEm2CgXxx6Nn5BAYZZ0clMzE5C15Fn2ivYFxcPwmWnFhBTLh39FYOuClbwtk8+zq08ACffYNPIn/bayAbZkFFwSa+kiCBIAJiJDE35Rf0I8PzS7k2q/6rpAX5Kq62QAaDaRztCn19oAvSGAiItSjUAYag+av+7zeLBrxpBBexiv0hpEFpoOQthwLnfSmaAcwmeACLt4IGsAAADAAADAAGBAAAAdkGaJGxC//6MsAAARjVF3dQPkkRhU/iPQXBB8wAuoW8MTsZB3uwAbYmsMUffeTxVL0N61cAUiPGRHrfmXoyJdTlRkT2C3MD+OqN90B0UFL69yUxcXyAeGlS0Ly5m3Xcg3Vt1wrcJ1dF4+58uQxc3ctUilleV5DYAAAA6QZ5CeIR/AAAWtSs4A7kANYAOPHtwBaU+VXbnl0XzIAE1LVnGbJ8w/WtNXFK9cNs345Mf8e1JHzET4QAAADEBnmF0R/8AACPC7OGDhhf3EnqpXmXnd+uqJ1bzyotxZM1Y7UMaJXMBNaw/jqsIsUygAAAAJwGeY2pH/wAABR801bKUskA2PdoSp1bzyoFTHj6jGv8ILf2PpELm4QAAAFFBmmhJqEFomUwIX//+jLAAAEYC0P69LyAC9zWohMRDdOXgsL+qwjX+NgEzSVFbdd3rpm4boSNvIoJwBJDmHgm8hqGtOkSyUPT0NSNoMvIfwIEAAAA0QZ6GRREsI/8AABa8TqFeGxoLBRQfA4Yv+X4zq61apoADrLKQf6J7upoaFtV6zxFgowf0gQAAAB8BnqV0R/8AAAMAR1hyDuLGtxsFv7Tm/Ys4zcuAy8CBAAAAIgGep2pH/wAAI78aznvMr+uPHiQCGwH8km3JXaZcVacNWzAAAABDQZqsSahBbJlMCF///oywAAAKX7mheDe+m8kJORsSADLvbEluq2oOocGEjwflm0Q9gCtvsP3cc+3yYv/d9+5TgkWRyAAAAC5BnspFFSwj/wAAAwE1gTTVVhgoAasz6RKZF8ALrKLJqekVyBzfXotSlikid34NAAAAGgGe6XRH/wAAAwHlih5ksfaITIqBa16bYxJMAAAAHwGe62pH/wAAAwBDo1adW88pSUZHQHFCI9POQSOblXwAAABMQZrtSahBbJlMCF///oywAAAar+WNAd2fHhPWFqEriD9RrxzsmCQfSoaUT/w/FLnhEhTALhVCubLmvZ910UlmDG/q5wY5WBeQxDDLMQAAAK1BmxFJ4QpSZTAhf/6MsAAARgITRnADdZsHJG7+lHuTck0+F5uLkwuklKIYHvpQyp57aE9NtPJZHK9P9GiCxFJ8k+1W13pnw398UJ4du3xkXieHp7acAWiwTJxgAY+wtQlKNmNLD/7p2IxhkfQdn+4nzhqFkzuDg2HvZ7L1296E7CaZWqjww/9fzn9IyoszP/icnH9Vf0ZGIJ8SxdYpKCVNtBq3FSmGSP0hi0s51QAAADlBny9FNEwj/wAAFruUWDloCZ+8KZKRI/kbRkVLPTyH59rLx2jVuC0lYgY7+07z/m2Hk+A3NYey9s0AAAAlAZ9OdEf/AAAjwz4NmjUGqFByBG7DewmMFkB+Ndll55RE8zphKgAAADMBn1BqR/8AACO/BCRA6ZbXbHPmHpuoOa3y7zN8hrdB5C/FNTdkU1YqiB4XI/cPhBIsNmAAAADXQZtVSahBaJlMCFf//jhAAAEM8uqcaABw1xm8bUfssIBmRS6jAz8oUqEzdWriSjbFT7JmKq9WpPEI1/vtFy6hNvB01WjrzQAMlz7l6RDW2YLF0KgXKwrNQYUxwP3mFTGALdlGR0/44y4cCfUGnzxOAaatZMEaW1/YCXruLJ9mo5wdhI+MLNlMnoch2rNnH8R8LEFbuWA76+eY4qU9lJtVZpIiql6xwou9K6Wz0x2mPKZy9jQUAz6bRUD3bUgxaK1s/Nkz6XEio9eSi7xIzxL/I68FDOWg9Q8AAABdQZ9zRREsI/8AABa7aLKkNRdjioUCesA6bDcRPpSIuUFINg1a4hNJcnDFmwigxg7dx3LltnNcLAVGYBenACEz9DozQjaJOR5sD5UDg8aPc0uzHno+mygbeAkehgSYAAAAQAGfknRH/wAAI8EWMEAsAIPBPVgTEeJtz3Hhw7O4nDTOyQWxeSeGqBqvKNzGUC5TMnu32bq5Twn9gSyUmDdkbMAAAABFAZ+Uakf/AAAjrsNAbiGe61aXrOeJN6SzyqS+Y/1lEtM5ItcGDlZiQ6pJidJQU+x5j6uNnQlgdXG+QAC3zhbxEp948f2pAAAAiEGbmUmoQWyZTAj//IQAAA/TihXc3p0DEGpqdEn495o2PUWSiFnPuNIL6RjpxJCtACcWnpKhbT3jVmqYxI9L8ftvbHeUSACfspUSQRrPSEE8pS2pCMcHjCNMYut0rIQtGd0cr7bCjaARKnojosXvLrn+xeEawPok9SfPpn1ArIQqpjIOyvhgukAAAABQQZ+3RRUsI/8AABazK/qJK6NGcQ/dDmAqXjgwkg/xeSUv+zYP0si7YH9r0oIYQC8c0SdH60dV1JjgeabRejcygqUPYYP9t5hH867eRCvwt90AAAA4AZ/WdEf/AAAjwLjfwCT0uwBO2VHIUap0PZRTcL+Q3MiGjhhw1RUQ/4ae7SYfRHE5ivUN2zTfl4sAAAAkAZ/Yakf/AAAjseeOTinS3CR7IjD6PxpYO5CvBAec8POnMGtSAAAES21vb3YAAABsbXZoZAAAAAAAAAAAAAAAAAAAA+gAAAIIAAEAAAEAAAAAAAAAAAAAAAABAAAAAAAAAAAAAAAAAAAAAQAAAAAAAAAAAAAAAAAAQAAAAAAAAAAAAAAAAAAAAAAAAAAAAAAAAAAAAAAAAAIAAAN1dHJhawAAAFx0a2hkAAAAAwAAAAAAAAAAAAAAAQAAAAAAAAIIAAAAAAAAAAAAAAAAAAAAAAABAAAAAAAAAAAAAAAAAAAAAQAAAAAAAAAAAAAAAAAAQAAAAAJYAAABkAAAAAAAJGVkdHMAAAAcZWxzdAAAAAAAAAABAAACCAAAAgAAAQAAAAAC7W1kaWEAAAAgbWRoZAAAAAAAAAAAAAAAAAAAMgAAABoAVcQAAAAAAC1oZGxyAAAAAAAAAAB2aWRlAAAAAAAAAAAAAAAAVmlkZW9IYW5kbGVyAAAAAphtaW5mAAAAFHZtaGQAAAABAAAAAAAAAAAAAAAkZGluZgAAABxkcmVmAAAAAAAAAAEAAAAMdXJsIAAAAAEAAAJYc3RibAAAAJhzdHNkAAAAAAAAAAEAAACIYXZjMQAAAAAAAAABAAAAAAAAAAAAAAAAAAAAAAJYAZAASAAAAEgAAAAAAAAAAQAAAAAAAAAAAAAAAAAAAAAAAAAAAAAAAAAAAAAAAAAAABj//wAAADJhdmNDAWQAH//hABlnZAAfrNlAmDPl4QAAAwABAAADAGQPGDGWAQAGaOvjyyLAAAAAGHN0dHMAAAAAAAAAAQAAABoAAAEAAAAAFHN0c3MAAAAAAAAAAQAAAAEAAADgY3R0cwAAAAAAAAAaAAAAAQAAAgAAAAABAAAFAAAAAAEAAAIAAAAAAQAAAAAAAAABAAABAAAAAAEAAAUAAAAAAQAAAgAAAAABAAAAAAAAAAEAAAEAAAAAAQAABQAAAAABAAACAAAAAAEAAAAAAAAAAQAAAQAAAAABAAACAAAAAAEAAAUAAAAAAQAAAgAAAAABAAAAAAAAAAEAAAEAAAAAAQAABQAAAAABAAACAAAAAAEAAAAAAAAAAQAAAQAAAAABAAAFAAAAAAEAAAIAAAAAAQAAAAAAAAABAAABAAAAABxzdHNjAAAAAAAAAAEAAAABAAAAGgAAAAEAAAB8c3RzegAAAAAAAAAAAAAAGgAABMUAAAB6AAAAPgAAADUAAAArAAAAVQAAADgAAAAjAAAAJgAAAEcAAAAyAAAAHgAAACMAAABQAAAAsQAAAD0AAAApAAAANwAAANsAAABhAAAARAAAAEkAAACMAAAAVAAAADwAAAAoAAAAFHN0Y28AAAAAAAAAAQAAADAAAABidWR0YQAAAFptZXRhAAAAAAAAACFoZGxyAAAAAAAAAABtZGlyYXBwbAAAAAAAAAAAAAAAAC1pbHN0AAAAJal0b28AAAAdZGF0YQAAAAEAAAAATGF2ZjU4LjI5LjEwMA==\" type=\"video/mp4\" />\n",
              "                    </video>"
            ],
            "text/plain": [
              "<IPython.core.display.HTML object>"
            ]
          },
          "metadata": {},
          "output_type": "display_data"
        }
      ],
      "source": [
        "show_video(folder_name)"
      ]
    },
    {
      "cell_type": "markdown",
      "metadata": {
        "id": "ZqZwPeGNW9HI"
      },
      "source": [
        "## 3. Deep Q Networks\n",
        "\n",
        "There are many different types of algorithms/models for RL, which you can do research on in your free time, but today we will be introducing you to Deep Q Networks as we think it strikes a nice balance of being easy to explain, but complicated enough to be interesting.\n",
        "\n",
        "<img src=\"images/deep.jpg\" width=\"700\" height=\"350\">"
      ]
    },
    {
      "cell_type": "markdown",
      "metadata": {},
      "source": [
        "### 3.1 Approximating $\\pi^*$ with a Q-function\n",
        "\n",
        "Q-learning in general are a set of **value based methods** (which we mentioned earlier), meaning instead of training on the policy directly they train to find an optimal value function which leads to having an optimal policy.\n",
        "\n",
        "In this case the value function the model trains on is called the Q-function, an **action-value function** that determines the value of being at a particular state and taking a specific action at that state. The *link between value and policy* is represented in the equation here:\n",
        "\n",
        "$$\\pi^* = \\underset{a}{\\text{argmax}}\\ Q^*(s,a)$$\n",
        "\n",
        "### 3.2 Maths\n",
        "\n",
        "### 3.2.1 Bellman Equation\n",
        "\n",
        "Directly computing the cumulative reward for all future timesteps for a given state can be a computationally competitive task if you are doing it at each action. Which is why instead we use the **Bellman Equation** which is a recursive equation that considers the value of a state as the immediate reward and the discounted value of the state that follows.\n",
        "\n",
        "<img src=\"images/bellman4.jpg\" width=\"700\" height=\"380\">\n",
        "\n",
        "Remember:\n",
        "* $\\gamma$: `Discount Rate` represented by *gamma* between 0-1\n",
        "\n",
        "\n",
        "### 3.2.2 Temporal Difference Learning Approach\n",
        "\n",
        "There are two main types of strategies:\n",
        "* Monte Carlo Approach - Learning after each episode\n",
        "* Temporal Difference Learning Approach - Learning after each step\n",
        "\n",
        "Q-Learning uses a TD approach which includes the Bellman Equation\n",
        "\n",
        "<img src=\"images/TD-1.jpg\" width=\"700\" height=\"400\">\n",
        "\n",
        "### 3.2.3 Epsilon Greedy Algorithm\n",
        "\n",
        "In RL it is importat to have a policy that governs the **exploitatio-exploration tradeoff**. That is do we exploit our prior knowledge gained during learning and move according to what we currently have calculated as the best action for a given state or do we explore and select a different action in the hopes of finding a better route/set of actions?\n",
        "\n",
        "We use an **epsilon greedy policy** where $\\epsilon$ represents the probability of exploration (selecting a random action) and $1-\\epsilon$ represents the probability of exploitation. $\\epsilon$ is a number from 1-0.\n",
        "\n",
        "At the beginning As Q gets better and better with progressive training we slowly decrease $\\epsilon$ more and more according to a decay rate. This changes the policy to go from a higher ratio of exploration, to a higher ratio of exploitation.\n",
        "\n",
        "### 3.2.4 Q-Learning\n",
        "\n",
        "Bringing that all together we get the Q-Learning algorithm\n",
        "\n",
        "<img src=\"images/Q-learning-2.jpg\" width=\"700\" height=\"400\">\n",
        "\n",
        "### 3.2.5 Deep Q-Learning (DQN)\n",
        "\n",
        "Deep Q-Learning uses a deep neural network to approximate the different Q-values for each possible action at a state (value-function estimation).\n",
        "\n",
        "The difference is that, during the training phase, instead of updating the Q-value of a state-action pair directly as we have done with Q-Learning, in Deep Q-Learning, we create a loss function that compares our Q-value prediction and the Q-target and uses gradient descent to update the weights of our Deep Q-Network to approximate our Q-values better.\n",
        "\n",
        "<img src=\"images/q-ex-5.jpg\" width=\"700\" height=\"400\">\n",
        "\n",
        "<img src=\"images/Q-target.jpg\" width=\"700\" height=\"400\">\n",
        "\n",
        "* Where $\\delta$ represents temporal difference error, the equation looks like this:\n",
        "\n",
        "$$\\delta = Q(s, a) - (r + \\gamma \\max_{a}' Q(s', a'))$$\n",
        "\n",
        "* To minimize this error we use the [Huber Loss](https://en.wikipedia.org/wiki/Huber_loss). The Huber loss acts like the mean squared error when the error is small, but like the mean absolute error when the error is large.\n",
        "\n",
        "* There is also an additional feature of an **experience replay** which has two functions:\n",
        "    1. Make **more efficient use of the experiences** during the training. Usually, in online reinforcement learning, the agent interacts with the environment, gets experiences (state, action, reward, and next state), learns from them (updates the neural network), and discards them. This is not efficient.\n",
        "\n",
        "    2. Avoid forgetting previous experiences (aka catastrophic interference, or catastrophic forgetting) and reduce the correlation between experiences.\n",
        "        * **catastrophic forgetting**: The problem we get if we give sequential samples of experiences to our neural network is that it tends to forget the previous experiences as it gets new experiences. For instance, if the agent is in the first level and then in the second, which is different, it can forget how to behave and play in the first level.\n",
        "\n",
        "Here is the pseudocode for DQN:\n",
        "\n",
        "<img src=\"images/sampling-training.jpg\" width=\"700\" height=\"400\">\n"
      ]
    },
    {
      "cell_type": "markdown",
      "metadata": {},
      "source": [
        "### 3.3 Train a DQN\n",
        "\n",
        "The following is the code from here: https://pytorch.org/tutorials/intermediate/reinforcement_q_learning.html\n",
        " \n",
        "If you want more detail on the specifics of the code, we encouorage you to read through it.\n",
        "\n",
        "Now that you understand the basic overview of a DQN its time to actually train one on the `'CartPole-v1'` Gymnasium environment!"
      ]
    },
    {
      "cell_type": "code",
      "execution_count": 39,
      "metadata": {
        "id": "YiaXSBipW8lw"
      },
      "outputs": [],
      "source": [
        "Transition = namedtuple('Transition',\n",
        "                        ('state', 'action', 'next_state', 'reward'))\n",
        "\n",
        "\n",
        "class ReplayMemory(object):\n",
        "\n",
        "    def __init__(self, capacity):\n",
        "        self.memory = deque([], maxlen=capacity)\n",
        "\n",
        "    def push(self, *args):\n",
        "        \"\"\"Save a transition\"\"\"\n",
        "        self.memory.append(Transition(*args))\n",
        "\n",
        "    def sample(self, batch_size):\n",
        "        return random.sample(self.memory, batch_size)\n",
        "\n",
        "    def __len__(self):\n",
        "        return len(self.memory)"
      ]
    },
    {
      "cell_type": "code",
      "execution_count": 40,
      "metadata": {
        "id": "l6pbi-BwToeQ"
      },
      "outputs": [],
      "source": [
        "class DQN(nn.Module):\n",
        "\n",
        "    def __init__(self, n_observations, n_actions):\n",
        "        super(DQN, self).__init__()\n",
        "        self.layer1 = nn.Linear(n_observations, 128)\n",
        "        self.layer2 = nn.Linear(128, 128)\n",
        "        self.layer3 = nn.Linear(128, n_actions)\n",
        "\n",
        "    # Called with either one element to determine next action, or a batch\n",
        "    # during optimization. Returns tensor([[left0exp,right0exp]...]).\n",
        "    def forward(self, x):\n",
        "        x = F.relu(self.layer1(x))\n",
        "        x = F.relu(self.layer2(x))\n",
        "        return self.layer3(x)"
      ]
    },
    {
      "cell_type": "code",
      "execution_count": 41,
      "metadata": {
        "id": "xTX4-jUBWSJT"
      },
      "outputs": [],
      "source": [
        "# BATCH_SIZE is the number of transitions sampled from the replay buffer\n",
        "# GAMMA is the discount factor as mentioned in the previous section\n",
        "# EPS_START is the starting value of epsilon\n",
        "# EPS_END is the final value of epsilon\n",
        "# EPS_DECAY controls the rate of exponential decay of epsilon, higher means a slower decay\n",
        "# TAU is the update rate of the target network\n",
        "# LR is the learning rate of the ``AdamW`` optimizer\n",
        "BATCH_SIZE = 128\n",
        "GAMMA = 0.99\n",
        "EPS_START = 0.9\n",
        "EPS_END = 0.05\n",
        "EPS_DECAY = 1000\n",
        "TAU = 0.005\n",
        "LR = 1e-4\n",
        "\n",
        "# Get number of actions from gym action space\n",
        "n_actions = env.action_space.n\n",
        "# Get the number of state observations\n",
        "state, info = env.reset()\n",
        "n_observations = len(state)\n",
        "\n",
        "policy_net = DQN(n_observations, n_actions).to(device)\n",
        "target_net = DQN(n_observations, n_actions).to(device)\n",
        "target_net.load_state_dict(policy_net.state_dict())\n",
        "\n",
        "optimizer = optim.AdamW(policy_net.parameters(), lr=LR, amsgrad=True)\n",
        "memory = ReplayMemory(10000)\n",
        "\n",
        "\n",
        "steps_done = 0\n",
        "\n",
        "\n",
        "def select_action(state):\n",
        "    global steps_done\n",
        "    sample = random.random()\n",
        "    eps_threshold = EPS_END + (EPS_START - EPS_END) * \\\n",
        "        math.exp(-1. * steps_done / EPS_DECAY)\n",
        "    steps_done += 1\n",
        "    if sample > eps_threshold:\n",
        "        with torch.no_grad():\n",
        "            # t.max(1) will return the largest column value of each row.\n",
        "            # second column on max result is index of where max element was\n",
        "            # found, so we pick action with the larger expected reward.\n",
        "            return policy_net(state).max(1).indices.view(1, 1)\n",
        "    else:\n",
        "        return torch.tensor([[env.action_space.sample()]], device=device, dtype=torch.long)\n",
        "\n",
        "\n",
        "episode_durations = []\n",
        "\n",
        "\n",
        "def plot_durations(show_result=False):\n",
        "    plt.figure(1)\n",
        "    durations_t = torch.tensor(episode_durations, dtype=torch.float)\n",
        "    if show_result:\n",
        "        plt.title('Result')\n",
        "    else:\n",
        "        plt.clf()\n",
        "        plt.title('Training...')\n",
        "    plt.xlabel('Episode')\n",
        "    plt.ylabel('Duration')\n",
        "    plt.plot(durations_t.numpy())\n",
        "    # Take 100 episode averages and plot them too\n",
        "    if len(durations_t) >= 100:\n",
        "        means = durations_t.unfold(0, 100, 1).mean(1).view(-1)\n",
        "        means = torch.cat((torch.zeros(99), means))\n",
        "        plt.plot(means.numpy())\n",
        "\n",
        "    plt.pause(0.001)  # pause a bit so that plots are updated\n",
        "    if is_ipython:\n",
        "        if not show_result:\n",
        "            ipythondisplay.display(plt.gcf())\n",
        "            ipythondisplay.clear_output(wait=True)\n",
        "        else:\n",
        "            ipythondisplay.display(plt.gcf())"
      ]
    },
    {
      "cell_type": "code",
      "execution_count": 42,
      "metadata": {
        "id": "GWXFcjLsWhNE"
      },
      "outputs": [],
      "source": [
        "def optimize_model():\n",
        "    if len(memory) < BATCH_SIZE:\n",
        "        return\n",
        "    transitions = memory.sample(BATCH_SIZE)\n",
        "    # Transpose the batch (see https://stackoverflow.com/a/19343/3343043 for\n",
        "    # detailed explanation). This converts batch-array of Transitions\n",
        "    # to Transition of batch-arrays.\n",
        "    batch = Transition(*zip(*transitions))\n",
        "\n",
        "    # Compute a mask of non-final states and concatenate the batch elements\n",
        "    # (a final state would've been the one after which simulation ended)\n",
        "    non_final_mask = torch.tensor(tuple(map(lambda s: s is not None,\n",
        "                                          batch.next_state)), device=device, dtype=torch.bool)\n",
        "    non_final_next_states = torch.cat([s for s in batch.next_state\n",
        "                                                if s is not None])\n",
        "    state_batch = torch.cat(batch.state)\n",
        "    action_batch = torch.cat(batch.action)\n",
        "    reward_batch = torch.cat(batch.reward)\n",
        "\n",
        "    # Compute Q(s_t, a) - the model computes Q(s_t), then we select the\n",
        "    # columns of actions taken. These are the actions which would've been taken\n",
        "    # for each batch state according to policy_net\n",
        "    state_action_values = policy_net(state_batch).gather(1, action_batch)\n",
        "\n",
        "    # Compute V(s_{t+1}) for all next states.\n",
        "    # Expected values of actions for non_final_next_states are computed based\n",
        "    # on the \"older\" target_net; selecting their best reward with max(1).values\n",
        "    # This is merged based on the mask, such that we'll have either the expected\n",
        "    # state value or 0 in case the state was final.\n",
        "    next_state_values = torch.zeros(BATCH_SIZE, device=device)\n",
        "    with torch.no_grad():\n",
        "        next_state_values[non_final_mask] = target_net(non_final_next_states).max(1).values\n",
        "    # Compute the expected Q values\n",
        "    expected_state_action_values = (next_state_values * GAMMA) + reward_batch\n",
        "\n",
        "    # Compute Huber loss\n",
        "    criterion = nn.SmoothL1Loss()\n",
        "    loss = criterion(state_action_values, expected_state_action_values.unsqueeze(1))\n",
        "\n",
        "    # Optimize the model\n",
        "    optimizer.zero_grad()\n",
        "    loss.backward()\n",
        "    # In-place gradient clipping\n",
        "    torch.nn.utils.clip_grad_value_(policy_net.parameters(), 100)\n",
        "    optimizer.step()"
      ]
    },
    {
      "cell_type": "code",
      "execution_count": 43,
      "metadata": {
        "colab": {
          "base_uri": "https://localhost:8080/",
          "height": 524
        },
        "id": "0sVkpLBjXZZz",
        "outputId": "1ed8f913-7652-4b9d-a37b-a0a40afd90d1"
      },
      "outputs": [],
      "source": [
        "def train_loop(environment, episodes):\n",
        "\n",
        "    num_episodes = episodes\n",
        "    env = environment\n",
        "\n",
        "    for i_episode in range(num_episodes):\n",
        "        # Initialize the environment and get its state\n",
        "        state, info = env.reset()\n",
        "        state = torch.tensor(state, dtype=torch.float32, device=device).unsqueeze(0)\n",
        "        for t in count():\n",
        "            action = select_action(state)\n",
        "            observation, reward, terminated, truncated, _ = env.step(action.item())\n",
        "            reward = torch.tensor([reward], device=device)\n",
        "            done = terminated or truncated\n",
        "\n",
        "            if terminated:\n",
        "                next_state = None\n",
        "            else:\n",
        "                next_state = torch.tensor(observation, dtype=torch.float32, device=device).unsqueeze(0)\n",
        "\n",
        "            # Store the transition in memory\n",
        "            memory.push(state, action, next_state, reward)\n",
        "\n",
        "            # Move to the next state\n",
        "            state = next_state\n",
        "\n",
        "            # Perform one step of the optimization (on the policy network)\n",
        "            optimize_model()\n",
        "\n",
        "            # Soft update of the target network's weights\n",
        "            # θ′ ← τ θ + (1 −τ )θ′\n",
        "            target_net_state_dict = target_net.state_dict()\n",
        "            policy_net_state_dict = policy_net.state_dict()\n",
        "            for key in policy_net_state_dict:\n",
        "                target_net_state_dict[key] = policy_net_state_dict[key]*TAU + target_net_state_dict[key]*(1-TAU)\n",
        "            target_net.load_state_dict(target_net_state_dict)\n",
        "\n",
        "            if done:\n",
        "                episode_durations.append(t + 1)\n",
        "                plot_durations()\n",
        "                break\n",
        "\n",
        "    print('Complete')\n",
        "    plot_durations(show_result=True)\n",
        "    plt.ioff()\n",
        "    plt.show()"
      ]
    },
    {
      "cell_type": "code",
      "execution_count": 44,
      "metadata": {},
      "outputs": [
        {
          "data": {
            "image/png": "[encoded data removed]",
            "text/plain": [
              "<Figure size 640x480 with 1 Axes>"
            ]
          },
          "metadata": {},
          "output_type": "display_data"
        },
        {
          "data": {
            "text/plain": [
              "<Figure size 640x480 with 0 Axes>"
            ]
          },
          "metadata": {},
          "output_type": "display_data"
        }
      ],
      "source": [
        "train_loop(env, 400)"
      ]
    },
    {
      "cell_type": "markdown",
      "metadata": {},
      "source": [
        "Its possible that in the above graph if you train for too long you may experience a [catastrophic drop](https://ai.stackexchange.com/questions/28079/deep-q-learning-catastrophic-drop-reasons). Play around with running the code multiple times and with different episode lengths to see this effect as well as the model differing in the duration it is able to find between runs."
      ]
    },
    {
      "cell_type": "code",
      "execution_count": null,
      "metadata": {},
      "outputs": [
        {
          "data": {
            "text/html": [
              "<video alt=\"test\" autoplay\n",
              "                    loop controls style=\"height: 400px;\">\n",
              "                    <source src=\"data:video/mp4;base64,AAAAIGZ0eXBpc29tAAACAGlzb21pc28yYXZjMW1wNDEAAAAIZnJlZQAACKZtZGF0AAACrgYF//+q3EXpvebZSLeWLNgg2SPu73gyNjQgLSBjb3JlIDE1OSByMjk5MSAxNzcxYjU1IC0gSC4yNjQvTVBFRy00IEFWQyBjb2RlYyAtIENvcHlsZWZ0IDIwMDMtMjAxOSAtIGh0dHA6Ly93d3cudmlkZW9sYW4ub3JnL3gyNjQuaHRtbCAtIG9wdGlvbnM6IGNhYmFjPTEgcmVmPTMgZGVibG9jaz0xOjA6MCBhbmFseXNlPTB4MzoweDExMyBtZT1oZXggc3VibWU9NyBwc3k9MSBwc3lfcmQ9MS4wMDowLjAwIG1peGVkX3JlZj0xIG1lX3JhbmdlPTE2IGNocm9tYV9tZT0xIHRyZWxsaXM9MSA4eDhkY3Q9MSBjcW09MCBkZWFkem9uZT0yMSwxMSBmYXN0X3Bza2lwPTEgY2hyb21hX3FwX29mZnNldD0tMiB0aHJlYWRzPTMgbG9va2FoZWFkX3RocmVhZHM9MSBzbGljZWRfdGhyZWFkcz0wIG5yPTAgZGVjaW1hdGU9MSBpbnRlcmxhY2VkPTAgYmx1cmF5X2NvbXBhdD0wIGNvbnN0cmFpbmVkX2ludHJhPTAgYmZyYW1lcz0zIGJfcHlyYW1pZD0yIGJfYWRhcHQ9MSBiX2JpYXM9MCBkaXJlY3Q9MSB3ZWlnaHRiPTEgb3Blbl9nb3A9MCB3ZWlnaHRwPTIga2V5aW50PTI1MCBrZXlpbnRfbWluPTI1IHNjZW5lY3V0PTQwIGludHJhX3JlZnJlc2g9MCByY19sb29rYWhlYWQ9NDAgcmM9Y3JmIG1idHJlZT0xIGNyZj0yMy4wIHFjb21wPTAuNjAgcXBtaW49MCBxcG1heD02OSBxcHN0ZXA9NCBpcF9yYXRpbz0xLjQwIGFxPTE6MS4wMACAAAACHWWIhAAv//72rvzLK0cLlS4dWXuzUfLoSXL9iDB9aAAAAwAAAwAAJuKiZ0WFMeJsgAAALmAIWElDyDzETFWKgSvGXwTjAgAK754uAOquIzFzxboHJiKVyM+kxD7y/DoetXHnWpclfwxI0ChAwV7oKpx+2MLfJ3onLM2odMhz35FiWOepm6YWvUz570e/J7AAgvvHMP/jBFQSMU13D7sZINjGvMZBXCHzQAdjcSrQaXX2vZTVKhIwGjfdXUPZionzKsqgXHquIWeH7+JAu2y7ALyjDSexK19JuoGFRZ9rlqgNoGOMcWdw1Ek0fBQLvHsMVVNvcbXt9yoSH9WyksmbvHpCuK3AZ/zWQm7DJ6435n1YUZ3ZDiK+z1PaKY9JH9EGOA1I9F+FY2gdJlcpnX7BVD/XoLy1suMyqs5gqIRTgyauzLyxLZ3dqemaJgLHc/upCLfeNifnDBe6z4KLDPsi/LsY1uM0AcgilzXcue3JCDylQMvRPZ8nUwHvNoZLkczq1KvdqUS+elJx/+bFB4TZA0cMPki0Ls9IvE7pVUipPKWyXvxAAxXYj0Xa+/yOKcxkRFIzCSsxbLkCJaG31EdEA6bASkvbfkX/2OUz/OfUyOsxZnwmdFqX1ZrhOJl4Vm74LvgABP8yiXA17rcSePI5gP+ELy/T++kzWIm+hGtaJH7//jM5fnodCYvEBZee+ySGziBGiE8AAAMAAAMAD7kAAABwQZojbEK//jhAAABm9rY8Tvfi6QMeizn2QAAjACEaVAksQrCx034iaJtXCvPfcMXYJFFdov0VKeVRLTvDUzR1eZQM5oXSUvhy6/9Ild3ti52TNIH5vQyKUulXN7ZINMDgz7/1cf4ghXgI/e49MsBerwAAACdBnkF4hH8AAAhwJdni6BqCm9n99Fx2CEcc2tbf5RMbmHfZVtknAYEAAAAfAZ5iakf/AAANhJUugAzxM2cWLijT6wo9cOghW/fZ8AAAALVBmmVJqEFomUwU8K/+OEAAAQz2niwmQ0Jee79dRks1wIGi8o1YAoyRzTghP+UMGrc1YdQqtwHDbecgxP7zjiYGqf31yAzaSO0MC+cp179KoPc5aiRgThD1eFG8OgkEBuU96wt+Mlg2LgJqgQXD7qfbyCaWlCyAqliXudfFQgy9/ld1EX18AZxR4nBbmcJ29ezcSXbnOdHdu6Jire8A5uoaTKQB6BvglyHyDfu6Etnm0E6+KeibAAAARwGehGpH/wAAI6NqEYH82fRvugP5MaJAAtGedQPHclpvqAVtfRg9SgOOOfTIKH/FGH4vSFe+MHULJJzQPXlkt9/0fLnJgvFhAAAAt0GaiUnhClJlMCEf/eEAAAQTSiSAiaozoAbhUQ3QLrXlx7xjvSWMCBy+T73ubL/Dfm4tKaAMtjSolV6jilO8uyCrhdDRuXqXbpXPC6QUypeCL8JGKvGsoGkODdA/io5CzwmNpLb/Es7gtB6janqILvJP5JS3TtG6ShOApBB3suVFme1w2gOdVPjkjAcCq0zw1SBkMIzNTrcIDi4VIhzMXv7w9POerPAJel1J72b0KN3IS3ASeB8S4QAAAGFBnqdFNEwj/wAAFrtopAIoZCdlW4lFJZQ4yjgx0v6iJ4voGw4cocitpzM72ZKKsmv9AaKYX2p1itcQD4+uxDMA25JOgvsV0mBdrDiv5u0ABpmncslLfUdxqOLvzxXXf2vBAAAARQGexnRH/wAAI6oJJ+PvTAQPeqBnvlCcMDVM6NJlkI2Dk7BuX6n75MG2f+Plkxv6uh7nv7RJq5HwA/g+0ePwB0ht+/xFgAAAAFEBnshqR/8AACOuLQZQGzh74imE1TSpmmOXXUSToAUw4G1sEjLfHwyIkvZQqzbansawCNYgDVxXvaYiAgAbRz6jxB8/SsEg86tlzDVgn77yr3AAAABDQZrKSahBaJlMCP/8hAAAD++iO6Po+GwARxGCAeHFpkXmBKeaLDMrcWXYYnGAjU0PCgHVVjZRkeMHeeT709gF/Y+cbwAAA49tb292AAAAbG12aGQAAAAAAAAAAAAAAAAAAAPoAAAA3AABAAABAAAAAAAAAAAAAAAAAQAAAAAAAAAAAAAAAAAAAAEAAAAAAAAAAAAAAAAAAEAAAAAAAAAAAAAAAAAAAAAAAAAAAAAAAAAAAAAAAAACAAACuXRyYWsAAABcdGtoZAAAAAMAAAAAAAAAAAAAAAEAAAAAAAAA3AAAAAAAAAAAAAAAAAAAAAAAAQAAAAAAAAAAAAAAAAAAAAEAAAAAAAAAAAAAAAAAAEAAAAACWAAAAZAAAAAAACRlZHRzAAAAHGVsc3QAAAAAAAAAAQAAANwAAAIAAAEAAAAAAjFtZGlhAAAAIG1kaGQAAAAAAAAAAAAAAAAAADIAAAALAFXEAAAAAAAtaGRscgAAAAAAAAAAdmlkZQAAAAAAAAAAAAAAAFZpZGVvSGFuZGxlcgAAAAHcbWluZgAAABR2bWhkAAAAAQAAAAAAAAAAAAAAJGRpbmYAAAAcZHJlZgAAAAAAAAABAAAADHVybCAAAAABAAABnHN0YmwAAACYc3RzZAAAAAAAAAABAAAAiGF2YzEAAAAAAAAAAQAAAAAAAAAAAAAAAAAAAAACWAGQAEgAAABIAAAAAAAAAAEAAAAAAAAAAAAAAAAAAAAAAAAAAAAAAAAAAAAAAAAAAAAY//8AAAAyYXZjQwFkAB//4QAZZ2QAH6zZQJgz5eEAAAMAAQAAAwBkDxgxlgEABmjr48siwAAAABhzdHRzAAAAAAAAAAEAAAALAAABAAAAABRzdHNzAAAAAAAAAAEAAAABAAAAYGN0dHMAAAAAAAAACgAAAAEAAAIAAAAAAQAABAAAAAACAAABAAAAAAEAAAMAAAAAAQAAAQAAAAABAAAFAAAAAAEAAAIAAAAAAQAAAAAAAAABAAABAAAAAAEAAAIAAAAAHHN0c2MAAAAAAAAAAQAAAAEAAAALAAAAAQAAAEBzdHN6AAAAAAAAAAAAAAALAAAE0wAAAHQAAAArAAAAIwAAALkAAABLAAAAuwAAAGUAAABJAAAAVQAAAEcAAAAUc3RjbwAAAAAAAAABAAAAMAAAAGJ1ZHRhAAAAWm1ldGEAAAAAAAAAIWhkbHIAAAAAAAAAAG1kaXJhcHBsAAAAAAAAAAAAAAAALWlsc3QAAAAlqXRvbwAAAB1kYXRhAAAAAQAAAABMYXZmNTguMjkuMTAw\" type=\"video/mp4\" />\n",
              "                    </video>"
            ],
            "text/plain": [
              "<IPython.core.display.HTML object>"
            ]
          },
          "metadata": {},
          "output_type": "display_data"
        }
      ],
      "source": [
        "show_video(folder_name, episode = 'first')"
      ]
    },
    {
      "cell_type": "code",
      "execution_count": null,
      "metadata": {
        "colab": {
          "base_uri": "https://localhost:8080/",
          "height": 421
        },
        "id": "gTTuNd_nX3dh",
        "outputId": "cd255b39-551c-4917-fbc2-daf5eba3e6b7"
      },
      "outputs": [
        {
          "data": {
            "text/html": [
              "<video alt=\"test\" autoplay\n",
              "                    loop controls style=\"height: 400px;\">\n",
              "                    <source src=\"data:video/mp4;base64,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\" type=\"video/mp4\" />\n",
              "                    </video>"
            ],
            "text/plain": [
              "<IPython.core.display.HTML object>"
            ]
          },
          "metadata": {},
          "output_type": "display_data"
        }
      ],
      "source": [
        "show_video(folder_name, episode = 'last')"
      ]
    },
    {
      "cell_type": "markdown",
      "metadata": {},
      "source": [
        "## Question 2\n",
        "Has the model learned? What metrics did you use to determine that?"
      ]
    },
    {
      "cell_type": "markdown",
      "metadata": {},
      "source": [
        "<span style=\"color:green\">Answer</span>"
      ]
    },
    {
      "cell_type": "markdown",
      "metadata": {},
      "source": [
        "## Question 3 (Understanding the code)\n",
        "Hint: Use this as reference -> https://pytorch.org/tutorials/intermediate/reinforcement_q_learning.html\n",
        "\n",
        "3A. Copy and paste the section of the code where the epsilon greedy algorithm is implemented."
      ]
    },
    {
      "cell_type": "code",
      "execution_count": null,
      "metadata": {},
      "outputs": [],
      "source": [
        "#####ANSWER#####"
      ]
    },
    {
      "cell_type": "markdown",
      "metadata": {},
      "source": [
        "3B. Line-by-line explain in your own words how this code works. Remember that you can use backticks \"\\`\" to denote `code`."
      ]
    },
    {
      "cell_type": "markdown",
      "metadata": {},
      "source": [
        "<span style=\"color:green\">Answer</span>"
      ]
    },
    {
      "cell_type": "markdown",
      "metadata": {},
      "source": [
        "3C. Copy and paste the section of the code where the expected Q Values are calculated."
      ]
    },
    {
      "cell_type": "code",
      "execution_count": null,
      "metadata": {},
      "outputs": [],
      "source": [
        "#####ANSWER#####"
      ]
    },
    {
      "cell_type": "markdown",
      "metadata": {},
      "source": [
        "3D. Line-by-line explain in your own words how this code works. Remember that you can use backticks \"\\`\" to denote `code`."
      ]
    },
    {
      "cell_type": "markdown",
      "metadata": {},
      "source": [
        "<span style=\"color:green\">Answer</span>"
      ]
    },
    {
      "cell_type": "markdown",
      "metadata": {},
      "source": [
        "# Work in progress:"
      ]
    },
    {
      "cell_type": "code",
      "execution_count": null,
      "metadata": {},
      "outputs": [
        {
          "name": "stdout",
          "output_type": "stream",
          "text": [
            "Using cpu device\n",
            "Wrapping the env with a `Monitor` wrapper\n",
            "Wrapping the env in a DummyVecEnv.\n"
          ]
        },
        {
          "ename": "ValueError",
          "evalue": "setting an array element with a sequence. The requested array has an inhomogeneous shape after 1 dimensions. The detected shape was (4,) + inhomogeneous part.",
          "output_type": "error",
          "traceback": [
            "\u001b[0;31m---------------------------------------------------------------------------\u001b[0m",
            "\u001b[0;31mValueError\u001b[0m                                Traceback (most recent call last)",
            "Cell \u001b[0;32mIn[20], line 16\u001b[0m\n\u001b[1;32m     13\u001b[0m model \u001b[38;5;241m=\u001b[39m SAC(\u001b[38;5;124m\"\u001b[39m\u001b[38;5;124mMlpPolicy\u001b[39m\u001b[38;5;124m\"\u001b[39m, init_env, verbose\u001b[38;5;241m=\u001b[39m\u001b[38;5;241m1\u001b[39m, learning_rate\u001b[38;5;241m=\u001b[39m\u001b[38;5;241m.001\u001b[39m,batch_size\u001b[38;5;241m=\u001b[39m\u001b[38;5;241m256\u001b[39m, buffer_size\u001b[38;5;241m=\u001b[39m\u001b[38;5;241m100000\u001b[39m)\n\u001b[1;32m     14\u001b[0m \u001b[38;5;66;03m# model.set_logger(new_logger)\u001b[39;00m\n\u001b[0;32m---> 16\u001b[0m \u001b[43mmodel\u001b[49m\u001b[38;5;241;43m.\u001b[39;49m\u001b[43mlearn\u001b[49m\u001b[43m(\u001b[49m\u001b[43mtotal_timesteps\u001b[49m\u001b[38;5;241;43m=\u001b[39;49m\u001b[38;5;241;43m10\u001b[39;49m\u001b[43m,\u001b[49m\u001b[43m \u001b[49m\u001b[43mlog_interval\u001b[49m\u001b[38;5;241;43m=\u001b[39;49m\u001b[38;5;241;43m4\u001b[39;49m\u001b[43m)\u001b[49m\n\u001b[1;32m     18\u001b[0m rewards \u001b[38;5;241m=\u001b[39m []\n\u001b[1;32m     19\u001b[0m reward_trials \u001b[38;5;241m=\u001b[39m []\n",
            "File \u001b[0;32m~/.python/current/lib/python3.10/site-packages/stable_baselines3/sac/sac.py:307\u001b[0m, in \u001b[0;36mSAC.learn\u001b[0;34m(self, total_timesteps, callback, log_interval, tb_log_name, reset_num_timesteps, progress_bar)\u001b[0m\n\u001b[1;32m    298\u001b[0m \u001b[38;5;28;01mdef\u001b[39;00m \u001b[38;5;21mlearn\u001b[39m(\n\u001b[1;32m    299\u001b[0m     \u001b[38;5;28mself\u001b[39m: SelfSAC,\n\u001b[1;32m    300\u001b[0m     total_timesteps: \u001b[38;5;28mint\u001b[39m,\n\u001b[0;32m   (...)\u001b[0m\n\u001b[1;32m    305\u001b[0m     progress_bar: \u001b[38;5;28mbool\u001b[39m \u001b[38;5;241m=\u001b[39m \u001b[38;5;28;01mFalse\u001b[39;00m,\n\u001b[1;32m    306\u001b[0m ) \u001b[38;5;241m-\u001b[39m\u001b[38;5;241m>\u001b[39m SelfSAC:\n\u001b[0;32m--> 307\u001b[0m     \u001b[38;5;28;01mreturn\u001b[39;00m \u001b[38;5;28;43msuper\u001b[39;49m\u001b[43m(\u001b[49m\u001b[43m)\u001b[49m\u001b[38;5;241;43m.\u001b[39;49m\u001b[43mlearn\u001b[49m\u001b[43m(\u001b[49m\n\u001b[1;32m    308\u001b[0m \u001b[43m        \u001b[49m\u001b[43mtotal_timesteps\u001b[49m\u001b[38;5;241;43m=\u001b[39;49m\u001b[43mtotal_timesteps\u001b[49m\u001b[43m,\u001b[49m\n\u001b[1;32m    309\u001b[0m \u001b[43m        \u001b[49m\u001b[43mcallback\u001b[49m\u001b[38;5;241;43m=\u001b[39;49m\u001b[43mcallback\u001b[49m\u001b[43m,\u001b[49m\n\u001b[1;32m    310\u001b[0m \u001b[43m        \u001b[49m\u001b[43mlog_interval\u001b[49m\u001b[38;5;241;43m=\u001b[39;49m\u001b[43mlog_interval\u001b[49m\u001b[43m,\u001b[49m\n\u001b[1;32m    311\u001b[0m \u001b[43m        \u001b[49m\u001b[43mtb_log_name\u001b[49m\u001b[38;5;241;43m=\u001b[39;49m\u001b[43mtb_log_name\u001b[49m\u001b[43m,\u001b[49m\n\u001b[1;32m    312\u001b[0m \u001b[43m        \u001b[49m\u001b[43mreset_num_timesteps\u001b[49m\u001b[38;5;241;43m=\u001b[39;49m\u001b[43mreset_num_timesteps\u001b[49m\u001b[43m,\u001b[49m\n\u001b[1;32m    313\u001b[0m \u001b[43m        \u001b[49m\u001b[43mprogress_bar\u001b[49m\u001b[38;5;241;43m=\u001b[39;49m\u001b[43mprogress_bar\u001b[49m\u001b[43m,\u001b[49m\n\u001b[1;32m    314\u001b[0m \u001b[43m    \u001b[49m\u001b[43m)\u001b[49m\n",
            "File \u001b[0;32m~/.python/current/lib/python3.10/site-packages/stable_baselines3/common/off_policy_algorithm.py:328\u001b[0m, in \u001b[0;36mOffPolicyAlgorithm.learn\u001b[0;34m(self, total_timesteps, callback, log_interval, tb_log_name, reset_num_timesteps, progress_bar)\u001b[0m\n\u001b[1;32m    325\u001b[0m \u001b[38;5;28;01massert\u001b[39;00m \u001b[38;5;28misinstance\u001b[39m(\u001b[38;5;28mself\u001b[39m\u001b[38;5;241m.\u001b[39mtrain_freq, TrainFreq)  \u001b[38;5;66;03m# check done in _setup_learn()\u001b[39;00m\n\u001b[1;32m    327\u001b[0m \u001b[38;5;28;01mwhile\u001b[39;00m \u001b[38;5;28mself\u001b[39m\u001b[38;5;241m.\u001b[39mnum_timesteps \u001b[38;5;241m<\u001b[39m total_timesteps:\n\u001b[0;32m--> 328\u001b[0m     rollout \u001b[38;5;241m=\u001b[39m \u001b[38;5;28;43mself\u001b[39;49m\u001b[38;5;241;43m.\u001b[39;49m\u001b[43mcollect_rollouts\u001b[49m\u001b[43m(\u001b[49m\n\u001b[1;32m    329\u001b[0m \u001b[43m        \u001b[49m\u001b[38;5;28;43mself\u001b[39;49m\u001b[38;5;241;43m.\u001b[39;49m\u001b[43menv\u001b[49m\u001b[43m,\u001b[49m\n\u001b[1;32m    330\u001b[0m \u001b[43m        \u001b[49m\u001b[43mtrain_freq\u001b[49m\u001b[38;5;241;43m=\u001b[39;49m\u001b[38;5;28;43mself\u001b[39;49m\u001b[38;5;241;43m.\u001b[39;49m\u001b[43mtrain_freq\u001b[49m\u001b[43m,\u001b[49m\n\u001b[1;32m    331\u001b[0m \u001b[43m        \u001b[49m\u001b[43maction_noise\u001b[49m\u001b[38;5;241;43m=\u001b[39;49m\u001b[38;5;28;43mself\u001b[39;49m\u001b[38;5;241;43m.\u001b[39;49m\u001b[43maction_noise\u001b[49m\u001b[43m,\u001b[49m\n\u001b[1;32m    332\u001b[0m \u001b[43m        \u001b[49m\u001b[43mcallback\u001b[49m\u001b[38;5;241;43m=\u001b[39;49m\u001b[43mcallback\u001b[49m\u001b[43m,\u001b[49m\n\u001b[1;32m    333\u001b[0m \u001b[43m        \u001b[49m\u001b[43mlearning_starts\u001b[49m\u001b[38;5;241;43m=\u001b[39;49m\u001b[38;5;28;43mself\u001b[39;49m\u001b[38;5;241;43m.\u001b[39;49m\u001b[43mlearning_starts\u001b[49m\u001b[43m,\u001b[49m\n\u001b[1;32m    334\u001b[0m \u001b[43m        \u001b[49m\u001b[43mreplay_buffer\u001b[49m\u001b[38;5;241;43m=\u001b[39;49m\u001b[38;5;28;43mself\u001b[39;49m\u001b[38;5;241;43m.\u001b[39;49m\u001b[43mreplay_buffer\u001b[49m\u001b[43m,\u001b[49m\n\u001b[1;32m    335\u001b[0m \u001b[43m        \u001b[49m\u001b[43mlog_interval\u001b[49m\u001b[38;5;241;43m=\u001b[39;49m\u001b[43mlog_interval\u001b[49m\u001b[43m,\u001b[49m\n\u001b[1;32m    336\u001b[0m \u001b[43m    \u001b[49m\u001b[43m)\u001b[49m\n\u001b[1;32m    338\u001b[0m     \u001b[38;5;28;01mif\u001b[39;00m \u001b[38;5;129;01mnot\u001b[39;00m rollout\u001b[38;5;241m.\u001b[39mcontinue_training:\n\u001b[1;32m    339\u001b[0m         \u001b[38;5;28;01mbreak\u001b[39;00m\n",
            "File \u001b[0;32m~/.python/current/lib/python3.10/site-packages/stable_baselines3/common/off_policy_algorithm.py:560\u001b[0m, in \u001b[0;36mOffPolicyAlgorithm.collect_rollouts\u001b[0;34m(self, env, callback, train_freq, replay_buffer, action_noise, learning_starts, log_interval)\u001b[0m\n\u001b[1;32m    557\u001b[0m actions, buffer_actions \u001b[38;5;241m=\u001b[39m \u001b[38;5;28mself\u001b[39m\u001b[38;5;241m.\u001b[39m_sample_action(learning_starts, action_noise, env\u001b[38;5;241m.\u001b[39mnum_envs)\n\u001b[1;32m    559\u001b[0m \u001b[38;5;66;03m# Rescale and perform action\u001b[39;00m\n\u001b[0;32m--> 560\u001b[0m new_obs, rewards, dones, infos \u001b[38;5;241m=\u001b[39m \u001b[43menv\u001b[49m\u001b[38;5;241;43m.\u001b[39;49m\u001b[43mstep\u001b[49m\u001b[43m(\u001b[49m\u001b[43mactions\u001b[49m\u001b[43m)\u001b[49m\n\u001b[1;32m    562\u001b[0m \u001b[38;5;28mself\u001b[39m\u001b[38;5;241m.\u001b[39mnum_timesteps \u001b[38;5;241m+\u001b[39m\u001b[38;5;241m=\u001b[39m env\u001b[38;5;241m.\u001b[39mnum_envs\n\u001b[1;32m    563\u001b[0m num_collected_steps \u001b[38;5;241m+\u001b[39m\u001b[38;5;241m=\u001b[39m \u001b[38;5;241m1\u001b[39m\n",
            "File \u001b[0;32m~/.python/current/lib/python3.10/site-packages/stable_baselines3/common/vec_env/base_vec_env.py:206\u001b[0m, in \u001b[0;36mVecEnv.step\u001b[0;34m(self, actions)\u001b[0m\n\u001b[1;32m    199\u001b[0m \u001b[38;5;250m\u001b[39m\u001b[38;5;124;03m\"\"\"\u001b[39;00m\n\u001b[1;32m    200\u001b[0m \u001b[38;5;124;03mStep the environments with the given action\u001b[39;00m\n\u001b[1;32m    201\u001b[0m \n\u001b[1;32m    202\u001b[0m \u001b[38;5;124;03m:param actions: the action\u001b[39;00m\n\u001b[1;32m    203\u001b[0m \u001b[38;5;124;03m:return: observation, reward, done, information\u001b[39;00m\n\u001b[1;32m    204\u001b[0m \u001b[38;5;124;03m\"\"\"\u001b[39;00m\n\u001b[1;32m    205\u001b[0m \u001b[38;5;28mself\u001b[39m\u001b[38;5;241m.\u001b[39mstep_async(actions)\n\u001b[0;32m--> 206\u001b[0m \u001b[38;5;28;01mreturn\u001b[39;00m \u001b[38;5;28;43mself\u001b[39;49m\u001b[38;5;241;43m.\u001b[39;49m\u001b[43mstep_wait\u001b[49m\u001b[43m(\u001b[49m\u001b[43m)\u001b[49m\n",
            "File \u001b[0;32m~/.python/current/lib/python3.10/site-packages/stable_baselines3/common/vec_env/dummy_vec_env.py:58\u001b[0m, in \u001b[0;36mDummyVecEnv.step_wait\u001b[0;34m(self)\u001b[0m\n\u001b[1;32m     55\u001b[0m \u001b[38;5;28;01mdef\u001b[39;00m \u001b[38;5;21mstep_wait\u001b[39m(\u001b[38;5;28mself\u001b[39m) \u001b[38;5;241m-\u001b[39m\u001b[38;5;241m>\u001b[39m VecEnvStepReturn:\n\u001b[1;32m     56\u001b[0m     \u001b[38;5;66;03m# Avoid circular imports\u001b[39;00m\n\u001b[1;32m     57\u001b[0m     \u001b[38;5;28;01mfor\u001b[39;00m env_idx \u001b[38;5;129;01min\u001b[39;00m \u001b[38;5;28mrange\u001b[39m(\u001b[38;5;28mself\u001b[39m\u001b[38;5;241m.\u001b[39mnum_envs):\n\u001b[0;32m---> 58\u001b[0m         obs, \u001b[38;5;28mself\u001b[39m\u001b[38;5;241m.\u001b[39mbuf_rews[env_idx], terminated, truncated, \u001b[38;5;28mself\u001b[39m\u001b[38;5;241m.\u001b[39mbuf_infos[env_idx] \u001b[38;5;241m=\u001b[39m \u001b[38;5;28;43mself\u001b[39;49m\u001b[38;5;241;43m.\u001b[39;49m\u001b[43menvs\u001b[49m\u001b[43m[\u001b[49m\u001b[43menv_idx\u001b[49m\u001b[43m]\u001b[49m\u001b[38;5;241;43m.\u001b[39;49m\u001b[43mstep\u001b[49m\u001b[43m(\u001b[49m\n\u001b[1;32m     59\u001b[0m \u001b[43m            \u001b[49m\u001b[38;5;28;43mself\u001b[39;49m\u001b[38;5;241;43m.\u001b[39;49m\u001b[43mactions\u001b[49m\u001b[43m[\u001b[49m\u001b[43menv_idx\u001b[49m\u001b[43m]\u001b[49m\n\u001b[1;32m     60\u001b[0m \u001b[43m        \u001b[49m\u001b[43m)\u001b[49m\n\u001b[1;32m     61\u001b[0m         \u001b[38;5;66;03m# convert to SB3 VecEnv api\u001b[39;00m\n\u001b[1;32m     62\u001b[0m         \u001b[38;5;28mself\u001b[39m\u001b[38;5;241m.\u001b[39mbuf_dones[env_idx] \u001b[38;5;241m=\u001b[39m terminated \u001b[38;5;129;01mor\u001b[39;00m truncated\n",
            "File \u001b[0;32m~/.python/current/lib/python3.10/site-packages/stable_baselines3/common/monitor.py:94\u001b[0m, in \u001b[0;36mMonitor.step\u001b[0;34m(self, action)\u001b[0m\n\u001b[1;32m     92\u001b[0m \u001b[38;5;28;01mif\u001b[39;00m \u001b[38;5;28mself\u001b[39m\u001b[38;5;241m.\u001b[39mneeds_reset:\n\u001b[1;32m     93\u001b[0m     \u001b[38;5;28;01mraise\u001b[39;00m \u001b[38;5;167;01mRuntimeError\u001b[39;00m(\u001b[38;5;124m\"\u001b[39m\u001b[38;5;124mTried to step environment that needs reset\u001b[39m\u001b[38;5;124m\"\u001b[39m)\n\u001b[0;32m---> 94\u001b[0m observation, reward, terminated, truncated, info \u001b[38;5;241m=\u001b[39m \u001b[38;5;28;43mself\u001b[39;49m\u001b[38;5;241;43m.\u001b[39;49m\u001b[43menv\u001b[49m\u001b[38;5;241;43m.\u001b[39;49m\u001b[43mstep\u001b[49m\u001b[43m(\u001b[49m\u001b[43maction\u001b[49m\u001b[43m)\u001b[49m\n\u001b[1;32m     95\u001b[0m \u001b[38;5;28mself\u001b[39m\u001b[38;5;241m.\u001b[39mrewards\u001b[38;5;241m.\u001b[39mappend(\u001b[38;5;28mfloat\u001b[39m(reward))\n\u001b[1;32m     96\u001b[0m \u001b[38;5;28;01mif\u001b[39;00m terminated \u001b[38;5;129;01mor\u001b[39;00m truncated:\n",
            "File \u001b[0;32m/workspaces/WetAI-Reinforcement-Learning/cartpole_continuous.py:173\u001b[0m, in \u001b[0;36mCartPoleContinuousEnv.step\u001b[0;34m(self, action)\u001b[0m\n\u001b[1;32m    169\u001b[0m \u001b[38;5;28;01mif\u001b[39;00m x \u001b[38;5;241m<\u001b[39m \u001b[38;5;241m-\u001b[39m\u001b[38;5;28mself\u001b[39m\u001b[38;5;241m.\u001b[39mx_threshold:\n\u001b[1;32m    170\u001b[0m     x \u001b[38;5;241m=\u001b[39m \u001b[38;5;28mself\u001b[39m\u001b[38;5;241m.\u001b[39mx_threshold \n\u001b[0;32m--> 173\u001b[0m \u001b[38;5;28mself\u001b[39m\u001b[38;5;241m.\u001b[39mstate \u001b[38;5;241m=\u001b[39m \u001b[43mnp\u001b[49m\u001b[38;5;241;43m.\u001b[39;49m\u001b[43marray\u001b[49m\u001b[43m(\u001b[49m\u001b[43m(\u001b[49m\u001b[43mx\u001b[49m\u001b[43m,\u001b[49m\u001b[43m \u001b[49m\u001b[43mx_dot\u001b[49m\u001b[43m,\u001b[49m\u001b[43m \u001b[49m\u001b[43mtheta\u001b[49m\u001b[43m,\u001b[49m\u001b[43m \u001b[49m\u001b[43mtheta_dot\u001b[49m\u001b[43m)\u001b[49m\u001b[43m)\u001b[49m\n\u001b[1;32m    177\u001b[0m terminated \u001b[38;5;241m=\u001b[39m \u001b[38;5;28mbool\u001b[39m(\n\u001b[1;32m    178\u001b[0m     x \u001b[38;5;241m<\u001b[39m \u001b[38;5;241m-\u001b[39m\u001b[38;5;28mself\u001b[39m\u001b[38;5;241m.\u001b[39mx_threshold\n\u001b[1;32m    179\u001b[0m     \u001b[38;5;129;01mor\u001b[39;00m x \u001b[38;5;241m>\u001b[39m \u001b[38;5;28mself\u001b[39m\u001b[38;5;241m.\u001b[39mx_threshold\n\u001b[1;32m    180\u001b[0m     \u001b[38;5;129;01mor\u001b[39;00m theta \u001b[38;5;241m<\u001b[39m \u001b[38;5;241m-\u001b[39m\u001b[38;5;28mself\u001b[39m\u001b[38;5;241m.\u001b[39mtheta_threshold_radians\n\u001b[1;32m    181\u001b[0m     \u001b[38;5;129;01mor\u001b[39;00m theta \u001b[38;5;241m>\u001b[39m \u001b[38;5;28mself\u001b[39m\u001b[38;5;241m.\u001b[39mtheta_threshold_radians\n\u001b[1;32m    182\u001b[0m )\n\u001b[1;32m    184\u001b[0m \u001b[38;5;28;01mif\u001b[39;00m \u001b[38;5;129;01mnot\u001b[39;00m terminated:\n",
            "\u001b[0;31mValueError\u001b[0m: setting an array element with a sequence. The requested array has an inhomogeneous shape after 1 dimensions. The detected shape was (4,) + inhomogeneous part."
          ]
        }
      ],
      "source": [
        "from cartpole_continuous import CartPoleContinuousEnv, CartPoleVectorEnv\n",
        "import matplotlib.pyplot as plt\n",
        "\n",
        "from stable_baselines3 import SAC\n",
        "\n",
        "init_env = CartPoleContinuousEnv(render_mode='human')\n",
        "\n",
        "folder_name = os.path.join('video', 'CartPole-v1', f'{uuid.uuid4()}')\n",
        "\n",
        "# Use the wrapper environment RecordVideo() to record video\n",
        "# env = RecordVideo(init_env, folder_name, disable_logger=True)\n",
        "\n",
        "model = SAC(\"MlpPolicy\", init_env, verbose=1, learning_rate=.001,batch_size=256, buffer_size=100000)\n",
        "# model.set_logger(new_logger)\n",
        "\n",
        "model.learn(total_timesteps=10, log_interval=4)\n",
        "\n",
        "rewards = []\n",
        "reward_trials = []\n",
        "\n",
        "\n",
        "\n",
        "# Step throuhg model manually\n",
        "\n",
        "\n",
        "\n",
        "# obs,_ = env.reset()\n",
        "\n",
        "# print(obs)\n",
        "# for i in range(100000):\n",
        "#     action, _states = model.predict(np.array(obs), deterministic=False)\n",
        "#     obs, reward, dones, term,info = env.step(action[0])\n",
        "#     model.train(16)\n",
        "#     # print(\"Obs before\", obs)\n",
        "#     # obs = obs[:,0]\n",
        "\n",
        "#     rewards.append(reward)\n",
        "#     # env.render()\n",
        "#     if dones:\n",
        "\n",
        "#         obs_ = env.reset()\n",
        "#         reward_trials.append(sum(rewards))\n",
        "#         rewards = []\n",
        "#         print(\"~\"*50)\n",
        "#         print(\"Trial complete\")\n",
        "#         print(\"Reward: \", reward_trials[-1])\n",
        "\n",
        "# plt.plot(reward_trials)\n",
        "# plt.show()"
      ]
    },
    {
      "cell_type": "code",
      "execution_count": null,
      "metadata": {},
      "outputs": [
        {
          "name": "stdout",
          "output_type": "stream",
          "text": [
            "None\n"
          ]
        }
      ],
      "source": [
        "init_env = CartPoleVectorEnv(render_mode='rgb_array', num_envs=1)\n",
        "print(init_env.render_mode)"
      ]
    },
    {
      "cell_type": "code",
      "execution_count": null,
      "metadata": {},
      "outputs": [],
      "source": [
        "show_video(folder_name, episode = 'first')"
      ]
    },
    {
      "cell_type": "code",
      "execution_count": null,
      "metadata": {},
      "outputs": [],
      "source": [
        "show_video(folder_name, episode = 'last')"
      ]
    },
    {
      "cell_type": "markdown",
      "metadata": {},
      "source": [
        "## Feedback (Optional)\n",
        "\n",
        "This is a new homework for this quarter, plase provide feedback on things you think could be improved or even if you like it as is."
      ]
    },
    {
      "cell_type": "markdown",
      "metadata": {},
      "source": [
        "<span style=\"color:green\">Answer</span>"
      ]
    }
  ],
  "metadata": {
    "accelerator": "GPU",
    "colab": {
      "gpuType": "T4",
      "provenance": []
    },
    "kernelspec": {
      "display_name": "Python 3 (ipykernel)",
      "language": "python",
      "name": "python3"
    },
    "language_info": {
      "codemirror_mode": {
        "name": "ipython",
        "version": 3
      },
      "file_extension": ".py",
      "mimetype": "text/x-python",
      "name": "python",
      "nbconvert_exporter": "python",
      "pygments_lexer": "ipython3",
      "version": "3.10.13"
    }
  },
  "nbformat": 4,
  "nbformat_minor": 0
}
